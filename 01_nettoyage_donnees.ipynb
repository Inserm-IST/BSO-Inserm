{
 "cells": [
  {
   "cell_type": "markdown",
   "metadata": {},
   "source": [
    "# <span style=\"color:orange\">Nettoyer des jeux de données pour obtenir une liste de DOI des publications de l'Inserm : Web of Science, Pubmed, HAL</span>"
   ]
  },
  {
   "cell_type": "markdown",
   "metadata": {},
   "source": [
    "Ce premier notebook sert à nettoyer les différents fichiers obtenus après téléchargement sur le WoS, Pubmed, HAL. Pour savoir quelques requêtes ont été utilisées pour l'Inserm, consulter le fichier \"requetes_bdd\" dans le dossier. Quelques consignes sont à respecter pour que tout fonctionne :\n",
    "\n",
    "- Pour le WoS, il suffit de procéder à un téléchargement simple \"Fast 5000\". Le fichier obtenu, en texte, est illisible et c'est normal, il n'y a rien à changer. Nommer le fichier \"wos_lorraine_2016\", puis \"wos_lorraine_2017\"... Ce fichier n'apparaît pas dans le dossier téléchargé depuis Gitlab car les données du Web of Science étant propriétaires, il n'était pas possible de les diffuser librement.\n",
    "- Pour Pubmed, le téléchargement donne un fichier CSV très peu classé, c'est normal, il n'y a rien à changer. Nommer le fichier \"pubmed_inserm_2016\", puis \"pubmed_inserm_2017\"...\n",
    "- Pour les autres sources de données, on obtient directement une liste de DOI, mais **il faut s'assurer que la colonne s'appelle bien \"doi\" en minuscules et qu'il n'y a pas de ligne vide**\n",
    "\n",
    "Il faut télécharger année par année, et toujours nommer les fichiers de la même manière.  <span style=\"color:red\"> **Il est vital de garder l'organisation ici présente (Data > raw > dossier par année) pour que le code fonctionne.**</span>\n",
    "\n",
    "<span style=\"color:red\">**Si l'on ne dispose pas de certaines données (par exemple, l'établissement n'a pas de données sur les APC), il faut quand même créer un fichier Excel avec une colonne \"doi\", et le laisser vide. Sans cela, le code ne fonctionnera pas.**</span>"
   ]
  },
  {
   "cell_type": "code",
   "execution_count": 1,
   "metadata": {},
   "outputs": [],
   "source": [
    "column_name = \"doi\""
   ]
  },
  {
   "cell_type": "markdown",
   "metadata": {},
   "source": [
    "## <span style=\"color:orange\">Nettoyer les données issues du Web of Science</span>"
   ]
  },
  {
   "cell_type": "markdown",
   "metadata": {},
   "source": [
    "### Comprendre comment est structuré le fichier"
   ]
  },
  {
   "cell_type": "markdown",
   "metadata": {},
   "source": [
    "On ouvre le premier fichier puis on utilise la méthode de liste **split** pour voir une ligne (la 4ème, par exemple)."
   ]
  },
  {
   "cell_type": "code",
   "execution_count": 2,
   "metadata": {},
   "outputs": [],
   "source": [
    "with open(\"Data/raw/2016/wos_inserm_2016.txt\") as f:\n",
    "    wos_string = f.read()"
   ]
  },
  {
   "cell_type": "markdown",
   "metadata": {},
   "source": [
    "La ligne ci-dessous permet de voir à quoi ressemble la 5ème ligne du fichier (en Python, la numérotation commence à zéro)."
   ]
  },
  {
   "cell_type": "code",
   "execution_count": 3,
   "metadata": {},
   "outputs": [
    {
     "data": {
      "text/plain": [
       "'J\\tPavasini, Rita; Guralnik, Jack; Brown, Justin C.; di Bari, Mauro; Cesari, Matteo; Landi, Francesco; Vaes, Bert; Legrand, Delphine; Verghese, Joe; Wang, Cuiling; Stenholm, Sari; Ferrucci, Luigi; Lai, Jennifer C.; Arnau Bartes, Anna; Espaulella, Joan; Ferrer, Montserrat; Lim, Jae-Young; Ensrud, Kristine E.; Cawthon, Peggy; Turusheva, Anna; Frolova, Elena; Rolland, Yves; Lauwers, Valerie; Corsonello, Andrea; Kirk, Gregory D.; Ferrari, Roberto; Volpato, Stefano; Campo, Gianluca\\t\\t\\t\\t\\t\\t\\t\\tShort Physical Performance Battery and all-cause mortality: systematic review and meta-analysis\\t\\t\\t\\t\\t\\t\\t\\tBMC MEDICINE\\t\\t\\t\\t14\\t\\t\\t\\t\\t\\t215\\t10.1186/s12916-016-0763-7\\t\\t\\tDEC 22 2016\\t2016\\tBackground: The Short Physical Performance Battery (SPPB) is a well-established tool to assess lower extremity physical performance status. Its predictive ability for all-cause mortality has been sparsely reported, but with conflicting results in different subsets of participants. The aim of this study was to perform a meta-analysis investigating the relationship between SPPB score and all-cause mortality. Methods: Articles were searched in MEDLINE, the Cochrane Library, Google Scholar, and BioMed Central between July and September 2015 and updated in January 2016. Inclusion criteria were observational studies; > 50 participants; stratification of population according to SPPB value; data on all-cause mortality; English language publications. Twenty-four articles were selected from available evidence. Data of interest (i.e., clinical characteristics, information after stratification of the sample into four SPPB groups [0-3, 4-6, 7-9, 10-12]) were retrieved from the articles and/or obtained by the study authors. The odds ratio (OR) and/or hazard ratio (HR) was obtained for all-cause mortality according to SPPB category (with SPPB scores 10-12 considered as reference) with adjustment for age, sex, and body mass index. Results: Standardized data were obtained for 17 studies (n = 16,534, mean age 76 +/- 3 years). As compared to SPPB scores 10-12, values of 0-3 (OR 3.25, 95% CI 2.86-3.79), 4-6 (OR 2.14, 95% CI 1.92-2.39), and 7-9 (OR 1.50, 95% CI 1. 32-1.71) were each associated with an increased risk of all-cause mortality. The association between poor performance on SPPB and all-cause mortality remained highly consistent independent of follow-up length, subsets of participants, geographic area, and age of the population. Random effects meta-regression showed that OR for all-cause mortality with SPPB values 7-9 was higher in the younger population, diabetics, and men. Conclusions: An SPPB score lower than 10 is predictive of all-cause mortality. The systematic implementation of the SPPB in clinical practice settings may provide useful prognostic information about the risk of all-cause mortality. Moreover, the SPPB could be used as a surrogate endpoint of all-cause mortality in trials needing to quantify benefit and health improvements of specific treatments or rehabilitation programs.\\t\\t[Pavasini, Rita; Ferrari, Roberto; Campo, Gianluca] Univ S Anna, Azienda Osped, Cardiol Unit, Via Aldo Moro 8, I-44124 Ferrara, Italy; [Guralnik, Jack] Univ Maryland, Sch Med, Baltimore, MD 21201 USA; [Brown, Justin C.] Dana Farber Canc Inst, Dept Med Oncol, Div Populat Sci, Boston, MA 02115 USA; [di Bari, Mauro] Univ Florence, Dept Crit Care Med & Surg, Unit Gerontol & Geriatr Med, Florence, Italy; [di Bari, Mauro] Univ Careggi, Azienda Osped, Florence, Italy; [Cesari, Matteo; Rolland, Yves] Ctr Hosp Univ Toulouse, Gerontopole, Toulouse, France; [Cesari, Matteo; Rolland, Yves] Univ Toulouse III Paul Sabatier, INSERM UMR1027, Toulouse, France; [Landi, Francesco] Univ Cattolica Sacro Cuore, Dept Geriatr Neurosci & Orthopaed, Rome, Italy; [Vaes, Bert] Catholic Univ Louvain, Inst Hlth & Soc, Brussels, Belgium; [Vaes, Bert] Katholieke Univ Leuven, Dept Publ Hlth & Primary Care, Leuven, Belgium; [Legrand, Delphine; Turusheva, Anna] Catholic Univ Louvain, Inst Rech Sante & Soc, Brussels, Belgium; [Verghese, Joe] Albert Einstein Coll Med, Dept Neurol & Med, Bronx, NY 10467 USA; [Wang, Cuiling] Albert Einstein Coll Med, Dept Epidemiol, Bronx, NY 10467 USA; [Stenholm, Sari] Univ Turku, Dept Publ Hlth, Turku, Finland; [Ferrucci, Luigi] Harbor Hosp, NIA, Longitudinal Studies Sect, Clin Res Branch,NIA ASTRA Unit, Baltimore, MD USA; [Lai, Jennifer C.] Univ Calif San Francisco, Dept Med, Div Gastroenterol & Hepatol, San Francisco, CA USA; [Arnau Bartes, Anna] Althaia Xarxa Assistencial Univ Manresa, Clin Res Unit, Manresa, Barcelona, Spain; [Espaulella, Joan] Hosp Univ Santa Creu, Serv Geriatria & Cures Palliat, Vic, Barcelona, Spain; [Ferrer, Montserrat] Hosp del Mar Med Res Inst IMIM, Hlth Serv Res Grp, Barcelona, Spain; [Ferrer, Montserrat] CIBER Epidemiol & Salud Publ CIBERESP, Barcelona, Spain; [Lim, Jae-Young] Seoul Natl Univ, Seoul Natl Univ Bundang Hosp, Coll Med, Dept Rehabil Med, Seongnam, Gyeonggi, South Korea; [Ensrud, Kristine E.] Univ Minnesota, Med & Epidemiol & Community Hlth, Minneapolis, MN USA; [Ensrud, Kristine E.] Minneapolis VA Hlth Care Syst, Gen Internal Med, Minneapolis, MN USA; [Cawthon, Peggy] Calif Pacific Med Ctr, Res Inst, San Francisco, CA USA; [Frolova, Elena] North Western State Med Univ, Dept Family Med, St Petersburg, Russia; [Lauwers, Valerie] Fac Med, Lab Epidemiol & Sante Commun, Unite Inserm 558, Allees Jules Guesde, Toulouse, France; [Corsonello, Andrea] Res Hosp Cosenza, INRCA, Unit Geriatr Pharmacoepidemiol, Cosenza, Italy; [Kirk, Gregory D.] Johns Hopkins Univ, Dept Epidemiol, Baltimore, MD USA; [Kirk, Gregory D.] Johns Hopkins Univ, Dept Med, Baltimore, MD USA; [Ferrari, Roberto] Maria Cecilia Hosp, ES Hlth Sci Fdn, GVM Care & Res, Cotignola, Italy; [Volpato, Stefano] Univ Ferrara, Dept Med Sci, Sect Internal & Cardiorespiratory Med, Ferrara, Italy; [Pavasini, Rita] Univ S Anna, Azienda Osped, Cardiol Unit, Via Aldo Moro 8, I-44124 Ferrara, Italy\\t\\t\\t\\t\\t\\t\\t\\t178\\t\\t\\t\\t\\t\\t\\tMedicine, General & Internal\\tWOS:000391070100001\\t\\t\\t\\t\\t\\t\\t\\t\\t\\t\\t\\t\\t\\t\\t\\t\\t\\t\\t\\t\\t\\t\\t\\t\\t\\t\\t\\t\\t\\t\\t\\t\\t\\t\\t\\t\\t\\t\\t\\t\\t\\t\\t\\t\\t\\t\\t\\t\\t\\t\\t\\t\\t\\t\\t\\t\\t\\t\\t\\t\\t\\t\\t\\t\\t\\t\\t\\t\\t\\t\\t\\t\\t\\t\\t\\t\\t\\t\\t\\t\\t\\t\\t\\t\\t\\t\\t\\t\\t\\t\\t\\t\\t\\t\\t\\t\\t\\t\\t\\t\\t\\t\\t\\t\\t\\t\\t\\t\\t\\t\\t\\t\\t\\t\\t\\t\\t\\t\\t\\t\\t\\t\\t\\t\\t\\t\\t\\t\\t\\t\\t\\t\\t\\t\\t\\t\\t\\t\\t\\t\\t\\t\\t\\t\\t\\t\\t\\t\\t\\t\\t\\t\\t\\t\\t\\t\\t\\t\\t\\t\\t\\t\\t\\t\\t\\t\\t\\t\\t\\t\\t\\t\\t\\t\\t\\t\\t\\t\\t\\t\\t\\t\\t\\t\\t\\t\\t\\t\\t\\t\\t\\t\\t\\t\\t\\t\\t\\t\\t\\t\\t\\t\\t\\t\\t\\t\\t\\t\\t\\t\\t\\t\\t\\t\\t\\t\\t\\t\\t\\t\\t\\t\\t\\t\\t\\t\\t\\t\\t\\t\\t\\t\\t\\t\\t\\t\\t\\t\\t\\t\\t\\t\\t\\t\\t\\t\\t\\t\\t\\t\\t\\t\\t\\t\\t\\t\\t\\t\\t\\t\\t\\t\\t\\t\\t\\t\\t\\t\\t\\t\\t\\t\\t\\t\\t\\t\\t\\t\\t\\t\\t\\t\\t\\t\\t\\t\\t\\t\\t\\t\\t\\t\\t\\t\\t\\t\\t\\t\\t\\t\\t\\t\\t\\t\\t\\t\\t\\t\\t\\t\\t\\t\\t\\t\\t\\t\\t\\t\\t\\t\\t\\t\\t\\t\\t\\t\\t\\t\\t\\t\\t\\t\\t\\t\\t\\t\\t\\t\\t\\t\\t\\t\\t\\t\\t\\t\\t\\t\\t\\t\\t\\t\\t\\t\\t\\t\\t\\t\\t\\t\\t\\t\\t\\t\\t\\t\\t\\t\\t\\t\\t\\t\\t\\t\\t\\t\\t\\t\\t\\t\\t\\t\\t\\t\\t\\t\\t\\t\\t\\t\\t\\t\\t\\t\\t\\t\\t\\t\\t\\t\\t\\t\\t\\t\\t\\t\\t\\t\\t\\t\\t\\t\\t\\t\\t\\t\\t\\t\\t\\t\\t\\t\\t\\t\\t\\t\\t\\t\\t\\t\\t\\t\\t\\t\\t\\t\\t'"
      ]
     },
     "execution_count": 3,
     "metadata": {},
     "output_type": "execute_result"
    }
   ],
   "source": [
    "wos_string.split(\"\\n\") [4]"
   ]
  },
  {
   "cell_type": "markdown",
   "metadata": {},
   "source": [
    "### Importer la librairie **Pandas** et définir une fonction"
   ]
  },
  {
   "cell_type": "markdown",
   "metadata": {},
   "source": [
    "La librairie Pandas va permettre de manipuler les fichiers."
   ]
  },
  {
   "cell_type": "code",
   "execution_count": 4,
   "metadata": {},
   "outputs": [],
   "source": [
    "import pandas"
   ]
  },
  {
   "cell_type": "code",
   "execution_count": 5,
   "metadata": {},
   "outputs": [],
   "source": [
    "import csv"
   ]
  },
  {
   "cell_type": "markdown",
   "metadata": {},
   "source": [
    "Définition de la fonction **read_wos** : l'année est en argument. On tape la 1ère année concernée (2016) pour que cela utilise les données de 2016 en premier. Dans cette fonction, les fichiers de toutes les années (de 2016 à 2021 exclue) seront interrogés. \n",
    "\n",
    "On crée une liste vide (wos_per_year) dans laquelle on stockera après les données de toutes les années grâce à la boucle **for**.  <span style=\"color:red\">**Pour l'instant, on n'interroge que jusqu'en 2020. Il faudra mettre 2022 à la place quand les données de 2021 seront ajoutées dans le dossier \"raw\", et ainsi de suite.**</span>\n",
    "\n",
    "La liste vide wos_per_year est remplie à chaque tour de boucle grâce à la méthode **append**. Pour avoir la liste de toutes les données sans tri par année, on concatène les fichiers grâce à **pandas.concat**."
   ]
  },
  {
   "cell_type": "code",
   "execution_count": 6,
   "metadata": {},
   "outputs": [],
   "source": [
    "# Une année de début peut etre fournie, sinon par défaut commence en 2016\n",
    "def read_wos(year=2016):\n",
    "    wos_per_year = []\n",
    "    for y in range (year, 2021):\n",
    "       wos_df = pandas.read_csv(\"Data/raw/{}/wos_inserm_{}.txt\".format(str(y), str(y)), sep=\"\\t\",\n",
    "                 quoting=csv.QUOTE_NONE, index_col=False, usecols=['DI'])\n",
    "       wos_per_year.append(wos_df)\n",
    "\n",
    "    full_wos = pandas.concat(wos_per_year)\n",
    "    \n",
    "    resultat = full_wos.rename (columns={'DI':column_name})\n",
    "           \n",
    "    return resultat"
   ]
  },
  {
   "cell_type": "code",
   "execution_count": 7,
   "metadata": {},
   "outputs": [],
   "source": [
    "wos_df = read_wos()"
   ]
  },
  {
   "cell_type": "code",
   "execution_count": 8,
   "metadata": {},
   "outputs": [
    {
     "data": {
      "text/html": [
       "<div>\n",
       "<style scoped>\n",
       "    .dataframe tbody tr th:only-of-type {\n",
       "        vertical-align: middle;\n",
       "    }\n",
       "\n",
       "    .dataframe tbody tr th {\n",
       "        vertical-align: top;\n",
       "    }\n",
       "\n",
       "    .dataframe thead th {\n",
       "        text-align: right;\n",
       "    }\n",
       "</style>\n",
       "<table border=\"1\" class=\"dataframe\">\n",
       "  <thead>\n",
       "    <tr style=\"text-align: right;\">\n",
       "      <th></th>\n",
       "      <th>doi</th>\n",
       "    </tr>\n",
       "  </thead>\n",
       "  <tbody>\n",
       "    <tr>\n",
       "      <th>0</th>\n",
       "      <td>10.1186/s13601-016-0137-4</td>\n",
       "    </tr>\n",
       "    <tr>\n",
       "      <th>1</th>\n",
       "      <td>10.1371/journal.pone.0168349</td>\n",
       "    </tr>\n",
       "    <tr>\n",
       "      <th>2</th>\n",
       "      <td>10.3389/fnmol.2016.00160</td>\n",
       "    </tr>\n",
       "    <tr>\n",
       "      <th>3</th>\n",
       "      <td>10.1186/s12916-016-0763-7</td>\n",
       "    </tr>\n",
       "    <tr>\n",
       "      <th>4</th>\n",
       "      <td>10.3389/fimmu.2016.00632</td>\n",
       "    </tr>\n",
       "    <tr>\n",
       "      <th>...</th>\n",
       "      <td>...</td>\n",
       "    </tr>\n",
       "    <tr>\n",
       "      <th>1908</th>\n",
       "      <td>10.1038/s41586-020-2338-1</td>\n",
       "    </tr>\n",
       "    <tr>\n",
       "      <th>1909</th>\n",
       "      <td>10.1038/s41586-020-1969-6</td>\n",
       "    </tr>\n",
       "    <tr>\n",
       "      <th>1910</th>\n",
       "      <td>10.1016/S0140-6736(20)30752-2</td>\n",
       "    </tr>\n",
       "    <tr>\n",
       "      <th>1911</th>\n",
       "      <td>NaN</td>\n",
       "    </tr>\n",
       "    <tr>\n",
       "      <th>1912</th>\n",
       "      <td>10.1016/j.jacc.2019.10.057</td>\n",
       "    </tr>\n",
       "  </tbody>\n",
       "</table>\n",
       "<p>61426 rows × 1 columns</p>\n",
       "</div>"
      ],
      "text/plain": [
       "                                doi\n",
       "0         10.1186/s13601-016-0137-4\n",
       "1      10.1371/journal.pone.0168349\n",
       "2          10.3389/fnmol.2016.00160\n",
       "3         10.1186/s12916-016-0763-7\n",
       "4          10.3389/fimmu.2016.00632\n",
       "...                             ...\n",
       "1908      10.1038/s41586-020-2338-1\n",
       "1909      10.1038/s41586-020-1969-6\n",
       "1910  10.1016/S0140-6736(20)30752-2\n",
       "1911                            NaN\n",
       "1912     10.1016/j.jacc.2019.10.057\n",
       "\n",
       "[61426 rows x 1 columns]"
      ]
     },
     "execution_count": 8,
     "metadata": {},
     "output_type": "execute_result"
    }
   ],
   "source": [
    "wos_df"
   ]
  },
  {
   "cell_type": "markdown",
   "metadata": {},
   "source": [
    "Vérifier que le chiffre total obtenu ici correspond bien au chiffre trouvé dans le Web of Science pour toutes les années. Ne pas hésiter à refaire les extractions d'années précédentes si les chiffres ne correspondent pas : il peut y avoir de nouvelles publications indexées dans le Web of Science."
   ]
  },
  {
   "cell_type": "markdown",
   "metadata": {},
   "source": [
    "### Identifier les cellules qui n'ont pas de DOI"
   ]
  },
  {
   "cell_type": "markdown",
   "metadata": {},
   "source": [
    "Trouver le nombre de lignes qui n'ont pas de DOI : utiliser la méthode **is not a number** (isna)."
   ]
  },
  {
   "cell_type": "code",
   "execution_count": 9,
   "metadata": {},
   "outputs": [],
   "source": [
    "def wos_sans_doi():\n",
    "    # wos_df.isna().sum()\n",
    "    return wos_df.isna().sum()"
   ]
  },
  {
   "cell_type": "markdown",
   "metadata": {},
   "source": [
    "On met [0] pour demander le 1er élément de la liste"
   ]
  },
  {
   "cell_type": "code",
   "execution_count": 10,
   "metadata": {},
   "outputs": [
    {
     "data": {
      "text/plain": [
       "845"
      ]
     },
     "execution_count": 10,
     "metadata": {},
     "output_type": "execute_result"
    }
   ],
   "source": [
    "wos_sans_doi()[0]"
   ]
  },
  {
   "cell_type": "markdown",
   "metadata": {},
   "source": [
    "Trouver le nombre de lignes qui ont un DOI : utiliser la méthode **match** sur le string."
   ]
  },
  {
   "cell_type": "code",
   "execution_count": 11,
   "metadata": {},
   "outputs": [],
   "source": [
    "def wos_avec_doi():\n",
    "    # wos_df[column_name].str.match(\"10.\").sum()\n",
    "    return wos_df[column_name].str.match(\"10.\").sum()"
   ]
  },
  {
   "cell_type": "code",
   "execution_count": 12,
   "metadata": {},
   "outputs": [
    {
     "data": {
      "text/plain": [
       "60581"
      ]
     },
     "execution_count": 12,
     "metadata": {},
     "output_type": "execute_result"
    }
   ],
   "source": [
    "wos_avec_doi()"
   ]
  },
  {
   "cell_type": "markdown",
   "metadata": {},
   "source": [
    "Vérifier le nombre de lignes total :"
   ]
  },
  {
   "cell_type": "code",
   "execution_count": 13,
   "metadata": {},
   "outputs": [
    {
     "data": {
      "text/plain": [
       "61426"
      ]
     },
     "execution_count": 13,
     "metadata": {},
     "output_type": "execute_result"
    }
   ],
   "source": [
    "len(wos_df)"
   ]
  },
  {
   "cell_type": "markdown",
   "metadata": {},
   "source": [
    "Vérifier qu'on a bien tout récupéré :"
   ]
  },
  {
   "cell_type": "code",
   "execution_count": 14,
   "metadata": {},
   "outputs": [
    {
     "data": {
      "text/plain": [
       "doi    61426\n",
       "dtype: int64"
      ]
     },
     "execution_count": 14,
     "metadata": {},
     "output_type": "execute_result"
    }
   ],
   "source": [
    "wos_sans_doi() + wos_avec_doi()"
   ]
  },
  {
   "cell_type": "markdown",
   "metadata": {},
   "source": [
    "Méthode de vérification de Python : **assert**. Si cela ne renvoie rien, c'est que les deux valeurs comparées sont identiques."
   ]
  },
  {
   "cell_type": "code",
   "execution_count": 15,
   "metadata": {},
   "outputs": [],
   "source": [
    "expected = len(wos_df[column_name])\n",
    "actual = wos_sans_doi()[0] + wos_avec_doi()\n",
    "\n",
    "assert(expected == actual)"
   ]
  },
  {
   "cell_type": "markdown",
   "metadata": {},
   "source": [
    " <span style=\"color:green\"> **Les données du WoS sont à présent nettoyées et stockées dans la variable intitulée \"wos_df\".** </span>"
   ]
  },
  {
   "cell_type": "markdown",
   "metadata": {},
   "source": [
    "## <span style=\"color:orange\">Nettoyer les données issues de Pubmed</span>"
   ]
  },
  {
   "cell_type": "code",
   "execution_count": 16,
   "metadata": {},
   "outputs": [],
   "source": [
    "with open(\"Data/raw/2016/pubmed_inserm_2016.csv\", encoding='utf-8') as f:\n",
    "    pubmed_string = f.read()"
   ]
  },
  {
   "cell_type": "code",
   "execution_count": 17,
   "metadata": {},
   "outputs": [
    {
     "data": {
      "text/plain": [
       "'\"26967288\",\"Communication by Extracellular Vesicles: Where We Are and Where We Need to Go\",\"Tkach M, Théry C.\",\"Cell. 2016 Mar 10;164(6):1226-1232. doi: 10.1016/j.cell.2016.01.043.\",\"Tkach M\",\"Cell\",\"2016\",\"2016/03/12\",\"\",\"\",\"10.1016/j.cell.2016.01.043\"'"
      ]
     },
     "execution_count": 17,
     "metadata": {},
     "output_type": "execute_result"
    }
   ],
   "source": [
    "pubmed_string.split(\"\\n\")[1]"
   ]
  },
  {
   "cell_type": "code",
   "execution_count": 18,
   "metadata": {},
   "outputs": [],
   "source": [
    "pubmed_df = pandas.read_csv(\"Data/raw/2020/pubmed_inserm_2020.csv\", encoding='utf-8')"
   ]
  },
  {
   "cell_type": "code",
   "execution_count": 19,
   "metadata": {},
   "outputs": [
    {
     "name": "stdout",
     "output_type": "stream",
     "text": [
      "Index(['PMID', 'Title', 'Authors', 'Citation', 'First Author', 'Journal/Book',\n",
      "       'Publication Year', 'Create Date', 'PMCID', 'NIHMS ID', 'DOI'],\n",
      "      dtype='object')\n"
     ]
    }
   ],
   "source": [
    "print(pubmed_df.columns)"
   ]
  },
  {
   "cell_type": "markdown",
   "metadata": {},
   "source": [
    "Il y a bien une colonne qui s'appelle \"DOI\", elle va être interrogée pour trouver directement les DOI. <span style=\"color:red\">**Pour l'instant, on n'interroge que jusqu'en 2020. Il faudra mettre 2022 à la place quand les données de 2021 seront ajoutées dans le dossier \"raw\", et ainsi de suite.**</span>\n"
   ]
  },
  {
   "cell_type": "code",
   "execution_count": 20,
   "metadata": {},
   "outputs": [],
   "source": [
    "# Une année de début peut etre fournie, sinon par défaut commence en 2016\n",
    "def read_pubmed(year=2016):\n",
    "    pubmed_per_year = []\n",
    "    for y in range (year, 2021):\n",
    "        pubmed_df = pandas.read_csv(\"Data/raw/{}/pubmed_inserm_{}.csv\".format(str(y), str(y))\n",
    "                                    ,sep=\",\", encoding='utf-8')\n",
    "        pubmed_per_year.append(pubmed_df)\n",
    "    \n",
    "    full_pubmed = pandas.concat(pubmed_per_year)\n",
    "           \n",
    "    resultat = pandas.DataFrame({column_name: full_pubmed[\"DOI\"]})                      \n",
    "    return resultat"
   ]
  },
  {
   "cell_type": "code",
   "execution_count": 21,
   "metadata": {},
   "outputs": [],
   "source": [
    "pubmed_df = read_pubmed()"
   ]
  },
  {
   "cell_type": "markdown",
   "metadata": {},
   "source": [
    "### Vérifier qu'il ne manque pas de DOI"
   ]
  },
  {
   "cell_type": "code",
   "execution_count": 22,
   "metadata": {},
   "outputs": [
    {
     "data": {
      "text/html": [
       "<div>\n",
       "<style scoped>\n",
       "    .dataframe tbody tr th:only-of-type {\n",
       "        vertical-align: middle;\n",
       "    }\n",
       "\n",
       "    .dataframe tbody tr th {\n",
       "        vertical-align: top;\n",
       "    }\n",
       "\n",
       "    .dataframe thead th {\n",
       "        text-align: right;\n",
       "    }\n",
       "</style>\n",
       "<table border=\"1\" class=\"dataframe\">\n",
       "  <thead>\n",
       "    <tr style=\"text-align: right;\">\n",
       "      <th></th>\n",
       "      <th>doi</th>\n",
       "    </tr>\n",
       "  </thead>\n",
       "  <tbody>\n",
       "    <tr>\n",
       "      <th>0</th>\n",
       "      <td>10.1016/j.cell.2016.01.043</td>\n",
       "    </tr>\n",
       "    <tr>\n",
       "      <th>1</th>\n",
       "      <td>10.1002/wdev.201</td>\n",
       "    </tr>\n",
       "    <tr>\n",
       "      <th>2</th>\n",
       "      <td>10.1016/j.cmi.2016.08.031</td>\n",
       "    </tr>\n",
       "    <tr>\n",
       "      <th>3</th>\n",
       "      <td>10.1016/S0151-9638(18)30079-6</td>\n",
       "    </tr>\n",
       "    <tr>\n",
       "      <th>4</th>\n",
       "      <td>10.1016/j.jsbmb.2015.09.030</td>\n",
       "    </tr>\n",
       "    <tr>\n",
       "      <th>...</th>\n",
       "      <td>...</td>\n",
       "    </tr>\n",
       "    <tr>\n",
       "      <th>24669</th>\n",
       "      <td>10.1111/all.14471</td>\n",
       "    </tr>\n",
       "    <tr>\n",
       "      <th>24670</th>\n",
       "      <td>10.1038/s41436-020-0862-x</td>\n",
       "    </tr>\n",
       "    <tr>\n",
       "      <th>24671</th>\n",
       "      <td>10.1038/s41588-020-00713-x</td>\n",
       "    </tr>\n",
       "    <tr>\n",
       "      <th>24672</th>\n",
       "      <td>10.1007/s00705-020-04731-2</td>\n",
       "    </tr>\n",
       "    <tr>\n",
       "      <th>24673</th>\n",
       "      <td>10.1111/all.14422</td>\n",
       "    </tr>\n",
       "  </tbody>\n",
       "</table>\n",
       "<p>64674 rows × 1 columns</p>\n",
       "</div>"
      ],
      "text/plain": [
       "                                 doi\n",
       "0         10.1016/j.cell.2016.01.043\n",
       "1                   10.1002/wdev.201\n",
       "2          10.1016/j.cmi.2016.08.031\n",
       "3      10.1016/S0151-9638(18)30079-6\n",
       "4        10.1016/j.jsbmb.2015.09.030\n",
       "...                              ...\n",
       "24669              10.1111/all.14471\n",
       "24670      10.1038/s41436-020-0862-x\n",
       "24671     10.1038/s41588-020-00713-x\n",
       "24672     10.1007/s00705-020-04731-2\n",
       "24673              10.1111/all.14422\n",
       "\n",
       "[64674 rows x 1 columns]"
      ]
     },
     "execution_count": 22,
     "metadata": {},
     "output_type": "execute_result"
    }
   ],
   "source": [
    "pubmed_df"
   ]
  },
  {
   "cell_type": "code",
   "execution_count": 23,
   "metadata": {},
   "outputs": [],
   "source": [
    "def pubmed_sans_doi():\n",
    "    # pubmed_df.isna().sum()\n",
    "    return pubmed_df.isna().sum()"
   ]
  },
  {
   "cell_type": "code",
   "execution_count": 24,
   "metadata": {},
   "outputs": [
    {
     "data": {
      "text/plain": [
       "doi    475\n",
       "dtype: int64"
      ]
     },
     "execution_count": 24,
     "metadata": {},
     "output_type": "execute_result"
    }
   ],
   "source": [
    "pubmed_sans_doi()"
   ]
  },
  {
   "cell_type": "code",
   "execution_count": 25,
   "metadata": {},
   "outputs": [],
   "source": [
    "def pubmed_avec_doi():\n",
    "    # pubmed_df[column_name].str.match(\"10.\").sum()\n",
    "    return pubmed_df[column_name].str.match(\"10.\").sum()"
   ]
  },
  {
   "cell_type": "code",
   "execution_count": 26,
   "metadata": {},
   "outputs": [
    {
     "data": {
      "text/plain": [
       "64199"
      ]
     },
     "execution_count": 26,
     "metadata": {},
     "output_type": "execute_result"
    }
   ],
   "source": [
    "pubmed_avec_doi()"
   ]
  },
  {
   "cell_type": "code",
   "execution_count": 27,
   "metadata": {},
   "outputs": [],
   "source": [
    "expected = len(pubmed_df)\n",
    "actual = pubmed_sans_doi()[0] + pubmed_avec_doi()\n",
    "\n",
    "assert(expected == actual)"
   ]
  },
  {
   "cell_type": "markdown",
   "metadata": {},
   "source": [
    " <span style=\"color:green\"> **Les données de Pubmed sont à présent nettoyées et stockées dans la variable intitulée \"pubmed_df\".** </span>"
   ]
  },
  {
   "cell_type": "markdown",
   "metadata": {},
   "source": [
    "## <span style=\"color:orange\">Ajouter les données de HAL</span>"
   ]
  },
  {
   "cell_type": "markdown",
   "metadata": {},
   "source": [
    "Grâce aux API, on peut récupérer une grande liste de DOI. Il peut être intéressant de refaire des extractions d'une année sur l'autre quand des campagnes de dépôt massif sont organisées, par exemple."
   ]
  },
  {
   "cell_type": "markdown",
   "metadata": {},
   "source": [
    "Ouvrir le fichier et concaténer les différentes années (mettre \"2022\" dans le code quand les données de 2021 seront injectées) :"
   ]
  },
  {
   "cell_type": "code",
   "execution_count": 28,
   "metadata": {},
   "outputs": [],
   "source": [
    "# Une année de début peut etre fournie, sinon par défaut commence en 2016\n",
    "def read_hal(year=2016):\n",
    "    hal_per_year = []\n",
    "    for y in range (year, 2021):\n",
    "        hal_df = pandas.read_csv(\"Data/raw/{}/hal_inserm_{}.csv\".format(str(y), str(y)), sep=\"\\t\", encoding='latin-1')\n",
    "        hal_per_year.append(hal_df)\n",
    "    \n",
    "    \n",
    "    full_hal = pandas.concat(hal_per_year)\n",
    "                     \n",
    "    return full_hal"
   ]
  },
  {
   "cell_type": "code",
   "execution_count": 29,
   "metadata": {},
   "outputs": [],
   "source": [
    "hal_df = read_hal()"
   ]
  },
  {
   "cell_type": "code",
   "execution_count": 30,
   "metadata": {},
   "outputs": [
    {
     "data": {
      "text/html": [
       "<div>\n",
       "<style scoped>\n",
       "    .dataframe tbody tr th:only-of-type {\n",
       "        vertical-align: middle;\n",
       "    }\n",
       "\n",
       "    .dataframe tbody tr th {\n",
       "        vertical-align: top;\n",
       "    }\n",
       "\n",
       "    .dataframe thead th {\n",
       "        text-align: right;\n",
       "    }\n",
       "</style>\n",
       "<table border=\"1\" class=\"dataframe\">\n",
       "  <thead>\n",
       "    <tr style=\"text-align: right;\">\n",
       "      <th></th>\n",
       "      <th>doi</th>\n",
       "    </tr>\n",
       "  </thead>\n",
       "  <tbody>\n",
       "    <tr>\n",
       "      <th>0</th>\n",
       "      <td>10.1016/j.rbmo.2016.03.005</td>\n",
       "    </tr>\n",
       "    <tr>\n",
       "      <th>1</th>\n",
       "      <td>10.1016/j.cytogfr.2016.07.003</td>\n",
       "    </tr>\n",
       "    <tr>\n",
       "      <th>2</th>\n",
       "      <td>10.1038/cddis.2016.88</td>\n",
       "    </tr>\n",
       "    <tr>\n",
       "      <th>3</th>\n",
       "      <td>10.1186/s12878-016-0048-6</td>\n",
       "    </tr>\n",
       "    <tr>\n",
       "      <th>4</th>\n",
       "      <td>10.1016/j.nmni.2016.04.005</td>\n",
       "    </tr>\n",
       "    <tr>\n",
       "      <th>...</th>\n",
       "      <td>...</td>\n",
       "    </tr>\n",
       "    <tr>\n",
       "      <th>4949</th>\n",
       "      <td>10.1038/s41467-019-14086-1</td>\n",
       "    </tr>\n",
       "    <tr>\n",
       "      <th>4950</th>\n",
       "      <td>10.1016/j.immuni.2020.07.021</td>\n",
       "    </tr>\n",
       "    <tr>\n",
       "      <th>4951</th>\n",
       "      <td>10.1371/journal.pntd.0008317</td>\n",
       "    </tr>\n",
       "    <tr>\n",
       "      <th>4952</th>\n",
       "      <td>10.7554/eLife.45047</td>\n",
       "    </tr>\n",
       "    <tr>\n",
       "      <th>4953</th>\n",
       "      <td>10.3390/jcm9113448</td>\n",
       "    </tr>\n",
       "  </tbody>\n",
       "</table>\n",
       "<p>14448 rows × 1 columns</p>\n",
       "</div>"
      ],
      "text/plain": [
       "                                doi\n",
       "0        10.1016/j.rbmo.2016.03.005\n",
       "1     10.1016/j.cytogfr.2016.07.003\n",
       "2             10.1038/cddis.2016.88\n",
       "3         10.1186/s12878-016-0048-6\n",
       "4        10.1016/j.nmni.2016.04.005\n",
       "...                             ...\n",
       "4949     10.1038/s41467-019-14086-1\n",
       "4950   10.1016/j.immuni.2020.07.021\n",
       "4951   10.1371/journal.pntd.0008317\n",
       "4952            10.7554/eLife.45047\n",
       "4953             10.3390/jcm9113448\n",
       "\n",
       "[14448 rows x 1 columns]"
      ]
     },
     "execution_count": 30,
     "metadata": {},
     "output_type": "execute_result"
    }
   ],
   "source": [
    "hal_df"
   ]
  },
  {
   "cell_type": "markdown",
   "metadata": {},
   "source": [
    " <span style=\"color:green\"> **Les données de HAL sont à présent nettoyées et stockées dans la variable intitulée \"hal_df\".** </span>"
   ]
  },
  {
   "cell_type": "markdown",
   "metadata": {},
   "source": [
    "## <span style=\"color:orange\">Rassembler les 3 listes de DOI (WoS, PubMed, HAL) et enlever les doublons</span>"
   ]
  },
  {
   "cell_type": "markdown",
   "metadata": {},
   "source": [
    "### Concaténer les 3 listes de données"
   ]
  },
  {
   "cell_type": "markdown",
   "metadata": {},
   "source": [
    " <span style=\"color:red\"> **Pour adapter ce code à votre établissement, vous pouvez changer le nom de la variable \"all_inserm\" et y mettre à la place, par exemple, all_cote_azur. Mais attention dans ce cas à bien modifier le nom de la variable dans tout le reste du code.** </span>"
   ]
  },
  {
   "cell_type": "code",
   "execution_count": 31,
   "metadata": {},
   "outputs": [],
   "source": [
    "all_inserm = pandas.concat([wos_df, pubmed_df, hal_df])"
   ]
  },
  {
   "cell_type": "markdown",
   "metadata": {},
   "source": [
    "### Enlever les lignes sans DOI"
   ]
  },
  {
   "cell_type": "code",
   "execution_count": 32,
   "metadata": {},
   "outputs": [],
   "source": [
    "import numpy"
   ]
  },
  {
   "cell_type": "code",
   "execution_count": 33,
   "metadata": {},
   "outputs": [],
   "source": [
    "#mask_doi = all_inserm[column_name].notna()\n",
    "#mask_doi"
   ]
  },
  {
   "cell_type": "markdown",
   "metadata": {},
   "source": [
    "Le résultat correspond à la concaténation de toutes les lignes des 5 fichiers, y compris celles qui ne comprennent pas de DOI."
   ]
  },
  {
   "cell_type": "code",
   "execution_count": 34,
   "metadata": {},
   "outputs": [],
   "source": [
    "# doi_inserm_doublons = all_inserm[mask_doi]\n",
    "doi_inserm_doublons = all_inserm.dropna()"
   ]
  },
  {
   "cell_type": "code",
   "execution_count": 35,
   "metadata": {},
   "outputs": [
    {
     "data": {
      "text/html": [
       "<div>\n",
       "<style scoped>\n",
       "    .dataframe tbody tr th:only-of-type {\n",
       "        vertical-align: middle;\n",
       "    }\n",
       "\n",
       "    .dataframe tbody tr th {\n",
       "        vertical-align: top;\n",
       "    }\n",
       "\n",
       "    .dataframe thead th {\n",
       "        text-align: right;\n",
       "    }\n",
       "</style>\n",
       "<table border=\"1\" class=\"dataframe\">\n",
       "  <thead>\n",
       "    <tr style=\"text-align: right;\">\n",
       "      <th></th>\n",
       "      <th>doi</th>\n",
       "    </tr>\n",
       "  </thead>\n",
       "  <tbody>\n",
       "    <tr>\n",
       "      <th>0</th>\n",
       "      <td>10.1186/s13601-016-0137-4</td>\n",
       "    </tr>\n",
       "    <tr>\n",
       "      <th>1</th>\n",
       "      <td>10.1371/journal.pone.0168349</td>\n",
       "    </tr>\n",
       "    <tr>\n",
       "      <th>2</th>\n",
       "      <td>10.3389/fnmol.2016.00160</td>\n",
       "    </tr>\n",
       "    <tr>\n",
       "      <th>3</th>\n",
       "      <td>10.1186/s12916-016-0763-7</td>\n",
       "    </tr>\n",
       "    <tr>\n",
       "      <th>4</th>\n",
       "      <td>10.3389/fimmu.2016.00632</td>\n",
       "    </tr>\n",
       "    <tr>\n",
       "      <th>...</th>\n",
       "      <td>...</td>\n",
       "    </tr>\n",
       "    <tr>\n",
       "      <th>4949</th>\n",
       "      <td>10.1038/s41467-019-14086-1</td>\n",
       "    </tr>\n",
       "    <tr>\n",
       "      <th>4950</th>\n",
       "      <td>10.1016/j.immuni.2020.07.021</td>\n",
       "    </tr>\n",
       "    <tr>\n",
       "      <th>4951</th>\n",
       "      <td>10.1371/journal.pntd.0008317</td>\n",
       "    </tr>\n",
       "    <tr>\n",
       "      <th>4952</th>\n",
       "      <td>10.7554/eLife.45047</td>\n",
       "    </tr>\n",
       "    <tr>\n",
       "      <th>4953</th>\n",
       "      <td>10.3390/jcm9113448</td>\n",
       "    </tr>\n",
       "  </tbody>\n",
       "</table>\n",
       "<p>139228 rows × 1 columns</p>\n",
       "</div>"
      ],
      "text/plain": [
       "                               doi\n",
       "0        10.1186/s13601-016-0137-4\n",
       "1     10.1371/journal.pone.0168349\n",
       "2         10.3389/fnmol.2016.00160\n",
       "3        10.1186/s12916-016-0763-7\n",
       "4         10.3389/fimmu.2016.00632\n",
       "...                            ...\n",
       "4949    10.1038/s41467-019-14086-1\n",
       "4950  10.1016/j.immuni.2020.07.021\n",
       "4951  10.1371/journal.pntd.0008317\n",
       "4952           10.7554/eLife.45047\n",
       "4953            10.3390/jcm9113448\n",
       "\n",
       "[139228 rows x 1 columns]"
      ]
     },
     "execution_count": 35,
     "metadata": {},
     "output_type": "execute_result"
    }
   ],
   "source": [
    "doi_inserm_doublons"
   ]
  },
  {
   "cell_type": "markdown",
   "metadata": {},
   "source": [
    "Nous avons ici la liste de tous les DOI recensés dans nos 5 sources d'information. Mais attention, il peut y avoir des doublons : les DOI peuvent notamment être écrits en minuscules comme en majuscules."
   ]
  },
  {
   "cell_type": "markdown",
   "metadata": {},
   "source": [
    "### Enlever les doublons"
   ]
  },
  {
   "cell_type": "markdown",
   "metadata": {},
   "source": [
    "Avant d'enlever les doublons, il faut normaliser les DOI et tous les passer en minuscules."
   ]
  },
  {
   "cell_type": "code",
   "execution_count": 36,
   "metadata": {},
   "outputs": [],
   "source": [
    "doi_inserm_doublons_minuscule = doi_inserm_doublons[column_name].str.lower()"
   ]
  },
  {
   "cell_type": "code",
   "execution_count": 37,
   "metadata": {},
   "outputs": [],
   "source": [
    "doi_inserm_doublons_df = pandas.DataFrame({column_name : doi_inserm_doublons_minuscule})"
   ]
  },
  {
   "cell_type": "markdown",
   "metadata": {},
   "source": [
    "Après avoir passé l'ensemble de la DataFrame en minuscules, on peut enlever les doublons."
   ]
  },
  {
   "cell_type": "code",
   "execution_count": 38,
   "metadata": {},
   "outputs": [],
   "source": [
    "doi_inserm_final = doi_inserm_doublons_df.drop_duplicates(ignore_index=True)"
   ]
  },
  {
   "cell_type": "markdown",
   "metadata": {},
   "source": [
    "Réindexer la DataFrame pour que le nom des lignes soit propre :"
   ]
  },
  {
   "cell_type": "code",
   "execution_count": 39,
   "metadata": {},
   "outputs": [],
   "source": [
    "# Utiliser plutot le parametre 'ignore_index=True' lors du drop_duplicates\n",
    "# doi_inserm_final.reset_index(drop=True, inplace=True)"
   ]
  },
  {
   "cell_type": "code",
   "execution_count": 40,
   "metadata": {},
   "outputs": [
    {
     "data": {
      "text/html": [
       "<div>\n",
       "<style scoped>\n",
       "    .dataframe tbody tr th:only-of-type {\n",
       "        vertical-align: middle;\n",
       "    }\n",
       "\n",
       "    .dataframe tbody tr th {\n",
       "        vertical-align: top;\n",
       "    }\n",
       "\n",
       "    .dataframe thead th {\n",
       "        text-align: right;\n",
       "    }\n",
       "</style>\n",
       "<table border=\"1\" class=\"dataframe\">\n",
       "  <thead>\n",
       "    <tr style=\"text-align: right;\">\n",
       "      <th></th>\n",
       "      <th>doi</th>\n",
       "    </tr>\n",
       "  </thead>\n",
       "  <tbody>\n",
       "    <tr>\n",
       "      <th>0</th>\n",
       "      <td>10.1186/s13601-016-0137-4</td>\n",
       "    </tr>\n",
       "    <tr>\n",
       "      <th>1</th>\n",
       "      <td>10.1371/journal.pone.0168349</td>\n",
       "    </tr>\n",
       "    <tr>\n",
       "      <th>2</th>\n",
       "      <td>10.3389/fnmol.2016.00160</td>\n",
       "    </tr>\n",
       "    <tr>\n",
       "      <th>3</th>\n",
       "      <td>10.1186/s12916-016-0763-7</td>\n",
       "    </tr>\n",
       "    <tr>\n",
       "      <th>4</th>\n",
       "      <td>10.3389/fimmu.2016.00632</td>\n",
       "    </tr>\n",
       "    <tr>\n",
       "      <th>...</th>\n",
       "      <td>...</td>\n",
       "    </tr>\n",
       "    <tr>\n",
       "      <th>84592</th>\n",
       "      <td>10.1071/rdv32n2ab159</td>\n",
       "    </tr>\n",
       "    <tr>\n",
       "      <th>84593</th>\n",
       "      <td>10.1177/2048872619883997</td>\n",
       "    </tr>\n",
       "    <tr>\n",
       "      <th>84594</th>\n",
       "      <td>10.1051/0004-6361/201937297</td>\n",
       "    </tr>\n",
       "    <tr>\n",
       "      <th>84595</th>\n",
       "      <td>10.1111/ene.14521</td>\n",
       "    </tr>\n",
       "    <tr>\n",
       "      <th>84596</th>\n",
       "      <td>10.1136/rmdopen-2020-001432on</td>\n",
       "    </tr>\n",
       "  </tbody>\n",
       "</table>\n",
       "<p>84597 rows × 1 columns</p>\n",
       "</div>"
      ],
      "text/plain": [
       "                                 doi\n",
       "0          10.1186/s13601-016-0137-4\n",
       "1       10.1371/journal.pone.0168349\n",
       "2           10.3389/fnmol.2016.00160\n",
       "3          10.1186/s12916-016-0763-7\n",
       "4           10.3389/fimmu.2016.00632\n",
       "...                              ...\n",
       "84592           10.1071/rdv32n2ab159\n",
       "84593       10.1177/2048872619883997\n",
       "84594    10.1051/0004-6361/201937297\n",
       "84595              10.1111/ene.14521\n",
       "84596  10.1136/rmdopen-2020-001432on\n",
       "\n",
       "[84597 rows x 1 columns]"
      ]
     },
     "execution_count": 40,
     "metadata": {},
     "output_type": "execute_result"
    }
   ],
   "source": [
    "doi_inserm_final"
   ]
  },
  {
   "cell_type": "markdown",
   "metadata": {},
   "source": [
    "**On obtient 21 457 DOI pour la période 2016-2020.**  <span style=\"color:red\"> **Ce chiffre est à actualiser chaque année : dans le code, cela se fera automatiquement.** </span>"
   ]
  },
  {
   "cell_type": "markdown",
   "metadata": {},
   "source": [
    "### Créer dans le dossier \"outputs\" un fichier CSV avec la liste des DOI"
   ]
  },
  {
   "cell_type": "markdown",
   "metadata": {},
   "source": [
    "De même que précédemment, chaque établissement peut utiliser un nom différent : il faut simplement penser à remplacer \"lorraine\" par le nom de l'établissement à chaque fois qu'il apparaît dans le code et toujours l'écrire de la même façon."
   ]
  },
  {
   "cell_type": "code",
   "execution_count": 41,
   "metadata": {
    "tags": []
   },
   "outputs": [],
   "source": [
    "doi_inserm_final.to_csv(\"Data\\outputs\\last_doi_inserm.csv\",index=False)"
   ]
  },
  {
   "cell_type": "markdown",
   "metadata": {},
   "source": [
    "Pour obtenir cette liste dans un format Excel classique, saisir le code suivant."
   ]
  },
  {
   "cell_type": "code",
   "execution_count": 42,
   "metadata": {},
   "outputs": [
    {
     "ename": "ModuleNotFoundError",
     "evalue": "No module named 'openpyxl'",
     "output_type": "error",
     "traceback": [
      "\u001b[1;31m---------------------------------------------------------------------------\u001b[0m",
      "\u001b[1;31mModuleNotFoundError\u001b[0m                       Traceback (most recent call last)",
      "Input \u001b[1;32mIn [42]\u001b[0m, in \u001b[0;36m<cell line: 1>\u001b[1;34m()\u001b[0m\n\u001b[1;32m----> 1\u001b[0m \u001b[43mdoi_inserm_final\u001b[49m\u001b[38;5;241;43m.\u001b[39;49m\u001b[43mto_excel\u001b[49m\u001b[43m(\u001b[49m\u001b[38;5;124;43m\"\u001b[39;49m\u001b[38;5;124;43mData\u001b[39;49m\u001b[38;5;124;43m\\\u001b[39;49m\u001b[38;5;124;43moutputs\u001b[39;49m\u001b[38;5;124;43m\\\u001b[39;49m\u001b[38;5;124;43mlast_doi_inserm.xlsx\u001b[39;49m\u001b[38;5;124;43m\"\u001b[39;49m\u001b[43m,\u001b[49m\u001b[43mindex\u001b[49m\u001b[38;5;241;43m=\u001b[39;49m\u001b[38;5;28;43;01mFalse\u001b[39;49;00m\u001b[43m)\u001b[49m\n",
      "File \u001b[1;32m~\\Anaconda3\\lib\\site-packages\\pandas\\util\\_decorators.py:211\u001b[0m, in \u001b[0;36mdeprecate_kwarg.<locals>._deprecate_kwarg.<locals>.wrapper\u001b[1;34m(*args, **kwargs)\u001b[0m\n\u001b[0;32m    209\u001b[0m     \u001b[38;5;28;01melse\u001b[39;00m:\n\u001b[0;32m    210\u001b[0m         kwargs[new_arg_name] \u001b[38;5;241m=\u001b[39m new_arg_value\n\u001b[1;32m--> 211\u001b[0m \u001b[38;5;28;01mreturn\u001b[39;00m func(\u001b[38;5;241m*\u001b[39margs, \u001b[38;5;241m*\u001b[39m\u001b[38;5;241m*\u001b[39mkwargs)\n",
      "File \u001b[1;32m~\\Anaconda3\\lib\\site-packages\\pandas\\util\\_decorators.py:211\u001b[0m, in \u001b[0;36mdeprecate_kwarg.<locals>._deprecate_kwarg.<locals>.wrapper\u001b[1;34m(*args, **kwargs)\u001b[0m\n\u001b[0;32m    209\u001b[0m     \u001b[38;5;28;01melse\u001b[39;00m:\n\u001b[0;32m    210\u001b[0m         kwargs[new_arg_name] \u001b[38;5;241m=\u001b[39m new_arg_value\n\u001b[1;32m--> 211\u001b[0m \u001b[38;5;28;01mreturn\u001b[39;00m func(\u001b[38;5;241m*\u001b[39margs, \u001b[38;5;241m*\u001b[39m\u001b[38;5;241m*\u001b[39mkwargs)\n",
      "File \u001b[1;32m~\\Anaconda3\\lib\\site-packages\\pandas\\core\\generic.py:2373\u001b[0m, in \u001b[0;36mNDFrame.to_excel\u001b[1;34m(self, excel_writer, sheet_name, na_rep, float_format, columns, header, index, index_label, startrow, startcol, engine, merge_cells, encoding, inf_rep, verbose, freeze_panes, storage_options)\u001b[0m\n\u001b[0;32m   2360\u001b[0m \u001b[38;5;28;01mfrom\u001b[39;00m \u001b[38;5;21;01mpandas\u001b[39;00m\u001b[38;5;21;01m.\u001b[39;00m\u001b[38;5;21;01mio\u001b[39;00m\u001b[38;5;21;01m.\u001b[39;00m\u001b[38;5;21;01mformats\u001b[39;00m\u001b[38;5;21;01m.\u001b[39;00m\u001b[38;5;21;01mexcel\u001b[39;00m \u001b[38;5;28;01mimport\u001b[39;00m ExcelFormatter\n\u001b[0;32m   2362\u001b[0m formatter \u001b[38;5;241m=\u001b[39m ExcelFormatter(\n\u001b[0;32m   2363\u001b[0m     df,\n\u001b[0;32m   2364\u001b[0m     na_rep\u001b[38;5;241m=\u001b[39mna_rep,\n\u001b[1;32m   (...)\u001b[0m\n\u001b[0;32m   2371\u001b[0m     inf_rep\u001b[38;5;241m=\u001b[39minf_rep,\n\u001b[0;32m   2372\u001b[0m )\n\u001b[1;32m-> 2373\u001b[0m \u001b[43mformatter\u001b[49m\u001b[38;5;241;43m.\u001b[39;49m\u001b[43mwrite\u001b[49m\u001b[43m(\u001b[49m\n\u001b[0;32m   2374\u001b[0m \u001b[43m    \u001b[49m\u001b[43mexcel_writer\u001b[49m\u001b[43m,\u001b[49m\n\u001b[0;32m   2375\u001b[0m \u001b[43m    \u001b[49m\u001b[43msheet_name\u001b[49m\u001b[38;5;241;43m=\u001b[39;49m\u001b[43msheet_name\u001b[49m\u001b[43m,\u001b[49m\n\u001b[0;32m   2376\u001b[0m \u001b[43m    \u001b[49m\u001b[43mstartrow\u001b[49m\u001b[38;5;241;43m=\u001b[39;49m\u001b[43mstartrow\u001b[49m\u001b[43m,\u001b[49m\n\u001b[0;32m   2377\u001b[0m \u001b[43m    \u001b[49m\u001b[43mstartcol\u001b[49m\u001b[38;5;241;43m=\u001b[39;49m\u001b[43mstartcol\u001b[49m\u001b[43m,\u001b[49m\n\u001b[0;32m   2378\u001b[0m \u001b[43m    \u001b[49m\u001b[43mfreeze_panes\u001b[49m\u001b[38;5;241;43m=\u001b[39;49m\u001b[43mfreeze_panes\u001b[49m\u001b[43m,\u001b[49m\n\u001b[0;32m   2379\u001b[0m \u001b[43m    \u001b[49m\u001b[43mengine\u001b[49m\u001b[38;5;241;43m=\u001b[39;49m\u001b[43mengine\u001b[49m\u001b[43m,\u001b[49m\n\u001b[0;32m   2380\u001b[0m \u001b[43m    \u001b[49m\u001b[43mstorage_options\u001b[49m\u001b[38;5;241;43m=\u001b[39;49m\u001b[43mstorage_options\u001b[49m\u001b[43m,\u001b[49m\n\u001b[0;32m   2381\u001b[0m \u001b[43m\u001b[49m\u001b[43m)\u001b[49m\n",
      "File \u001b[1;32m~\\Anaconda3\\lib\\site-packages\\pandas\\io\\formats\\excel.py:911\u001b[0m, in \u001b[0;36mExcelFormatter.write\u001b[1;34m(self, writer, sheet_name, startrow, startcol, freeze_panes, engine, storage_options)\u001b[0m\n\u001b[0;32m    907\u001b[0m     need_save \u001b[38;5;241m=\u001b[39m \u001b[38;5;28;01mFalse\u001b[39;00m\n\u001b[0;32m    908\u001b[0m \u001b[38;5;28;01melse\u001b[39;00m:\n\u001b[0;32m    909\u001b[0m     \u001b[38;5;66;03m# error: Cannot instantiate abstract class 'ExcelWriter' with abstract\u001b[39;00m\n\u001b[0;32m    910\u001b[0m     \u001b[38;5;66;03m# attributes 'engine', 'save', 'supported_extensions' and 'write_cells'\u001b[39;00m\n\u001b[1;32m--> 911\u001b[0m     writer \u001b[38;5;241m=\u001b[39m \u001b[43mExcelWriter\u001b[49m\u001b[43m(\u001b[49m\u001b[43m  \u001b[49m\u001b[38;5;66;43;03m# type: ignore[abstract]\u001b[39;49;00m\n\u001b[0;32m    912\u001b[0m \u001b[43m        \u001b[49m\u001b[43mwriter\u001b[49m\u001b[43m,\u001b[49m\u001b[43m \u001b[49m\u001b[43mengine\u001b[49m\u001b[38;5;241;43m=\u001b[39;49m\u001b[43mengine\u001b[49m\u001b[43m,\u001b[49m\u001b[43m \u001b[49m\u001b[43mstorage_options\u001b[49m\u001b[38;5;241;43m=\u001b[39;49m\u001b[43mstorage_options\u001b[49m\n\u001b[0;32m    913\u001b[0m \u001b[43m    \u001b[49m\u001b[43m)\u001b[49m\n\u001b[0;32m    914\u001b[0m     need_save \u001b[38;5;241m=\u001b[39m \u001b[38;5;28;01mTrue\u001b[39;00m\n\u001b[0;32m    916\u001b[0m \u001b[38;5;28;01mtry\u001b[39;00m:\n",
      "File \u001b[1;32m~\\Anaconda3\\lib\\site-packages\\pandas\\io\\excel\\_openpyxl.py:56\u001b[0m, in \u001b[0;36mOpenpyxlWriter.__init__\u001b[1;34m(self, path, engine, date_format, datetime_format, mode, storage_options, if_sheet_exists, engine_kwargs, **kwargs)\u001b[0m\n\u001b[0;32m     43\u001b[0m \u001b[38;5;28;01mdef\u001b[39;00m \u001b[38;5;21m__init__\u001b[39m(\n\u001b[0;32m     44\u001b[0m     \u001b[38;5;28mself\u001b[39m,\n\u001b[0;32m     45\u001b[0m     path: FilePath \u001b[38;5;241m|\u001b[39m WriteExcelBuffer \u001b[38;5;241m|\u001b[39m ExcelWriter,\n\u001b[1;32m   (...)\u001b[0m\n\u001b[0;32m     54\u001b[0m ) \u001b[38;5;241m-\u001b[39m\u001b[38;5;241m>\u001b[39m \u001b[38;5;28;01mNone\u001b[39;00m:\n\u001b[0;32m     55\u001b[0m     \u001b[38;5;66;03m# Use the openpyxl module as the Excel writer.\u001b[39;00m\n\u001b[1;32m---> 56\u001b[0m     \u001b[38;5;28;01mfrom\u001b[39;00m \u001b[38;5;21;01mopenpyxl\u001b[39;00m\u001b[38;5;21;01m.\u001b[39;00m\u001b[38;5;21;01mworkbook\u001b[39;00m \u001b[38;5;28;01mimport\u001b[39;00m Workbook\n\u001b[0;32m     58\u001b[0m     engine_kwargs \u001b[38;5;241m=\u001b[39m combine_kwargs(engine_kwargs, kwargs)\n\u001b[0;32m     60\u001b[0m     \u001b[38;5;28msuper\u001b[39m()\u001b[38;5;241m.\u001b[39m\u001b[38;5;21m__init__\u001b[39m(\n\u001b[0;32m     61\u001b[0m         path,\n\u001b[0;32m     62\u001b[0m         mode\u001b[38;5;241m=\u001b[39mmode,\n\u001b[1;32m   (...)\u001b[0m\n\u001b[0;32m     65\u001b[0m         engine_kwargs\u001b[38;5;241m=\u001b[39mengine_kwargs,\n\u001b[0;32m     66\u001b[0m     )\n",
      "\u001b[1;31mModuleNotFoundError\u001b[0m: No module named 'openpyxl'"
     ]
    }
   ],
   "source": [
    "doi_inserm_final.to_excel(\"Data\\outputs\\last_doi_inserm.xlsx\",index=False)"
   ]
  },
  {
   "cell_type": "markdown",
   "metadata": {},
   "source": [
    "### Générer fichier excel à partir du csv"
   ]
  },
  {
   "cell_type": "code",
   "execution_count": 45,
   "metadata": {},
   "outputs": [],
   "source": [
    "import pandas"
   ]
  },
  {
   "cell_type": "code",
   "execution_count": 46,
   "metadata": {},
   "outputs": [],
   "source": [
    "import csv"
   ]
  },
  {
   "cell_type": "code",
   "execution_count": 47,
   "metadata": {},
   "outputs": [
    {
     "ename": "UnicodeDecodeError",
     "evalue": "'charmap' codec can't decode byte 0x9d in position 5330: character maps to <undefined>",
     "output_type": "error",
     "traceback": [
      "\u001b[1;31m---------------------------------------------------------------------------\u001b[0m",
      "\u001b[1;31mUnicodeDecodeError\u001b[0m                        Traceback (most recent call last)",
      "Input \u001b[1;32mIn [47]\u001b[0m, in \u001b[0;36m<cell line: 1>\u001b[1;34m()\u001b[0m\n\u001b[0;32m      1\u001b[0m \u001b[38;5;28;01mwith\u001b[39;00m \u001b[38;5;28mopen\u001b[39m(\u001b[38;5;124m\"\u001b[39m\u001b[38;5;124mData/outputs/bso-publications-latest_180036048_enriched.csv\u001b[39m\u001b[38;5;124m\"\u001b[39m) \u001b[38;5;28;01mas\u001b[39;00m f:\n\u001b[1;32m----> 2\u001b[0m     inserm_str \u001b[38;5;241m=\u001b[39m \u001b[43mf\u001b[49m\u001b[38;5;241;43m.\u001b[39;49m\u001b[43mread\u001b[49m\u001b[43m(\u001b[49m\u001b[43m)\u001b[49m\n",
      "File \u001b[1;32m~\\Anaconda3\\lib\\encodings\\cp1252.py:23\u001b[0m, in \u001b[0;36mIncrementalDecoder.decode\u001b[1;34m(self, input, final)\u001b[0m\n\u001b[0;32m     22\u001b[0m \u001b[38;5;28;01mdef\u001b[39;00m \u001b[38;5;21mdecode\u001b[39m(\u001b[38;5;28mself\u001b[39m, \u001b[38;5;28minput\u001b[39m, final\u001b[38;5;241m=\u001b[39m\u001b[38;5;28;01mFalse\u001b[39;00m):\n\u001b[1;32m---> 23\u001b[0m     \u001b[38;5;28;01mreturn\u001b[39;00m \u001b[43mcodecs\u001b[49m\u001b[38;5;241;43m.\u001b[39;49m\u001b[43mcharmap_decode\u001b[49m\u001b[43m(\u001b[49m\u001b[38;5;28;43minput\u001b[39;49m\u001b[43m,\u001b[49m\u001b[38;5;28;43mself\u001b[39;49m\u001b[38;5;241;43m.\u001b[39;49m\u001b[43merrors\u001b[49m\u001b[43m,\u001b[49m\u001b[43mdecoding_table\u001b[49m\u001b[43m)\u001b[49m[\u001b[38;5;241m0\u001b[39m]\n",
      "\u001b[1;31mUnicodeDecodeError\u001b[0m: 'charmap' codec can't decode byte 0x9d in position 5330: character maps to <undefined>"
     ]
    }
   ],
   "source": [
    "with open(\"Data/outputs/bso-publications-latest_180036048_enriched.csv\") as f:\n",
    "    inserm_str = f.read()"
   ]
  },
  {
   "cell_type": "code",
   "execution_count": 48,
   "metadata": {},
   "outputs": [],
   "source": [
    "inserm_df = pandas.read_csv(\"Data/outputs/bso-publications-latest_180036048_enriched.csv\",sep=\",\")"
   ]
  },
  {
   "cell_type": "code",
   "execution_count": 49,
   "metadata": {},
   "outputs": [
    {
     "data": {
      "text/html": [
       "<div>\n",
       "<style scoped>\n",
       "    .dataframe tbody tr th:only-of-type {\n",
       "        vertical-align: middle;\n",
       "    }\n",
       "\n",
       "    .dataframe tbody tr th {\n",
       "        vertical-align: top;\n",
       "    }\n",
       "\n",
       "    .dataframe thead th {\n",
       "        text-align: right;\n",
       "    }\n",
       "</style>\n",
       "<table border=\"1\" class=\"dataframe\">\n",
       "  <thead>\n",
       "    <tr style=\"text-align: right;\">\n",
       "      <th></th>\n",
       "      <th>doi</th>\n",
       "      <th>year</th>\n",
       "      <th>title</th>\n",
       "      <th>journal_issns</th>\n",
       "      <th>journal_issn_l</th>\n",
       "      <th>journal_name</th>\n",
       "      <th>publisher</th>\n",
       "      <th>publisher_dissemination</th>\n",
       "      <th>hal_id</th>\n",
       "      <th>pmid</th>\n",
       "      <th>...</th>\n",
       "      <th>bso_local_affiliations</th>\n",
       "      <th>is_oa</th>\n",
       "      <th>journal_is_in_doaj</th>\n",
       "      <th>journal_is_oa</th>\n",
       "      <th>observation_date</th>\n",
       "      <th>oa_host_type</th>\n",
       "      <th>oa_colors</th>\n",
       "      <th>licence_publisher</th>\n",
       "      <th>licence_repositories</th>\n",
       "      <th>repositories</th>\n",
       "    </tr>\n",
       "  </thead>\n",
       "  <tbody>\n",
       "    <tr>\n",
       "      <th>0</th>\n",
       "      <td>10.1177/0962280213475643</td>\n",
       "      <td>2013.0</td>\n",
       "      <td>A graphical method to assess distribution assu...</td>\n",
       "      <td>0962-2802,1477-0334</td>\n",
       "      <td>0962-2802</td>\n",
       "      <td>Statistical Methods in Medical Research</td>\n",
       "      <td>SAGE Publications</td>\n",
       "      <td>SAGE Publications</td>\n",
       "      <td>NaN</td>\n",
       "      <td>23427224.0</td>\n",
       "      <td>...</td>\n",
       "      <td>180036048;196917744</td>\n",
       "      <td>False</td>\n",
       "      <td>False</td>\n",
       "      <td>False</td>\n",
       "      <td>2021Q4</td>\n",
       "      <td>closed</td>\n",
       "      <td>closed</td>\n",
       "      <td>NaN</td>\n",
       "      <td>NaN</td>\n",
       "      <td>NaN</td>\n",
       "    </tr>\n",
       "    <tr>\n",
       "      <th>1</th>\n",
       "      <td>10.1177/0962280213490014</td>\n",
       "      <td>2013.0</td>\n",
       "      <td>Sensitivity analysis of incomplete longitudina...</td>\n",
       "      <td>0962-2802,1477-0334</td>\n",
       "      <td>0962-2802</td>\n",
       "      <td>Statistical Methods in Medical Research</td>\n",
       "      <td>SAGE Publications</td>\n",
       "      <td>SAGE Publications</td>\n",
       "      <td>NaN</td>\n",
       "      <td>23698867.0</td>\n",
       "      <td>...</td>\n",
       "      <td>180036048;197819444</td>\n",
       "      <td>False</td>\n",
       "      <td>False</td>\n",
       "      <td>False</td>\n",
       "      <td>2021Q4</td>\n",
       "      <td>closed</td>\n",
       "      <td>closed</td>\n",
       "      <td>NaN</td>\n",
       "      <td>NaN</td>\n",
       "      <td>NaN</td>\n",
       "    </tr>\n",
       "    <tr>\n",
       "      <th>2</th>\n",
       "      <td>10.1177/0962280213489234</td>\n",
       "      <td>2016.0</td>\n",
       "      <td>Predictions in an illness-death model</td>\n",
       "      <td>0962-2802,1477-0334</td>\n",
       "      <td>0962-2802</td>\n",
       "      <td>Statistical Methods in Medical Research</td>\n",
       "      <td>SAGE Publications</td>\n",
       "      <td>SAGE Publications</td>\n",
       "      <td>NaN</td>\n",
       "      <td>23698869.0</td>\n",
       "      <td>...</td>\n",
       "      <td>180036048</td>\n",
       "      <td>False</td>\n",
       "      <td>False</td>\n",
       "      <td>False</td>\n",
       "      <td>2021Q4</td>\n",
       "      <td>closed</td>\n",
       "      <td>closed</td>\n",
       "      <td>NaN</td>\n",
       "      <td>NaN</td>\n",
       "      <td>NaN</td>\n",
       "    </tr>\n",
       "    <tr>\n",
       "      <th>3</th>\n",
       "      <td>10.1177/0962280213507034</td>\n",
       "      <td>2016.0</td>\n",
       "      <td>Propensity score estimators for the average tr...</td>\n",
       "      <td>0962-2802,1477-0334</td>\n",
       "      <td>0962-2802</td>\n",
       "      <td>Statistical Methods in Medical Research</td>\n",
       "      <td>SAGE Publications</td>\n",
       "      <td>SAGE Publications</td>\n",
       "      <td>NaN</td>\n",
       "      <td>24201469.0</td>\n",
       "      <td>...</td>\n",
       "      <td>180036048</td>\n",
       "      <td>False</td>\n",
       "      <td>False</td>\n",
       "      <td>False</td>\n",
       "      <td>2021Q4</td>\n",
       "      <td>closed</td>\n",
       "      <td>closed</td>\n",
       "      <td>NaN</td>\n",
       "      <td>NaN</td>\n",
       "      <td>NaN</td>\n",
       "    </tr>\n",
       "    <tr>\n",
       "      <th>4</th>\n",
       "      <td>10.1016/j.neuchi.2013.06.004</td>\n",
       "      <td>2016.0</td>\n",
       "      <td>Giant intracranial aneurysms in the paediatric...</td>\n",
       "      <td>0028-3770</td>\n",
       "      <td>0028-3770</td>\n",
       "      <td>Neurochirurgie</td>\n",
       "      <td>Elsevier BV</td>\n",
       "      <td>Elsevier</td>\n",
       "      <td>NaN</td>\n",
       "      <td>24210289.0</td>\n",
       "      <td>...</td>\n",
       "      <td>180036048</td>\n",
       "      <td>False</td>\n",
       "      <td>False</td>\n",
       "      <td>False</td>\n",
       "      <td>2021Q4</td>\n",
       "      <td>closed</td>\n",
       "      <td>closed</td>\n",
       "      <td>NaN</td>\n",
       "      <td>NaN</td>\n",
       "      <td>NaN</td>\n",
       "    </tr>\n",
       "    <tr>\n",
       "      <th>...</th>\n",
       "      <td>...</td>\n",
       "      <td>...</td>\n",
       "      <td>...</td>\n",
       "      <td>...</td>\n",
       "      <td>...</td>\n",
       "      <td>...</td>\n",
       "      <td>...</td>\n",
       "      <td>...</td>\n",
       "      <td>...</td>\n",
       "      <td>...</td>\n",
       "      <td>...</td>\n",
       "      <td>...</td>\n",
       "      <td>...</td>\n",
       "      <td>...</td>\n",
       "      <td>...</td>\n",
       "      <td>...</td>\n",
       "      <td>...</td>\n",
       "      <td>...</td>\n",
       "      <td>...</td>\n",
       "      <td>...</td>\n",
       "      <td>...</td>\n",
       "    </tr>\n",
       "    <tr>\n",
       "      <th>84034</th>\n",
       "      <td>10.7554/elife.52665</td>\n",
       "      <td>2019.0</td>\n",
       "      <td>Pathway-, layer- and cell-type-specific thalam...</td>\n",
       "      <td>2050-084X</td>\n",
       "      <td>2050-084X</td>\n",
       "      <td>eLife</td>\n",
       "      <td>eLife Sciences Publications, Ltd</td>\n",
       "      <td>eLife Sciences Publications, Ltd</td>\n",
       "      <td>NaN</td>\n",
       "      <td>NaN</td>\n",
       "      <td>...</td>\n",
       "      <td>180036048</td>\n",
       "      <td>True</td>\n",
       "      <td>True</td>\n",
       "      <td>True</td>\n",
       "      <td>2021Q4</td>\n",
       "      <td>publisher;repository</td>\n",
       "      <td>green;gold</td>\n",
       "      <td>cc-by</td>\n",
       "      <td>cc-by</td>\n",
       "      <td>PubMed Central;infoscience.epfl.ch</td>\n",
       "    </tr>\n",
       "    <tr>\n",
       "      <th>84035</th>\n",
       "      <td>10.7754/clin.lab.2016.161008</td>\n",
       "      <td>2017.0</td>\n",
       "      <td>Point of Care Cardiac Troponin Assay Analytica...</td>\n",
       "      <td>1433-6510</td>\n",
       "      <td>1433-6510</td>\n",
       "      <td>Clinical Laboratory</td>\n",
       "      <td>Clinical Laboratory Publications</td>\n",
       "      <td>Clinical Laboratory Publications</td>\n",
       "      <td>NaN</td>\n",
       "      <td>NaN</td>\n",
       "      <td>...</td>\n",
       "      <td>180036048</td>\n",
       "      <td>False</td>\n",
       "      <td>False</td>\n",
       "      <td>False</td>\n",
       "      <td>2021Q4</td>\n",
       "      <td>closed</td>\n",
       "      <td>closed</td>\n",
       "      <td>NaN</td>\n",
       "      <td>NaN</td>\n",
       "      <td>NaN</td>\n",
       "    </tr>\n",
       "    <tr>\n",
       "      <th>84036</th>\n",
       "      <td>10.7754/clin.lab.2018.181210</td>\n",
       "      <td>2019.0</td>\n",
       "      <td>An Extremely High IgA Value in a Young Child</td>\n",
       "      <td>1433-6510</td>\n",
       "      <td>1433-6510</td>\n",
       "      <td>Clinical Laboratory</td>\n",
       "      <td>Clinical Laboratory Publications</td>\n",
       "      <td>Clinical Laboratory Publications</td>\n",
       "      <td>NaN</td>\n",
       "      <td>NaN</td>\n",
       "      <td>...</td>\n",
       "      <td>180036048</td>\n",
       "      <td>False</td>\n",
       "      <td>False</td>\n",
       "      <td>False</td>\n",
       "      <td>2021Q4</td>\n",
       "      <td>closed</td>\n",
       "      <td>closed</td>\n",
       "      <td>NaN</td>\n",
       "      <td>NaN</td>\n",
       "      <td>NaN</td>\n",
       "    </tr>\n",
       "    <tr>\n",
       "      <th>84037</th>\n",
       "      <td>10.7868/s0044467717050057</td>\n",
       "      <td>2017.0</td>\n",
       "      <td>ФОТОФАРМАКОЛОГИЯ: КРАТКИЙ ОБЗОР НА ПРИМЕРЕ УПР...</td>\n",
       "      <td>0044-4677</td>\n",
       "      <td>0044-4677</td>\n",
       "      <td>Журнал высшей нервной деятельности им И П Павлова</td>\n",
       "      <td>Akademizdatcenter Nauka</td>\n",
       "      <td>Akademizdatcenter Nauka</td>\n",
       "      <td>NaN</td>\n",
       "      <td>NaN</td>\n",
       "      <td>...</td>\n",
       "      <td>180036048</td>\n",
       "      <td>False</td>\n",
       "      <td>False</td>\n",
       "      <td>False</td>\n",
       "      <td>2021Q4</td>\n",
       "      <td>closed</td>\n",
       "      <td>closed</td>\n",
       "      <td>NaN</td>\n",
       "      <td>NaN</td>\n",
       "      <td>NaN</td>\n",
       "    </tr>\n",
       "    <tr>\n",
       "      <th>84038</th>\n",
       "      <td>10.7868/s0044467717050100</td>\n",
       "      <td>2017.0</td>\n",
       "      <td>ЛОКАЛЬНЫЕ ИЗМЕНЕНИЯ ВОДНОГО БАЛАНСА, КАК МАРКЕ...</td>\n",
       "      <td>0044-4677</td>\n",
       "      <td>0044-4677</td>\n",
       "      <td>Журнал высшей нервной деятельности им И П Павлова</td>\n",
       "      <td>Akademizdatcenter Nauka</td>\n",
       "      <td>Akademizdatcenter Nauka</td>\n",
       "      <td>NaN</td>\n",
       "      <td>NaN</td>\n",
       "      <td>...</td>\n",
       "      <td>180036048</td>\n",
       "      <td>False</td>\n",
       "      <td>False</td>\n",
       "      <td>False</td>\n",
       "      <td>2021Q4</td>\n",
       "      <td>closed</td>\n",
       "      <td>closed</td>\n",
       "      <td>NaN</td>\n",
       "      <td>NaN</td>\n",
       "      <td>NaN</td>\n",
       "    </tr>\n",
       "  </tbody>\n",
       "</table>\n",
       "<p>84039 rows × 27 columns</p>\n",
       "</div>"
      ],
      "text/plain": [
       "                                doi    year  \\\n",
       "0          10.1177/0962280213475643  2013.0   \n",
       "1          10.1177/0962280213490014  2013.0   \n",
       "2          10.1177/0962280213489234  2016.0   \n",
       "3          10.1177/0962280213507034  2016.0   \n",
       "4      10.1016/j.neuchi.2013.06.004  2016.0   \n",
       "...                             ...     ...   \n",
       "84034           10.7554/elife.52665  2019.0   \n",
       "84035  10.7754/clin.lab.2016.161008  2017.0   \n",
       "84036  10.7754/clin.lab.2018.181210  2019.0   \n",
       "84037     10.7868/s0044467717050057  2017.0   \n",
       "84038     10.7868/s0044467717050100  2017.0   \n",
       "\n",
       "                                                   title        journal_issns  \\\n",
       "0      A graphical method to assess distribution assu...  0962-2802,1477-0334   \n",
       "1      Sensitivity analysis of incomplete longitudina...  0962-2802,1477-0334   \n",
       "2                  Predictions in an illness-death model  0962-2802,1477-0334   \n",
       "3      Propensity score estimators for the average tr...  0962-2802,1477-0334   \n",
       "4      Giant intracranial aneurysms in the paediatric...            0028-3770   \n",
       "...                                                  ...                  ...   \n",
       "84034  Pathway-, layer- and cell-type-specific thalam...            2050-084X   \n",
       "84035  Point of Care Cardiac Troponin Assay Analytica...            1433-6510   \n",
       "84036       An Extremely High IgA Value in a Young Child            1433-6510   \n",
       "84037  ФОТОФАРМАКОЛОГИЯ: КРАТКИЙ ОБЗОР НА ПРИМЕРЕ УПР...            0044-4677   \n",
       "84038  ЛОКАЛЬНЫЕ ИЗМЕНЕНИЯ ВОДНОГО БАЛАНСА, КАК МАРКЕ...            0044-4677   \n",
       "\n",
       "      journal_issn_l                                       journal_name  \\\n",
       "0          0962-2802            Statistical Methods in Medical Research   \n",
       "1          0962-2802            Statistical Methods in Medical Research   \n",
       "2          0962-2802            Statistical Methods in Medical Research   \n",
       "3          0962-2802            Statistical Methods in Medical Research   \n",
       "4          0028-3770                                     Neurochirurgie   \n",
       "...              ...                                                ...   \n",
       "84034      2050-084X                                              eLife   \n",
       "84035      1433-6510                                Clinical Laboratory   \n",
       "84036      1433-6510                                Clinical Laboratory   \n",
       "84037      0044-4677  Журнал высшей нервной деятельности им И П Павлова   \n",
       "84038      0044-4677  Журнал высшей нервной деятельности им И П Павлова   \n",
       "\n",
       "                              publisher           publisher_dissemination  \\\n",
       "0                     SAGE Publications                 SAGE Publications   \n",
       "1                     SAGE Publications                 SAGE Publications   \n",
       "2                     SAGE Publications                 SAGE Publications   \n",
       "3                     SAGE Publications                 SAGE Publications   \n",
       "4                           Elsevier BV                          Elsevier   \n",
       "...                                 ...                               ...   \n",
       "84034  eLife Sciences Publications, Ltd  eLife Sciences Publications, Ltd   \n",
       "84035  Clinical Laboratory Publications  Clinical Laboratory Publications   \n",
       "84036  Clinical Laboratory Publications  Clinical Laboratory Publications   \n",
       "84037           Akademizdatcenter Nauka           Akademizdatcenter Nauka   \n",
       "84038           Akademizdatcenter Nauka           Akademizdatcenter Nauka   \n",
       "\n",
       "      hal_id        pmid  ... bso_local_affiliations  is_oa  \\\n",
       "0        NaN  23427224.0  ...    180036048;196917744  False   \n",
       "1        NaN  23698867.0  ...    180036048;197819444  False   \n",
       "2        NaN  23698869.0  ...              180036048  False   \n",
       "3        NaN  24201469.0  ...              180036048  False   \n",
       "4        NaN  24210289.0  ...              180036048  False   \n",
       "...      ...         ...  ...                    ...    ...   \n",
       "84034    NaN         NaN  ...              180036048   True   \n",
       "84035    NaN         NaN  ...              180036048  False   \n",
       "84036    NaN         NaN  ...              180036048  False   \n",
       "84037    NaN         NaN  ...              180036048  False   \n",
       "84038    NaN         NaN  ...              180036048  False   \n",
       "\n",
       "      journal_is_in_doaj journal_is_oa observation_date          oa_host_type  \\\n",
       "0                  False         False           2021Q4                closed   \n",
       "1                  False         False           2021Q4                closed   \n",
       "2                  False         False           2021Q4                closed   \n",
       "3                  False         False           2021Q4                closed   \n",
       "4                  False         False           2021Q4                closed   \n",
       "...                  ...           ...              ...                   ...   \n",
       "84034               True          True           2021Q4  publisher;repository   \n",
       "84035              False         False           2021Q4                closed   \n",
       "84036              False         False           2021Q4                closed   \n",
       "84037              False         False           2021Q4                closed   \n",
       "84038              False         False           2021Q4                closed   \n",
       "\n",
       "        oa_colors licence_publisher  licence_repositories  \\\n",
       "0          closed               NaN                   NaN   \n",
       "1          closed               NaN                   NaN   \n",
       "2          closed               NaN                   NaN   \n",
       "3          closed               NaN                   NaN   \n",
       "4          closed               NaN                   NaN   \n",
       "...           ...               ...                   ...   \n",
       "84034  green;gold             cc-by                 cc-by   \n",
       "84035      closed               NaN                   NaN   \n",
       "84036      closed               NaN                   NaN   \n",
       "84037      closed               NaN                   NaN   \n",
       "84038      closed               NaN                   NaN   \n",
       "\n",
       "                             repositories  \n",
       "0                                     NaN  \n",
       "1                                     NaN  \n",
       "2                                     NaN  \n",
       "3                                     NaN  \n",
       "4                                     NaN  \n",
       "...                                   ...  \n",
       "84034  PubMed Central;infoscience.epfl.ch  \n",
       "84035                                 NaN  \n",
       "84036                                 NaN  \n",
       "84037                                 NaN  \n",
       "84038                                 NaN  \n",
       "\n",
       "[84039 rows x 27 columns]"
      ]
     },
     "execution_count": 49,
     "metadata": {},
     "output_type": "execute_result"
    }
   ],
   "source": [
    "inserm_df"
   ]
  },
  {
   "cell_type": "code",
   "execution_count": null,
   "metadata": {},
   "outputs": [],
   "source": [
    "inserm_df.to_excel(\"Data\\outputs\\last_inserm_20220302.xlsx\",index=False)"
   ]
  },
  {
   "cell_type": "code",
   "execution_count": null,
   "metadata": {},
   "outputs": [],
   "source": []
  }
 ],
 "metadata": {
  "kernelspec": {
   "display_name": "Python 3 (ipykernel)",
   "language": "python",
   "name": "python3"
  },
  "language_info": {
   "codemirror_mode": {
    "name": "ipython",
    "version": 3
   },
   "file_extension": ".py",
   "mimetype": "text/x-python",
   "name": "python",
   "nbconvert_exporter": "python",
   "pygments_lexer": "ipython3",
   "version": "3.9.12"
  }
 },
 "nbformat": 4,
 "nbformat_minor": 4
}
