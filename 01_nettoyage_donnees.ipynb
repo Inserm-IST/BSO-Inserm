{
 "cells": [
  {
   "cell_type": "markdown",
   "metadata": {},
   "source": [
    "# <span style=\"color:orange\">Nettoyer des jeux de données pour obtenir une liste de DOI des publications de l'Inserm : Web of Science, Pubmed, HAL</span>"
   ]
  },
  {
   "cell_type": "markdown",
   "metadata": {},
   "source": [
    "Ce premier notebook sert à nettoyer les différents fichiers obtenus après téléchargement sur le WoS, Pubmed, HAL. Pour savoir quelques requêtes ont été utilisées pour l'Inserm, consulter le fichier \"requetes_bdd\" dans le dossier. Quelques consignes sont à respecter pour que tout fonctionne :\n",
    "\n",
    "- Pour le WoS, il suffit de procéder à un téléchargement simple \"Fast 5000\". Le fichier obtenu, en texte, est illisible et c'est normal, il n'y a rien à changer. Nommer le fichier \"wos_lorraine_2016\", puis \"wos_lorraine_2017\"... Ce fichier n'apparaît pas dans le dossier téléchargé depuis Gitlab car les données du Web of Science étant propriétaires, il n'était pas possible de les diffuser librement.\n",
    "- Pour Pubmed, le téléchargement donne un fichier CSV très peu classé, c'est normal, il n'y a rien à changer. Nommer le fichier \"pubmed_inserm_2016\", puis \"pubmed_inserm_2017\"...\n",
    "- Pour les autres sources de données, on obtient directement une liste de DOI, mais **il faut s'assurer que la colonne s'appelle bien \"doi\" en minuscules et qu'il n'y a pas de ligne vide**\n",
    "\n",
    "Il faut télécharger année par année, et toujours nommer les fichiers de la même manière.  <span style=\"color:red\"> **Il est vital de garder l'organisation ici présente (Data > raw > dossier par année) pour que le code fonctionne.**</span>\n",
    "\n",
    "<span style=\"color:red\">**Si l'on ne dispose pas de certaines données (par exemple, l'établissement n'a pas de données sur les APC ou n'utilise pas le Web of Science), il ne faut pas exécuter les parties de code liées à ces outils. Si l'on ne dispose pas d'extractions du Web of Science, on n'exécute pas toute la partie \"Nettoyer les données issues du Web of Science\".**</span>\n",
    "\n",
    "**Il faut modifier les valeurs des variables \"etabl\" et \"annee\" dans les cases ci-dessous suivant votre situation.\n",
    "Dans la variable \"etabl\" mettre le nom de l'établissement.  \n",
    "Dans la variable \"annee\" mettre la dernière année à traiter, par exemple quand les données de 2023 seront ajoutées dans le dossier \"raw\", il faudra modifier la valeur d'année de la façon suivante: annee = 2023**\n",
    "\n",
    "Commencer par exécuter les lignes ci-dessous : cliquer sur la ligne puis ensuite sur le bouton \"play\" de la barre d'outils."
   ]
  },
  {
   "cell_type": "code",
   "execution_count": 1,
   "metadata": {},
   "outputs": [],
   "source": [
    "etabl = \"inserm\"\n",
    "annee = 2022"
   ]
  },
  {
   "cell_type": "code",
   "execution_count": 2,
   "metadata": {},
   "outputs": [],
   "source": [
    "import pandas as pd\n",
    "import csv"
   ]
  },
  {
   "cell_type": "markdown",
   "metadata": {},
   "source": [
    "## <span style=\"color:orange\">Nettoyer les données issues du Web of Science</span>"
   ]
  },
  {
   "cell_type": "markdown",
   "metadata": {},
   "source": [
    "### Comprendre comment est structuré le fichier"
   ]
  },
  {
   "cell_type": "markdown",
   "metadata": {},
   "source": [
    "On ouvre le premier fichier puis on utilise la méthode de liste **split** pour voir une ligne (la 4ème, par exemple)."
   ]
  },
  {
   "cell_type": "code",
   "execution_count": 3,
   "metadata": {},
   "outputs": [],
   "source": [
    "with open(f\"Data/raw/{annee}/wos_{etabl}_{annee}.txt\", encoding=\"utf8\") as f:\n",
    "    wos_string = f.read()"
   ]
  },
  {
   "cell_type": "markdown",
   "metadata": {},
   "source": [
    "La ligne ci-dessous permet de voir à quoi ressemble la 5ème ligne du fichier (en Python, la numérotation commence à zéro)."
   ]
  },
  {
   "cell_type": "code",
   "execution_count": 4,
   "metadata": {},
   "outputs": [
    {
     "data": {
      "text/plain": [
       "'J\\tPuertas, Rosa Donate; Deflers, Carole; Puech, Frederic; Fischmeister, Rodolphe; Hillaireau, Herve; Pidoux, Guillaume\\t\\t\\t\\t\\t\\t\\t\\tNovel specific cardiac homing peptides to target failing cardiomyocytes\\t\\t\\t\\t\\t\\t\\t\\tJOURNAL OF MOLECULAR AND CELLULAR CARDIOLOGY\\t\\t\\t\\t173\\t\\t\\t\\tS57\\tS58\\t\\t10.1016/j.yjmcc.2022.08.112\\t\\t\\tDEC 31 2022\\t2022\\t\\t\\t[Puertas, Rosa Donate; Deflers, Carole; Fischmeister, Rodolphe; Pidoux, Guillaume] Univ Paris Saclay, INSERM UMR S 1180, Signaling & Cardiovasc Pathophysiol Lab, Chatenay Malabry, France; [Puertas, Rosa Donate; Hillaireau, Herve] Univ Paris Saclay, UMR CNRS 8612, Galien Paris Saclay Inst, Chatenay Malabry, France; [Puech, Frederic] Integrated Drug Discovery Res & Dev Sanofi, Chilly Mazarin, France\\t\\t\\t\\t24th World Congress of the International-Society-for-Heart-Research\\tJUN 12-15, 2022\\tInt Soc Heart Res\\tBerlin, GERMANY\\t0\\t\\t\\t\\t\\t\\t\\tCardiac & Cardiovascular Systems; Cell Biology\\tWOS:000907054400108\\t\\t'"
      ]
     },
     "execution_count": 4,
     "metadata": {},
     "output_type": "execute_result"
    }
   ],
   "source": [
    "wos_string.split(\"\\n\")[4]"
   ]
  },
  {
   "cell_type": "markdown",
   "metadata": {},
   "source": [
    "### Définir une fonction"
   ]
  },
  {
   "cell_type": "markdown",
   "metadata": {},
   "source": [
    "#### Définition de la fonction **read_wos** :  \n",
    "La fonction prend en argument une date de départ et et une date de fin.  \n",
    "Ces arguments sont optionnels et ont une valeur par défaut, respectivement 2016 et 2022.\n",
    "\n",
    "Exemple d'utilisation:  \n",
    "* Un appel à **read_wos()** renverra par défaut, les données de 2016 à 2022 inclue.  \n",
    "* Un appel à **read_wos(start_year = 2017)** renverra les données de 2017 à 2022 inclue.  \n",
    "* Un appel à **read_wos(end_year = 2023)** renverra les données de 2016 à 2023 inclue.  \n",
    "* Un appel à **read_wos(start_year = 2017, end_year = 2018)** renverra les données de 2017 à 2018 inclue.  \n",
    "\n",
    "On crée une liste vide (wos_per_year) dans laquelle on stockera après les données de toutes les années grâce à la boucle **for**.\n",
    "\n",
    "La liste vide wos_per_year est remplie à chaque tour de boucle grâce à la méthode **append**.  \n",
    "Pour avoir la liste de toutes les données sans tri par année, on concatène les fichiers grâce à **pandas.concat**."
   ]
  },
  {
   "cell_type": "code",
   "execution_count": 5,
   "metadata": {},
   "outputs": [],
   "source": [
    "def read_wos(start_year = 2016, end_year = 2022):\n",
    "    wos_per_year = []\n",
    "    for year in range (start_year, (end_year + 1)):\n",
    "        wos_df = pd.read_csv(\n",
    "            f\"Data/raw/{year}/wos_{etabl}_{year}.txt\", \n",
    "            sep=\"\\t\",\n",
    "            quoting=csv.QUOTE_NONE, \n",
    "            index_col=False, \n",
    "            usecols=['DI'],\n",
    "            encoding=\"utf8\",\n",
    "        )\n",
    "        wos_per_year.append(wos_df)\n",
    "\n",
    "    full_wos = pd.concat(wos_per_year, ignore_index = True)\n",
    "    \n",
    "    return full_wos.rename(columns={'DI':\"doi\"})"
   ]
  },
  {
   "cell_type": "code",
   "execution_count": 6,
   "metadata": {},
   "outputs": [],
   "source": [
    "wos_df = read_wos(end_year = annee)"
   ]
  },
  {
   "cell_type": "code",
   "execution_count": 7,
   "metadata": {},
   "outputs": [
    {
     "data": {
      "text/html": [
       "<div>\n",
       "<style scoped>\n",
       "    .dataframe tbody tr th:only-of-type {\n",
       "        vertical-align: middle;\n",
       "    }\n",
       "\n",
       "    .dataframe tbody tr th {\n",
       "        vertical-align: top;\n",
       "    }\n",
       "\n",
       "    .dataframe thead th {\n",
       "        text-align: right;\n",
       "    }\n",
       "</style>\n",
       "<table border=\"1\" class=\"dataframe\">\n",
       "  <thead>\n",
       "    <tr style=\"text-align: right;\">\n",
       "      <th></th>\n",
       "      <th>doi</th>\n",
       "    </tr>\n",
       "  </thead>\n",
       "  <tbody>\n",
       "    <tr>\n",
       "      <th>0</th>\n",
       "      <td>10.1016/j.ijpharm.2016.10.016</td>\n",
       "    </tr>\n",
       "    <tr>\n",
       "      <th>1</th>\n",
       "      <td>10.1371/journal.pone.0168548</td>\n",
       "    </tr>\n",
       "    <tr>\n",
       "      <th>2</th>\n",
       "      <td>10.1103/PhysRevE.94.062413</td>\n",
       "    </tr>\n",
       "    <tr>\n",
       "      <th>3</th>\n",
       "      <td>10.1016/j.canlet.2016.09.030</td>\n",
       "    </tr>\n",
       "    <tr>\n",
       "      <th>4</th>\n",
       "      <td>10.3389/fimmu.2016.00646</td>\n",
       "    </tr>\n",
       "    <tr>\n",
       "      <th>...</th>\n",
       "      <td>...</td>\n",
       "    </tr>\n",
       "    <tr>\n",
       "      <th>135585</th>\n",
       "      <td>10.1080/15592294.2020.1864171</td>\n",
       "    </tr>\n",
       "    <tr>\n",
       "      <th>135586</th>\n",
       "      <td>10.1007/s12603-020-1547-5</td>\n",
       "    </tr>\n",
       "    <tr>\n",
       "      <th>135587</th>\n",
       "      <td>10.1002/hbm.25206</td>\n",
       "    </tr>\n",
       "    <tr>\n",
       "      <th>135588</th>\n",
       "      <td>10.1002/hbm.25098</td>\n",
       "    </tr>\n",
       "    <tr>\n",
       "      <th>135589</th>\n",
       "      <td>10.1002/hbm.24998</td>\n",
       "    </tr>\n",
       "  </tbody>\n",
       "</table>\n",
       "<p>135590 rows × 1 columns</p>\n",
       "</div>"
      ],
      "text/plain": [
       "                                  doi\n",
       "0       10.1016/j.ijpharm.2016.10.016\n",
       "1        10.1371/journal.pone.0168548\n",
       "2          10.1103/PhysRevE.94.062413\n",
       "3        10.1016/j.canlet.2016.09.030\n",
       "4            10.3389/fimmu.2016.00646\n",
       "...                               ...\n",
       "135585  10.1080/15592294.2020.1864171\n",
       "135586      10.1007/s12603-020-1547-5\n",
       "135587              10.1002/hbm.25206\n",
       "135588              10.1002/hbm.25098\n",
       "135589              10.1002/hbm.24998\n",
       "\n",
       "[135590 rows x 1 columns]"
      ]
     },
     "execution_count": 7,
     "metadata": {},
     "output_type": "execute_result"
    }
   ],
   "source": [
    "wos_df"
   ]
  },
  {
   "cell_type": "markdown",
   "metadata": {},
   "source": [
    "Vérifier que le chiffre total obtenu ici correspond bien au chiffre trouvé dans le Web of Science pour toutes les années. Ne pas hésiter à refaire les extractions d'années précédentes si les chiffres ne correspondent pas : il peut y avoir de nouvelles publications indexées dans le Web of Science."
   ]
  },
  {
   "cell_type": "markdown",
   "metadata": {},
   "source": [
    "### Identifier les cellules qui n'ont pas de DOI"
   ]
  },
  {
   "cell_type": "markdown",
   "metadata": {},
   "source": [
    "Trouver le nombre de lignes qui n'ont pas de DOI :"
   ]
  },
  {
   "cell_type": "code",
   "execution_count": 8,
   "metadata": {
    "scrolled": true
   },
   "outputs": [
    {
     "data": {
      "text/plain": [
       "13404"
      ]
     },
     "execution_count": 8,
     "metadata": {},
     "output_type": "execute_result"
    }
   ],
   "source": [
    "num_wos_sans_doi = wos_df[\"doi\"].isna().sum()\n",
    "num_wos_sans_doi"
   ]
  },
  {
   "cell_type": "markdown",
   "metadata": {},
   "source": [
    "Trouver le nombre de lignes qui ont un DOI correctement formé: utiliser la méthode **match** pour compter le nombre de string commencant par \"10.\" :"
   ]
  },
  {
   "cell_type": "code",
   "execution_count": 9,
   "metadata": {},
   "outputs": [
    {
     "data": {
      "text/plain": [
       "122186"
      ]
     },
     "execution_count": 9,
     "metadata": {},
     "output_type": "execute_result"
    }
   ],
   "source": [
    "num_wos_avec_doi = wos_df[\"doi\"].str.match(\"10.\").sum()\n",
    "num_wos_avec_doi"
   ]
  },
  {
   "cell_type": "markdown",
   "metadata": {},
   "source": [
    "Vérifier le nombre de lignes total :"
   ]
  },
  {
   "cell_type": "code",
   "execution_count": 10,
   "metadata": {},
   "outputs": [
    {
     "data": {
      "text/plain": [
       "135590"
      ]
     },
     "execution_count": 10,
     "metadata": {},
     "output_type": "execute_result"
    }
   ],
   "source": [
    "wos_df.size"
   ]
  },
  {
   "cell_type": "markdown",
   "metadata": {},
   "source": [
    "On veut s'assurer que le total de nombre de lignes sans DOI et avec DOI correctement formés, correspondent au nombre total de lignes lues dans le ficher. \n",
    "\n",
    "On utilise la méthode : **assert**. Si aucune erreur n'est renvoyée, c'est que les deux valeurs comparées sont identiques."
   ]
  },
  {
   "cell_type": "code",
   "execution_count": 11,
   "metadata": {},
   "outputs": [],
   "source": [
    "expected = wos_df[\"doi\"].size\n",
    "actual = num_wos_sans_doi + num_wos_avec_doi\n",
    "\n",
    "assert(expected == actual)"
   ]
  },
  {
   "cell_type": "markdown",
   "metadata": {},
   "source": [
    " <span style=\"color:green\"> **Les données du WoS sont à présent nettoyées et stockées dans la variable intitulée \"wos_df\".** </span>"
   ]
  },
  {
   "cell_type": "markdown",
   "metadata": {},
   "source": [
    "## <span style=\"color:orange\">Nettoyer les données issues de Pubmed</span>"
   ]
  },
  {
   "cell_type": "markdown",
   "metadata": {},
   "source": [
    "### Comprendre comment est structuré le fichier"
   ]
  },
  {
   "cell_type": "code",
   "execution_count": 12,
   "metadata": {},
   "outputs": [],
   "source": [
    "with open(f\"Data/raw/{annee}/pubmed_{etabl}_{annee}.csv\", encoding='utf-8') as f:\n",
    "    pubmed_string = f.read()"
   ]
  },
  {
   "cell_type": "code",
   "execution_count": 13,
   "metadata": {},
   "outputs": [
    {
     "data": {
      "text/plain": [
       "'35057580,Effects of Coffee on the Gastro-Intestinal Tract: A Narrative Review and Literature Update,Nehlig A.,Nutrients. 2022 Jan 17;14(2):399. doi: 10.3390/nu14020399.,Nehlig A,Nutrients,2022,2022/01/21,PMC8778943,,10.3390/nu14020399'"
      ]
     },
     "execution_count": 13,
     "metadata": {},
     "output_type": "execute_result"
    }
   ],
   "source": [
    "pubmed_string.split(\"\\n\")[1]"
   ]
  },
  {
   "cell_type": "code",
   "execution_count": 14,
   "metadata": {},
   "outputs": [],
   "source": [
    "pubmed_df = pd.read_csv(f\"Data/raw/{annee}/pubmed_{etabl}_{annee}.csv\", encoding='utf-8')"
   ]
  },
  {
   "cell_type": "code",
   "execution_count": 15,
   "metadata": {},
   "outputs": [
    {
     "data": {
      "text/plain": [
       "Index(['PMID', 'Title', 'Authors', 'Citation', 'First Author', 'Journal/Book',\n",
       "       'Publication Year', 'Create Date', 'PMCID', 'NIHMS ID', 'DOI'],\n",
       "      dtype='object')"
      ]
     },
     "execution_count": 15,
     "metadata": {},
     "output_type": "execute_result"
    }
   ],
   "source": [
    "pubmed_df.columns"
   ]
  },
  {
   "cell_type": "markdown",
   "metadata": {},
   "source": [
    "**Il y a bien une colonne qui s'appelle \"DOI\", elle va être interrogée pour trouver directement les DOI.**\n"
   ]
  },
  {
   "cell_type": "code",
   "execution_count": 16,
   "metadata": {},
   "outputs": [],
   "source": [
    "def read_pubmed(start_year = 2016, end_year = 2022):\n",
    "    pubmed_per_year = []\n",
    "    for year in range (start_year, (end_year + 1)):\n",
    "        pubmed_df = pd.read_csv(\n",
    "            f\"Data/raw/{year}/pubmed_{etabl}_{year}.csv\",\n",
    "            sep=\",\", \n",
    "            encoding='utf-8',\n",
    "            usecols=['DOI'],\n",
    "        )\n",
    "        pubmed_per_year.append(pubmed_df)\n",
    "    \n",
    "    full_pubmed = pd.concat(pubmed_per_year, ignore_index = True)\n",
    "    return full_pubmed.rename(columns={'DOI':\"doi\"})"
   ]
  },
  {
   "cell_type": "code",
   "execution_count": 17,
   "metadata": {},
   "outputs": [],
   "source": [
    "pubmed_df = read_pubmed(end_year = annee)"
   ]
  },
  {
   "cell_type": "code",
   "execution_count": 18,
   "metadata": {},
   "outputs": [
    {
     "data": {
      "text/html": [
       "<div>\n",
       "<style scoped>\n",
       "    .dataframe tbody tr th:only-of-type {\n",
       "        vertical-align: middle;\n",
       "    }\n",
       "\n",
       "    .dataframe tbody tr th {\n",
       "        vertical-align: top;\n",
       "    }\n",
       "\n",
       "    .dataframe thead th {\n",
       "        text-align: right;\n",
       "    }\n",
       "</style>\n",
       "<table border=\"1\" class=\"dataframe\">\n",
       "  <thead>\n",
       "    <tr style=\"text-align: right;\">\n",
       "      <th></th>\n",
       "      <th>doi</th>\n",
       "    </tr>\n",
       "  </thead>\n",
       "  <tbody>\n",
       "    <tr>\n",
       "      <th>0</th>\n",
       "      <td>10.1016/j.cell.2016.01.043</td>\n",
       "    </tr>\n",
       "    <tr>\n",
       "      <th>1</th>\n",
       "      <td>10.1111/liv.13022</td>\n",
       "    </tr>\n",
       "    <tr>\n",
       "      <th>2</th>\n",
       "      <td>10.3390/nu8050254</td>\n",
       "    </tr>\n",
       "    <tr>\n",
       "      <th>3</th>\n",
       "      <td>10.1186/s13326-016-0078-9</td>\n",
       "    </tr>\n",
       "    <tr>\n",
       "      <th>4</th>\n",
       "      <td>10.1101/cshperspect.a022764</td>\n",
       "    </tr>\n",
       "    <tr>\n",
       "      <th>...</th>\n",
       "      <td>...</td>\n",
       "    </tr>\n",
       "    <tr>\n",
       "      <th>155415</th>\n",
       "      <td>10.1007/s00705-022-05546-z</td>\n",
       "    </tr>\n",
       "    <tr>\n",
       "      <th>155416</th>\n",
       "      <td>10.1016/j.phymed.2022.154520</td>\n",
       "    </tr>\n",
       "    <tr>\n",
       "      <th>155417</th>\n",
       "      <td>10.1038/s41586-022-05300-0</td>\n",
       "    </tr>\n",
       "    <tr>\n",
       "      <th>155418</th>\n",
       "      <td>10.1016/j.jad.2022.12.022</td>\n",
       "    </tr>\n",
       "    <tr>\n",
       "      <th>155419</th>\n",
       "      <td>10.1212/WNL.0000000000201426</td>\n",
       "    </tr>\n",
       "  </tbody>\n",
       "</table>\n",
       "<p>155420 rows × 1 columns</p>\n",
       "</div>"
      ],
      "text/plain": [
       "                                 doi\n",
       "0         10.1016/j.cell.2016.01.043\n",
       "1                  10.1111/liv.13022\n",
       "2                  10.3390/nu8050254\n",
       "3          10.1186/s13326-016-0078-9\n",
       "4        10.1101/cshperspect.a022764\n",
       "...                              ...\n",
       "155415    10.1007/s00705-022-05546-z\n",
       "155416  10.1016/j.phymed.2022.154520\n",
       "155417    10.1038/s41586-022-05300-0\n",
       "155418     10.1016/j.jad.2022.12.022\n",
       "155419  10.1212/WNL.0000000000201426\n",
       "\n",
       "[155420 rows x 1 columns]"
      ]
     },
     "execution_count": 18,
     "metadata": {},
     "output_type": "execute_result"
    }
   ],
   "source": [
    "pubmed_df"
   ]
  },
  {
   "cell_type": "markdown",
   "metadata": {},
   "source": [
    "### Vérifier qu'il ne manque pas de DOI"
   ]
  },
  {
   "cell_type": "code",
   "execution_count": 19,
   "metadata": {},
   "outputs": [
    {
     "data": {
      "text/plain": [
       "727"
      ]
     },
     "execution_count": 19,
     "metadata": {},
     "output_type": "execute_result"
    }
   ],
   "source": [
    "num_pubmed_sans_doi = pubmed_df[\"doi\"].isna().sum()\n",
    "num_pubmed_sans_doi"
   ]
  },
  {
   "cell_type": "code",
   "execution_count": 20,
   "metadata": {},
   "outputs": [
    {
     "data": {
      "text/plain": [
       "154693"
      ]
     },
     "execution_count": 20,
     "metadata": {},
     "output_type": "execute_result"
    }
   ],
   "source": [
    "num_pubmed_avec_doi = pubmed_df[\"doi\"].str.match(\"10.\").sum()\n",
    "num_pubmed_avec_doi"
   ]
  },
  {
   "cell_type": "code",
   "execution_count": 21,
   "metadata": {},
   "outputs": [],
   "source": [
    "expected = pubmed_df.size\n",
    "actual = num_pubmed_sans_doi + num_pubmed_avec_doi\n",
    "\n",
    "assert(expected == actual)"
   ]
  },
  {
   "cell_type": "markdown",
   "metadata": {},
   "source": [
    " <span style=\"color:green\"> **Les données de Pubmed sont à présent nettoyées et stockées dans la variable intitulée \"pubmed_df\".** </span>"
   ]
  },
  {
   "cell_type": "markdown",
   "metadata": {},
   "source": [
    "## <span style=\"color:orange\">Ajouter les données de HAL</span>"
   ]
  },
  {
   "cell_type": "markdown",
   "metadata": {},
   "source": [
    "Grâce aux API, on peut récupérer une grande liste de DOI. Il peut être intéressant de refaire des extractions d'une année sur l'autre quand des campagnes de dépôt massif sont organisées, par exemple."
   ]
  },
  {
   "cell_type": "markdown",
   "metadata": {},
   "source": [
    "Ouvrir le fichier et concaténer les différentes années (mettre \"2022\" dans le code quand les données de 2021 seront injectées) :"
   ]
  },
  {
   "cell_type": "code",
   "execution_count": 22,
   "metadata": {},
   "outputs": [],
   "source": [
    "def read_hal(start_year = 2016, end_year = 2022):\n",
    "    hal_per_year = []\n",
    "    for year in range (start_year, (end_year + 1)):\n",
    "        hal_df = pd.read_csv(\n",
    "            f\"Data/raw/{year}/hal_{etabl}_{year}.csv\", \n",
    "            sep=\"\\t\", \n",
    "            encoding='latin-1')\n",
    "        hal_per_year.append(hal_df)\n",
    "    \n",
    "    return pd.concat(hal_per_year, ignore_index = True)"
   ]
  },
  {
   "cell_type": "code",
   "execution_count": 23,
   "metadata": {},
   "outputs": [],
   "source": [
    "hal_df = read_hal(end_year = annee)"
   ]
  },
  {
   "cell_type": "code",
   "execution_count": 24,
   "metadata": {},
   "outputs": [
    {
     "data": {
      "text/html": [
       "<div>\n",
       "<style scoped>\n",
       "    .dataframe tbody tr th:only-of-type {\n",
       "        vertical-align: middle;\n",
       "    }\n",
       "\n",
       "    .dataframe tbody tr th {\n",
       "        vertical-align: top;\n",
       "    }\n",
       "\n",
       "    .dataframe thead th {\n",
       "        text-align: right;\n",
       "    }\n",
       "</style>\n",
       "<table border=\"1\" class=\"dataframe\">\n",
       "  <thead>\n",
       "    <tr style=\"text-align: right;\">\n",
       "      <th></th>\n",
       "      <th>doi</th>\n",
       "    </tr>\n",
       "  </thead>\n",
       "  <tbody>\n",
       "    <tr>\n",
       "      <th>0</th>\n",
       "      <td>10.1038/mi.2016.68</td>\n",
       "    </tr>\n",
       "    <tr>\n",
       "      <th>1</th>\n",
       "      <td>10.19070/2377-1887-SI01002</td>\n",
       "    </tr>\n",
       "    <tr>\n",
       "      <th>2</th>\n",
       "      <td>10.1091/mbc.E15-03-0137</td>\n",
       "    </tr>\n",
       "    <tr>\n",
       "      <th>3</th>\n",
       "      <td>10.1523/JNEUROSCI.3379-15.2016</td>\n",
       "    </tr>\n",
       "    <tr>\n",
       "      <th>4</th>\n",
       "      <td>10.1038/srep33518</td>\n",
       "    </tr>\n",
       "    <tr>\n",
       "      <th>...</th>\n",
       "      <td>...</td>\n",
       "    </tr>\n",
       "    <tr>\n",
       "      <th>34479</th>\n",
       "      <td>10.1186/s13148-022-01364-x</td>\n",
       "    </tr>\n",
       "    <tr>\n",
       "      <th>34480</th>\n",
       "      <td>10.3389/fninf.2022.803934</td>\n",
       "    </tr>\n",
       "    <tr>\n",
       "      <th>34481</th>\n",
       "      <td>10.1210/clinem/dgac512</td>\n",
       "    </tr>\n",
       "    <tr>\n",
       "      <th>34482</th>\n",
       "      <td>10.1371/journal.ppat.1010799</td>\n",
       "    </tr>\n",
       "    <tr>\n",
       "      <th>34483</th>\n",
       "      <td>10.15252/embj.2021108306</td>\n",
       "    </tr>\n",
       "  </tbody>\n",
       "</table>\n",
       "<p>34484 rows × 1 columns</p>\n",
       "</div>"
      ],
      "text/plain": [
       "                                  doi\n",
       "0                  10.1038/mi.2016.68\n",
       "1          10.19070/2377-1887-SI01002\n",
       "2             10.1091/mbc.E15-03-0137\n",
       "3      10.1523/JNEUROSCI.3379-15.2016\n",
       "4                   10.1038/srep33518\n",
       "...                               ...\n",
       "34479      10.1186/s13148-022-01364-x\n",
       "34480       10.3389/fninf.2022.803934\n",
       "34481          10.1210/clinem/dgac512\n",
       "34482    10.1371/journal.ppat.1010799\n",
       "34483        10.15252/embj.2021108306\n",
       "\n",
       "[34484 rows x 1 columns]"
      ]
     },
     "execution_count": 24,
     "metadata": {},
     "output_type": "execute_result"
    }
   ],
   "source": [
    "hal_df"
   ]
  },
  {
   "cell_type": "markdown",
   "metadata": {},
   "source": [
    " <span style=\"color:green\"> **Les données de HAL sont à présent nettoyées et stockées dans la variable intitulée \"hal_df\".** </span>"
   ]
  },
  {
   "cell_type": "markdown",
   "metadata": {},
   "source": [
    "## <span style=\"color:orange\">Rassembler les 3 listes de DOI (WoS, PubMed, HAL) et enlever les doublons</span>"
   ]
  },
  {
   "cell_type": "markdown",
   "metadata": {},
   "source": [
    "### Concaténer les 3 listes de données"
   ]
  },
  {
   "cell_type": "code",
   "execution_count": 25,
   "metadata": {},
   "outputs": [
    {
     "data": {
      "text/html": [
       "<div>\n",
       "<style scoped>\n",
       "    .dataframe tbody tr th:only-of-type {\n",
       "        vertical-align: middle;\n",
       "    }\n",
       "\n",
       "    .dataframe tbody tr th {\n",
       "        vertical-align: top;\n",
       "    }\n",
       "\n",
       "    .dataframe thead th {\n",
       "        text-align: right;\n",
       "    }\n",
       "</style>\n",
       "<table border=\"1\" class=\"dataframe\">\n",
       "  <thead>\n",
       "    <tr style=\"text-align: right;\">\n",
       "      <th></th>\n",
       "      <th>doi</th>\n",
       "    </tr>\n",
       "  </thead>\n",
       "  <tbody>\n",
       "    <tr>\n",
       "      <th>0</th>\n",
       "      <td>10.1016/j.ijpharm.2016.10.016</td>\n",
       "    </tr>\n",
       "    <tr>\n",
       "      <th>1</th>\n",
       "      <td>10.1371/journal.pone.0168548</td>\n",
       "    </tr>\n",
       "    <tr>\n",
       "      <th>2</th>\n",
       "      <td>10.1103/PhysRevE.94.062413</td>\n",
       "    </tr>\n",
       "    <tr>\n",
       "      <th>3</th>\n",
       "      <td>10.1016/j.canlet.2016.09.030</td>\n",
       "    </tr>\n",
       "    <tr>\n",
       "      <th>4</th>\n",
       "      <td>10.3389/fimmu.2016.00646</td>\n",
       "    </tr>\n",
       "    <tr>\n",
       "      <th>...</th>\n",
       "      <td>...</td>\n",
       "    </tr>\n",
       "    <tr>\n",
       "      <th>325489</th>\n",
       "      <td>10.1186/s13148-022-01364-x</td>\n",
       "    </tr>\n",
       "    <tr>\n",
       "      <th>325490</th>\n",
       "      <td>10.3389/fninf.2022.803934</td>\n",
       "    </tr>\n",
       "    <tr>\n",
       "      <th>325491</th>\n",
       "      <td>10.1210/clinem/dgac512</td>\n",
       "    </tr>\n",
       "    <tr>\n",
       "      <th>325492</th>\n",
       "      <td>10.1371/journal.ppat.1010799</td>\n",
       "    </tr>\n",
       "    <tr>\n",
       "      <th>325493</th>\n",
       "      <td>10.15252/embj.2021108306</td>\n",
       "    </tr>\n",
       "  </tbody>\n",
       "</table>\n",
       "<p>325494 rows × 1 columns</p>\n",
       "</div>"
      ],
      "text/plain": [
       "                                  doi\n",
       "0       10.1016/j.ijpharm.2016.10.016\n",
       "1        10.1371/journal.pone.0168548\n",
       "2          10.1103/PhysRevE.94.062413\n",
       "3        10.1016/j.canlet.2016.09.030\n",
       "4            10.3389/fimmu.2016.00646\n",
       "...                               ...\n",
       "325489     10.1186/s13148-022-01364-x\n",
       "325490      10.3389/fninf.2022.803934\n",
       "325491         10.1210/clinem/dgac512\n",
       "325492   10.1371/journal.ppat.1010799\n",
       "325493       10.15252/embj.2021108306\n",
       "\n",
       "[325494 rows x 1 columns]"
      ]
     },
     "execution_count": 25,
     "metadata": {},
     "output_type": "execute_result"
    }
   ],
   "source": [
    "all_df = pd.concat([wos_df, pubmed_df, hal_df], ignore_index = True)\n",
    "all_df"
   ]
  },
  {
   "cell_type": "markdown",
   "metadata": {},
   "source": [
    "### Enlever les lignes sans DOI"
   ]
  },
  {
   "cell_type": "markdown",
   "metadata": {},
   "source": [
    "Le résultat correspond à la concaténation de toutes les lignes des 3 fichiers, y compris celles qui ne comprennent pas de DOI.  \n",
    "On supprime ces lignes sans DOI avec la fonction: **dropna**.  "
   ]
  },
  {
   "cell_type": "code",
   "execution_count": 26,
   "metadata": {},
   "outputs": [
    {
     "name": "stdout",
     "output_type": "stream",
     "text": [
      "<class 'pandas.core.frame.DataFrame'>\n",
      "RangeIndex: 311363 entries, 0 to 311362\n",
      "Data columns (total 1 columns):\n",
      " #   Column  Non-Null Count   Dtype \n",
      "---  ------  --------------   ----- \n",
      " 0   doi     311363 non-null  object\n",
      "dtypes: object(1)\n",
      "memory usage: 2.4+ MB\n"
     ]
    }
   ],
   "source": [
    "all_df.dropna(subset = [\"doi\"], inplace = True, ignore_index = True)\n",
    "all_df.info()"
   ]
  },
  {
   "cell_type": "markdown",
   "metadata": {},
   "source": [
    "Nous avons ici la liste de tous les DOI recensés dans nos 3 sources d'information. Mais attention, il peut y avoir des doublons : les DOI peuvent notamment être écrits en minuscules comme en majuscules."
   ]
  },
  {
   "cell_type": "markdown",
   "metadata": {},
   "source": [
    "### Enlever les doublons"
   ]
  },
  {
   "cell_type": "markdown",
   "metadata": {},
   "source": [
    "Avant d'enlever les doublons, il faut normaliser les DOI et tous les passer en minuscules."
   ]
  },
  {
   "cell_type": "code",
   "execution_count": 27,
   "metadata": {},
   "outputs": [],
   "source": [
    "all_df[\"doi\"] = all_df[\"doi\"].str.lower()"
   ]
  },
  {
   "cell_type": "markdown",
   "metadata": {},
   "source": [
    "Après avoir passé l'ensemble de la DataFrame en minuscules, on peut enlever les doublons."
   ]
  },
  {
   "cell_type": "code",
   "execution_count": 28,
   "metadata": {},
   "outputs": [],
   "source": [
    "doi_inserm_final = all_df.drop_duplicates(ignore_index = True)"
   ]
  },
  {
   "cell_type": "code",
   "execution_count": 29,
   "metadata": {},
   "outputs": [
    {
     "name": "stdout",
     "output_type": "stream",
     "text": [
      "Taille avec doublons: 311363\n",
      "Taille sans doublons: 136469\n",
      "Pourcentage de doublons: 56.17%\n"
     ]
    }
   ],
   "source": [
    "print(f'Taille avec doublons: {all_df.size}')\n",
    "print(f'Taille sans doublons: {doi_inserm_final.size}')\n",
    "print(f'Pourcentage de doublons: {(all_df.size - doi_inserm_final.size) / all_df.size:.2%}')"
   ]
  },
  {
   "cell_type": "code",
   "execution_count": 30,
   "metadata": {},
   "outputs": [
    {
     "data": {
      "text/html": [
       "<div>\n",
       "<style scoped>\n",
       "    .dataframe tbody tr th:only-of-type {\n",
       "        vertical-align: middle;\n",
       "    }\n",
       "\n",
       "    .dataframe tbody tr th {\n",
       "        vertical-align: top;\n",
       "    }\n",
       "\n",
       "    .dataframe thead th {\n",
       "        text-align: right;\n",
       "    }\n",
       "</style>\n",
       "<table border=\"1\" class=\"dataframe\">\n",
       "  <thead>\n",
       "    <tr style=\"text-align: right;\">\n",
       "      <th></th>\n",
       "      <th>doi</th>\n",
       "    </tr>\n",
       "  </thead>\n",
       "  <tbody>\n",
       "    <tr>\n",
       "      <th>0</th>\n",
       "      <td>10.1016/j.ijpharm.2016.10.016</td>\n",
       "    </tr>\n",
       "    <tr>\n",
       "      <th>1</th>\n",
       "      <td>10.1371/journal.pone.0168548</td>\n",
       "    </tr>\n",
       "    <tr>\n",
       "      <th>2</th>\n",
       "      <td>10.1103/physreve.94.062413</td>\n",
       "    </tr>\n",
       "    <tr>\n",
       "      <th>3</th>\n",
       "      <td>10.1016/j.canlet.2016.09.030</td>\n",
       "    </tr>\n",
       "    <tr>\n",
       "      <th>4</th>\n",
       "      <td>10.3389/fimmu.2016.00646</td>\n",
       "    </tr>\n",
       "    <tr>\n",
       "      <th>...</th>\n",
       "      <td>...</td>\n",
       "    </tr>\n",
       "    <tr>\n",
       "      <th>136464</th>\n",
       "      <td>10.1126/science.abm5847</td>\n",
       "    </tr>\n",
       "    <tr>\n",
       "      <th>136465</th>\n",
       "      <td>10.1002/ajpa.24629</td>\n",
       "    </tr>\n",
       "    <tr>\n",
       "      <th>136466</th>\n",
       "      <td>10.1093/ve/veac097</td>\n",
       "    </tr>\n",
       "    <tr>\n",
       "      <th>136467</th>\n",
       "      <td>10.1126/science.abm0151</td>\n",
       "    </tr>\n",
       "    <tr>\n",
       "      <th>136468</th>\n",
       "      <td>10.1111/1462-2920.16171</td>\n",
       "    </tr>\n",
       "  </tbody>\n",
       "</table>\n",
       "<p>136469 rows × 1 columns</p>\n",
       "</div>"
      ],
      "text/plain": [
       "                                  doi\n",
       "0       10.1016/j.ijpharm.2016.10.016\n",
       "1        10.1371/journal.pone.0168548\n",
       "2          10.1103/physreve.94.062413\n",
       "3        10.1016/j.canlet.2016.09.030\n",
       "4            10.3389/fimmu.2016.00646\n",
       "...                               ...\n",
       "136464        10.1126/science.abm5847\n",
       "136465             10.1002/ajpa.24629\n",
       "136466             10.1093/ve/veac097\n",
       "136467        10.1126/science.abm0151\n",
       "136468        10.1111/1462-2920.16171\n",
       "\n",
       "[136469 rows x 1 columns]"
      ]
     },
     "execution_count": 30,
     "metadata": {},
     "output_type": "execute_result"
    }
   ],
   "source": [
    "doi_inserm_final"
   ]
  },
  {
   "cell_type": "code",
   "execution_count": 31,
   "metadata": {},
   "outputs": [
    {
     "name": "stdout",
     "output_type": "stream",
     "text": [
      "On obtient 136469 DOI pour la période 2016-2022\n"
     ]
    }
   ],
   "source": [
    "print(f'On obtient {doi_inserm_final.size} DOI pour la période 2016-{annee}')"
   ]
  },
  {
   "cell_type": "markdown",
   "metadata": {},
   "source": [
    "### Créer dans le dossier \"outputs\" un fichier CSV avec la liste des DOI"
   ]
  },
  {
   "cell_type": "code",
   "execution_count": 32,
   "metadata": {
    "tags": []
   },
   "outputs": [],
   "source": [
    "doi_inserm_final.to_csv(f\"Data\\outputs\\last_doi_{etabl}_2016_{annee}.csv\", index = False)"
   ]
  },
  {
   "cell_type": "markdown",
   "metadata": {},
   "source": [
    "Pour obtenir cette liste dans un format Excel classique, saisir le code suivant."
   ]
  },
  {
   "cell_type": "code",
   "execution_count": 33,
   "metadata": {},
   "outputs": [],
   "source": [
    "doi_inserm_final.to_excel(f\"Data\\outputs\\last_doi_{etabl}_2016_{annee}.xlsx\", index = False)"
   ]
  }
 ],
 "metadata": {
  "kernelspec": {
   "display_name": "Python 3 (ipykernel)",
   "language": "python",
   "name": "python3"
  },
  "language_info": {
   "codemirror_mode": {
    "name": "ipython",
    "version": 3
   },
   "file_extension": ".py",
   "mimetype": "text/x-python",
   "name": "python",
   "nbconvert_exporter": "python",
   "pygments_lexer": "ipython3",
   "version": "3.11.5"
  }
 },
 "nbformat": 4,
 "nbformat_minor": 4
}
