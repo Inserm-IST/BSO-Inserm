{
 "cells": [
  {
   "cell_type": "markdown",
   "metadata": {},
   "source": [
    "# <span style=\"color:orange\">Appliquer le code du Baromètre de la Science Ouverte aux données de l'Inserm</span>"
   ]
  },
  {
   "cell_type": "markdown",
   "metadata": {},
   "source": [
    "Après réception du fichier csv contenant la liste de DOI enrichie (ajout du titre, des auteurs, de l'année, du statut open access...) de la part du MESRI, les graphiques peuvent être générés directement depuis le Baromètre national (voir le mode d'emploi sur la partie \"déclinaisons locales\" du site web du BSO national).\n",
    "Néanmoins, à partir de ce fichier, certains graphiques réalisés pour le Baromètre Inserm peuvent toujours être générés et mis à jour en suivant ce code.\n",
    "Il suffit de remplacer \"inserm\" par le nom de son établissement à l'intérieur du code.\n",
    "\n",
    "Les résultats obtenus ici sont le reflet de la situation d'ouverture des publications en décembre 2021, date à laquelle les dernières extractions ont été réalisées. Le Baromètre national et, par extension, ses déclinaisons locales depuis le portail national, étant mis à jour régulièrement, les taux affichés sur les graphiques ci-dessous sont obsolètes."
   ]
  },
  {
   "cell_type": "code",
   "execution_count": 1,
   "metadata": {},
   "outputs": [],
   "source": [
    "import pandas as pd"
   ]
  },
  {
   "cell_type": "code",
   "execution_count": 2,
   "metadata": {},
   "outputs": [],
   "source": [
    "import csv"
   ]
  },
  {
   "cell_type": "code",
   "execution_count": 3,
   "metadata": {},
   "outputs": [],
   "source": [
    "%matplotlib inline\n",
    "import pandas as pd\n",
    "import matplotlib\n",
    "import matplotlib.pyplot as plt\n",
    "import numpy as np"
   ]
  },
  {
   "cell_type": "markdown",
   "metadata": {},
   "source": [
    "## <span style=\"color:orange\">Importer dans le notebook les données préalablement traitées</span>"
   ]
  },
  {
   "cell_type": "code",
   "execution_count": 4,
   "metadata": {},
   "outputs": [],
   "source": [
    "publis_inserm_df = pd.read_csv(\"Data/outputs/bso-publications-latest_180036048_enriched.csv\",sep=\";\")"
   ]
  },
  {
   "cell_type": "markdown",
   "metadata": {},
   "source": [
    "## <span style=\"color:orange\">Générer les graphiques</span>"
   ]
  },
  {
   "cell_type": "markdown",
   "metadata": {},
   "source": [
    "Les graphiques présents sur le site du Baromètre national ont été écrits en JavaScript. Afin de rendre plus facile l'utilisation de ce Baromètre local, la génération des graphiques a été ici pensée en Python, grâce aux librairies Pandas et Matplotlib."
   ]
  },
  {
   "cell_type": "markdown",
   "metadata": {},
   "source": [
    "Proportion des publications 2020 en accès ouvert"
   ]
  },
  {
   "cell_type": "code",
   "execution_count": 5,
   "metadata": {},
   "outputs": [
    {
     "data": {
      "text/html": [
       "<div>\n",
       "<style scoped>\n",
       "    .dataframe tbody tr th:only-of-type {\n",
       "        vertical-align: middle;\n",
       "    }\n",
       "\n",
       "    .dataframe tbody tr th {\n",
       "        vertical-align: top;\n",
       "    }\n",
       "\n",
       "    .dataframe thead th {\n",
       "        text-align: right;\n",
       "    }\n",
       "</style>\n",
       "<table border=\"1\" class=\"dataframe\">\n",
       "  <thead>\n",
       "    <tr style=\"text-align: right;\">\n",
       "      <th></th>\n",
       "      <th>observation_date</th>\n",
       "      <th>id</th>\n",
       "      <th>doi</th>\n",
       "      <th>pmid</th>\n",
       "      <th>hal_id</th>\n",
       "      <th>year</th>\n",
       "      <th>title</th>\n",
       "      <th>journal_issns</th>\n",
       "      <th>journal_issn_l</th>\n",
       "      <th>journal_name</th>\n",
       "      <th>...</th>\n",
       "      <th>licence_repositories</th>\n",
       "      <th>repositories</th>\n",
       "      <th>software_mentions</th>\n",
       "      <th>data_mentions</th>\n",
       "      <th>software_used</th>\n",
       "      <th>software_created</th>\n",
       "      <th>software_shared</th>\n",
       "      <th>data_used</th>\n",
       "      <th>data_created</th>\n",
       "      <th>data_shared</th>\n",
       "    </tr>\n",
       "  </thead>\n",
       "  <tbody>\n",
       "    <tr>\n",
       "      <th>73</th>\n",
       "      <td>2022Q4</td>\n",
       "      <td>doi10.35848/1882-0786/ac3d1e</td>\n",
       "      <td>10.35848/1882-0786/ac3d1e</td>\n",
       "      <td>NaN</td>\n",
       "      <td>NaN</td>\n",
       "      <td>2021</td>\n",
       "      <td>Ultrafast phased-array imaging with pump excit...</td>\n",
       "      <td>1882-0778,1882-0786</td>\n",
       "      <td>1882-0778</td>\n",
       "      <td>Applied Physics Express</td>\n",
       "      <td>...</td>\n",
       "      <td>NaN</td>\n",
       "      <td>NaN</td>\n",
       "      <td>NaN</td>\n",
       "      <td>NaN</td>\n",
       "      <td>NaN</td>\n",
       "      <td>NaN</td>\n",
       "      <td>NaN</td>\n",
       "      <td>NaN</td>\n",
       "      <td>NaN</td>\n",
       "      <td>NaN</td>\n",
       "    </tr>\n",
       "    <tr>\n",
       "      <th>74</th>\n",
       "      <td>2022Q4</td>\n",
       "      <td>doi10.1007/s10096-021-04385-1</td>\n",
       "      <td>10.1007/s10096-021-04385-1</td>\n",
       "      <td>NaN</td>\n",
       "      <td>NaN</td>\n",
       "      <td>2021</td>\n",
       "      <td>Direct detection of extended-spectrum-β-lactam...</td>\n",
       "      <td>0934-9723,1435-4373</td>\n",
       "      <td>0934-9723</td>\n",
       "      <td>European Journal of Clinical Microbiology &amp;amp...</td>\n",
       "      <td>...</td>\n",
       "      <td>no license</td>\n",
       "      <td>PubMed Central;iris.unito.it</td>\n",
       "      <td>NaN</td>\n",
       "      <td>NaN</td>\n",
       "      <td>NaN</td>\n",
       "      <td>NaN</td>\n",
       "      <td>NaN</td>\n",
       "      <td>NaN</td>\n",
       "      <td>NaN</td>\n",
       "      <td>NaN</td>\n",
       "    </tr>\n",
       "    <tr>\n",
       "      <th>75</th>\n",
       "      <td>2022Q4</td>\n",
       "      <td>doi10.1016/j.banm.2021.10.002</td>\n",
       "      <td>10.1016/j.banm.2021.10.002</td>\n",
       "      <td>NaN</td>\n",
       "      <td>NaN</td>\n",
       "      <td>2021</td>\n",
       "      <td>Apprentissage de la chirurgie robotique : de n...</td>\n",
       "      <td>0001-4079</td>\n",
       "      <td>0001-4079</td>\n",
       "      <td>Bulletin de l'Académie Nationale de Médecine</td>\n",
       "      <td>...</td>\n",
       "      <td>NaN</td>\n",
       "      <td>NaN</td>\n",
       "      <td>NaN</td>\n",
       "      <td>NaN</td>\n",
       "      <td>NaN</td>\n",
       "      <td>NaN</td>\n",
       "      <td>NaN</td>\n",
       "      <td>NaN</td>\n",
       "      <td>NaN</td>\n",
       "      <td>NaN</td>\n",
       "    </tr>\n",
       "    <tr>\n",
       "      <th>76</th>\n",
       "      <td>2022Q4</td>\n",
       "      <td>doi10.1073/pnas.2115508118</td>\n",
       "      <td>10.1073/pnas.2115508118</td>\n",
       "      <td>NaN</td>\n",
       "      <td>NaN</td>\n",
       "      <td>2021</td>\n",
       "      <td>The Epstein–Barr virus noncoding RNA EBER2 tra...</td>\n",
       "      <td>0027-8424,1091-6490</td>\n",
       "      <td>0027-8424</td>\n",
       "      <td>Proceedings of the National Academy of Sciences</td>\n",
       "      <td>...</td>\n",
       "      <td>no license</td>\n",
       "      <td>PubMed Central</td>\n",
       "      <td>NaN</td>\n",
       "      <td>NaN</td>\n",
       "      <td>NaN</td>\n",
       "      <td>NaN</td>\n",
       "      <td>NaN</td>\n",
       "      <td>NaN</td>\n",
       "      <td>NaN</td>\n",
       "      <td>NaN</td>\n",
       "    </tr>\n",
       "    <tr>\n",
       "      <th>77</th>\n",
       "      <td>2022Q4</td>\n",
       "      <td>doi10.1109/tbme.2021.3056022</td>\n",
       "      <td>10.1109/tbme.2021.3056022</td>\n",
       "      <td>NaN</td>\n",
       "      <td>NaN</td>\n",
       "      <td>2021</td>\n",
       "      <td>A Parametric Study on Factors Influencing the ...</td>\n",
       "      <td>0018-9294,1558-2531</td>\n",
       "      <td>0018-9294</td>\n",
       "      <td>IEEE Transactions on Biomedical Engineering</td>\n",
       "      <td>...</td>\n",
       "      <td>NaN</td>\n",
       "      <td>NaN</td>\n",
       "      <td>NaN</td>\n",
       "      <td>NaN</td>\n",
       "      <td>NaN</td>\n",
       "      <td>NaN</td>\n",
       "      <td>NaN</td>\n",
       "      <td>NaN</td>\n",
       "      <td>NaN</td>\n",
       "      <td>NaN</td>\n",
       "    </tr>\n",
       "    <tr>\n",
       "      <th>...</th>\n",
       "      <td>...</td>\n",
       "      <td>...</td>\n",
       "      <td>...</td>\n",
       "      <td>...</td>\n",
       "      <td>...</td>\n",
       "      <td>...</td>\n",
       "      <td>...</td>\n",
       "      <td>...</td>\n",
       "      <td>...</td>\n",
       "      <td>...</td>\n",
       "      <td>...</td>\n",
       "      <td>...</td>\n",
       "      <td>...</td>\n",
       "      <td>...</td>\n",
       "      <td>...</td>\n",
       "      <td>...</td>\n",
       "      <td>...</td>\n",
       "      <td>...</td>\n",
       "      <td>...</td>\n",
       "      <td>...</td>\n",
       "      <td>...</td>\n",
       "    </tr>\n",
       "    <tr>\n",
       "      <th>108222</th>\n",
       "      <td>2022Q4</td>\n",
       "      <td>doi10.3389/fnins.2021.691244</td>\n",
       "      <td>10.3389/fnins.2021.691244</td>\n",
       "      <td>34321995.0</td>\n",
       "      <td>NaN</td>\n",
       "      <td>2021</td>\n",
       "      <td>MRI Radiomic Signature of White Matter Hyperin...</td>\n",
       "      <td>1662-453X</td>\n",
       "      <td>1662-453X</td>\n",
       "      <td>Frontiers in Neuroscience</td>\n",
       "      <td>...</td>\n",
       "      <td>cc-by</td>\n",
       "      <td>HELDA - Digital Repository of the University o...</td>\n",
       "      <td>learn;BestNormalize;PyRadiomics;ElasticNet</td>\n",
       "      <td>radiomics;images;Radiomic features;patients;Lo...</td>\n",
       "      <td>True</td>\n",
       "      <td>False</td>\n",
       "      <td>False</td>\n",
       "      <td>True</td>\n",
       "      <td>False</td>\n",
       "      <td>True</td>\n",
       "    </tr>\n",
       "    <tr>\n",
       "      <th>108223</th>\n",
       "      <td>2022Q4</td>\n",
       "      <td>doi10.1073/pnas.2102217118</td>\n",
       "      <td>10.1073/pnas.2102217118</td>\n",
       "      <td>34389672.0</td>\n",
       "      <td>hal-03360218</td>\n",
       "      <td>2021</td>\n",
       "      <td>Neural excitability increases with axonal resi...</td>\n",
       "      <td>0027-8424,1091-6490</td>\n",
       "      <td>0027-8424</td>\n",
       "      <td>Proceedings of the National Academy of Sciences</td>\n",
       "      <td>...</td>\n",
       "      <td>no license</td>\n",
       "      <td>HAL;PubMed Central;bioRxiv</td>\n",
       "      <td>ImageJ;ClampFit;software;LabView</td>\n",
       "      <td>Whole-cell recordings;AP threshold;axon;Electr...</td>\n",
       "      <td>True</td>\n",
       "      <td>False</td>\n",
       "      <td>False</td>\n",
       "      <td>True</td>\n",
       "      <td>False</td>\n",
       "      <td>False</td>\n",
       "    </tr>\n",
       "    <tr>\n",
       "      <th>108224</th>\n",
       "      <td>2022Q4</td>\n",
       "      <td>doi10.1038/s41436-021-01246-2</td>\n",
       "      <td>10.1038/s41436-021-01246-2</td>\n",
       "      <td>34345025.0</td>\n",
       "      <td>NaN</td>\n",
       "      <td>2021</td>\n",
       "      <td>Delineating the molecular and phenotypic spect...</td>\n",
       "      <td>1098-3600</td>\n",
       "      <td>1098-3600</td>\n",
       "      <td>Genetics in Medicine</td>\n",
       "      <td>...</td>\n",
       "      <td>cc-by</td>\n",
       "      <td>HELDA - Digital Repository of the University o...</td>\n",
       "      <td>Alamut;Pymol;Face2Gene</td>\n",
       "      <td>SETD1B;severity score;immunocytochemistry;Geno...</td>\n",
       "      <td>True</td>\n",
       "      <td>False</td>\n",
       "      <td>False</td>\n",
       "      <td>True</td>\n",
       "      <td>True</td>\n",
       "      <td>False</td>\n",
       "    </tr>\n",
       "    <tr>\n",
       "      <th>108225</th>\n",
       "      <td>2022Q4</td>\n",
       "      <td>doi10.1371/journal.ppat.1009427</td>\n",
       "      <td>10.1371/journal.ppat.1009427</td>\n",
       "      <td>34370799.0</td>\n",
       "      <td>anses-03387992</td>\n",
       "      <td>2021</td>\n",
       "      <td>Intranasal type I interferon treatment is bene...</td>\n",
       "      <td>1553-7374</td>\n",
       "      <td>1553-7366</td>\n",
       "      <td>PLOS Pathogens</td>\n",
       "      <td>...</td>\n",
       "      <td>cc-by</td>\n",
       "      <td>HAL;PubMed Central;bioRxiv</td>\n",
       "      <td>NaN</td>\n",
       "      <td>NaN</td>\n",
       "      <td>NaN</td>\n",
       "      <td>NaN</td>\n",
       "      <td>NaN</td>\n",
       "      <td>NaN</td>\n",
       "      <td>NaN</td>\n",
       "      <td>NaN</td>\n",
       "    </tr>\n",
       "    <tr>\n",
       "      <th>108232</th>\n",
       "      <td>2022Q4</td>\n",
       "      <td>doi10.1128/jvi.00912-21</td>\n",
       "      <td>10.1128/jvi.00912-21</td>\n",
       "      <td>34431698.0</td>\n",
       "      <td>hal-03341825</td>\n",
       "      <td>2021</td>\n",
       "      <td>Depletion of TAX1BP1 Amplifies Innate Immune R...</td>\n",
       "      <td>0022-538X,1098-5514</td>\n",
       "      <td>0022-538X</td>\n",
       "      <td>Journal of Virology</td>\n",
       "      <td>...</td>\n",
       "      <td>no license</td>\n",
       "      <td>HAL;PubMed Central;bioRxiv</td>\n",
       "      <td>GraphPad Prism;BLAST</td>\n",
       "      <td>cellular interactors;quantification of replica...</td>\n",
       "      <td>True</td>\n",
       "      <td>False</td>\n",
       "      <td>False</td>\n",
       "      <td>True</td>\n",
       "      <td>False</td>\n",
       "      <td>False</td>\n",
       "    </tr>\n",
       "  </tbody>\n",
       "</table>\n",
       "<p>21139 rows × 40 columns</p>\n",
       "</div>"
      ],
      "text/plain": [
       "       observation_date                               id  \\\n",
       "73               2022Q4     doi10.35848/1882-0786/ac3d1e   \n",
       "74               2022Q4    doi10.1007/s10096-021-04385-1   \n",
       "75               2022Q4    doi10.1016/j.banm.2021.10.002   \n",
       "76               2022Q4       doi10.1073/pnas.2115508118   \n",
       "77               2022Q4     doi10.1109/tbme.2021.3056022   \n",
       "...                 ...                              ...   \n",
       "108222           2022Q4     doi10.3389/fnins.2021.691244   \n",
       "108223           2022Q4       doi10.1073/pnas.2102217118   \n",
       "108224           2022Q4    doi10.1038/s41436-021-01246-2   \n",
       "108225           2022Q4  doi10.1371/journal.ppat.1009427   \n",
       "108232           2022Q4          doi10.1128/jvi.00912-21   \n",
       "\n",
       "                                 doi        pmid          hal_id  year  \\\n",
       "73         10.35848/1882-0786/ac3d1e         NaN             NaN  2021   \n",
       "74        10.1007/s10096-021-04385-1         NaN             NaN  2021   \n",
       "75        10.1016/j.banm.2021.10.002         NaN             NaN  2021   \n",
       "76           10.1073/pnas.2115508118         NaN             NaN  2021   \n",
       "77         10.1109/tbme.2021.3056022         NaN             NaN  2021   \n",
       "...                              ...         ...             ...   ...   \n",
       "108222     10.3389/fnins.2021.691244  34321995.0             NaN  2021   \n",
       "108223       10.1073/pnas.2102217118  34389672.0    hal-03360218  2021   \n",
       "108224    10.1038/s41436-021-01246-2  34345025.0             NaN  2021   \n",
       "108225  10.1371/journal.ppat.1009427  34370799.0  anses-03387992  2021   \n",
       "108232          10.1128/jvi.00912-21  34431698.0    hal-03341825  2021   \n",
       "\n",
       "                                                    title  \\\n",
       "73      Ultrafast phased-array imaging with pump excit...   \n",
       "74      Direct detection of extended-spectrum-β-lactam...   \n",
       "75      Apprentissage de la chirurgie robotique : de n...   \n",
       "76      The Epstein–Barr virus noncoding RNA EBER2 tra...   \n",
       "77      A Parametric Study on Factors Influencing the ...   \n",
       "...                                                   ...   \n",
       "108222  MRI Radiomic Signature of White Matter Hyperin...   \n",
       "108223  Neural excitability increases with axonal resi...   \n",
       "108224  Delineating the molecular and phenotypic spect...   \n",
       "108225  Intranasal type I interferon treatment is bene...   \n",
       "108232  Depletion of TAX1BP1 Amplifies Innate Immune R...   \n",
       "\n",
       "              journal_issns journal_issn_l  \\\n",
       "73      1882-0778,1882-0786      1882-0778   \n",
       "74      0934-9723,1435-4373      0934-9723   \n",
       "75                0001-4079      0001-4079   \n",
       "76      0027-8424,1091-6490      0027-8424   \n",
       "77      0018-9294,1558-2531      0018-9294   \n",
       "...                     ...            ...   \n",
       "108222            1662-453X      1662-453X   \n",
       "108223  0027-8424,1091-6490      0027-8424   \n",
       "108224            1098-3600      1098-3600   \n",
       "108225            1553-7374      1553-7366   \n",
       "108232  0022-538X,1098-5514      0022-538X   \n",
       "\n",
       "                                             journal_name  ...  \\\n",
       "73                                Applied Physics Express  ...   \n",
       "74      European Journal of Clinical Microbiology &amp...  ...   \n",
       "75           Bulletin de l'Académie Nationale de Médecine  ...   \n",
       "76        Proceedings of the National Academy of Sciences  ...   \n",
       "77            IEEE Transactions on Biomedical Engineering  ...   \n",
       "...                                                   ...  ...   \n",
       "108222                          Frontiers in Neuroscience  ...   \n",
       "108223    Proceedings of the National Academy of Sciences  ...   \n",
       "108224                               Genetics in Medicine  ...   \n",
       "108225                                     PLOS Pathogens  ...   \n",
       "108232                                Journal of Virology  ...   \n",
       "\n",
       "       licence_repositories  \\\n",
       "73                      NaN   \n",
       "74               no license   \n",
       "75                      NaN   \n",
       "76               no license   \n",
       "77                      NaN   \n",
       "...                     ...   \n",
       "108222                cc-by   \n",
       "108223           no license   \n",
       "108224                cc-by   \n",
       "108225                cc-by   \n",
       "108232           no license   \n",
       "\n",
       "                                             repositories  \\\n",
       "73                                                    NaN   \n",
       "74                           PubMed Central;iris.unito.it   \n",
       "75                                                    NaN   \n",
       "76                                         PubMed Central   \n",
       "77                                                    NaN   \n",
       "...                                                   ...   \n",
       "108222  HELDA - Digital Repository of the University o...   \n",
       "108223                         HAL;PubMed Central;bioRxiv   \n",
       "108224  HELDA - Digital Repository of the University o...   \n",
       "108225                         HAL;PubMed Central;bioRxiv   \n",
       "108232                         HAL;PubMed Central;bioRxiv   \n",
       "\n",
       "                                 software_mentions  \\\n",
       "73                                             NaN   \n",
       "74                                             NaN   \n",
       "75                                             NaN   \n",
       "76                                             NaN   \n",
       "77                                             NaN   \n",
       "...                                            ...   \n",
       "108222  learn;BestNormalize;PyRadiomics;ElasticNet   \n",
       "108223            ImageJ;ClampFit;software;LabView   \n",
       "108224                      Alamut;Pymol;Face2Gene   \n",
       "108225                                         NaN   \n",
       "108232                        GraphPad Prism;BLAST   \n",
       "\n",
       "                                            data_mentions software_used  \\\n",
       "73                                                    NaN           NaN   \n",
       "74                                                    NaN           NaN   \n",
       "75                                                    NaN           NaN   \n",
       "76                                                    NaN           NaN   \n",
       "77                                                    NaN           NaN   \n",
       "...                                                   ...           ...   \n",
       "108222  radiomics;images;Radiomic features;patients;Lo...          True   \n",
       "108223  Whole-cell recordings;AP threshold;axon;Electr...          True   \n",
       "108224  SETD1B;severity score;immunocytochemistry;Geno...          True   \n",
       "108225                                                NaN           NaN   \n",
       "108232  cellular interactors;quantification of replica...          True   \n",
       "\n",
       "        software_created software_shared data_used  data_created data_shared  \n",
       "73                   NaN             NaN       NaN           NaN         NaN  \n",
       "74                   NaN             NaN       NaN           NaN         NaN  \n",
       "75                   NaN             NaN       NaN           NaN         NaN  \n",
       "76                   NaN             NaN       NaN           NaN         NaN  \n",
       "77                   NaN             NaN       NaN           NaN         NaN  \n",
       "...                  ...             ...       ...           ...         ...  \n",
       "108222             False           False      True         False        True  \n",
       "108223             False           False      True         False       False  \n",
       "108224             False           False      True          True       False  \n",
       "108225               NaN             NaN       NaN           NaN         NaN  \n",
       "108232             False           False      True         False       False  \n",
       "\n",
       "[21139 rows x 40 columns]"
      ]
     },
     "execution_count": 5,
     "metadata": {},
     "output_type": "execute_result"
    }
   ],
   "source": [
    "pie_data = publis_inserm_df.loc[publis_inserm_df['year'] == 2021.0,:]\n",
    "pie_data"
   ]
  },
  {
   "cell_type": "markdown",
   "metadata": {},
   "source": [
    "Récuperer les différentes valeurs qui nous intéressent:\n",
    "- closed = l'article n'est pas en accès ouvert/dans un journal non ouvert\n",
    "- gold_journal = l'article est dans un journal gold\n",
    "    - gold_gold : gold + gold\n",
    "    - gold_archives_ouvertes : gold + archives ouvertes\n",
    "- free: libre éditeur\n",
    "    - free_archives_ouvertes: free + archives ouvertes\n",
    "    - free_freepubli : free + free\n",
    "- archives ouvertes simple"
   ]
  },
  {
   "cell_type": "code",
   "execution_count": 6,
   "metadata": {},
   "outputs": [
    {
     "data": {
      "text/plain": [
       "Accès fermé global      4932\n",
       "Accès ouvert global    16207\n",
       "Name: is_oa, dtype: int64"
      ]
     },
     "execution_count": 6,
     "metadata": {},
     "output_type": "execute_result"
    }
   ],
   "source": [
    "oa_yes_no = pie_data['is_oa'].value_counts().sort_index().rename({False: 'Accès fermé global', True: 'Accès ouvert global'})\n",
    "oa_yes_no"
   ]
  },
  {
   "cell_type": "code",
   "execution_count": 7,
   "metadata": {},
   "outputs": [],
   "source": [
    "oa_no = (pie_data['is_oa'] == False)\n",
    "oa_yes = (pie_data['is_oa'] == True)\n",
    "assert(len(pie_data) == sum(oa_no)+sum(oa_yes))"
   ]
  },
  {
   "cell_type": "code",
   "execution_count": 8,
   "metadata": {},
   "outputs": [],
   "source": [
    "# si dans le doaj alors gold\n",
    "gold = (pie_data['journal_is_in_doaj'] == True)"
   ]
  },
  {
   "cell_type": "code",
   "execution_count": 9,
   "metadata": {},
   "outputs": [],
   "source": [
    "# si oa et pas gold alors free\n",
    "free = oa_yes & (pie_data['journal_is_in_doaj'] == False)"
   ]
  },
  {
   "cell_type": "code",
   "execution_count": 10,
   "metadata": {},
   "outputs": [],
   "source": [
    "assert(len(pie_data) == sum(oa_no)+sum(gold)+sum(free))"
   ]
  },
  {
   "cell_type": "code",
   "execution_count": 11,
   "metadata": {},
   "outputs": [
    {
     "name": "stdout",
     "output_type": "stream",
     "text": [
      "Acces fermé: 23.33%\n",
      "Gold: 36.64%\n",
      "Free 40.03%\n"
     ]
    }
   ],
   "source": [
    "print(f\"Acces fermé: {sum(oa_no)/len(pie_data):.2%}\\nGold: {sum(gold)/len(pie_data):.2%}\\nFree {sum(free)/len(pie_data):.2%}\")"
   ]
  },
  {
   "cell_type": "markdown",
   "metadata": {},
   "source": [
    "**Free** se décompose en **\"Libre éditeur\"** + **\"Archives ouvertes\"**  \n",
    "* \"Libre éditeur\" = \"publisher\" + \"publisher;repository\"  \n",
    "* \"Archives ouvertes\" = \"repository\""
   ]
  },
  {
   "cell_type": "code",
   "execution_count": 12,
   "metadata": {},
   "outputs": [],
   "source": [
    "libre_editeur =  free & ((pie_data['oa_host_type'] == 'publisher') | (pie_data['oa_host_type'] == 'publisher;repository'))"
   ]
  },
  {
   "cell_type": "code",
   "execution_count": 13,
   "metadata": {},
   "outputs": [],
   "source": [
    "archive_ouverte = free & (pie_data['oa_host_type'] == 'repository')"
   ]
  },
  {
   "cell_type": "code",
   "execution_count": 14,
   "metadata": {},
   "outputs": [],
   "source": [
    "assert(sum(free) == sum(libre_editeur)+sum(archive_ouverte))"
   ]
  },
  {
   "cell_type": "code",
   "execution_count": 15,
   "metadata": {},
   "outputs": [
    {
     "data": {
      "text/html": [
       "<div>\n",
       "<style scoped>\n",
       "    .dataframe tbody tr th:only-of-type {\n",
       "        vertical-align: middle;\n",
       "    }\n",
       "\n",
       "    .dataframe tbody tr th {\n",
       "        vertical-align: top;\n",
       "    }\n",
       "\n",
       "    .dataframe thead th {\n",
       "        text-align: right;\n",
       "    }\n",
       "</style>\n",
       "<table border=\"1\" class=\"dataframe\">\n",
       "  <thead>\n",
       "    <tr style=\"text-align: right;\">\n",
       "      <th></th>\n",
       "      <th>oa_no</th>\n",
       "      <th>gold</th>\n",
       "      <th>libre_editeur</th>\n",
       "      <th>archive_ouverte</th>\n",
       "    </tr>\n",
       "  </thead>\n",
       "  <tbody>\n",
       "    <tr>\n",
       "      <th>73</th>\n",
       "      <td>True</td>\n",
       "      <td>False</td>\n",
       "      <td>False</td>\n",
       "      <td>False</td>\n",
       "    </tr>\n",
       "    <tr>\n",
       "      <th>74</th>\n",
       "      <td>False</td>\n",
       "      <td>False</td>\n",
       "      <td>True</td>\n",
       "      <td>False</td>\n",
       "    </tr>\n",
       "    <tr>\n",
       "      <th>75</th>\n",
       "      <td>True</td>\n",
       "      <td>False</td>\n",
       "      <td>False</td>\n",
       "      <td>False</td>\n",
       "    </tr>\n",
       "    <tr>\n",
       "      <th>76</th>\n",
       "      <td>False</td>\n",
       "      <td>False</td>\n",
       "      <td>False</td>\n",
       "      <td>True</td>\n",
       "    </tr>\n",
       "    <tr>\n",
       "      <th>77</th>\n",
       "      <td>True</td>\n",
       "      <td>False</td>\n",
       "      <td>False</td>\n",
       "      <td>False</td>\n",
       "    </tr>\n",
       "    <tr>\n",
       "      <th>...</th>\n",
       "      <td>...</td>\n",
       "      <td>...</td>\n",
       "      <td>...</td>\n",
       "      <td>...</td>\n",
       "    </tr>\n",
       "    <tr>\n",
       "      <th>108222</th>\n",
       "      <td>False</td>\n",
       "      <td>True</td>\n",
       "      <td>False</td>\n",
       "      <td>False</td>\n",
       "    </tr>\n",
       "    <tr>\n",
       "      <th>108223</th>\n",
       "      <td>False</td>\n",
       "      <td>False</td>\n",
       "      <td>True</td>\n",
       "      <td>False</td>\n",
       "    </tr>\n",
       "    <tr>\n",
       "      <th>108224</th>\n",
       "      <td>False</td>\n",
       "      <td>False</td>\n",
       "      <td>True</td>\n",
       "      <td>False</td>\n",
       "    </tr>\n",
       "    <tr>\n",
       "      <th>108225</th>\n",
       "      <td>False</td>\n",
       "      <td>True</td>\n",
       "      <td>False</td>\n",
       "      <td>False</td>\n",
       "    </tr>\n",
       "    <tr>\n",
       "      <th>108232</th>\n",
       "      <td>False</td>\n",
       "      <td>False</td>\n",
       "      <td>False</td>\n",
       "      <td>True</td>\n",
       "    </tr>\n",
       "  </tbody>\n",
       "</table>\n",
       "<p>21139 rows × 4 columns</p>\n",
       "</div>"
      ],
      "text/plain": [
       "        oa_no   gold  libre_editeur  archive_ouverte\n",
       "73       True  False          False            False\n",
       "74      False  False           True            False\n",
       "75       True  False          False            False\n",
       "76      False  False          False             True\n",
       "77       True  False          False            False\n",
       "...       ...    ...            ...              ...\n",
       "108222  False   True          False            False\n",
       "108223  False  False           True            False\n",
       "108224  False  False           True            False\n",
       "108225  False   True          False            False\n",
       "108232  False  False          False             True\n",
       "\n",
       "[21139 rows x 4 columns]"
      ]
     },
     "execution_count": 15,
     "metadata": {},
     "output_type": "execute_result"
    }
   ],
   "source": [
    "pie_data_ext = pd.DataFrame({'oa_no' : oa_no,\n",
    "                             'gold' : gold,\n",
    "                             'libre_editeur' : libre_editeur,\n",
    "                             'archive_ouverte' : archive_ouverte\n",
    "                            })\n",
    "pie_data_ext"
   ]
  },
  {
   "cell_type": "code",
   "execution_count": 16,
   "metadata": {},
   "outputs": [
    {
     "data": {
      "text/html": [
       "<div>\n",
       "<style scoped>\n",
       "    .dataframe tbody tr th:only-of-type {\n",
       "        vertical-align: middle;\n",
       "    }\n",
       "\n",
       "    .dataframe tbody tr th {\n",
       "        vertical-align: top;\n",
       "    }\n",
       "\n",
       "    .dataframe thead th {\n",
       "        text-align: right;\n",
       "    }\n",
       "</style>\n",
       "<table border=\"1\" class=\"dataframe\">\n",
       "  <thead>\n",
       "    <tr style=\"text-align: right;\">\n",
       "      <th></th>\n",
       "      <th>type</th>\n",
       "    </tr>\n",
       "  </thead>\n",
       "  <tbody>\n",
       "    <tr>\n",
       "      <th>73</th>\n",
       "      <td>oa_no</td>\n",
       "    </tr>\n",
       "    <tr>\n",
       "      <th>74</th>\n",
       "      <td>libre_editeur</td>\n",
       "    </tr>\n",
       "    <tr>\n",
       "      <th>75</th>\n",
       "      <td>oa_no</td>\n",
       "    </tr>\n",
       "    <tr>\n",
       "      <th>76</th>\n",
       "      <td>archive_ouverte</td>\n",
       "    </tr>\n",
       "    <tr>\n",
       "      <th>77</th>\n",
       "      <td>oa_no</td>\n",
       "    </tr>\n",
       "    <tr>\n",
       "      <th>...</th>\n",
       "      <td>...</td>\n",
       "    </tr>\n",
       "    <tr>\n",
       "      <th>108222</th>\n",
       "      <td>gold</td>\n",
       "    </tr>\n",
       "    <tr>\n",
       "      <th>108223</th>\n",
       "      <td>libre_editeur</td>\n",
       "    </tr>\n",
       "    <tr>\n",
       "      <th>108224</th>\n",
       "      <td>libre_editeur</td>\n",
       "    </tr>\n",
       "    <tr>\n",
       "      <th>108225</th>\n",
       "      <td>gold</td>\n",
       "    </tr>\n",
       "    <tr>\n",
       "      <th>108232</th>\n",
       "      <td>archive_ouverte</td>\n",
       "    </tr>\n",
       "  </tbody>\n",
       "</table>\n",
       "<p>21139 rows × 1 columns</p>\n",
       "</div>"
      ],
      "text/plain": [
       "                   type\n",
       "73                oa_no\n",
       "74        libre_editeur\n",
       "75                oa_no\n",
       "76      archive_ouverte\n",
       "77                oa_no\n",
       "...                 ...\n",
       "108222             gold\n",
       "108223    libre_editeur\n",
       "108224    libre_editeur\n",
       "108225             gold\n",
       "108232  archive_ouverte\n",
       "\n",
       "[21139 rows x 1 columns]"
      ]
     },
     "execution_count": 16,
     "metadata": {},
     "output_type": "execute_result"
    }
   ],
   "source": [
    "pie_data_ext_type = pie_data_ext.dot(pie_data_ext.columns).to_frame('type')\n",
    "pie_data_ext_type"
   ]
  },
  {
   "cell_type": "code",
   "execution_count": 17,
   "metadata": {},
   "outputs": [
    {
     "data": {
      "text/plain": [
       "type             \n",
       "Accès fermé          23.3%\n",
       "Gold                 36.6%\n",
       "Libre éditeur        26.6%\n",
       "Archives ouvertes    13.4%\n",
       "dtype: object"
      ]
     },
     "execution_count": 17,
     "metadata": {},
     "output_type": "execute_result"
    }
   ],
   "source": [
    "pie_data_ext_chiffres = pie_data_ext_type.value_counts(normalize=True, sort=False)[['oa_no','gold','libre_editeur','archive_ouverte']].rename({'oa_no': 'Accès fermé', 'gold' : 'Gold', 'libre_editeur' : 'Libre éditeur', 'archive_ouverte' : 'Archives ouvertes'})\n",
    "pie_data_ext_chiffres.mul(100).round(1).astype(str) + '%'"
   ]
  },
  {
   "cell_type": "code",
   "execution_count": 18,
   "metadata": {},
   "outputs": [],
   "source": [
    "gold_publi = gold & (pie_data['oa_host_type'] == 'publisher')"
   ]
  },
  {
   "cell_type": "code",
   "execution_count": 19,
   "metadata": {},
   "outputs": [],
   "source": [
    "gold_rep = gold & (pie_data['oa_host_type'] == 'publisher;repository')"
   ]
  },
  {
   "cell_type": "code",
   "execution_count": 20,
   "metadata": {},
   "outputs": [],
   "source": [
    "gold_rep_only = gold & (pie_data['oa_host_type'] == 'repository')"
   ]
  },
  {
   "cell_type": "code",
   "execution_count": 21,
   "metadata": {},
   "outputs": [],
   "source": [
    "assert(sum(gold) == sum(gold_publi)+sum(gold_rep)+sum(gold_rep_only))"
   ]
  },
  {
   "cell_type": "code",
   "execution_count": 22,
   "metadata": {},
   "outputs": [
    {
     "name": "stdout",
     "output_type": "stream",
     "text": [
      "Répartition Gold: \n",
      "gold_publi: 1.17%\n",
      "gold_rep: 95.49%\n",
      "gold_rep_only: 3.33%\n"
     ]
    }
   ],
   "source": [
    "print(f\"Répartition Gold: \\ngold_publi: {sum(gold_publi)/sum(gold):.2%}\\ngold_rep: {sum(gold_rep)/sum(gold):.2%}\\ngold_rep_only: {sum(gold_rep_only)/sum(gold):.2%}\")"
   ]
  },
  {
   "cell_type": "code",
   "execution_count": 23,
   "metadata": {},
   "outputs": [],
   "source": [
    "free_publi = free & (pie_data['oa_host_type'] == 'publisher')"
   ]
  },
  {
   "cell_type": "code",
   "execution_count": 24,
   "metadata": {},
   "outputs": [],
   "source": [
    "free_rep = free & (pie_data['oa_host_type'] =='publisher;repository')"
   ]
  },
  {
   "cell_type": "code",
   "execution_count": 25,
   "metadata": {},
   "outputs": [],
   "source": [
    "free_rep_only = free & (pie_data['oa_host_type'] =='repository')"
   ]
  },
  {
   "cell_type": "code",
   "execution_count": 26,
   "metadata": {},
   "outputs": [],
   "source": [
    "assert(sum(free) == sum(free_publi)+sum(free_rep)+sum(free_rep_only))"
   ]
  },
  {
   "cell_type": "code",
   "execution_count": 27,
   "metadata": {},
   "outputs": [
    {
     "name": "stdout",
     "output_type": "stream",
     "text": [
      "Répartition Free: \n",
      "free_publi: 21.49%\n",
      "free_rep: 44.94%\n",
      "free_rep_only: 33.58%\n"
     ]
    }
   ],
   "source": [
    "print(f\"Répartition Free: \\nfree_publi: {sum(free_publi)/sum(free):.2%}\\nfree_rep: {sum(free_rep)/sum(free):.2%}\\nfree_rep_only: {sum(free_rep_only)/sum(free):.2%}\")"
   ]
  },
  {
   "cell_type": "code",
   "execution_count": 28,
   "metadata": {},
   "outputs": [
    {
     "data": {
      "text/html": [
       "<div>\n",
       "<style scoped>\n",
       "    .dataframe tbody tr th:only-of-type {\n",
       "        vertical-align: middle;\n",
       "    }\n",
       "\n",
       "    .dataframe tbody tr th {\n",
       "        vertical-align: top;\n",
       "    }\n",
       "\n",
       "    .dataframe thead th {\n",
       "        text-align: right;\n",
       "    }\n",
       "</style>\n",
       "<table border=\"1\" class=\"dataframe\">\n",
       "  <thead>\n",
       "    <tr style=\"text-align: right;\">\n",
       "      <th></th>\n",
       "      <th>oa_no</th>\n",
       "      <th>gold_publi</th>\n",
       "      <th>gold_rep</th>\n",
       "      <th>gold_rep_only</th>\n",
       "      <th>free_publi</th>\n",
       "      <th>free_rep</th>\n",
       "      <th>archive_ouverte</th>\n",
       "    </tr>\n",
       "  </thead>\n",
       "  <tbody>\n",
       "    <tr>\n",
       "      <th>73</th>\n",
       "      <td>True</td>\n",
       "      <td>False</td>\n",
       "      <td>False</td>\n",
       "      <td>False</td>\n",
       "      <td>False</td>\n",
       "      <td>False</td>\n",
       "      <td>False</td>\n",
       "    </tr>\n",
       "    <tr>\n",
       "      <th>74</th>\n",
       "      <td>False</td>\n",
       "      <td>False</td>\n",
       "      <td>False</td>\n",
       "      <td>False</td>\n",
       "      <td>False</td>\n",
       "      <td>True</td>\n",
       "      <td>False</td>\n",
       "    </tr>\n",
       "    <tr>\n",
       "      <th>75</th>\n",
       "      <td>True</td>\n",
       "      <td>False</td>\n",
       "      <td>False</td>\n",
       "      <td>False</td>\n",
       "      <td>False</td>\n",
       "      <td>False</td>\n",
       "      <td>False</td>\n",
       "    </tr>\n",
       "    <tr>\n",
       "      <th>76</th>\n",
       "      <td>False</td>\n",
       "      <td>False</td>\n",
       "      <td>False</td>\n",
       "      <td>False</td>\n",
       "      <td>False</td>\n",
       "      <td>False</td>\n",
       "      <td>True</td>\n",
       "    </tr>\n",
       "    <tr>\n",
       "      <th>77</th>\n",
       "      <td>True</td>\n",
       "      <td>False</td>\n",
       "      <td>False</td>\n",
       "      <td>False</td>\n",
       "      <td>False</td>\n",
       "      <td>False</td>\n",
       "      <td>False</td>\n",
       "    </tr>\n",
       "    <tr>\n",
       "      <th>...</th>\n",
       "      <td>...</td>\n",
       "      <td>...</td>\n",
       "      <td>...</td>\n",
       "      <td>...</td>\n",
       "      <td>...</td>\n",
       "      <td>...</td>\n",
       "      <td>...</td>\n",
       "    </tr>\n",
       "    <tr>\n",
       "      <th>108222</th>\n",
       "      <td>False</td>\n",
       "      <td>False</td>\n",
       "      <td>True</td>\n",
       "      <td>False</td>\n",
       "      <td>False</td>\n",
       "      <td>False</td>\n",
       "      <td>False</td>\n",
       "    </tr>\n",
       "    <tr>\n",
       "      <th>108223</th>\n",
       "      <td>False</td>\n",
       "      <td>False</td>\n",
       "      <td>False</td>\n",
       "      <td>False</td>\n",
       "      <td>False</td>\n",
       "      <td>True</td>\n",
       "      <td>False</td>\n",
       "    </tr>\n",
       "    <tr>\n",
       "      <th>108224</th>\n",
       "      <td>False</td>\n",
       "      <td>False</td>\n",
       "      <td>False</td>\n",
       "      <td>False</td>\n",
       "      <td>False</td>\n",
       "      <td>True</td>\n",
       "      <td>False</td>\n",
       "    </tr>\n",
       "    <tr>\n",
       "      <th>108225</th>\n",
       "      <td>False</td>\n",
       "      <td>False</td>\n",
       "      <td>True</td>\n",
       "      <td>False</td>\n",
       "      <td>False</td>\n",
       "      <td>False</td>\n",
       "      <td>False</td>\n",
       "    </tr>\n",
       "    <tr>\n",
       "      <th>108232</th>\n",
       "      <td>False</td>\n",
       "      <td>False</td>\n",
       "      <td>False</td>\n",
       "      <td>False</td>\n",
       "      <td>False</td>\n",
       "      <td>False</td>\n",
       "      <td>True</td>\n",
       "    </tr>\n",
       "  </tbody>\n",
       "</table>\n",
       "<p>21139 rows × 7 columns</p>\n",
       "</div>"
      ],
      "text/plain": [
       "        oa_no  gold_publi  gold_rep  gold_rep_only  free_publi  free_rep  \\\n",
       "73       True       False     False          False       False     False   \n",
       "74      False       False     False          False       False      True   \n",
       "75       True       False     False          False       False     False   \n",
       "76      False       False     False          False       False     False   \n",
       "77       True       False     False          False       False     False   \n",
       "...       ...         ...       ...            ...         ...       ...   \n",
       "108222  False       False      True          False       False     False   \n",
       "108223  False       False     False          False       False      True   \n",
       "108224  False       False     False          False       False      True   \n",
       "108225  False       False      True          False       False     False   \n",
       "108232  False       False     False          False       False     False   \n",
       "\n",
       "        archive_ouverte  \n",
       "73                False  \n",
       "74                False  \n",
       "75                False  \n",
       "76                 True  \n",
       "77                False  \n",
       "...                 ...  \n",
       "108222            False  \n",
       "108223            False  \n",
       "108224            False  \n",
       "108225            False  \n",
       "108232             True  \n",
       "\n",
       "[21139 rows x 7 columns]"
      ]
     },
     "execution_count": 28,
     "metadata": {},
     "output_type": "execute_result"
    }
   ],
   "source": [
    "pie_data_int = pd.DataFrame({'oa_no' : oa_no,\n",
    "                   'gold_publi' : gold_publi ,\n",
    "                   'gold_rep' : gold_rep,\n",
    "                   'gold_rep_only' : gold_rep_only,\n",
    "                   'free_publi' : free_publi,\n",
    "                   'free_rep' : free_rep,\n",
    "                   'archive_ouverte' : archive_ouverte\n",
    "                            })\n",
    "pie_data_int"
   ]
  },
  {
   "cell_type": "code",
   "execution_count": 29,
   "metadata": {},
   "outputs": [
    {
     "data": {
      "text/html": [
       "<div>\n",
       "<style scoped>\n",
       "    .dataframe tbody tr th:only-of-type {\n",
       "        vertical-align: middle;\n",
       "    }\n",
       "\n",
       "    .dataframe tbody tr th {\n",
       "        vertical-align: top;\n",
       "    }\n",
       "\n",
       "    .dataframe thead th {\n",
       "        text-align: right;\n",
       "    }\n",
       "</style>\n",
       "<table border=\"1\" class=\"dataframe\">\n",
       "  <thead>\n",
       "    <tr style=\"text-align: right;\">\n",
       "      <th></th>\n",
       "      <th>type</th>\n",
       "    </tr>\n",
       "  </thead>\n",
       "  <tbody>\n",
       "    <tr>\n",
       "      <th>73</th>\n",
       "      <td>oa_no</td>\n",
       "    </tr>\n",
       "    <tr>\n",
       "      <th>74</th>\n",
       "      <td>free_rep</td>\n",
       "    </tr>\n",
       "    <tr>\n",
       "      <th>75</th>\n",
       "      <td>oa_no</td>\n",
       "    </tr>\n",
       "    <tr>\n",
       "      <th>76</th>\n",
       "      <td>archive_ouverte</td>\n",
       "    </tr>\n",
       "    <tr>\n",
       "      <th>77</th>\n",
       "      <td>oa_no</td>\n",
       "    </tr>\n",
       "    <tr>\n",
       "      <th>...</th>\n",
       "      <td>...</td>\n",
       "    </tr>\n",
       "    <tr>\n",
       "      <th>108222</th>\n",
       "      <td>gold_rep</td>\n",
       "    </tr>\n",
       "    <tr>\n",
       "      <th>108223</th>\n",
       "      <td>free_rep</td>\n",
       "    </tr>\n",
       "    <tr>\n",
       "      <th>108224</th>\n",
       "      <td>free_rep</td>\n",
       "    </tr>\n",
       "    <tr>\n",
       "      <th>108225</th>\n",
       "      <td>gold_rep</td>\n",
       "    </tr>\n",
       "    <tr>\n",
       "      <th>108232</th>\n",
       "      <td>archive_ouverte</td>\n",
       "    </tr>\n",
       "  </tbody>\n",
       "</table>\n",
       "<p>21139 rows × 1 columns</p>\n",
       "</div>"
      ],
      "text/plain": [
       "                   type\n",
       "73                oa_no\n",
       "74             free_rep\n",
       "75                oa_no\n",
       "76      archive_ouverte\n",
       "77                oa_no\n",
       "...                 ...\n",
       "108222         gold_rep\n",
       "108223         free_rep\n",
       "108224         free_rep\n",
       "108225         gold_rep\n",
       "108232  archive_ouverte\n",
       "\n",
       "[21139 rows x 1 columns]"
      ]
     },
     "execution_count": 29,
     "metadata": {},
     "output_type": "execute_result"
    }
   ],
   "source": [
    "pie_data_int_type = pie_data_int.dot(pie_data_int.columns).to_frame('type')\n",
    "pie_data_int_type"
   ]
  },
  {
   "cell_type": "code",
   "execution_count": 30,
   "metadata": {},
   "outputs": [
    {
     "data": {
      "text/plain": [
       "type                              \n",
       "Accès fermé                           23.3%\n",
       "Gold éditeur                           0.4%\n",
       "Gold en Archives ouvertes             35.0%\n",
       "gold_rep_only                          1.2%\n",
       "Libre éditeur                          8.6%\n",
       "Libre éditeur en Archives ouvertes    18.0%\n",
       "Archives ouvertes                     13.4%\n",
       "dtype: object"
      ]
     },
     "execution_count": 30,
     "metadata": {},
     "output_type": "execute_result"
    }
   ],
   "source": [
    "pie_data_int_chiffres = pie_data_int_type.value_counts(normalize=True, sort=False)[['oa_no','gold_publi','gold_rep','gold_rep_only','free_publi','free_rep','archive_ouverte']].rename({'oa_no': 'Accès fermé', 'gold_publi' : 'Gold éditeur', 'gold_rep' : 'Gold en Archives ouvertes', 'free_publi' : 'Libre éditeur', 'free_rep' : 'Libre éditeur en Archives ouvertes', 'archive_ouverte' : 'Archives ouvertes'})\n",
    "pie_data_int_chiffres.mul(100).round(1).astype(str) + '%'"
   ]
  },
  {
   "cell_type": "code",
   "execution_count": 34,
   "metadata": {},
   "outputs": [
    {
     "name": "stderr",
     "output_type": "stream",
     "text": [
      "C:\\Users\\juliette.janes\\AppData\\Local\\Temp\\ipykernel_7588\\806851868.py:31: UserWarning: The label '_nolegend_' of <matplotlib.patches.Wedge object at 0x000001F4C8D80430> starts with '_'. It is thus excluded from the legend.\n",
      "  legende_int  = fig.legend(slices_int,\n",
      "C:\\Users\\juliette.janes\\AppData\\Local\\Temp\\ipykernel_7588\\806851868.py:31: UserWarning: The label '_nolegend_' of <matplotlib.patches.Wedge object at 0x000001F4C8D80D60> starts with '_'. It is thus excluded from the legend.\n",
      "  legende_int  = fig.legend(slices_int,\n"
     ]
    },
    {
     "data": {
      "image/png": "[encoded data removed]",
      "text/plain": [
       "<Figure size 640x480 with 1 Axes>"
      ]
     },
     "metadata": {},
     "output_type": "display_data"
    }
   ],
   "source": [
    "fig, ax = plt.subplots(dpi=100)\n",
    "ax.set_aspect('equal')\n",
    "# Cercle extérieur\n",
    "slices_ext, legend_labels_ext, pct_labels_ext = ax.pie(pie_data_ext_chiffres,  \n",
    "       radius=3, \n",
    "       labeldistance = None,\n",
    "       textprops = {'fontsize':14, 'color':'black'}, \n",
    "       colors=['tomato', 'gold', 'cornflowerblue', 'springgreen', ],  \n",
    "       autopct=lambda x: str(round(x, 1)) + '%', \n",
    "       pctdistance = 0.9, \n",
    "       startangle=90,\n",
    "       frame = True\n",
    "      );\n",
    "# Cercle intérieur\n",
    "slices_int, legend_labels_int, pct_labels_int = ax.pie(pie_data_int_chiffres,\n",
    "       radius=2.3, \n",
    "       labeldistance = None, \n",
    "       colors=['firebrick','darkgoldenrod','goldenrod','gold','royalblue','mediumblue','seagreen'], autopct=lambda x: str(round(x, 1)) + '%', \n",
    "       pctdistance = 0.9, \n",
    "       startangle=90);\n",
    "# Cercle blanc intérieur\n",
    "ax.pie([1], radius=1.8, colors='white');\n",
    "# Legende extérieur\n",
    "legende_ext = plt.legend(slices_ext, \n",
    "                           ['Acces fermé', 'Gold','Libre éditeur','Archives ouvertes'],  \n",
    "                           bbox_to_anchor=(0,1.25), \n",
    "                           loc=\"center right\", \n",
    "                           bbox_transform=plt.gcf().transFigure\n",
    "                          )\n",
    "# Legende intérieur (la légende est ajoutée à la figure et non au plot, sinon la légende précedente est écrasée)\n",
    "legende_int  = fig.legend(slices_int, \n",
    "                           ['Acces fermé', '_nolegend_', 'Gold en Archives ouvertes', '_nolegend_', 'Libre éditeur en Archives ouvertes', 'Libre éditeur', 'Archives ouvertes'],  \n",
    "                            loc = \"center\"\n",
    "                          )\n",
    "#ax.legend(loc=\"center\", fontsize = 12)\n",
    "plt.title('Proportion des publications 2019 en accès ouvert (mesuré en 2021)', fontsize = 20, x = 0.55, y = 1.8,\n",
    "          fontweight = 'bold', alpha = 0.6)\n",
    "plt.savefig('Data/outputs/2019_proportion_publications_oa_20211214.png', dpi=150, bbox_inches='tight', pad_inches=0.9)"
   ]
  },
  {
   "cell_type": "markdown",
   "metadata": {},
   "source": [
    "Taux d'accès ouvert par disciplines 2020"
   ]
  },
  {
   "cell_type": "code",
   "execution_count": 61,
   "metadata": {},
   "outputs": [],
   "source": [
    "publications_2020 = publis_inserm_df.loc[publis_inserm_df['year'] == 2020.0,:]"
   ]
  },
  {
   "cell_type": "code",
   "execution_count": 62,
   "metadata": {},
   "outputs": [
    {
     "data": {
      "text/plain": [
       "Biology (fond.)                                7597\n",
       "Chemistry                                       576\n",
       "Computer and  information sciences              215\n",
       "Earth, Ecology, Energy and applied biology      252\n",
       "Engineering                                     568\n",
       "Humanities                                      243\n",
       "Mathematics                                      84\n",
       "Medical research                              10053\n",
       "Physical sciences, Astronomy                    279\n",
       "Social sciences                                 114\n",
       "Name: bso_classification, dtype: int64"
      ]
     },
     "execution_count": 62,
     "metadata": {},
     "output_type": "execute_result"
    }
   ],
   "source": [
    "publications_par_domaine_type = publications_2020['bso_classification'].value_counts().sort_index()\n",
    "publications_par_domaine_type"
   ]
  },
  {
   "cell_type": "code",
   "execution_count": 63,
   "metadata": {},
   "outputs": [
    {
     "name": "stderr",
     "output_type": "stream",
     "text": [
      "C:\\Users\\juliette.janes\\AppData\\Local\\Temp\\ipykernel_18296\\278930648.py:8: SettingWithCopyWarning: \n",
      "A value is trying to be set on a copy of a slice from a DataFrame.\n",
      "Try using .loc[row_indexer,col_indexer] = value instead\n",
      "\n",
      "See the caveats in the documentation: https://pandas.pydata.org/pandas-docs/stable/user_guide/indexing.html#returning-a-view-versus-a-copy\n",
      "  publications_2020['depot'] = np.select(conditionlist, choicelist, default='Not Specified')\n"
     ]
    }
   ],
   "source": [
    "conditionlist = [\n",
    "    (publications_2020['is_oa'] == False) ,\n",
    "    (publications_2020['journal_is_in_doaj'] == True),\n",
    "    ((publications_2020['is_oa'] == True) & (publications_2020['journal_is_in_doaj'] == False) & ((publications_2020['oa_host_type'] == 'publisher') | (publications_2020['oa_host_type'] == 'publisher;repository'))),\n",
    "    (publications_2020['oa_host_type'] == 'repository') \n",
    "    ]\n",
    "choicelist = ['closed', 'gold', 'free', 'rep']\n",
    "publications_2020['depot'] = np.select(conditionlist, choicelist, default='Not Specified')"
   ]
  },
  {
   "cell_type": "code",
   "execution_count": 64,
   "metadata": {},
   "outputs": [
    {
     "data": {
      "text/html": [
       "<div>\n",
       "<style scoped>\n",
       "    .dataframe tbody tr th:only-of-type {\n",
       "        vertical-align: middle;\n",
       "    }\n",
       "\n",
       "    .dataframe tbody tr th {\n",
       "        vertical-align: top;\n",
       "    }\n",
       "\n",
       "    .dataframe thead th {\n",
       "        text-align: right;\n",
       "    }\n",
       "</style>\n",
       "<table border=\"1\" class=\"dataframe\">\n",
       "  <thead>\n",
       "    <tr style=\"text-align: right;\">\n",
       "      <th>depot</th>\n",
       "      <th>closed</th>\n",
       "      <th>free</th>\n",
       "      <th>gold</th>\n",
       "      <th>rep</th>\n",
       "      <th>Total</th>\n",
       "      <th>y_label</th>\n",
       "    </tr>\n",
       "    <tr>\n",
       "      <th>y_label</th>\n",
       "      <th></th>\n",
       "      <th></th>\n",
       "      <th></th>\n",
       "      <th></th>\n",
       "      <th></th>\n",
       "      <th></th>\n",
       "    </tr>\n",
       "  </thead>\n",
       "  <tbody>\n",
       "    <tr>\n",
       "      <th>Earth, Ecology, Energy and applied biology\\n252 publications</th>\n",
       "      <td>18</td>\n",
       "      <td>72</td>\n",
       "      <td>103</td>\n",
       "      <td>59</td>\n",
       "      <td>252</td>\n",
       "      <td>Earth, Ecology, Energy and applied biology\\n25...</td>\n",
       "    </tr>\n",
       "    <tr>\n",
       "      <th>Mathématiques\\n84 publications</th>\n",
       "      <td>19</td>\n",
       "      <td>21</td>\n",
       "      <td>23</td>\n",
       "      <td>21</td>\n",
       "      <td>84</td>\n",
       "      <td>Mathématiques\\n84 publications</td>\n",
       "    </tr>\n",
       "    <tr>\n",
       "      <th>Computer and  information sciences\\n215 publications</th>\n",
       "      <td>24</td>\n",
       "      <td>54</td>\n",
       "      <td>64</td>\n",
       "      <td>73</td>\n",
       "      <td>215</td>\n",
       "      <td>Computer and  information sciences\\n215 public...</td>\n",
       "    </tr>\n",
       "    <tr>\n",
       "      <th>Sciences physiques, astronomie\\n279 publications</th>\n",
       "      <td>34</td>\n",
       "      <td>68</td>\n",
       "      <td>59</td>\n",
       "      <td>118</td>\n",
       "      <td>279</td>\n",
       "      <td>Sciences physiques, astronomie\\n279 publications</td>\n",
       "    </tr>\n",
       "    <tr>\n",
       "      <th>Sciences sociales\\n114 publications</th>\n",
       "      <td>44</td>\n",
       "      <td>27</td>\n",
       "      <td>25</td>\n",
       "      <td>18</td>\n",
       "      <td>114</td>\n",
       "      <td>Sciences sociales\\n114 publications</td>\n",
       "    </tr>\n",
       "    <tr>\n",
       "      <th>Humanités\\n243 publications</th>\n",
       "      <td>53</td>\n",
       "      <td>89</td>\n",
       "      <td>55</td>\n",
       "      <td>46</td>\n",
       "      <td>243</td>\n",
       "      <td>Humanités\\n243 publications</td>\n",
       "    </tr>\n",
       "    <tr>\n",
       "      <th>Chimie\\n576 publications</th>\n",
       "      <td>70</td>\n",
       "      <td>151</td>\n",
       "      <td>116</td>\n",
       "      <td>239</td>\n",
       "      <td>576</td>\n",
       "      <td>Chimie\\n576 publications</td>\n",
       "    </tr>\n",
       "    <tr>\n",
       "      <th>Sciences de l'Ingénieur\\n568 publications</th>\n",
       "      <td>87</td>\n",
       "      <td>151</td>\n",
       "      <td>168</td>\n",
       "      <td>162</td>\n",
       "      <td>568</td>\n",
       "      <td>Sciences de l'Ingénieur\\n568 publications</td>\n",
       "    </tr>\n",
       "    <tr>\n",
       "      <th>Biologie (fond.)\\n7597 publications</th>\n",
       "      <td>1006</td>\n",
       "      <td>2589</td>\n",
       "      <td>2564</td>\n",
       "      <td>1438</td>\n",
       "      <td>7597</td>\n",
       "      <td>Biologie (fond.)\\n7597 publications</td>\n",
       "    </tr>\n",
       "    <tr>\n",
       "      <th>Sciences médicales\\n10053 publications</th>\n",
       "      <td>2598</td>\n",
       "      <td>3101</td>\n",
       "      <td>3018</td>\n",
       "      <td>1336</td>\n",
       "      <td>10053</td>\n",
       "      <td>Sciences médicales\\n10053 publications</td>\n",
       "    </tr>\n",
       "  </tbody>\n",
       "</table>\n",
       "</div>"
      ],
      "text/plain": [
       "depot                                               closed  free  gold   rep  \\\n",
       "y_label                                                                        \n",
       "Earth, Ecology, Energy and applied biology\\n252...      18    72   103    59   \n",
       "Mathématiques\\n84 publications                          19    21    23    21   \n",
       "Computer and  information sciences\\n215 publica...      24    54    64    73   \n",
       "Sciences physiques, astronomie\\n279 publications        34    68    59   118   \n",
       "Sciences sociales\\n114 publications                     44    27    25    18   \n",
       "Humanités\\n243 publications                             53    89    55    46   \n",
       "Chimie\\n576 publications                                70   151   116   239   \n",
       "Sciences de l'Ingénieur\\n568 publications               87   151   168   162   \n",
       "Biologie (fond.)\\n7597 publications                   1006  2589  2564  1438   \n",
       "Sciences médicales\\n10053 publications                2598  3101  3018  1336   \n",
       "\n",
       "depot                                               Total  \\\n",
       "y_label                                                     \n",
       "Earth, Ecology, Energy and applied biology\\n252...    252   \n",
       "Mathématiques\\n84 publications                         84   \n",
       "Computer and  information sciences\\n215 publica...    215   \n",
       "Sciences physiques, astronomie\\n279 publications      279   \n",
       "Sciences sociales\\n114 publications                   114   \n",
       "Humanités\\n243 publications                           243   \n",
       "Chimie\\n576 publications                              576   \n",
       "Sciences de l'Ingénieur\\n568 publications             568   \n",
       "Biologie (fond.)\\n7597 publications                  7597   \n",
       "Sciences médicales\\n10053 publications              10053   \n",
       "\n",
       "depot                                                                                         y_label  \n",
       "y_label                                                                                                \n",
       "Earth, Ecology, Energy and applied biology\\n252...  Earth, Ecology, Energy and applied biology\\n25...  \n",
       "Mathématiques\\n84 publications                                         Mathématiques\\n84 publications  \n",
       "Computer and  information sciences\\n215 publica...  Computer and  information sciences\\n215 public...  \n",
       "Sciences physiques, astronomie\\n279 publications     Sciences physiques, astronomie\\n279 publications  \n",
       "Sciences sociales\\n114 publications                               Sciences sociales\\n114 publications  \n",
       "Humanités\\n243 publications                                               Humanités\\n243 publications  \n",
       "Chimie\\n576 publications                                                     Chimie\\n576 publications  \n",
       "Sciences de l'Ingénieur\\n568 publications                   Sciences de l'Ingénieur\\n568 publications  \n",
       "Biologie (fond.)\\n7597 publications                               Biologie (fond.)\\n7597 publications  \n",
       "Sciences médicales\\n10053 publications                         Sciences médicales\\n10053 publications  "
      ]
     },
     "execution_count": 64,
     "metadata": {},
     "output_type": "execute_result"
    }
   ],
   "source": [
    "df_oa_discipline_global_type = pd.crosstab([publications_2020['bso_classification']],publications_2020['depot'])\n",
    "# Ajout d'une colonne avec le total par discipline\n",
    "df_oa_discipline_global_type[\"Total\"] = publications_par_domaine_type\n",
    "# Traduction des disciplines en français\n",
    "df_oa_discipline_global_type.rename(index = {'Biology (fond.)': 'Biologie (fond.)', 'Chemistry': 'Chimie', \n",
    "                                         'Computer and \\n information sciences' : 'Informatique',\n",
    "                                       'Earth, Ecology, \\nEnergy and applied biology' : 'Sciences de la Terre, Ecologie, \\nEnergie et biologie appliquée',\n",
    "                                        'Engineering' : \"Sciences de l'Ingénieur\",\n",
    "                                        'Humanities' : 'Humanités',\n",
    "                                        'Mathematics' : 'Mathématiques',\n",
    "                                        'Medical research' : 'Sciences médicales',\n",
    "                                        'Physical sciences, Astronomy' : 'Sciences physiques, astronomie',\n",
    "                                        'Social sciences' : 'Sciences sociales'}, inplace = True)\n",
    "df_oa_discipline_global_type = df_oa_discipline_global_type.sort_values(by='closed', ascending=True)\n",
    "# Ajout d'une colonne qui concatène le nom de la discipline et le total\n",
    "df_oa_discipline_global_type[\"y_label\"] = df_oa_discipline_global_type.index + \"\\n\" + df_oa_discipline_global_type[\"Total\"].apply(str) \\\n",
    "                                     + \" \" + \"publications\"\n",
    "# Réindexation de l'index pour que les bonnes informations s'affichent dans le graphique final\n",
    "df_oa_discipline_global_type.index = df_oa_discipline_global_type[\"y_label\"]\n",
    "df_oa_discipline_global_type"
   ]
  },
  {
   "cell_type": "code",
   "execution_count": 65,
   "metadata": {},
   "outputs": [
    {
     "data": {
      "text/html": [
       "<div>\n",
       "<style scoped>\n",
       "    .dataframe tbody tr th:only-of-type {\n",
       "        vertical-align: middle;\n",
       "    }\n",
       "\n",
       "    .dataframe tbody tr th {\n",
       "        vertical-align: top;\n",
       "    }\n",
       "\n",
       "    .dataframe thead th {\n",
       "        text-align: right;\n",
       "    }\n",
       "</style>\n",
       "<table border=\"1\" class=\"dataframe\">\n",
       "  <thead>\n",
       "    <tr style=\"text-align: right;\">\n",
       "      <th>depot</th>\n",
       "      <th>closed</th>\n",
       "      <th>free</th>\n",
       "      <th>gold</th>\n",
       "      <th>rep</th>\n",
       "      <th>Total</th>\n",
       "      <th>y_label</th>\n",
       "    </tr>\n",
       "    <tr>\n",
       "      <th>y_label</th>\n",
       "      <th></th>\n",
       "      <th></th>\n",
       "      <th></th>\n",
       "      <th></th>\n",
       "      <th></th>\n",
       "      <th></th>\n",
       "    </tr>\n",
       "  </thead>\n",
       "  <tbody>\n",
       "    <tr>\n",
       "      <th>Earth, Ecology, Energy and applied biology\\n252 publications</th>\n",
       "      <td>7.1</td>\n",
       "      <td>28.6</td>\n",
       "      <td>40.9</td>\n",
       "      <td>23.4</td>\n",
       "      <td>252</td>\n",
       "      <td>Earth, Ecology, Energy and applied biology\\n25...</td>\n",
       "    </tr>\n",
       "    <tr>\n",
       "      <th>Computer and  information sciences\\n215 publications</th>\n",
       "      <td>11.2</td>\n",
       "      <td>25.1</td>\n",
       "      <td>29.8</td>\n",
       "      <td>34.0</td>\n",
       "      <td>215</td>\n",
       "      <td>Computer and  information sciences\\n215 public...</td>\n",
       "    </tr>\n",
       "    <tr>\n",
       "      <th>Chimie\\n576 publications</th>\n",
       "      <td>12.2</td>\n",
       "      <td>26.2</td>\n",
       "      <td>20.1</td>\n",
       "      <td>41.5</td>\n",
       "      <td>576</td>\n",
       "      <td>Chimie\\n576 publications</td>\n",
       "    </tr>\n",
       "    <tr>\n",
       "      <th>Sciences physiques, astronomie\\n279 publications</th>\n",
       "      <td>12.2</td>\n",
       "      <td>24.4</td>\n",
       "      <td>21.1</td>\n",
       "      <td>42.3</td>\n",
       "      <td>279</td>\n",
       "      <td>Sciences physiques, astronomie\\n279 publications</td>\n",
       "    </tr>\n",
       "    <tr>\n",
       "      <th>Biologie (fond.)\\n7597 publications</th>\n",
       "      <td>13.2</td>\n",
       "      <td>34.1</td>\n",
       "      <td>33.8</td>\n",
       "      <td>18.9</td>\n",
       "      <td>7597</td>\n",
       "      <td>Biologie (fond.)\\n7597 publications</td>\n",
       "    </tr>\n",
       "    <tr>\n",
       "      <th>Sciences de l'Ingénieur\\n568 publications</th>\n",
       "      <td>15.3</td>\n",
       "      <td>26.6</td>\n",
       "      <td>29.6</td>\n",
       "      <td>28.5</td>\n",
       "      <td>568</td>\n",
       "      <td>Sciences de l'Ingénieur\\n568 publications</td>\n",
       "    </tr>\n",
       "    <tr>\n",
       "      <th>Humanités\\n243 publications</th>\n",
       "      <td>21.8</td>\n",
       "      <td>36.6</td>\n",
       "      <td>22.6</td>\n",
       "      <td>18.9</td>\n",
       "      <td>243</td>\n",
       "      <td>Humanités\\n243 publications</td>\n",
       "    </tr>\n",
       "    <tr>\n",
       "      <th>Mathématiques\\n84 publications</th>\n",
       "      <td>22.6</td>\n",
       "      <td>25.0</td>\n",
       "      <td>27.4</td>\n",
       "      <td>25.0</td>\n",
       "      <td>84</td>\n",
       "      <td>Mathématiques\\n84 publications</td>\n",
       "    </tr>\n",
       "    <tr>\n",
       "      <th>Sciences médicales\\n10053 publications</th>\n",
       "      <td>25.8</td>\n",
       "      <td>30.8</td>\n",
       "      <td>30.0</td>\n",
       "      <td>13.3</td>\n",
       "      <td>10053</td>\n",
       "      <td>Sciences médicales\\n10053 publications</td>\n",
       "    </tr>\n",
       "    <tr>\n",
       "      <th>Sciences sociales\\n114 publications</th>\n",
       "      <td>38.6</td>\n",
       "      <td>23.7</td>\n",
       "      <td>21.9</td>\n",
       "      <td>15.8</td>\n",
       "      <td>114</td>\n",
       "      <td>Sciences sociales\\n114 publications</td>\n",
       "    </tr>\n",
       "  </tbody>\n",
       "</table>\n",
       "</div>"
      ],
      "text/plain": [
       "depot                                               closed  free  gold   rep  \\\n",
       "y_label                                                                        \n",
       "Earth, Ecology, Energy and applied biology\\n252...     7.1  28.6  40.9  23.4   \n",
       "Computer and  information sciences\\n215 publica...    11.2  25.1  29.8  34.0   \n",
       "Chimie\\n576 publications                              12.2  26.2  20.1  41.5   \n",
       "Sciences physiques, astronomie\\n279 publications      12.2  24.4  21.1  42.3   \n",
       "Biologie (fond.)\\n7597 publications                   13.2  34.1  33.8  18.9   \n",
       "Sciences de l'Ingénieur\\n568 publications             15.3  26.6  29.6  28.5   \n",
       "Humanités\\n243 publications                           21.8  36.6  22.6  18.9   \n",
       "Mathématiques\\n84 publications                        22.6  25.0  27.4  25.0   \n",
       "Sciences médicales\\n10053 publications                25.8  30.8  30.0  13.3   \n",
       "Sciences sociales\\n114 publications                   38.6  23.7  21.9  15.8   \n",
       "\n",
       "depot                                               Total  \\\n",
       "y_label                                                     \n",
       "Earth, Ecology, Energy and applied biology\\n252...    252   \n",
       "Computer and  information sciences\\n215 publica...    215   \n",
       "Chimie\\n576 publications                              576   \n",
       "Sciences physiques, astronomie\\n279 publications      279   \n",
       "Biologie (fond.)\\n7597 publications                  7597   \n",
       "Sciences de l'Ingénieur\\n568 publications             568   \n",
       "Humanités\\n243 publications                           243   \n",
       "Mathématiques\\n84 publications                         84   \n",
       "Sciences médicales\\n10053 publications              10053   \n",
       "Sciences sociales\\n114 publications                   114   \n",
       "\n",
       "depot                                                                                         y_label  \n",
       "y_label                                                                                                \n",
       "Earth, Ecology, Energy and applied biology\\n252...  Earth, Ecology, Energy and applied biology\\n25...  \n",
       "Computer and  information sciences\\n215 publica...  Computer and  information sciences\\n215 public...  \n",
       "Chimie\\n576 publications                                                     Chimie\\n576 publications  \n",
       "Sciences physiques, astronomie\\n279 publications     Sciences physiques, astronomie\\n279 publications  \n",
       "Biologie (fond.)\\n7597 publications                               Biologie (fond.)\\n7597 publications  \n",
       "Sciences de l'Ingénieur\\n568 publications                   Sciences de l'Ingénieur\\n568 publications  \n",
       "Humanités\\n243 publications                                               Humanités\\n243 publications  \n",
       "Mathématiques\\n84 publications                                         Mathématiques\\n84 publications  \n",
       "Sciences médicales\\n10053 publications                         Sciences médicales\\n10053 publications  \n",
       "Sciences sociales\\n114 publications                               Sciences sociales\\n114 publications  "
      ]
     },
     "execution_count": 65,
     "metadata": {},
     "output_type": "execute_result"
    }
   ],
   "source": [
    "df_oa_discipline_type = pd.crosstab([publications_2020['bso_classification']],publications_2020['depot'])\n",
    "df_oa_discipline_type = (df_oa_discipline_type.T / df_oa_discipline_type.T.sum()).mul(100).round(1)\n",
    "df_oa_discipline_type = df_oa_discipline_type.T\n",
    "df_oa_discipline_type[\"Total\"] = publications_par_domaine_type\n",
    "df_oa_discipline_type.rename(index = {'Biology (fond.)': 'Biologie (fond.)', 'Chemistry': 'Chimie', \n",
    "                                         'Computer and \\n information sciences' : 'Informatique',\n",
    "                                       'Earth, Ecology, \\nEnergy and applied biology' : 'Sciences de la Terre, Ecologie, \\nEnergie et biologie appliquée',\n",
    "                                        'Engineering' : \"Sciences de l'Ingénieur\",\n",
    "                                        'Humanities' : 'Humanités',\n",
    "                                        'Mathematics' : 'Mathématiques',\n",
    "                                        'Medical research' : 'Sciences médicales',\n",
    "                                        'Physical sciences, Astronomy' : 'Sciences physiques, astronomie',\n",
    "                                        'Social sciences' : 'Sciences sociales'}, inplace = True)\n",
    "df_oa_discipline_type[\"y_label\"] = df_oa_discipline_type.index + \"\\n\" + df_oa_discipline_type[\"Total\"].apply(str) \\\n",
    "                                     + \" \" + \"publications\"\n",
    "df_oa_discipline_type.index = df_oa_discipline_type[\"y_label\"]\n",
    "df_oa_discipline_type = df_oa_discipline_type.sort_values(by='closed', ascending=True)\n",
    "df_oa_discipline_type"
   ]
  },
  {
   "cell_type": "code",
   "execution_count": 66,
   "metadata": {},
   "outputs": [
    {
     "data": {
      "text/plain": [
       "Text(0.49, 1.02, \"Taux d'accès ouvert aux publications 2020 par discipline\")"
      ]
     },
     "execution_count": 66,
     "metadata": {},
     "output_type": "execute_result"
    },
    {
     "data": {
      "image/png": "[encoded data removed]",
      "text/plain": [
       "<Figure size 1500x1100 with 1 Axes>"
      ]
     },
     "metadata": {},
     "output_type": "display_data"
    }
   ],
   "source": [
    "import matplotlib.ticker as mtick\n",
    "\n",
    "ax = df_oa_discipline_type.drop([\"Total\", \"y_label\"], axis=1).plot(kind=\"barh\", stacked=True, figsize=(15, 11), color=['tomato','greenyellow','gold','seagreen'])\n",
    "ax.xaxis.set_major_formatter(mtick.PercentFormatter())\n",
    "\n",
    "labels = []\n",
    "for j in df_oa_discipline_type.columns:\n",
    "    for i in df_oa_discipline_type.index:\n",
    "        label = str(df_oa_discipline_type.loc[i][j]) + \"%\"\n",
    "        labels.append(label)\n",
    "\n",
    "patches = ax.patches\n",
    "\n",
    "for label, rect in zip(labels, patches):\n",
    "    width = rect.get_width()\n",
    "    if width > 0:\n",
    "        x = rect.get_x()\n",
    "        y = rect.get_y()\n",
    "        height = rect.get_height()\n",
    "        ax.text(x + width/2., y + height/2., label, ha='center', va='center', fontsize=15)\n",
    "\n",
    "# Trier les disciplines par ordre alphabétique\n",
    "plt.gca().invert_yaxis()\n",
    "plt.tick_params(axis = 'both', labelsize = 15)\n",
    "\n",
    "plt.xlabel(\"Nombre total de publications recensées et proportions par type d'accès ouvert\", fontsize=15)  \n",
    "plt.ylabel(None, fontsize = 13)\n",
    "\n",
    "# Les légendes sont nativement en anglais. Elles ont été renommées ici, mais attention, pour une réutilisation avec d'autres\n",
    "# données, il est conseillé d'enlever cette liste [\"Accès fermé\", \"Editeur\"...] et de générer le graphique une 1ère\n",
    "# fois pour voir quels types de documents ressortent et dans quel ordre. On peut toujours renommer la légende dans un 2ème \n",
    "# temps.\n",
    "plt.legend(['Accès fermé', 'Libre éditeur', 'Gold', 'Archives ouvertes'],\n",
    "              loc = 'best', ncol = 1,\n",
    "              frameon = True, markerscale = 2, title = None,\n",
    "              borderpad = 0.3, labelspacing = 0.3, bbox_to_anchor=(1, 0.1))\n",
    "\n",
    "plt.title(\"Taux d'accès ouvert aux publications 2020 par discipline\", fontsize = 25, x = 0.49, y = 1.02,\n",
    "          fontweight = 'bold', alpha = 0.6)\n",
    "#plt.savefig('Data/outputs/2020_taux_type_oa_discipline_type_20220217.png', dpi=100, bbox_inches='tight', pad_inches=0.9)"
   ]
  },
  {
   "cell_type": "markdown",
   "metadata": {},
   "source": [
    "Evolution des frais de publications (APC)"
   ]
  },
  {
   "cell_type": "markdown",
   "metadata": {},
   "source": [
    "Les données ont majoritairement été extraites de la plateformes OpenAPC mais une partie des sources sont internes à l'Institut. Pour autant, l'Inserm met à disposition cette portion de code, à toutes fins utiles."
   ]
  },
  {
   "cell_type": "code",
   "execution_count": 67,
   "metadata": {},
   "outputs": [],
   "source": [
    "open_APC_df = pd.read_csv(\"Data/raw/open_apc_inserm_15-19.csv\")"
   ]
  },
  {
   "cell_type": "code",
   "execution_count": 68,
   "metadata": {},
   "outputs": [],
   "source": [
    "all_graph_data_df = open_APC_df.sort_values(['period','is_hybrid','euro'],ascending=False)\n",
    "graph_data_df = all_graph_data_df[['period','is_hybrid','euro']]"
   ]
  },
  {
   "cell_type": "code",
   "execution_count": 69,
   "metadata": {},
   "outputs": [
    {
     "data": {
      "text/html": [
       "<div>\n",
       "<style scoped>\n",
       "    .dataframe tbody tr th:only-of-type {\n",
       "        vertical-align: middle;\n",
       "    }\n",
       "\n",
       "    .dataframe tbody tr th {\n",
       "        vertical-align: top;\n",
       "    }\n",
       "\n",
       "    .dataframe thead th {\n",
       "        text-align: right;\n",
       "    }\n",
       "</style>\n",
       "<table border=\"1\" class=\"dataframe\">\n",
       "  <thead>\n",
       "    <tr style=\"text-align: right;\">\n",
       "      <th></th>\n",
       "      <th>period</th>\n",
       "      <th>is_hybrid</th>\n",
       "      <th>euro</th>\n",
       "    </tr>\n",
       "  </thead>\n",
       "  <tbody>\n",
       "    <tr>\n",
       "      <th>1939</th>\n",
       "      <td>2019</td>\n",
       "      <td>True</td>\n",
       "      <td>4700.00</td>\n",
       "    </tr>\n",
       "    <tr>\n",
       "      <th>1868</th>\n",
       "      <td>2019</td>\n",
       "      <td>True</td>\n",
       "      <td>4485.87</td>\n",
       "    </tr>\n",
       "    <tr>\n",
       "      <th>1601</th>\n",
       "      <td>2019</td>\n",
       "      <td>True</td>\n",
       "      <td>4480.00</td>\n",
       "    </tr>\n",
       "    <tr>\n",
       "      <th>1875</th>\n",
       "      <td>2019</td>\n",
       "      <td>True</td>\n",
       "      <td>4480.00</td>\n",
       "    </tr>\n",
       "    <tr>\n",
       "      <th>1878</th>\n",
       "      <td>2019</td>\n",
       "      <td>True</td>\n",
       "      <td>4480.00</td>\n",
       "    </tr>\n",
       "    <tr>\n",
       "      <th>...</th>\n",
       "      <td>...</td>\n",
       "      <td>...</td>\n",
       "      <td>...</td>\n",
       "    </tr>\n",
       "    <tr>\n",
       "      <th>468</th>\n",
       "      <td>2015</td>\n",
       "      <td>False</td>\n",
       "      <td>267.30</td>\n",
       "    </tr>\n",
       "    <tr>\n",
       "      <th>469</th>\n",
       "      <td>2015</td>\n",
       "      <td>False</td>\n",
       "      <td>247.00</td>\n",
       "    </tr>\n",
       "    <tr>\n",
       "      <th>471</th>\n",
       "      <td>2015</td>\n",
       "      <td>False</td>\n",
       "      <td>232.50</td>\n",
       "    </tr>\n",
       "    <tr>\n",
       "      <th>472</th>\n",
       "      <td>2015</td>\n",
       "      <td>False</td>\n",
       "      <td>223.14</td>\n",
       "    </tr>\n",
       "    <tr>\n",
       "      <th>473</th>\n",
       "      <td>2015</td>\n",
       "      <td>False</td>\n",
       "      <td>200.00</td>\n",
       "    </tr>\n",
       "  </tbody>\n",
       "</table>\n",
       "<p>2098 rows × 3 columns</p>\n",
       "</div>"
      ],
      "text/plain": [
       "      period  is_hybrid     euro\n",
       "1939    2019       True  4700.00\n",
       "1868    2019       True  4485.87\n",
       "1601    2019       True  4480.00\n",
       "1875    2019       True  4480.00\n",
       "1878    2019       True  4480.00\n",
       "...      ...        ...      ...\n",
       "468     2015      False   267.30\n",
       "469     2015      False   247.00\n",
       "471     2015      False   232.50\n",
       "472     2015      False   223.14\n",
       "473     2015      False   200.00\n",
       "\n",
       "[2098 rows x 3 columns]"
      ]
     },
     "execution_count": 69,
     "metadata": {},
     "output_type": "execute_result"
    }
   ],
   "source": [
    "graph_data_df"
   ]
  },
  {
   "cell_type": "code",
   "execution_count": 70,
   "metadata": {},
   "outputs": [],
   "source": [
    "graph_data_gold = graph_data_df.loc[graph_data_df['is_hybrid'] == False,:]"
   ]
  },
  {
   "cell_type": "code",
   "execution_count": 71,
   "metadata": {},
   "outputs": [
    {
     "data": {
      "text/html": [
       "<div>\n",
       "<style scoped>\n",
       "    .dataframe tbody tr th:only-of-type {\n",
       "        vertical-align: middle;\n",
       "    }\n",
       "\n",
       "    .dataframe tbody tr th {\n",
       "        vertical-align: top;\n",
       "    }\n",
       "\n",
       "    .dataframe thead th {\n",
       "        text-align: right;\n",
       "    }\n",
       "</style>\n",
       "<table border=\"1\" class=\"dataframe\">\n",
       "  <thead>\n",
       "    <tr style=\"text-align: right;\">\n",
       "      <th></th>\n",
       "      <th>period</th>\n",
       "      <th>is_hybrid</th>\n",
       "      <th>euro</th>\n",
       "    </tr>\n",
       "  </thead>\n",
       "  <tbody>\n",
       "    <tr>\n",
       "      <th>1635</th>\n",
       "      <td>2019</td>\n",
       "      <td>False</td>\n",
       "      <td>5148.00</td>\n",
       "    </tr>\n",
       "    <tr>\n",
       "      <th>1622</th>\n",
       "      <td>2019</td>\n",
       "      <td>False</td>\n",
       "      <td>4500.00</td>\n",
       "    </tr>\n",
       "    <tr>\n",
       "      <th>1657</th>\n",
       "      <td>2019</td>\n",
       "      <td>False</td>\n",
       "      <td>4480.00</td>\n",
       "    </tr>\n",
       "    <tr>\n",
       "      <th>1948</th>\n",
       "      <td>2019</td>\n",
       "      <td>False</td>\n",
       "      <td>4480.00</td>\n",
       "    </tr>\n",
       "    <tr>\n",
       "      <th>2015</th>\n",
       "      <td>2019</td>\n",
       "      <td>False</td>\n",
       "      <td>4480.00</td>\n",
       "    </tr>\n",
       "    <tr>\n",
       "      <th>...</th>\n",
       "      <td>...</td>\n",
       "      <td>...</td>\n",
       "      <td>...</td>\n",
       "    </tr>\n",
       "    <tr>\n",
       "      <th>468</th>\n",
       "      <td>2015</td>\n",
       "      <td>False</td>\n",
       "      <td>267.30</td>\n",
       "    </tr>\n",
       "    <tr>\n",
       "      <th>469</th>\n",
       "      <td>2015</td>\n",
       "      <td>False</td>\n",
       "      <td>247.00</td>\n",
       "    </tr>\n",
       "    <tr>\n",
       "      <th>471</th>\n",
       "      <td>2015</td>\n",
       "      <td>False</td>\n",
       "      <td>232.50</td>\n",
       "    </tr>\n",
       "    <tr>\n",
       "      <th>472</th>\n",
       "      <td>2015</td>\n",
       "      <td>False</td>\n",
       "      <td>223.14</td>\n",
       "    </tr>\n",
       "    <tr>\n",
       "      <th>473</th>\n",
       "      <td>2015</td>\n",
       "      <td>False</td>\n",
       "      <td>200.00</td>\n",
       "    </tr>\n",
       "  </tbody>\n",
       "</table>\n",
       "<p>1843 rows × 3 columns</p>\n",
       "</div>"
      ],
      "text/plain": [
       "      period  is_hybrid     euro\n",
       "1635    2019      False  5148.00\n",
       "1622    2019      False  4500.00\n",
       "1657    2019      False  4480.00\n",
       "1948    2019      False  4480.00\n",
       "2015    2019      False  4480.00\n",
       "...      ...        ...      ...\n",
       "468     2015      False   267.30\n",
       "469     2015      False   247.00\n",
       "471     2015      False   232.50\n",
       "472     2015      False   223.14\n",
       "473     2015      False   200.00\n",
       "\n",
       "[1843 rows x 3 columns]"
      ]
     },
     "execution_count": 71,
     "metadata": {},
     "output_type": "execute_result"
    }
   ],
   "source": [
    "graph_data_gold"
   ]
  },
  {
   "cell_type": "code",
   "execution_count": 72,
   "metadata": {},
   "outputs": [],
   "source": [
    "graph_data_gold_2019 = graph_data_gold.loc[graph_data_gold['period'] == 2019.0,:]\n",
    "somme_gold_2019 = graph_data_gold_2019['euro'].sum()"
   ]
  },
  {
   "cell_type": "code",
   "execution_count": 73,
   "metadata": {},
   "outputs": [
    {
     "data": {
      "text/plain": [
       "1105484.3"
      ]
     },
     "execution_count": 73,
     "metadata": {},
     "output_type": "execute_result"
    }
   ],
   "source": [
    "somme_gold_2019"
   ]
  },
  {
   "cell_type": "code",
   "execution_count": 74,
   "metadata": {},
   "outputs": [],
   "source": [
    "graph_data_gold_2018 = graph_data_gold.loc[graph_data_gold['period'] == 2018.0,:]\n",
    "somme_gold_2018 = graph_data_gold_2018['euro'].sum()"
   ]
  },
  {
   "cell_type": "code",
   "execution_count": 75,
   "metadata": {},
   "outputs": [
    {
     "data": {
      "text/plain": [
       "781361.5700000001"
      ]
     },
     "execution_count": 75,
     "metadata": {},
     "output_type": "execute_result"
    }
   ],
   "source": [
    "somme_gold_2018"
   ]
  },
  {
   "cell_type": "code",
   "execution_count": 76,
   "metadata": {},
   "outputs": [],
   "source": [
    "graph_data_gold_2017 = graph_data_gold.loc[graph_data_gold['period'] == 2017.0,:]\n",
    "somme_gold_2017 = graph_data_gold_2017['euro'].sum()"
   ]
  },
  {
   "cell_type": "code",
   "execution_count": 77,
   "metadata": {},
   "outputs": [
    {
     "data": {
      "text/plain": [
       "1042570.37"
      ]
     },
     "execution_count": 77,
     "metadata": {},
     "output_type": "execute_result"
    }
   ],
   "source": [
    "somme_gold_2017"
   ]
  },
  {
   "cell_type": "code",
   "execution_count": 78,
   "metadata": {},
   "outputs": [],
   "source": [
    "graph_data_gold_2015 = graph_data_gold.loc[graph_data_gold['period'] == 2015.0,:]\n",
    "somme_gold_2015 = graph_data_gold_2015['euro'].sum()"
   ]
  },
  {
   "cell_type": "code",
   "execution_count": 79,
   "metadata": {},
   "outputs": [
    {
     "data": {
      "text/plain": [
       "645550.9400000001"
      ]
     },
     "execution_count": 79,
     "metadata": {},
     "output_type": "execute_result"
    }
   ],
   "source": [
    "somme_gold_2015"
   ]
  },
  {
   "cell_type": "code",
   "execution_count": 80,
   "metadata": {},
   "outputs": [],
   "source": [
    "graph_data_hybrid = graph_data_df.loc[graph_data_df['is_hybrid'] == True,:]"
   ]
  },
  {
   "cell_type": "code",
   "execution_count": 81,
   "metadata": {},
   "outputs": [
    {
     "data": {
      "text/html": [
       "<div>\n",
       "<style scoped>\n",
       "    .dataframe tbody tr th:only-of-type {\n",
       "        vertical-align: middle;\n",
       "    }\n",
       "\n",
       "    .dataframe tbody tr th {\n",
       "        vertical-align: top;\n",
       "    }\n",
       "\n",
       "    .dataframe thead th {\n",
       "        text-align: right;\n",
       "    }\n",
       "</style>\n",
       "<table border=\"1\" class=\"dataframe\">\n",
       "  <thead>\n",
       "    <tr style=\"text-align: right;\">\n",
       "      <th></th>\n",
       "      <th>period</th>\n",
       "      <th>is_hybrid</th>\n",
       "      <th>euro</th>\n",
       "    </tr>\n",
       "  </thead>\n",
       "  <tbody>\n",
       "    <tr>\n",
       "      <th>1939</th>\n",
       "      <td>2019</td>\n",
       "      <td>True</td>\n",
       "      <td>4700.00</td>\n",
       "    </tr>\n",
       "    <tr>\n",
       "      <th>1868</th>\n",
       "      <td>2019</td>\n",
       "      <td>True</td>\n",
       "      <td>4485.87</td>\n",
       "    </tr>\n",
       "    <tr>\n",
       "      <th>1601</th>\n",
       "      <td>2019</td>\n",
       "      <td>True</td>\n",
       "      <td>4480.00</td>\n",
       "    </tr>\n",
       "    <tr>\n",
       "      <th>1875</th>\n",
       "      <td>2019</td>\n",
       "      <td>True</td>\n",
       "      <td>4480.00</td>\n",
       "    </tr>\n",
       "    <tr>\n",
       "      <th>1878</th>\n",
       "      <td>2019</td>\n",
       "      <td>True</td>\n",
       "      <td>4480.00</td>\n",
       "    </tr>\n",
       "    <tr>\n",
       "      <th>...</th>\n",
       "      <td>...</td>\n",
       "      <td>...</td>\n",
       "      <td>...</td>\n",
       "    </tr>\n",
       "    <tr>\n",
       "      <th>446</th>\n",
       "      <td>2015</td>\n",
       "      <td>True</td>\n",
       "      <td>741.00</td>\n",
       "    </tr>\n",
       "    <tr>\n",
       "      <th>447</th>\n",
       "      <td>2015</td>\n",
       "      <td>True</td>\n",
       "      <td>734.00</td>\n",
       "    </tr>\n",
       "    <tr>\n",
       "      <th>458</th>\n",
       "      <td>2015</td>\n",
       "      <td>True</td>\n",
       "      <td>536.90</td>\n",
       "    </tr>\n",
       "    <tr>\n",
       "      <th>461</th>\n",
       "      <td>2015</td>\n",
       "      <td>True</td>\n",
       "      <td>450.00</td>\n",
       "    </tr>\n",
       "    <tr>\n",
       "      <th>467</th>\n",
       "      <td>2015</td>\n",
       "      <td>True</td>\n",
       "      <td>268.00</td>\n",
       "    </tr>\n",
       "  </tbody>\n",
       "</table>\n",
       "<p>255 rows × 3 columns</p>\n",
       "</div>"
      ],
      "text/plain": [
       "      period  is_hybrid     euro\n",
       "1939    2019       True  4700.00\n",
       "1868    2019       True  4485.87\n",
       "1601    2019       True  4480.00\n",
       "1875    2019       True  4480.00\n",
       "1878    2019       True  4480.00\n",
       "...      ...        ...      ...\n",
       "446     2015       True   741.00\n",
       "447     2015       True   734.00\n",
       "458     2015       True   536.90\n",
       "461     2015       True   450.00\n",
       "467     2015       True   268.00\n",
       "\n",
       "[255 rows x 3 columns]"
      ]
     },
     "execution_count": 81,
     "metadata": {},
     "output_type": "execute_result"
    }
   ],
   "source": [
    "graph_data_hybrid"
   ]
  },
  {
   "cell_type": "code",
   "execution_count": 82,
   "metadata": {},
   "outputs": [],
   "source": [
    "graph_data_hybrid_2019 = graph_data_hybrid.loc[graph_data_hybrid['period'] == 2019.0,:]\n",
    "somme_hybrid_2019 = graph_data_hybrid_2019['euro'].sum()"
   ]
  },
  {
   "cell_type": "code",
   "execution_count": 83,
   "metadata": {},
   "outputs": [
    {
     "data": {
      "text/plain": [
       "158720.41999999998"
      ]
     },
     "execution_count": 83,
     "metadata": {},
     "output_type": "execute_result"
    }
   ],
   "source": [
    "somme_hybrid_2019"
   ]
  },
  {
   "cell_type": "code",
   "execution_count": 84,
   "metadata": {},
   "outputs": [],
   "source": [
    "graph_data_hybrid_2018 = graph_data_hybrid.loc[graph_data_hybrid['period'] == 2018.0,:]\n",
    "somme_hybrid_2018 = graph_data_hybrid_2018['euro'].sum()"
   ]
  },
  {
   "cell_type": "code",
   "execution_count": 85,
   "metadata": {},
   "outputs": [
    {
     "data": {
      "text/plain": [
       "141293.34"
      ]
     },
     "execution_count": 85,
     "metadata": {},
     "output_type": "execute_result"
    }
   ],
   "source": [
    "somme_hybrid_2018"
   ]
  },
  {
   "cell_type": "code",
   "execution_count": 86,
   "metadata": {},
   "outputs": [],
   "source": [
    "graph_data_hybrid_2017 = graph_data_hybrid.loc[graph_data_hybrid['period'] == 2017.0,:]\n",
    "somme_hybrid_2017 = graph_data_hybrid_2017['euro'].sum()"
   ]
  },
  {
   "cell_type": "code",
   "execution_count": 87,
   "metadata": {},
   "outputs": [
    {
     "data": {
      "text/plain": [
       "166908.78"
      ]
     },
     "execution_count": 87,
     "metadata": {},
     "output_type": "execute_result"
    }
   ],
   "source": [
    "somme_hybrid_2017"
   ]
  },
  {
   "cell_type": "code",
   "execution_count": 88,
   "metadata": {},
   "outputs": [],
   "source": [
    "graph_data_hybrid_2015 = graph_data_hybrid.loc[graph_data_hybrid['period'] == 2015.0,:]\n",
    "somme_hybrid_2015 = graph_data_hybrid_2015['euro'].sum()"
   ]
  },
  {
   "cell_type": "code",
   "execution_count": 89,
   "metadata": {},
   "outputs": [
    {
     "data": {
      "text/plain": [
       "172639.52000000002"
      ]
     },
     "execution_count": 89,
     "metadata": {},
     "output_type": "execute_result"
    }
   ],
   "source": [
    "somme_hybrid_2015"
   ]
  },
  {
   "cell_type": "code",
   "execution_count": 90,
   "metadata": {},
   "outputs": [
    {
     "name": "stderr",
     "output_type": "stream",
     "text": [
      "C:\\Users\\juliette.janes\\AppData\\Local\\Temp\\ipykernel_18296\\4222670905.py:22: UserWarning: FixedFormatter should only be used together with FixedLocator\n",
      "  ax.yaxis.set_ticklabels(['0', '200 000', '400 000', '600 000', '800 000', '1 000 000', '1 200 000', '1 400 000', '1 600 000'])\n"
     ]
    },
    {
     "data": {
      "image/png": "[encoded data removed]",
      "text/plain": [
       "<Figure size 640x480 with 1 Axes>"
      ]
     },
     "metadata": {},
     "output_type": "display_data"
    }
   ],
   "source": [
    "import matplotlib.pyplot as plt\n",
    "import numpy as np\n",
    "\n",
    "\n",
    "labels = ['2015', '2016', '2017', '2018', '2019', '2020']\n",
    "gold = [somme_gold_2015, 902802, somme_gold_2017, somme_gold_2018, somme_gold_2019, 1529664]\n",
    "hybrid = [somme_hybrid_2015, 179945, somme_hybrid_2017, somme_hybrid_2018, somme_hybrid_2019, 303541]\n",
    "\n",
    "x = np.arange(len(labels))  # the label locations\n",
    "width = 0.35  # the width of the bars\n",
    "\n",
    "fig, ax = plt.subplots()\n",
    "rects1 = ax.bar(x - width/2, gold, width, label='Gold')\n",
    "rects2 = ax.bar(x + width/2, hybrid, width, label='Hybride')\n",
    "\n",
    "# Add some text for labels, title and custom x-axis tick labels, etc.\n",
    "ax.set_ylabel('Montant en euros')\n",
    "ax.set_title('Totaux des APC pour publications Gold et Hybrides')\n",
    "ax.set_xticks(x)\n",
    "ax.set_xticklabels(labels)\n",
    "ax.set_ylim(0, 1600000)\n",
    "ax.yaxis.set_ticklabels(['0', '200 000', '400 000', '600 000', '800 000', '1 000 000', '1 200 000', '1 400 000', '1 600 000'])\n",
    "ax.legend()\n",
    "#ax.bar_label(rects1, padding=3)\n",
    "#ax.bar_label(rects2, padding=3)\n",
    "\n",
    "fig.tight_layout()\n",
    "\n",
    "#plt.show()\n",
    "\n",
    "#plt.savefig('./Totaux_APC_Gold_Hybride_20211110.png', dpi=100, bbox_inches='tight', pad_inches=0.9)"
   ]
  },
  {
   "cell_type": "code",
   "execution_count": null,
   "metadata": {},
   "outputs": [],
   "source": []
  },
  {
   "cell_type": "code",
   "execution_count": null,
   "metadata": {},
   "outputs": [],
   "source": []
  }
 ],
 "metadata": {
  "kernelspec": {
   "display_name": "Python 3 (ipykernel)",
   "language": "python",
   "name": "python3"
  },
  "language_info": {
   "codemirror_mode": {
    "name": "ipython",
    "version": 3
   },
   "file_extension": ".py",
   "mimetype": "text/x-python",
   "name": "python",
   "nbconvert_exporter": "python",
   "pygments_lexer": "ipython3",
   "version": "3.9.12"
  }
 },
 "nbformat": 4,
 "nbformat_minor": 4
}
