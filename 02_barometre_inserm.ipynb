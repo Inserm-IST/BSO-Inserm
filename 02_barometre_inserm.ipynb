{
 "cells": [
  {
   "cell_type": "markdown",
   "metadata": {},
   "source": [
    "# <span style=\"color:orange\">Appliquer le code du Baromètre de la Science Ouverte aux données de l'Inserm</span>"
   ]
  },
  {
   "cell_type": "markdown",
   "metadata": {},
   "source": [
    "Après réception du fichier csv contenant la liste de DOI enrichie (ajout du titre, des auteurs, de l'année, du statut open access...) de la part du MESRI, les graphiques peuvent être générés directement depuis le Baromètre national (voir le mode d'emploi sur la partie \"déclinaisons locales\" du site web du BSO national).\n",
    "Néanmoins, à partir de ce fichier, certains graphiques réalisés pour le Baromètre Inserm peuvent toujours être générés et mis à jour en suivant ce code.\n",
    "Il suffit de remplacer \"inserm\" par le nom de son établissement à l'intérieur du code.\n",
    "\n",
    "Les résultats obtenus ici sont le reflet de la situation d'ouverture des publications en décembre 2021, date à laquelle les dernières extractions ont été réalisées. Le Baromètre national et, par extension, ses déclinaisons locales depuis le portail national, étant mis à jour régulièrement, les taux affichés sur les graphiques ci-dessous sont obsolètes."
   ]
  },
  {
   "cell_type": "code",
   "execution_count": 1,
   "metadata": {},
   "outputs": [],
   "source": [
    "import pandas as pd"
   ]
  },
  {
   "cell_type": "code",
   "execution_count": 2,
   "metadata": {},
   "outputs": [],
   "source": [
    "import csv"
   ]
  },
  {
   "cell_type": "code",
   "execution_count": 3,
   "metadata": {},
   "outputs": [],
   "source": [
    "%matplotlib inline\n",
    "import pandas as pd\n",
    "import matplotlib\n",
    "import matplotlib.pyplot as plt\n",
    "import numpy as np"
   ]
  },
  {
   "cell_type": "markdown",
   "metadata": {},
   "source": [
    "## <span style=\"color:orange\">Importer dans le notebook les données préalablement traitées</span>"
   ]
  },
  {
   "cell_type": "code",
   "execution_count": 4,
   "metadata": {},
   "outputs": [],
   "source": [
    "publis_inserm_df = pd.read_csv(\"Data/raw/bso-publications-latest_180036048_enriched.csv\")"
   ]
  },
  {
   "cell_type": "markdown",
   "metadata": {},
   "source": [
    "## <span style=\"color:orange\">Générer les graphiques</span>"
   ]
  },
  {
   "cell_type": "markdown",
   "metadata": {},
   "source": [
    "Les graphiques présents sur le site du Baromètre national ont été écrits en JavaScript. Afin de rendre plus facile l'utilisation de ce Baromètre local, la génération des graphiques a été ici pensée en Python, grâce aux librairies Pandas et Matplotlib."
   ]
  },
  {
   "cell_type": "markdown",
   "metadata": {},
   "source": [
    "Proportion des publications 2020 en accès ouvert"
   ]
  },
  {
   "cell_type": "code",
   "execution_count": 5,
   "metadata": {},
   "outputs": [],
   "source": [
    "pie_data = publis_inserm_df.loc[publis_inserm_df['year'] == 2020.0,:]"
   ]
  },
  {
   "cell_type": "markdown",
   "metadata": {},
   "source": [
    "Récuperer les différentes valeurs qui nous intéressent:\n",
    "    - closed = l'article n'est pas en accès ouvert/dans un journal non ouvert\n",
    "    - gold_journal = l'article est dans un journal gold\n",
    "        - gold_gold : gold + gold\n",
    "        - gold_archives_ouvertes : gold + archives ouvertes\n",
    "    - free: libre éditeur\n",
    "        - free_archives_ouvertes: free + archives ouvertes\n",
    "        - free_freepubli : free + free\n",
    "    - archives ouvertes simple"
   ]
  },
  {
   "cell_type": "code",
   "execution_count": 6,
   "metadata": {},
   "outputs": [
    {
     "data": {
      "text/plain": [
       "False     4486\n",
       "True     13738\n",
       "Name: is_oa, dtype: int64"
      ]
     },
     "execution_count": 6,
     "metadata": {},
     "output_type": "execute_result"
    }
   ],
   "source": [
    "oa_yes_no = pie_data['is_oa'].value_counts().sort_index()\n",
    "oa_yes_no"
   ]
  },
  {
   "cell_type": "code",
   "execution_count": 7,
   "metadata": {},
   "outputs": [],
   "source": [
    "oa_no = pie_data.loc[pie_data['is_oa'] == False,:]\n",
    "oa_yes = pie_data.loc[pie_data['is_oa'] == True,:]\n",
    "free = oa_yes.loc[oa_yes['journal_is_in_doaj'] == False,:]\n",
    "repository = pie_data.loc[pie_data['oa_host_type'] == 'repository',:]"
   ]
  },
  {
   "cell_type": "code",
   "execution_count": 8,
   "metadata": {},
   "outputs": [
    {
     "name": "stderr",
     "output_type": "stream",
     "text": [
      "<ipython-input-8-4697ebd9d592>:1: SettingWithCopyWarning: \n",
      "A value is trying to be set on a copy of a slice from a DataFrame.\n",
      "Try using .loc[row_indexer,col_indexer] = value instead\n",
      "\n",
      "See the caveats in the documentation: https://pandas.pydata.org/pandas-docs/stable/user_guide/indexing.html#returning-a-view-versus-a-copy\n",
      "  pie_data['oa_yes'] = pie_data.is_oa == True\n",
      "<ipython-input-8-4697ebd9d592>:2: SettingWithCopyWarning: \n",
      "A value is trying to be set on a copy of a slice from a DataFrame.\n",
      "Try using .loc[row_indexer,col_indexer] = value instead\n",
      "\n",
      "See the caveats in the documentation: https://pandas.pydata.org/pandas-docs/stable/user_guide/indexing.html#returning-a-view-versus-a-copy\n",
      "  pie_data['oa_no'] = pie_data.is_oa == False\n",
      "<ipython-input-8-4697ebd9d592>:3: SettingWithCopyWarning: \n",
      "A value is trying to be set on a copy of a slice from a DataFrame.\n",
      "Try using .loc[row_indexer,col_indexer] = value instead\n",
      "\n",
      "See the caveats in the documentation: https://pandas.pydata.org/pandas-docs/stable/user_guide/indexing.html#returning-a-view-versus-a-copy\n",
      "  pie_data['gold'] = pie_data.journal_is_in_doaj == True\n",
      "<ipython-input-8-4697ebd9d592>:4: SettingWithCopyWarning: \n",
      "A value is trying to be set on a copy of a slice from a DataFrame.\n",
      "Try using .loc[row_indexer,col_indexer] = value instead\n",
      "\n",
      "See the caveats in the documentation: https://pandas.pydata.org/pandas-docs/stable/user_guide/indexing.html#returning-a-view-versus-a-copy\n",
      "  pie_data['free'] = oa_yes.journal_is_in_doaj == False\n",
      "<ipython-input-8-4697ebd9d592>:6: SettingWithCopyWarning: \n",
      "A value is trying to be set on a copy of a slice from a DataFrame.\n",
      "Try using .loc[row_indexer,col_indexer] = value instead\n",
      "\n",
      "See the caveats in the documentation: https://pandas.pydata.org/pandas-docs/stable/user_guide/indexing.html#returning-a-view-versus-a-copy\n",
      "  pie_data['repository'] = pie_data.oa_host_type == 'repository'\n"
     ]
    }
   ],
   "source": [
    "pie_data['oa_yes'] = pie_data.is_oa == True\n",
    "pie_data['oa_no'] = pie_data.is_oa == False\n",
    "pie_data['gold'] = pie_data.journal_is_in_doaj == True\n",
    "pie_data['free'] = oa_yes.journal_is_in_doaj == False\n",
    "#pie_data['repository'] = free.oa_type == 'repository'\n",
    "pie_data['repository'] = pie_data.oa_host_type == 'repository'"
   ]
  },
  {
   "cell_type": "code",
   "execution_count": 9,
   "metadata": {},
   "outputs": [
    {
     "data": {
      "text/html": [
       "<div>\n",
       "<style scoped>\n",
       "    .dataframe tbody tr th:only-of-type {\n",
       "        vertical-align: middle;\n",
       "    }\n",
       "\n",
       "    .dataframe tbody tr th {\n",
       "        vertical-align: top;\n",
       "    }\n",
       "\n",
       "    .dataframe thead th {\n",
       "        text-align: right;\n",
       "    }\n",
       "</style>\n",
       "<table border=\"1\" class=\"dataframe\">\n",
       "  <thead>\n",
       "    <tr style=\"text-align: right;\">\n",
       "      <th></th>\n",
       "      <th>acces_ferme</th>\n",
       "      <th>publications_gold</th>\n",
       "      <th>publications_free</th>\n",
       "      <th>depots_archives_ouvertes</th>\n",
       "    </tr>\n",
       "  </thead>\n",
       "  <tbody>\n",
       "    <tr>\n",
       "      <th>12331</th>\n",
       "      <td>False</td>\n",
       "      <td>False</td>\n",
       "      <td>True</td>\n",
       "      <td>False</td>\n",
       "    </tr>\n",
       "    <tr>\n",
       "      <th>22341</th>\n",
       "      <td>False</td>\n",
       "      <td>False</td>\n",
       "      <td>True</td>\n",
       "      <td>True</td>\n",
       "    </tr>\n",
       "    <tr>\n",
       "      <th>24337</th>\n",
       "      <td>True</td>\n",
       "      <td>False</td>\n",
       "      <td>NaN</td>\n",
       "      <td>False</td>\n",
       "    </tr>\n",
       "    <tr>\n",
       "      <th>29762</th>\n",
       "      <td>False</td>\n",
       "      <td>False</td>\n",
       "      <td>True</td>\n",
       "      <td>False</td>\n",
       "    </tr>\n",
       "    <tr>\n",
       "      <th>31571</th>\n",
       "      <td>False</td>\n",
       "      <td>False</td>\n",
       "      <td>True</td>\n",
       "      <td>False</td>\n",
       "    </tr>\n",
       "    <tr>\n",
       "      <th>...</th>\n",
       "      <td>...</td>\n",
       "      <td>...</td>\n",
       "      <td>...</td>\n",
       "      <td>...</td>\n",
       "    </tr>\n",
       "    <tr>\n",
       "      <th>83971</th>\n",
       "      <td>True</td>\n",
       "      <td>False</td>\n",
       "      <td>NaN</td>\n",
       "      <td>False</td>\n",
       "    </tr>\n",
       "    <tr>\n",
       "      <th>83972</th>\n",
       "      <td>True</td>\n",
       "      <td>False</td>\n",
       "      <td>NaN</td>\n",
       "      <td>False</td>\n",
       "    </tr>\n",
       "    <tr>\n",
       "      <th>83978</th>\n",
       "      <td>True</td>\n",
       "      <td>False</td>\n",
       "      <td>NaN</td>\n",
       "      <td>False</td>\n",
       "    </tr>\n",
       "    <tr>\n",
       "      <th>84002</th>\n",
       "      <td>False</td>\n",
       "      <td>False</td>\n",
       "      <td>True</td>\n",
       "      <td>True</td>\n",
       "    </tr>\n",
       "    <tr>\n",
       "      <th>84013</th>\n",
       "      <td>True</td>\n",
       "      <td>False</td>\n",
       "      <td>NaN</td>\n",
       "      <td>False</td>\n",
       "    </tr>\n",
       "  </tbody>\n",
       "</table>\n",
       "<p>18224 rows × 4 columns</p>\n",
       "</div>"
      ],
      "text/plain": [
       "       acces_ferme  publications_gold publications_free  \\\n",
       "12331        False              False              True   \n",
       "22341        False              False              True   \n",
       "24337         True              False               NaN   \n",
       "29762        False              False              True   \n",
       "31571        False              False              True   \n",
       "...            ...                ...               ...   \n",
       "83971         True              False               NaN   \n",
       "83972         True              False               NaN   \n",
       "83978         True              False               NaN   \n",
       "84002        False              False              True   \n",
       "84013         True              False               NaN   \n",
       "\n",
       "       depots_archives_ouvertes  \n",
       "12331                     False  \n",
       "22341                      True  \n",
       "24337                     False  \n",
       "29762                     False  \n",
       "31571                     False  \n",
       "...                         ...  \n",
       "83971                     False  \n",
       "83972                     False  \n",
       "83978                     False  \n",
       "84002                      True  \n",
       "84013                     False  \n",
       "\n",
       "[18224 rows x 4 columns]"
      ]
     },
     "execution_count": 9,
     "metadata": {},
     "output_type": "execute_result"
    }
   ],
   "source": [
    "pie_data_ext = pd.DataFrame({'acces_ferme' : pie_data['oa_no'],\n",
    "                   'publications_gold' : pie_data['gold'],\n",
    "                   'publications_free' : pie_data['free'],\n",
    "                   'depots_archives_ouvertes' : pie_data['repository']           \n",
    "                            })\n",
    "pie_data_ext"
   ]
  },
  {
   "cell_type": "code",
   "execution_count": 10,
   "metadata": {},
   "outputs": [
    {
     "data": {
      "text/plain": [
       "acces_ferme  publications_gold  publications_free  depots_archives_ouvertes\n",
       "False        False              True               False                       5430\n",
       "                                                   True                        2438\n",
       "             True               False              False                       5849\n",
       "                                                   True                          21\n",
       "True         False              False              False                       4486\n",
       "dtype: int64"
      ]
     },
     "execution_count": 10,
     "metadata": {},
     "output_type": "execute_result"
    }
   ],
   "source": [
    "pie_data_ext_chiffres_2 = pie_data_ext.value_counts([pie_data_ext.acces_ferme == True,\n",
    "                                                               pie_data_ext.publications_gold == True,\n",
    "                                                               pie_data_ext.publications_free == True,\n",
    "                                                               pie_data_ext.depots_archives_ouvertes == True]).sort_index()\n",
    "pie_data_ext_chiffres_2"
   ]
  },
  {
   "cell_type": "code",
   "execution_count": 11,
   "metadata": {},
   "outputs": [],
   "source": [
    "oa_no = pie_data.loc[pie_data['is_oa'] == False,:]\n",
    "gold = pie_data_ext.loc[pie_data_ext['publications_gold'] == True,:]\n",
    "publications_free = pie_data_ext.loc[pie_data_ext['publications_free'] == True,:]\n",
    "free = oa_yes.loc[oa_yes['journal_is_in_doaj'] == False,:]"
   ]
  },
  {
   "cell_type": "code",
   "execution_count": 12,
   "metadata": {},
   "outputs": [],
   "source": [
    "repository=pie_data.loc[pie_data['repository'] == True,:]"
   ]
  },
  {
   "cell_type": "code",
   "execution_count": 13,
   "metadata": {},
   "outputs": [],
   "source": [
    "pie_data_ext['gold'] = pie_data_ext.publications_gold == True\n",
    "pie_data_ext['oa_no'] = pie_data.is_oa == False\n",
    "pie_data_ext['gold_seul'] = gold.depots_archives_ouvertes == False\n",
    "pie_data_ext['gold_rep'] = gold.depots_archives_ouvertes == True\n",
    "pie_data_ext['free_publi'] = publications_free.depots_archives_ouvertes == False\n",
    "pie_data_ext['free_rep'] = publications_free.depots_archives_ouvertes == True\n",
    "pie_data_ext['repository'] = pie_data.oa_host_type == 'repository' "
   ]
  },
  {
   "cell_type": "code",
   "execution_count": 14,
   "metadata": {},
   "outputs": [],
   "source": [
    "closed = pie_data.loc[pie_data['is_oa'] == False,:]\n",
    "gold = pie_data.loc[pie_data['journal_is_in_doaj'] == True,:]\n",
    "gold_seul = gold.loc[gold['oa_host_type'] == 'publisher',:]\n",
    "gold_rep = gold.loc[gold['oa_host_type'] == 'publisher;repository',:] \n",
    "free_publi = free.loc[free['oa_host_type'] == 'publisher',:]\n",
    "free_rep = free.loc[free['oa_host_type'] =='publisher;repository',:]\n",
    "rep_seul = pie_data.loc[pie_data['oa_host_type'] == 'repository',:]"
   ]
  },
  {
   "cell_type": "code",
   "execution_count": 15,
   "metadata": {},
   "outputs": [
    {
     "data": {
      "text/html": [
       "<div>\n",
       "<style scoped>\n",
       "    .dataframe tbody tr th:only-of-type {\n",
       "        vertical-align: middle;\n",
       "    }\n",
       "\n",
       "    .dataframe tbody tr th {\n",
       "        vertical-align: top;\n",
       "    }\n",
       "\n",
       "    .dataframe thead th {\n",
       "        text-align: right;\n",
       "    }\n",
       "</style>\n",
       "<table border=\"1\" class=\"dataframe\">\n",
       "  <thead>\n",
       "    <tr style=\"text-align: right;\">\n",
       "      <th></th>\n",
       "      <th>acces_ferme</th>\n",
       "      <th>publications_gold_seules</th>\n",
       "      <th>publications_gold_archives_ouvertes</th>\n",
       "      <th>publications_free_editeurs</th>\n",
       "      <th>publications_free_archives_ouvertes</th>\n",
       "      <th>publications_archives_ouvertes</th>\n",
       "    </tr>\n",
       "  </thead>\n",
       "  <tbody>\n",
       "    <tr>\n",
       "      <th>12331</th>\n",
       "      <td>NaN</td>\n",
       "      <td>NaN</td>\n",
       "      <td>NaN</td>\n",
       "      <td>publisher</td>\n",
       "      <td>NaN</td>\n",
       "      <td>NaN</td>\n",
       "    </tr>\n",
       "    <tr>\n",
       "      <th>22341</th>\n",
       "      <td>NaN</td>\n",
       "      <td>NaN</td>\n",
       "      <td>NaN</td>\n",
       "      <td>NaN</td>\n",
       "      <td>NaN</td>\n",
       "      <td>repository</td>\n",
       "    </tr>\n",
       "    <tr>\n",
       "      <th>24337</th>\n",
       "      <td>closed</td>\n",
       "      <td>NaN</td>\n",
       "      <td>NaN</td>\n",
       "      <td>NaN</td>\n",
       "      <td>NaN</td>\n",
       "      <td>NaN</td>\n",
       "    </tr>\n",
       "    <tr>\n",
       "      <th>29762</th>\n",
       "      <td>NaN</td>\n",
       "      <td>NaN</td>\n",
       "      <td>NaN</td>\n",
       "      <td>publisher</td>\n",
       "      <td>NaN</td>\n",
       "      <td>NaN</td>\n",
       "    </tr>\n",
       "    <tr>\n",
       "      <th>31571</th>\n",
       "      <td>NaN</td>\n",
       "      <td>NaN</td>\n",
       "      <td>NaN</td>\n",
       "      <td>publisher</td>\n",
       "      <td>NaN</td>\n",
       "      <td>NaN</td>\n",
       "    </tr>\n",
       "    <tr>\n",
       "      <th>...</th>\n",
       "      <td>...</td>\n",
       "      <td>...</td>\n",
       "      <td>...</td>\n",
       "      <td>...</td>\n",
       "      <td>...</td>\n",
       "      <td>...</td>\n",
       "    </tr>\n",
       "    <tr>\n",
       "      <th>83971</th>\n",
       "      <td>closed</td>\n",
       "      <td>NaN</td>\n",
       "      <td>NaN</td>\n",
       "      <td>NaN</td>\n",
       "      <td>NaN</td>\n",
       "      <td>NaN</td>\n",
       "    </tr>\n",
       "    <tr>\n",
       "      <th>83972</th>\n",
       "      <td>closed</td>\n",
       "      <td>NaN</td>\n",
       "      <td>NaN</td>\n",
       "      <td>NaN</td>\n",
       "      <td>NaN</td>\n",
       "      <td>NaN</td>\n",
       "    </tr>\n",
       "    <tr>\n",
       "      <th>83978</th>\n",
       "      <td>closed</td>\n",
       "      <td>NaN</td>\n",
       "      <td>NaN</td>\n",
       "      <td>NaN</td>\n",
       "      <td>NaN</td>\n",
       "      <td>NaN</td>\n",
       "    </tr>\n",
       "    <tr>\n",
       "      <th>84002</th>\n",
       "      <td>NaN</td>\n",
       "      <td>NaN</td>\n",
       "      <td>NaN</td>\n",
       "      <td>NaN</td>\n",
       "      <td>NaN</td>\n",
       "      <td>repository</td>\n",
       "    </tr>\n",
       "    <tr>\n",
       "      <th>84013</th>\n",
       "      <td>closed</td>\n",
       "      <td>NaN</td>\n",
       "      <td>NaN</td>\n",
       "      <td>NaN</td>\n",
       "      <td>NaN</td>\n",
       "      <td>NaN</td>\n",
       "    </tr>\n",
       "  </tbody>\n",
       "</table>\n",
       "<p>18224 rows × 6 columns</p>\n",
       "</div>"
      ],
      "text/plain": [
       "      acces_ferme publications_gold_seules  \\\n",
       "12331         NaN                      NaN   \n",
       "22341         NaN                      NaN   \n",
       "24337      closed                      NaN   \n",
       "29762         NaN                      NaN   \n",
       "31571         NaN                      NaN   \n",
       "...           ...                      ...   \n",
       "83971      closed                      NaN   \n",
       "83972      closed                      NaN   \n",
       "83978      closed                      NaN   \n",
       "84002         NaN                      NaN   \n",
       "84013      closed                      NaN   \n",
       "\n",
       "      publications_gold_archives_ouvertes publications_free_editeurs  \\\n",
       "12331                                 NaN                  publisher   \n",
       "22341                                 NaN                        NaN   \n",
       "24337                                 NaN                        NaN   \n",
       "29762                                 NaN                  publisher   \n",
       "31571                                 NaN                  publisher   \n",
       "...                                   ...                        ...   \n",
       "83971                                 NaN                        NaN   \n",
       "83972                                 NaN                        NaN   \n",
       "83978                                 NaN                        NaN   \n",
       "84002                                 NaN                        NaN   \n",
       "84013                                 NaN                        NaN   \n",
       "\n",
       "      publications_free_archives_ouvertes publications_archives_ouvertes  \n",
       "12331                                 NaN                            NaN  \n",
       "22341                                 NaN                     repository  \n",
       "24337                                 NaN                            NaN  \n",
       "29762                                 NaN                            NaN  \n",
       "31571                                 NaN                            NaN  \n",
       "...                                   ...                            ...  \n",
       "83971                                 NaN                            NaN  \n",
       "83972                                 NaN                            NaN  \n",
       "83978                                 NaN                            NaN  \n",
       "84002                                 NaN                     repository  \n",
       "84013                                 NaN                            NaN  \n",
       "\n",
       "[18224 rows x 6 columns]"
      ]
     },
     "execution_count": 15,
     "metadata": {},
     "output_type": "execute_result"
    }
   ],
   "source": [
    "pie_data_int = pd.DataFrame({'acces_ferme' : closed['oa_host_type'],\n",
    "                   'publications_gold_seules' : gold_seul['oa_host_type'],\n",
    "                   'publications_gold_archives_ouvertes' : gold_rep['oa_host_type'],          \n",
    "                   'publications_free_editeurs' : free_publi['oa_host_type'],\n",
    "                   'publications_free_archives_ouvertes' : free_rep['oa_host_type'],\n",
    "                   'publications_archives_ouvertes' : rep_seul['oa_host_type']\n",
    "                            })\n",
    "pie_data_int"
   ]
  },
  {
   "cell_type": "code",
   "execution_count": 16,
   "metadata": {},
   "outputs": [
    {
     "data": {
      "text/plain": [
       "acces_ferme  publications_gold_seules  publications_gold_archives_ouvertes  publications_archives_ouvertes  publications_free_editeurs  publications_free_archives_ouvertes\n",
       "False        False                     False                                False                           False                       True                                   3463\n",
       "                                                                                                            True                        False                                  1967\n",
       "                                                                            True                            False                       False                                  2459\n",
       "                                       True                                 False                           False                       False                                  5777\n",
       "             True                      False                                False                           False                       False                                    72\n",
       "True         False                     False                                False                           False                       False                                  4486\n",
       "dtype: int64"
      ]
     },
     "execution_count": 16,
     "metadata": {},
     "output_type": "execute_result"
    }
   ],
   "source": [
    "pie_data_int_chiffres=pie_data_int.value_counts([pie_data_int.acces_ferme == 'closed',\n",
    "                                                               pie_data_int.publications_gold_seules == 'publisher',\n",
    "                                                               pie_data_int.publications_gold_archives_ouvertes == 'publisher;repository',\n",
    "                                                               pie_data_int.publications_archives_ouvertes == 'repository',\n",
    "                                                               pie_data_int.publications_free_editeurs == 'publisher',\n",
    "                                                               pie_data_int.publications_free_archives_ouvertes == 'publisher;repository']).sort_index()\n",
    "pie_data_int_chiffres"
   ]
  },
  {
   "cell_type": "code",
   "execution_count": 18,
   "metadata": {},
   "outputs": [
    {
     "data": {
      "text/plain": [
       "Text(0.55, 1.8, 'Proportion des publications 2019 en accès ouvert (mesuré en 2021)')"
      ]
     },
     "execution_count": 18,
     "metadata": {},
     "output_type": "execute_result"
    },
    {
     "data": {
      "image/png": "[encoded data removed]",
      "text/plain": [
       "<Figure size 600x400 with 1 Axes>"
      ]
     },
     "metadata": {},
     "output_type": "display_data"
    }
   ],
   "source": [
    "fig, ax = plt.subplots(dpi=100)\n",
    "ax.set_aspect('equal')\n",
    "ax.pie(pie_data_ext_chiffres_2, labels=None, radius=3, labeldistance = None, colors=['greenyellow', 'seagreen','gold', 'gold','tomato'], autopct=lambda x: str(round(x, 1)) + '%', pctdistance = 0.9, shadow = True);\n",
    "ax.pie(pie_data_int_chiffres, labels=['Libre éditeur', None,'Archives ouvertes', None,'Gold','Accès fermé'], radius=2.3, labeldistance = None, colors=['greenyellow','seagreen','seagreen','seagreen','gold','tomato'], autopct=lambda x: str(round(x, 1)) + '%', \n",
    "       pctdistance = 0.9);\n",
    "ax.pie([1], radius=1.8, colors='white');\n",
    "ax.legend(loc=\"center\", fontsize = 12)\n",
    "plt.title('Proportion des publications 2019 en accès ouvert (mesuré en 2021)', fontsize = 20, x = 0.55, y = 1.8,\n",
    "          fontweight = 'bold', alpha = 0.6)\n",
    "#plt.savefig('Data/outputs/2019_proportion_publications_oa_20211214.png', dpi=150, bbox_inches='tight', pad_inches=0.9)"
   ]
  },
  {
   "cell_type": "markdown",
   "metadata": {},
   "source": [
    "Taux d'accès ouvert par disciplines 2020"
   ]
  },
  {
   "cell_type": "code",
   "execution_count": 19,
   "metadata": {},
   "outputs": [],
   "source": [
    "publications_2020 = publis_inserm_df.loc[publis_inserm_df['year'] == 2020.0,:]"
   ]
  },
  {
   "cell_type": "code",
   "execution_count": 20,
   "metadata": {},
   "outputs": [
    {
     "data": {
      "text/plain": [
       "Biology (fond.)                                  3342\n",
       "Chemistry                                         361\n",
       "Computer and \\n information sciences               72\n",
       "Earth, Ecology, \\nEnergy and applied biology      148\n",
       "Engineering                                        23\n",
       "Humanities                                         35\n",
       "Mathematics                                        19\n",
       "Medical research                                13827\n",
       "Physical sciences, Astronomy                      225\n",
       "Social sciences                                   172\n",
       "Name: bso_classification, dtype: int64"
      ]
     },
     "execution_count": 20,
     "metadata": {},
     "output_type": "execute_result"
    }
   ],
   "source": [
    "publications_par_domaine_type = publications_2020['bso_classification'].value_counts().sort_index()\n",
    "publications_par_domaine_type"
   ]
  },
  {
   "cell_type": "code",
   "execution_count": 21,
   "metadata": {},
   "outputs": [
    {
     "name": "stderr",
     "output_type": "stream",
     "text": [
      "<ipython-input-21-00a2e5372ff1>:8: SettingWithCopyWarning: \n",
      "A value is trying to be set on a copy of a slice from a DataFrame.\n",
      "Try using .loc[row_indexer,col_indexer] = value instead\n",
      "\n",
      "See the caveats in the documentation: https://pandas.pydata.org/pandas-docs/stable/user_guide/indexing.html#returning-a-view-versus-a-copy\n",
      "  publications_2020['depot'] = np.select(conditionlist, choicelist, default='Not Specified')\n"
     ]
    }
   ],
   "source": [
    "conditionlist = [\n",
    "    (publications_2020['is_oa'] == False) ,\n",
    "    (publications_2020['journal_is_in_doaj'] == True),\n",
    "    ((publications_2020['is_oa'] == True) & (publications_2020['journal_is_in_doaj'] == False) & ((publications_2020['oa_host_type'] == 'publisher') | (publications_2020['oa_host_type'] == 'publisher;repository'))),\n",
    "    (publications_2020['oa_host_type'] == 'repository') \n",
    "    ]\n",
    "choicelist = ['closed', 'gold', 'free', 'rep']\n",
    "publications_2020['depot'] = np.select(conditionlist, choicelist, default='Not Specified')"
   ]
  },
  {
   "cell_type": "code",
   "execution_count": 22,
   "metadata": {},
   "outputs": [
    {
     "data": {
      "text/html": [
       "<div>\n",
       "<style scoped>\n",
       "    .dataframe tbody tr th:only-of-type {\n",
       "        vertical-align: middle;\n",
       "    }\n",
       "\n",
       "    .dataframe tbody tr th {\n",
       "        vertical-align: top;\n",
       "    }\n",
       "\n",
       "    .dataframe thead th {\n",
       "        text-align: right;\n",
       "    }\n",
       "</style>\n",
       "<table border=\"1\" class=\"dataframe\">\n",
       "  <thead>\n",
       "    <tr style=\"text-align: right;\">\n",
       "      <th>depot</th>\n",
       "      <th>closed</th>\n",
       "      <th>free</th>\n",
       "      <th>gold</th>\n",
       "      <th>rep</th>\n",
       "      <th>Total</th>\n",
       "      <th>y_label</th>\n",
       "    </tr>\n",
       "    <tr>\n",
       "      <th>y_label</th>\n",
       "      <th></th>\n",
       "      <th></th>\n",
       "      <th></th>\n",
       "      <th></th>\n",
       "      <th></th>\n",
       "      <th></th>\n",
       "    </tr>\n",
       "  </thead>\n",
       "  <tbody>\n",
       "    <tr>\n",
       "      <th>Sciences de l'Ingénieur\\n23 publications</th>\n",
       "      <td>1</td>\n",
       "      <td>10</td>\n",
       "      <td>1</td>\n",
       "      <td>11</td>\n",
       "      <td>23</td>\n",
       "      <td>Sciences de l'Ingénieur\\n23 publications</td>\n",
       "    </tr>\n",
       "    <tr>\n",
       "      <th>Informatique\\n72 publications</th>\n",
       "      <td>4</td>\n",
       "      <td>9</td>\n",
       "      <td>18</td>\n",
       "      <td>41</td>\n",
       "      <td>72</td>\n",
       "      <td>Informatique\\n72 publications</td>\n",
       "    </tr>\n",
       "    <tr>\n",
       "      <th>Humanités\\n35 publications</th>\n",
       "      <td>8</td>\n",
       "      <td>12</td>\n",
       "      <td>10</td>\n",
       "      <td>5</td>\n",
       "      <td>35</td>\n",
       "      <td>Humanités\\n35 publications</td>\n",
       "    </tr>\n",
       "    <tr>\n",
       "      <th>Mathématiques\\n19 publications</th>\n",
       "      <td>8</td>\n",
       "      <td>4</td>\n",
       "      <td>1</td>\n",
       "      <td>6</td>\n",
       "      <td>19</td>\n",
       "      <td>Mathématiques\\n19 publications</td>\n",
       "    </tr>\n",
       "    <tr>\n",
       "      <th>Sciences de la Terre, Ecologie, \\nEnergie et biologie appliquée\\n148 publications</th>\n",
       "      <td>16</td>\n",
       "      <td>43</td>\n",
       "      <td>50</td>\n",
       "      <td>39</td>\n",
       "      <td>148</td>\n",
       "      <td>Sciences de la Terre, Ecologie, \\nEnergie et b...</td>\n",
       "    </tr>\n",
       "    <tr>\n",
       "      <th>Sciences physiques, astronomie\\n225 publications</th>\n",
       "      <td>20</td>\n",
       "      <td>40</td>\n",
       "      <td>50</td>\n",
       "      <td>115</td>\n",
       "      <td>225</td>\n",
       "      <td>Sciences physiques, astronomie\\n225 publications</td>\n",
       "    </tr>\n",
       "    <tr>\n",
       "      <th>Chimie\\n361 publications</th>\n",
       "      <td>52</td>\n",
       "      <td>85</td>\n",
       "      <td>72</td>\n",
       "      <td>152</td>\n",
       "      <td>361</td>\n",
       "      <td>Chimie\\n361 publications</td>\n",
       "    </tr>\n",
       "    <tr>\n",
       "      <th>Sciences sociales\\n172 publications</th>\n",
       "      <td>65</td>\n",
       "      <td>42</td>\n",
       "      <td>42</td>\n",
       "      <td>23</td>\n",
       "      <td>172</td>\n",
       "      <td>Sciences sociales\\n172 publications</td>\n",
       "    </tr>\n",
       "    <tr>\n",
       "      <th>Biologie (fond.)\\n3342 publications</th>\n",
       "      <td>377</td>\n",
       "      <td>870</td>\n",
       "      <td>1620</td>\n",
       "      <td>475</td>\n",
       "      <td>3342</td>\n",
       "      <td>Biologie (fond.)\\n3342 publications</td>\n",
       "    </tr>\n",
       "    <tr>\n",
       "      <th>Sciences médicales\\n13827 publications</th>\n",
       "      <td>3935</td>\n",
       "      <td>4315</td>\n",
       "      <td>4006</td>\n",
       "      <td>1571</td>\n",
       "      <td>13827</td>\n",
       "      <td>Sciences médicales\\n13827 publications</td>\n",
       "    </tr>\n",
       "  </tbody>\n",
       "</table>\n",
       "</div>"
      ],
      "text/plain": [
       "depot                                               closed  free  gold   rep  \\\n",
       "y_label                                                                        \n",
       "Sciences de l'Ingénieur\\n23 publications                 1    10     1    11   \n",
       "Informatique\\n72 publications                            4     9    18    41   \n",
       "Humanités\\n35 publications                               8    12    10     5   \n",
       "Mathématiques\\n19 publications                           8     4     1     6   \n",
       "Sciences de la Terre, Ecologie, \\nEnergie et bi...      16    43    50    39   \n",
       "Sciences physiques, astronomie\\n225 publications        20    40    50   115   \n",
       "Chimie\\n361 publications                                52    85    72   152   \n",
       "Sciences sociales\\n172 publications                     65    42    42    23   \n",
       "Biologie (fond.)\\n3342 publications                    377   870  1620   475   \n",
       "Sciences médicales\\n13827 publications                3935  4315  4006  1571   \n",
       "\n",
       "depot                                               Total  \\\n",
       "y_label                                                     \n",
       "Sciences de l'Ingénieur\\n23 publications               23   \n",
       "Informatique\\n72 publications                          72   \n",
       "Humanités\\n35 publications                             35   \n",
       "Mathématiques\\n19 publications                         19   \n",
       "Sciences de la Terre, Ecologie, \\nEnergie et bi...    148   \n",
       "Sciences physiques, astronomie\\n225 publications      225   \n",
       "Chimie\\n361 publications                              361   \n",
       "Sciences sociales\\n172 publications                   172   \n",
       "Biologie (fond.)\\n3342 publications                  3342   \n",
       "Sciences médicales\\n13827 publications              13827   \n",
       "\n",
       "depot                                                                                         y_label  \n",
       "y_label                                                                                                \n",
       "Sciences de l'Ingénieur\\n23 publications                     Sciences de l'Ingénieur\\n23 publications  \n",
       "Informatique\\n72 publications                                           Informatique\\n72 publications  \n",
       "Humanités\\n35 publications                                                 Humanités\\n35 publications  \n",
       "Mathématiques\\n19 publications                                         Mathématiques\\n19 publications  \n",
       "Sciences de la Terre, Ecologie, \\nEnergie et bi...  Sciences de la Terre, Ecologie, \\nEnergie et b...  \n",
       "Sciences physiques, astronomie\\n225 publications     Sciences physiques, astronomie\\n225 publications  \n",
       "Chimie\\n361 publications                                                     Chimie\\n361 publications  \n",
       "Sciences sociales\\n172 publications                               Sciences sociales\\n172 publications  \n",
       "Biologie (fond.)\\n3342 publications                               Biologie (fond.)\\n3342 publications  \n",
       "Sciences médicales\\n13827 publications                         Sciences médicales\\n13827 publications  "
      ]
     },
     "execution_count": 22,
     "metadata": {},
     "output_type": "execute_result"
    }
   ],
   "source": [
    "df_oa_discipline_global_type = pd.crosstab([publications_2020['bso_classification']],publications_2020['depot'])\n",
    "# Ajout d'une colonne avec le total par discipline\n",
    "df_oa_discipline_global_type[\"Total\"] = publications_par_domaine_type\n",
    "# Traduction des disciplines en français\n",
    "df_oa_discipline_global_type.rename(index = {'Biology (fond.)': 'Biologie (fond.)', 'Chemistry': 'Chimie', \n",
    "                                         'Computer and \\n information sciences' : 'Informatique',\n",
    "                                       'Earth, Ecology, \\nEnergy and applied biology' : 'Sciences de la Terre, Ecologie, \\nEnergie et biologie appliquée',\n",
    "                                        'Engineering' : \"Sciences de l'Ingénieur\",\n",
    "                                        'Humanities' : 'Humanités',\n",
    "                                        'Mathematics' : 'Mathématiques',\n",
    "                                        'Medical research' : 'Sciences médicales',\n",
    "                                        'Physical sciences, Astronomy' : 'Sciences physiques, astronomie',\n",
    "                                        'Social sciences' : 'Sciences sociales'}, inplace = True)\n",
    "df_oa_discipline_global_type = df_oa_discipline_global_type.sort_values(by='closed', ascending=True)\n",
    "# Ajout d'une colonne qui concatène le nom de la discipline et le total\n",
    "df_oa_discipline_global_type[\"y_label\"] = df_oa_discipline_global_type.index + \"\\n\" + df_oa_discipline_global_type[\"Total\"].apply(str) \\\n",
    "                                     + \" \" + \"publications\"\n",
    "# Réindexation de l'index pour que les bonnes informations s'affichent dans le graphique final\n",
    "df_oa_discipline_global_type.index = df_oa_discipline_global_type[\"y_label\"]\n",
    "df_oa_discipline_global_type"
   ]
  },
  {
   "cell_type": "code",
   "execution_count": 23,
   "metadata": {},
   "outputs": [
    {
     "data": {
      "text/html": [
       "<div>\n",
       "<style scoped>\n",
       "    .dataframe tbody tr th:only-of-type {\n",
       "        vertical-align: middle;\n",
       "    }\n",
       "\n",
       "    .dataframe tbody tr th {\n",
       "        vertical-align: top;\n",
       "    }\n",
       "\n",
       "    .dataframe thead th {\n",
       "        text-align: right;\n",
       "    }\n",
       "</style>\n",
       "<table border=\"1\" class=\"dataframe\">\n",
       "  <thead>\n",
       "    <tr style=\"text-align: right;\">\n",
       "      <th>depot</th>\n",
       "      <th>closed</th>\n",
       "      <th>free</th>\n",
       "      <th>gold</th>\n",
       "      <th>rep</th>\n",
       "      <th>Total</th>\n",
       "      <th>y_label</th>\n",
       "    </tr>\n",
       "    <tr>\n",
       "      <th>y_label</th>\n",
       "      <th></th>\n",
       "      <th></th>\n",
       "      <th></th>\n",
       "      <th></th>\n",
       "      <th></th>\n",
       "      <th></th>\n",
       "    </tr>\n",
       "  </thead>\n",
       "  <tbody>\n",
       "    <tr>\n",
       "      <th>Sciences de l'Ingénieur\\n23 publications</th>\n",
       "      <td>4.3</td>\n",
       "      <td>43.5</td>\n",
       "      <td>4.3</td>\n",
       "      <td>47.8</td>\n",
       "      <td>23</td>\n",
       "      <td>Sciences de l'Ingénieur\\n23 publications</td>\n",
       "    </tr>\n",
       "    <tr>\n",
       "      <th>Informatique\\n72 publications</th>\n",
       "      <td>5.6</td>\n",
       "      <td>12.5</td>\n",
       "      <td>25.0</td>\n",
       "      <td>56.9</td>\n",
       "      <td>72</td>\n",
       "      <td>Informatique\\n72 publications</td>\n",
       "    </tr>\n",
       "    <tr>\n",
       "      <th>Sciences physiques, astronomie\\n225 publications</th>\n",
       "      <td>8.9</td>\n",
       "      <td>17.8</td>\n",
       "      <td>22.2</td>\n",
       "      <td>51.1</td>\n",
       "      <td>225</td>\n",
       "      <td>Sciences physiques, astronomie\\n225 publications</td>\n",
       "    </tr>\n",
       "    <tr>\n",
       "      <th>Sciences de la Terre, Ecologie, \\nEnergie et biologie appliquée\\n148 publications</th>\n",
       "      <td>10.8</td>\n",
       "      <td>29.1</td>\n",
       "      <td>33.8</td>\n",
       "      <td>26.4</td>\n",
       "      <td>148</td>\n",
       "      <td>Sciences de la Terre, Ecologie, \\nEnergie et b...</td>\n",
       "    </tr>\n",
       "    <tr>\n",
       "      <th>Biologie (fond.)\\n3342 publications</th>\n",
       "      <td>11.3</td>\n",
       "      <td>26.0</td>\n",
       "      <td>48.5</td>\n",
       "      <td>14.2</td>\n",
       "      <td>3342</td>\n",
       "      <td>Biologie (fond.)\\n3342 publications</td>\n",
       "    </tr>\n",
       "    <tr>\n",
       "      <th>Chimie\\n361 publications</th>\n",
       "      <td>14.4</td>\n",
       "      <td>23.5</td>\n",
       "      <td>19.9</td>\n",
       "      <td>42.1</td>\n",
       "      <td>361</td>\n",
       "      <td>Chimie\\n361 publications</td>\n",
       "    </tr>\n",
       "    <tr>\n",
       "      <th>Humanités\\n35 publications</th>\n",
       "      <td>22.9</td>\n",
       "      <td>34.3</td>\n",
       "      <td>28.6</td>\n",
       "      <td>14.3</td>\n",
       "      <td>35</td>\n",
       "      <td>Humanités\\n35 publications</td>\n",
       "    </tr>\n",
       "    <tr>\n",
       "      <th>Sciences médicales\\n13827 publications</th>\n",
       "      <td>28.5</td>\n",
       "      <td>31.2</td>\n",
       "      <td>29.0</td>\n",
       "      <td>11.4</td>\n",
       "      <td>13827</td>\n",
       "      <td>Sciences médicales\\n13827 publications</td>\n",
       "    </tr>\n",
       "    <tr>\n",
       "      <th>Sciences sociales\\n172 publications</th>\n",
       "      <td>37.8</td>\n",
       "      <td>24.4</td>\n",
       "      <td>24.4</td>\n",
       "      <td>13.4</td>\n",
       "      <td>172</td>\n",
       "      <td>Sciences sociales\\n172 publications</td>\n",
       "    </tr>\n",
       "    <tr>\n",
       "      <th>Mathématiques\\n19 publications</th>\n",
       "      <td>42.1</td>\n",
       "      <td>21.1</td>\n",
       "      <td>5.3</td>\n",
       "      <td>31.6</td>\n",
       "      <td>19</td>\n",
       "      <td>Mathématiques\\n19 publications</td>\n",
       "    </tr>\n",
       "  </tbody>\n",
       "</table>\n",
       "</div>"
      ],
      "text/plain": [
       "depot                                               closed  free  gold   rep  \\\n",
       "y_label                                                                        \n",
       "Sciences de l'Ingénieur\\n23 publications               4.3  43.5   4.3  47.8   \n",
       "Informatique\\n72 publications                          5.6  12.5  25.0  56.9   \n",
       "Sciences physiques, astronomie\\n225 publications       8.9  17.8  22.2  51.1   \n",
       "Sciences de la Terre, Ecologie, \\nEnergie et bi...    10.8  29.1  33.8  26.4   \n",
       "Biologie (fond.)\\n3342 publications                   11.3  26.0  48.5  14.2   \n",
       "Chimie\\n361 publications                              14.4  23.5  19.9  42.1   \n",
       "Humanités\\n35 publications                            22.9  34.3  28.6  14.3   \n",
       "Sciences médicales\\n13827 publications                28.5  31.2  29.0  11.4   \n",
       "Sciences sociales\\n172 publications                   37.8  24.4  24.4  13.4   \n",
       "Mathématiques\\n19 publications                        42.1  21.1   5.3  31.6   \n",
       "\n",
       "depot                                               Total  \\\n",
       "y_label                                                     \n",
       "Sciences de l'Ingénieur\\n23 publications               23   \n",
       "Informatique\\n72 publications                          72   \n",
       "Sciences physiques, astronomie\\n225 publications      225   \n",
       "Sciences de la Terre, Ecologie, \\nEnergie et bi...    148   \n",
       "Biologie (fond.)\\n3342 publications                  3342   \n",
       "Chimie\\n361 publications                              361   \n",
       "Humanités\\n35 publications                             35   \n",
       "Sciences médicales\\n13827 publications              13827   \n",
       "Sciences sociales\\n172 publications                   172   \n",
       "Mathématiques\\n19 publications                         19   \n",
       "\n",
       "depot                                                                                         y_label  \n",
       "y_label                                                                                                \n",
       "Sciences de l'Ingénieur\\n23 publications                     Sciences de l'Ingénieur\\n23 publications  \n",
       "Informatique\\n72 publications                                           Informatique\\n72 publications  \n",
       "Sciences physiques, astronomie\\n225 publications     Sciences physiques, astronomie\\n225 publications  \n",
       "Sciences de la Terre, Ecologie, \\nEnergie et bi...  Sciences de la Terre, Ecologie, \\nEnergie et b...  \n",
       "Biologie (fond.)\\n3342 publications                               Biologie (fond.)\\n3342 publications  \n",
       "Chimie\\n361 publications                                                     Chimie\\n361 publications  \n",
       "Humanités\\n35 publications                                                 Humanités\\n35 publications  \n",
       "Sciences médicales\\n13827 publications                         Sciences médicales\\n13827 publications  \n",
       "Sciences sociales\\n172 publications                               Sciences sociales\\n172 publications  \n",
       "Mathématiques\\n19 publications                                         Mathématiques\\n19 publications  "
      ]
     },
     "execution_count": 23,
     "metadata": {},
     "output_type": "execute_result"
    }
   ],
   "source": [
    "df_oa_discipline_type = pd.crosstab([publications_2020['bso_classification']],publications_2020['depot'])\n",
    "df_oa_discipline_type = (df_oa_discipline_type.T / df_oa_discipline_type.T.sum()).mul(100).round(1)\n",
    "df_oa_discipline_type = df_oa_discipline_type.T\n",
    "df_oa_discipline_type[\"Total\"] = publications_par_domaine_type\n",
    "df_oa_discipline_type.rename(index = {'Biology (fond.)': 'Biologie (fond.)', 'Chemistry': 'Chimie', \n",
    "                                         'Computer and \\n information sciences' : 'Informatique',\n",
    "                                       'Earth, Ecology, \\nEnergy and applied biology' : 'Sciences de la Terre, Ecologie, \\nEnergie et biologie appliquée',\n",
    "                                        'Engineering' : \"Sciences de l'Ingénieur\",\n",
    "                                        'Humanities' : 'Humanités',\n",
    "                                        'Mathematics' : 'Mathématiques',\n",
    "                                        'Medical research' : 'Sciences médicales',\n",
    "                                        'Physical sciences, Astronomy' : 'Sciences physiques, astronomie',\n",
    "                                        'Social sciences' : 'Sciences sociales'}, inplace = True)\n",
    "df_oa_discipline_type[\"y_label\"] = df_oa_discipline_type.index + \"\\n\" + df_oa_discipline_type[\"Total\"].apply(str) \\\n",
    "                                     + \" \" + \"publications\"\n",
    "df_oa_discipline_type.index = df_oa_discipline_type[\"y_label\"]\n",
    "df_oa_discipline_type = df_oa_discipline_type.sort_values(by='closed', ascending=True)\n",
    "df_oa_discipline_type"
   ]
  },
  {
   "cell_type": "code",
   "execution_count": 24,
   "metadata": {},
   "outputs": [
    {
     "data": {
      "text/plain": [
       "Text(0.49, 1.02, \"Taux d'accès ouvert aux publications 2020 par discipline\")"
      ]
     },
     "execution_count": 24,
     "metadata": {},
     "output_type": "execute_result"
    },
    {
     "data": {
      "image/png": "[encoded data removed]",
      "text/plain": [
       "<Figure size 1080x792 with 1 Axes>"
      ]
     },
     "metadata": {
      "needs_background": "light"
     },
     "output_type": "display_data"
    }
   ],
   "source": [
    "import matplotlib.ticker as mtick\n",
    "\n",
    "ax = df_oa_discipline_type.drop([\"Total\", \"y_label\"], axis=1).plot(kind=\"barh\", stacked=True, figsize=(15, 11), color=['tomato','greenyellow','gold','seagreen'])\n",
    "ax.xaxis.set_major_formatter(mtick.PercentFormatter())\n",
    "\n",
    "labels = []\n",
    "for j in df_oa_discipline_type.columns:\n",
    "    for i in df_oa_discipline_type.index:\n",
    "        label = str(df_oa_discipline_type.loc[i][j]) + \"%\"\n",
    "        labels.append(label)\n",
    "\n",
    "patches = ax.patches\n",
    "\n",
    "for label, rect in zip(labels, patches):\n",
    "    width = rect.get_width()\n",
    "    if width > 0:\n",
    "        x = rect.get_x()\n",
    "        y = rect.get_y()\n",
    "        height = rect.get_height()\n",
    "        ax.text(x + width/2., y + height/2., label, ha='center', va='center', fontsize=15)\n",
    "\n",
    "# Trier les disciplines par ordre alphabétique\n",
    "plt.gca().invert_yaxis()\n",
    "plt.tick_params(axis = 'both', labelsize = 15)\n",
    "\n",
    "plt.xlabel(\"Nombre total de publications recensées et proportions par type d'accès ouvert\", fontsize=15)  \n",
    "plt.ylabel(None, fontsize = 13)\n",
    "\n",
    "# Les légendes sont nativement en anglais. Elles ont été renommées ici, mais attention, pour une réutilisation avec d'autres\n",
    "# données, il est conseillé d'enlever cette liste [\"Accès fermé\", \"Editeur\"...] et de générer le graphique une 1ère\n",
    "# fois pour voir quels types de documents ressortent et dans quel ordre. On peut toujours renommer la légende dans un 2ème \n",
    "# temps.\n",
    "plt.legend(['Accès fermé', 'Libre éditeur', 'Gold', 'Archives ouvertes'],\n",
    "              loc = 'best', ncol = 1,\n",
    "              frameon = True, markerscale = 2, title = None,\n",
    "              borderpad = 0.3, labelspacing = 0.3, bbox_to_anchor=(1, 0.1))\n",
    "\n",
    "plt.title(\"Taux d'accès ouvert aux publications 2020 par discipline\", fontsize = 25, x = 0.49, y = 1.02,\n",
    "          fontweight = 'bold', alpha = 0.6)\n",
    "#plt.savefig('Data/outputs/2020_taux_type_oa_discipline_type_20220217.png', dpi=100, bbox_inches='tight', pad_inches=0.9)"
   ]
  },
  {
   "cell_type": "markdown",
   "metadata": {},
   "source": [
    "Evolution des frais de publications (APC)"
   ]
  },
  {
   "cell_type": "markdown",
   "metadata": {},
   "source": [
    "Les données ont majoritairement été extraites de la plateformes OpenAPC mais une partie des sources sont internes à l'Institut. Pour autant, l'Inserm met à disposition cette portion de code, à toutes fins utiles."
   ]
  },
  {
   "cell_type": "code",
   "execution_count": 25,
   "metadata": {},
   "outputs": [],
   "source": [
    "open_APC_df = pd.read_csv(\"Data/raw/open_apc_inserm_15-19.csv\")"
   ]
  },
  {
   "cell_type": "code",
   "execution_count": 26,
   "metadata": {},
   "outputs": [],
   "source": [
    "all_graph_data_df = open_APC_df.sort_values(['period','is_hybrid','euro'],ascending=False)\n",
    "graph_data_df = all_graph_data_df[['period','is_hybrid','euro']]"
   ]
  },
  {
   "cell_type": "code",
   "execution_count": 27,
   "metadata": {},
   "outputs": [
    {
     "data": {
      "text/html": [
       "<div>\n",
       "<style scoped>\n",
       "    .dataframe tbody tr th:only-of-type {\n",
       "        vertical-align: middle;\n",
       "    }\n",
       "\n",
       "    .dataframe tbody tr th {\n",
       "        vertical-align: top;\n",
       "    }\n",
       "\n",
       "    .dataframe thead th {\n",
       "        text-align: right;\n",
       "    }\n",
       "</style>\n",
       "<table border=\"1\" class=\"dataframe\">\n",
       "  <thead>\n",
       "    <tr style=\"text-align: right;\">\n",
       "      <th></th>\n",
       "      <th>period</th>\n",
       "      <th>is_hybrid</th>\n",
       "      <th>euro</th>\n",
       "    </tr>\n",
       "  </thead>\n",
       "  <tbody>\n",
       "    <tr>\n",
       "      <th>1939</th>\n",
       "      <td>2019</td>\n",
       "      <td>True</td>\n",
       "      <td>4700.00</td>\n",
       "    </tr>\n",
       "    <tr>\n",
       "      <th>1868</th>\n",
       "      <td>2019</td>\n",
       "      <td>True</td>\n",
       "      <td>4485.87</td>\n",
       "    </tr>\n",
       "    <tr>\n",
       "      <th>1601</th>\n",
       "      <td>2019</td>\n",
       "      <td>True</td>\n",
       "      <td>4480.00</td>\n",
       "    </tr>\n",
       "    <tr>\n",
       "      <th>1875</th>\n",
       "      <td>2019</td>\n",
       "      <td>True</td>\n",
       "      <td>4480.00</td>\n",
       "    </tr>\n",
       "    <tr>\n",
       "      <th>1878</th>\n",
       "      <td>2019</td>\n",
       "      <td>True</td>\n",
       "      <td>4480.00</td>\n",
       "    </tr>\n",
       "    <tr>\n",
       "      <th>...</th>\n",
       "      <td>...</td>\n",
       "      <td>...</td>\n",
       "      <td>...</td>\n",
       "    </tr>\n",
       "    <tr>\n",
       "      <th>468</th>\n",
       "      <td>2015</td>\n",
       "      <td>False</td>\n",
       "      <td>267.30</td>\n",
       "    </tr>\n",
       "    <tr>\n",
       "      <th>469</th>\n",
       "      <td>2015</td>\n",
       "      <td>False</td>\n",
       "      <td>247.00</td>\n",
       "    </tr>\n",
       "    <tr>\n",
       "      <th>471</th>\n",
       "      <td>2015</td>\n",
       "      <td>False</td>\n",
       "      <td>232.50</td>\n",
       "    </tr>\n",
       "    <tr>\n",
       "      <th>472</th>\n",
       "      <td>2015</td>\n",
       "      <td>False</td>\n",
       "      <td>223.14</td>\n",
       "    </tr>\n",
       "    <tr>\n",
       "      <th>473</th>\n",
       "      <td>2015</td>\n",
       "      <td>False</td>\n",
       "      <td>200.00</td>\n",
       "    </tr>\n",
       "  </tbody>\n",
       "</table>\n",
       "<p>2098 rows × 3 columns</p>\n",
       "</div>"
      ],
      "text/plain": [
       "      period  is_hybrid     euro\n",
       "1939    2019       True  4700.00\n",
       "1868    2019       True  4485.87\n",
       "1601    2019       True  4480.00\n",
       "1875    2019       True  4480.00\n",
       "1878    2019       True  4480.00\n",
       "...      ...        ...      ...\n",
       "468     2015      False   267.30\n",
       "469     2015      False   247.00\n",
       "471     2015      False   232.50\n",
       "472     2015      False   223.14\n",
       "473     2015      False   200.00\n",
       "\n",
       "[2098 rows x 3 columns]"
      ]
     },
     "execution_count": 27,
     "metadata": {},
     "output_type": "execute_result"
    }
   ],
   "source": [
    "graph_data_df"
   ]
  },
  {
   "cell_type": "code",
   "execution_count": 28,
   "metadata": {},
   "outputs": [],
   "source": [
    "graph_data_gold = graph_data_df.loc[graph_data_df['is_hybrid'] == False,:]"
   ]
  },
  {
   "cell_type": "code",
   "execution_count": 29,
   "metadata": {},
   "outputs": [
    {
     "data": {
      "text/html": [
       "<div>\n",
       "<style scoped>\n",
       "    .dataframe tbody tr th:only-of-type {\n",
       "        vertical-align: middle;\n",
       "    }\n",
       "\n",
       "    .dataframe tbody tr th {\n",
       "        vertical-align: top;\n",
       "    }\n",
       "\n",
       "    .dataframe thead th {\n",
       "        text-align: right;\n",
       "    }\n",
       "</style>\n",
       "<table border=\"1\" class=\"dataframe\">\n",
       "  <thead>\n",
       "    <tr style=\"text-align: right;\">\n",
       "      <th></th>\n",
       "      <th>period</th>\n",
       "      <th>is_hybrid</th>\n",
       "      <th>euro</th>\n",
       "    </tr>\n",
       "  </thead>\n",
       "  <tbody>\n",
       "    <tr>\n",
       "      <th>1635</th>\n",
       "      <td>2019</td>\n",
       "      <td>False</td>\n",
       "      <td>5148.00</td>\n",
       "    </tr>\n",
       "    <tr>\n",
       "      <th>1622</th>\n",
       "      <td>2019</td>\n",
       "      <td>False</td>\n",
       "      <td>4500.00</td>\n",
       "    </tr>\n",
       "    <tr>\n",
       "      <th>1657</th>\n",
       "      <td>2019</td>\n",
       "      <td>False</td>\n",
       "      <td>4480.00</td>\n",
       "    </tr>\n",
       "    <tr>\n",
       "      <th>1948</th>\n",
       "      <td>2019</td>\n",
       "      <td>False</td>\n",
       "      <td>4480.00</td>\n",
       "    </tr>\n",
       "    <tr>\n",
       "      <th>2015</th>\n",
       "      <td>2019</td>\n",
       "      <td>False</td>\n",
       "      <td>4480.00</td>\n",
       "    </tr>\n",
       "    <tr>\n",
       "      <th>...</th>\n",
       "      <td>...</td>\n",
       "      <td>...</td>\n",
       "      <td>...</td>\n",
       "    </tr>\n",
       "    <tr>\n",
       "      <th>468</th>\n",
       "      <td>2015</td>\n",
       "      <td>False</td>\n",
       "      <td>267.30</td>\n",
       "    </tr>\n",
       "    <tr>\n",
       "      <th>469</th>\n",
       "      <td>2015</td>\n",
       "      <td>False</td>\n",
       "      <td>247.00</td>\n",
       "    </tr>\n",
       "    <tr>\n",
       "      <th>471</th>\n",
       "      <td>2015</td>\n",
       "      <td>False</td>\n",
       "      <td>232.50</td>\n",
       "    </tr>\n",
       "    <tr>\n",
       "      <th>472</th>\n",
       "      <td>2015</td>\n",
       "      <td>False</td>\n",
       "      <td>223.14</td>\n",
       "    </tr>\n",
       "    <tr>\n",
       "      <th>473</th>\n",
       "      <td>2015</td>\n",
       "      <td>False</td>\n",
       "      <td>200.00</td>\n",
       "    </tr>\n",
       "  </tbody>\n",
       "</table>\n",
       "<p>1843 rows × 3 columns</p>\n",
       "</div>"
      ],
      "text/plain": [
       "      period  is_hybrid     euro\n",
       "1635    2019      False  5148.00\n",
       "1622    2019      False  4500.00\n",
       "1657    2019      False  4480.00\n",
       "1948    2019      False  4480.00\n",
       "2015    2019      False  4480.00\n",
       "...      ...        ...      ...\n",
       "468     2015      False   267.30\n",
       "469     2015      False   247.00\n",
       "471     2015      False   232.50\n",
       "472     2015      False   223.14\n",
       "473     2015      False   200.00\n",
       "\n",
       "[1843 rows x 3 columns]"
      ]
     },
     "execution_count": 29,
     "metadata": {},
     "output_type": "execute_result"
    }
   ],
   "source": [
    "graph_data_gold"
   ]
  },
  {
   "cell_type": "code",
   "execution_count": 30,
   "metadata": {},
   "outputs": [],
   "source": [
    "graph_data_gold_2019 = graph_data_gold.loc[graph_data_gold['period'] == 2019.0,:]\n",
    "somme_gold_2019 = graph_data_gold_2019['euro'].sum()"
   ]
  },
  {
   "cell_type": "code",
   "execution_count": 31,
   "metadata": {},
   "outputs": [
    {
     "data": {
      "text/plain": [
       "1105484.3"
      ]
     },
     "execution_count": 31,
     "metadata": {},
     "output_type": "execute_result"
    }
   ],
   "source": [
    "somme_gold_2019"
   ]
  },
  {
   "cell_type": "code",
   "execution_count": 32,
   "metadata": {},
   "outputs": [],
   "source": [
    "graph_data_gold_2018 = graph_data_gold.loc[graph_data_gold['period'] == 2018.0,:]\n",
    "somme_gold_2018 = graph_data_gold_2018['euro'].sum()"
   ]
  },
  {
   "cell_type": "code",
   "execution_count": 33,
   "metadata": {},
   "outputs": [
    {
     "data": {
      "text/plain": [
       "781361.5700000001"
      ]
     },
     "execution_count": 33,
     "metadata": {},
     "output_type": "execute_result"
    }
   ],
   "source": [
    "somme_gold_2018"
   ]
  },
  {
   "cell_type": "code",
   "execution_count": 34,
   "metadata": {},
   "outputs": [],
   "source": [
    "graph_data_gold_2017 = graph_data_gold.loc[graph_data_gold['period'] == 2017.0,:]\n",
    "somme_gold_2017 = graph_data_gold_2017['euro'].sum()"
   ]
  },
  {
   "cell_type": "code",
   "execution_count": 35,
   "metadata": {},
   "outputs": [
    {
     "data": {
      "text/plain": [
       "1042570.37"
      ]
     },
     "execution_count": 35,
     "metadata": {},
     "output_type": "execute_result"
    }
   ],
   "source": [
    "somme_gold_2017"
   ]
  },
  {
   "cell_type": "code",
   "execution_count": 36,
   "metadata": {},
   "outputs": [],
   "source": [
    "graph_data_gold_2015 = graph_data_gold.loc[graph_data_gold['period'] == 2015.0,:]\n",
    "somme_gold_2015 = graph_data_gold_2015['euro'].sum()"
   ]
  },
  {
   "cell_type": "code",
   "execution_count": 37,
   "metadata": {},
   "outputs": [
    {
     "data": {
      "text/plain": [
       "645550.9400000001"
      ]
     },
     "execution_count": 37,
     "metadata": {},
     "output_type": "execute_result"
    }
   ],
   "source": [
    "somme_gold_2015"
   ]
  },
  {
   "cell_type": "code",
   "execution_count": 38,
   "metadata": {},
   "outputs": [],
   "source": [
    "graph_data_hybrid = graph_data_df.loc[graph_data_df['is_hybrid'] == True,:]"
   ]
  },
  {
   "cell_type": "code",
   "execution_count": 39,
   "metadata": {},
   "outputs": [
    {
     "data": {
      "text/html": [
       "<div>\n",
       "<style scoped>\n",
       "    .dataframe tbody tr th:only-of-type {\n",
       "        vertical-align: middle;\n",
       "    }\n",
       "\n",
       "    .dataframe tbody tr th {\n",
       "        vertical-align: top;\n",
       "    }\n",
       "\n",
       "    .dataframe thead th {\n",
       "        text-align: right;\n",
       "    }\n",
       "</style>\n",
       "<table border=\"1\" class=\"dataframe\">\n",
       "  <thead>\n",
       "    <tr style=\"text-align: right;\">\n",
       "      <th></th>\n",
       "      <th>period</th>\n",
       "      <th>is_hybrid</th>\n",
       "      <th>euro</th>\n",
       "    </tr>\n",
       "  </thead>\n",
       "  <tbody>\n",
       "    <tr>\n",
       "      <th>1939</th>\n",
       "      <td>2019</td>\n",
       "      <td>True</td>\n",
       "      <td>4700.00</td>\n",
       "    </tr>\n",
       "    <tr>\n",
       "      <th>1868</th>\n",
       "      <td>2019</td>\n",
       "      <td>True</td>\n",
       "      <td>4485.87</td>\n",
       "    </tr>\n",
       "    <tr>\n",
       "      <th>1601</th>\n",
       "      <td>2019</td>\n",
       "      <td>True</td>\n",
       "      <td>4480.00</td>\n",
       "    </tr>\n",
       "    <tr>\n",
       "      <th>1875</th>\n",
       "      <td>2019</td>\n",
       "      <td>True</td>\n",
       "      <td>4480.00</td>\n",
       "    </tr>\n",
       "    <tr>\n",
       "      <th>1878</th>\n",
       "      <td>2019</td>\n",
       "      <td>True</td>\n",
       "      <td>4480.00</td>\n",
       "    </tr>\n",
       "    <tr>\n",
       "      <th>...</th>\n",
       "      <td>...</td>\n",
       "      <td>...</td>\n",
       "      <td>...</td>\n",
       "    </tr>\n",
       "    <tr>\n",
       "      <th>446</th>\n",
       "      <td>2015</td>\n",
       "      <td>True</td>\n",
       "      <td>741.00</td>\n",
       "    </tr>\n",
       "    <tr>\n",
       "      <th>447</th>\n",
       "      <td>2015</td>\n",
       "      <td>True</td>\n",
       "      <td>734.00</td>\n",
       "    </tr>\n",
       "    <tr>\n",
       "      <th>458</th>\n",
       "      <td>2015</td>\n",
       "      <td>True</td>\n",
       "      <td>536.90</td>\n",
       "    </tr>\n",
       "    <tr>\n",
       "      <th>461</th>\n",
       "      <td>2015</td>\n",
       "      <td>True</td>\n",
       "      <td>450.00</td>\n",
       "    </tr>\n",
       "    <tr>\n",
       "      <th>467</th>\n",
       "      <td>2015</td>\n",
       "      <td>True</td>\n",
       "      <td>268.00</td>\n",
       "    </tr>\n",
       "  </tbody>\n",
       "</table>\n",
       "<p>255 rows × 3 columns</p>\n",
       "</div>"
      ],
      "text/plain": [
       "      period  is_hybrid     euro\n",
       "1939    2019       True  4700.00\n",
       "1868    2019       True  4485.87\n",
       "1601    2019       True  4480.00\n",
       "1875    2019       True  4480.00\n",
       "1878    2019       True  4480.00\n",
       "...      ...        ...      ...\n",
       "446     2015       True   741.00\n",
       "447     2015       True   734.00\n",
       "458     2015       True   536.90\n",
       "461     2015       True   450.00\n",
       "467     2015       True   268.00\n",
       "\n",
       "[255 rows x 3 columns]"
      ]
     },
     "execution_count": 39,
     "metadata": {},
     "output_type": "execute_result"
    }
   ],
   "source": [
    "graph_data_hybrid"
   ]
  },
  {
   "cell_type": "code",
   "execution_count": 40,
   "metadata": {},
   "outputs": [],
   "source": [
    "graph_data_hybrid_2019 = graph_data_hybrid.loc[graph_data_hybrid['period'] == 2019.0,:]\n",
    "somme_hybrid_2019 = graph_data_hybrid_2019['euro'].sum()"
   ]
  },
  {
   "cell_type": "code",
   "execution_count": 41,
   "metadata": {},
   "outputs": [
    {
     "data": {
      "text/plain": [
       "158720.41999999998"
      ]
     },
     "execution_count": 41,
     "metadata": {},
     "output_type": "execute_result"
    }
   ],
   "source": [
    "somme_hybrid_2019"
   ]
  },
  {
   "cell_type": "code",
   "execution_count": 42,
   "metadata": {},
   "outputs": [],
   "source": [
    "graph_data_hybrid_2018 = graph_data_hybrid.loc[graph_data_hybrid['period'] == 2018.0,:]\n",
    "somme_hybrid_2018 = graph_data_hybrid_2018['euro'].sum()"
   ]
  },
  {
   "cell_type": "code",
   "execution_count": 43,
   "metadata": {},
   "outputs": [
    {
     "data": {
      "text/plain": [
       "141293.34"
      ]
     },
     "execution_count": 43,
     "metadata": {},
     "output_type": "execute_result"
    }
   ],
   "source": [
    "somme_hybrid_2018"
   ]
  },
  {
   "cell_type": "code",
   "execution_count": 44,
   "metadata": {},
   "outputs": [],
   "source": [
    "graph_data_hybrid_2017 = graph_data_hybrid.loc[graph_data_hybrid['period'] == 2017.0,:]\n",
    "somme_hybrid_2017 = graph_data_hybrid_2017['euro'].sum()"
   ]
  },
  {
   "cell_type": "code",
   "execution_count": 45,
   "metadata": {},
   "outputs": [
    {
     "data": {
      "text/plain": [
       "166908.78"
      ]
     },
     "execution_count": 45,
     "metadata": {},
     "output_type": "execute_result"
    }
   ],
   "source": [
    "somme_hybrid_2017"
   ]
  },
  {
   "cell_type": "code",
   "execution_count": 46,
   "metadata": {},
   "outputs": [],
   "source": [
    "graph_data_hybrid_2015 = graph_data_hybrid.loc[graph_data_hybrid['period'] == 2015.0,:]\n",
    "somme_hybrid_2015 = graph_data_hybrid_2015['euro'].sum()"
   ]
  },
  {
   "cell_type": "code",
   "execution_count": 47,
   "metadata": {},
   "outputs": [
    {
     "data": {
      "text/plain": [
       "172639.52000000002"
      ]
     },
     "execution_count": 47,
     "metadata": {},
     "output_type": "execute_result"
    }
   ],
   "source": [
    "somme_hybrid_2015"
   ]
  },
  {
   "cell_type": "code",
   "execution_count": 48,
   "metadata": {},
   "outputs": [
    {
     "name": "stderr",
     "output_type": "stream",
     "text": [
      "<ipython-input-48-d506c0f151e7>:22: UserWarning: FixedFormatter should only be used together with FixedLocator\n",
      "  ax.yaxis.set_ticklabels(['0', '200 000', '400 000', '600 000', '800 000', '1 000 000', '1 200 000', '1 400 000', '1 600 000'])\n"
     ]
    },
    {
     "data": {
      "image/png": "[encoded data removed]",
      "text/plain": [
       "<Figure size 432x288 with 1 Axes>"
      ]
     },
     "metadata": {
      "needs_background": "light"
     },
     "output_type": "display_data"
    }
   ],
   "source": [
    "import matplotlib.pyplot as plt\n",
    "import numpy as np\n",
    "\n",
    "\n",
    "labels = ['2015', '2016', '2017', '2018', '2019', '2020']\n",
    "gold = [somme_gold_2015, 902802, somme_gold_2017, somme_gold_2018, somme_gold_2019, 1529664]\n",
    "hybrid = [somme_hybrid_2015, 179945, somme_hybrid_2017, somme_hybrid_2018, somme_hybrid_2019, 303541]\n",
    "\n",
    "x = np.arange(len(labels))  # the label locations\n",
    "width = 0.35  # the width of the bars\n",
    "\n",
    "fig, ax = plt.subplots()\n",
    "rects1 = ax.bar(x - width/2, gold, width, label='Gold')\n",
    "rects2 = ax.bar(x + width/2, hybrid, width, label='Hybride')\n",
    "\n",
    "# Add some text for labels, title and custom x-axis tick labels, etc.\n",
    "ax.set_ylabel('Montant en euros')\n",
    "ax.set_title('Totaux des APC pour publications Gold et Hybrides')\n",
    "ax.set_xticks(x)\n",
    "ax.set_xticklabels(labels)\n",
    "ax.set_ylim(0, 1600000)\n",
    "ax.yaxis.set_ticklabels(['0', '200 000', '400 000', '600 000', '800 000', '1 000 000', '1 200 000', '1 400 000', '1 600 000'])\n",
    "ax.legend()\n",
    "#ax.bar_label(rects1, padding=3)\n",
    "#ax.bar_label(rects2, padding=3)\n",
    "\n",
    "fig.tight_layout()\n",
    "\n",
    "#plt.show()\n",
    "\n",
    "#plt.savefig('./Totaux_APC_Gold_Hybride_20211110.png', dpi=100, bbox_inches='tight', pad_inches=0.9)"
   ]
  },
  {
   "cell_type": "code",
   "execution_count": null,
   "metadata": {},
   "outputs": [],
   "source": []
  }
 ],
 "metadata": {
  "kernelspec": {
   "display_name": "Python 3",
   "language": "python",
   "name": "python3"
  },
  "language_info": {
   "codemirror_mode": {
    "name": "ipython",
    "version": 3
   },
   "file_extension": ".py",
   "mimetype": "text/x-python",
   "name": "python",
   "nbconvert_exporter": "python",
   "pygments_lexer": "ipython3",
   "version": "3.8.8"
  }
 },
 "nbformat": 4,
 "nbformat_minor": 4
}
