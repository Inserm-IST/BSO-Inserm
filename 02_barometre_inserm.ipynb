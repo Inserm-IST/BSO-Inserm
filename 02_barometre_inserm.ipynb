{
 "cells": [
  {
   "cell_type": "markdown",
   "metadata": {},
   "source": [
    "# <span style=\"color:orange\">Appliquer le code du Baromètre de la Science Ouverte aux données de l'Inserm</span>"
   ]
  },
  {
   "cell_type": "markdown",
   "metadata": {},
   "source": [
    "Après réception du fichier csv contenant la liste de DOI enrichie (ajout du titre, des auteurs, de l'année, du statut open access...) de la part du MESRI, les graphiques peuvent être générés directement depuis le Baromètre national (voir le mode d'emploi sur la partie \"déclinaisons locales\" du site web du BSO national).\n",
    "Néanmoins, à partir de ce fichier, certains graphiques réalisés pour le Baromètre Inserm peuvent toujours être générés et mis à jour en suivant ce code.\n",
    "Il suffit de remplacer \"inserm\" par le nom de son établissement à l'intérieur du code.\n",
    "\n",
    "Les résultats obtenus ici sont le reflet de la situation d'ouverture des publications en décembre 2021, date à laquelle les dernières extractions ont été réalisées. Le Baromètre national et, par extension, ses déclinaisons locales depuis le portail national, étant mis à jour régulièrement, les taux affichés sur les graphiques ci-dessous sont obsolètes."
   ]
  },
  {
   "cell_type": "code",
   "execution_count": 1,
   "metadata": {},
   "outputs": [],
   "source": [
    "import pandas as pd"
   ]
  },
  {
   "cell_type": "code",
   "execution_count": 2,
   "metadata": {},
   "outputs": [],
   "source": [
    "import csv"
   ]
  },
  {
   "cell_type": "code",
   "execution_count": 1,
   "metadata": {},
   "outputs": [],
   "source": [
    "%matplotlib inline\n",
    "import pandas as pd\n",
    "import matplotlib\n",
    "import matplotlib.pyplot as plt\n",
    "import numpy as np"
   ]
  },
  {
   "cell_type": "markdown",
   "metadata": {},
   "source": [
    "## <span style=\"color:orange\">Importer dans le notebook les données préalablement traitées</span>"
   ]
  },
  {
   "cell_type": "code",
   "execution_count": 2,
   "metadata": {},
   "outputs": [],
   "source": [
    "publis_inserm_df = pd.read_csv(\"Data/raw/bso-publications-latest_180036048_enriched.csv\")"
   ]
  },
  {
   "cell_type": "markdown",
   "metadata": {},
   "source": [
    "## <span style=\"color:orange\">Générer les graphiques</span>"
   ]
  },
  {
   "cell_type": "markdown",
   "metadata": {},
   "source": [
    "Les graphiques présents sur le site du Baromètre national ont été écrits en JavaScript. Afin de rendre plus facile l'utilisation de ce Baromètre local, la génération des graphiques a été ici pensée en Python, grâce aux librairies Pandas et Matplotlib."
   ]
  },
  {
   "cell_type": "markdown",
   "metadata": {},
   "source": [
    "Proportion des publications 2020 en accès ouvert"
   ]
  },
  {
   "cell_type": "code",
   "execution_count": 3,
   "metadata": {},
   "outputs": [
    {
     "data": {
      "text/html": [
       "<div>\n",
       "<style scoped>\n",
       "    .dataframe tbody tr th:only-of-type {\n",
       "        vertical-align: middle;\n",
       "    }\n",
       "\n",
       "    .dataframe tbody tr th {\n",
       "        vertical-align: top;\n",
       "    }\n",
       "\n",
       "    .dataframe thead th {\n",
       "        text-align: right;\n",
       "    }\n",
       "</style>\n",
       "<table border=\"1\" class=\"dataframe\">\n",
       "  <thead>\n",
       "    <tr style=\"text-align: right;\">\n",
       "      <th></th>\n",
       "      <th>doi</th>\n",
       "      <th>year</th>\n",
       "      <th>title</th>\n",
       "      <th>journal_issns</th>\n",
       "      <th>journal_issn_l</th>\n",
       "      <th>journal_name</th>\n",
       "      <th>publisher</th>\n",
       "      <th>publisher_dissemination</th>\n",
       "      <th>hal_id</th>\n",
       "      <th>pmid</th>\n",
       "      <th>...</th>\n",
       "      <th>bso_local_affiliations</th>\n",
       "      <th>is_oa</th>\n",
       "      <th>journal_is_in_doaj</th>\n",
       "      <th>journal_is_oa</th>\n",
       "      <th>observation_date</th>\n",
       "      <th>oa_host_type</th>\n",
       "      <th>oa_colors</th>\n",
       "      <th>licence_publisher</th>\n",
       "      <th>licence_repositories</th>\n",
       "      <th>repositories</th>\n",
       "    </tr>\n",
       "  </thead>\n",
       "  <tbody>\n",
       "    <tr>\n",
       "      <th>12331</th>\n",
       "      <td>10.1177/2048872616676604</td>\n",
       "      <td>2020.0</td>\n",
       "      <td>Permanent junctional reciprocating tachycardia...</td>\n",
       "      <td>2048-8734,2048-8726</td>\n",
       "      <td>2048-8726</td>\n",
       "      <td>European Heart Journal. Acute Cardiovascular Care</td>\n",
       "      <td>Oxford University Press (OUP)</td>\n",
       "      <td>Oxford University Press</td>\n",
       "      <td>NaN</td>\n",
       "      <td>27798173.0</td>\n",
       "      <td>...</td>\n",
       "      <td>180036048</td>\n",
       "      <td>True</td>\n",
       "      <td>False</td>\n",
       "      <td>False</td>\n",
       "      <td>2021Q4</td>\n",
       "      <td>publisher</td>\n",
       "      <td>hybrid</td>\n",
       "      <td>no license</td>\n",
       "      <td>NaN</td>\n",
       "      <td>NaN</td>\n",
       "    </tr>\n",
       "    <tr>\n",
       "      <th>22341</th>\n",
       "      <td>10.1002/acr.23335</td>\n",
       "      <td>2020.0</td>\n",
       "      <td>Age‐Related Vascularization and Ossification o...</td>\n",
       "      <td>2151-464X,2151-4658</td>\n",
       "      <td>2151-464X</td>\n",
       "      <td>Arthritis Care &amp; Research</td>\n",
       "      <td>Wiley</td>\n",
       "      <td>Wiley</td>\n",
       "      <td>NaN</td>\n",
       "      <td>28777893.0</td>\n",
       "      <td>...</td>\n",
       "      <td>180036048</td>\n",
       "      <td>True</td>\n",
       "      <td>False</td>\n",
       "      <td>False</td>\n",
       "      <td>2021Q4</td>\n",
       "      <td>repository</td>\n",
       "      <td>green</td>\n",
       "      <td>NaN</td>\n",
       "      <td>no license</td>\n",
       "      <td>iris.unito.it</td>\n",
       "    </tr>\n",
       "    <tr>\n",
       "      <th>24337</th>\n",
       "      <td>10.23736/s0390-5616.17.04082-6</td>\n",
       "      <td>2020.0</td>\n",
       "      <td>Rational use of systematic postoperative CT sc...</td>\n",
       "      <td>0390-5616,1827-1855</td>\n",
       "      <td>0390-5616</td>\n",
       "      <td>Journal of Neurosurgical Sciences</td>\n",
       "      <td>Edizioni Minerva Medica</td>\n",
       "      <td>Edizioni Minerva Medica</td>\n",
       "      <td>NaN</td>\n",
       "      <td>28959872.0</td>\n",
       "      <td>...</td>\n",
       "      <td>130015332;180036048</td>\n",
       "      <td>False</td>\n",
       "      <td>False</td>\n",
       "      <td>False</td>\n",
       "      <td>2021Q4</td>\n",
       "      <td>closed</td>\n",
       "      <td>closed</td>\n",
       "      <td>NaN</td>\n",
       "      <td>NaN</td>\n",
       "      <td>NaN</td>\n",
       "    </tr>\n",
       "    <tr>\n",
       "      <th>29762</th>\n",
       "      <td>10.1016/j.rehab.2018.01.006</td>\n",
       "      <td>2020.0</td>\n",
       "      <td>Cognitive assessment in patients with multiple...</td>\n",
       "      <td>1877-0657</td>\n",
       "      <td>1877-0657</td>\n",
       "      <td>Annals of Physical and Rehabilitation Medicine</td>\n",
       "      <td>Elsevier BV</td>\n",
       "      <td>Elsevier</td>\n",
       "      <td>NaN</td>\n",
       "      <td>29462665.0</td>\n",
       "      <td>...</td>\n",
       "      <td>180036048</td>\n",
       "      <td>True</td>\n",
       "      <td>False</td>\n",
       "      <td>False</td>\n",
       "      <td>2021Q4</td>\n",
       "      <td>publisher</td>\n",
       "      <td>hybrid</td>\n",
       "      <td>no license</td>\n",
       "      <td>NaN</td>\n",
       "      <td>NaN</td>\n",
       "    </tr>\n",
       "    <tr>\n",
       "      <th>31571</th>\n",
       "      <td>10.1177/2048872618768004</td>\n",
       "      <td>2020.0</td>\n",
       "      <td>Which echocardiographic parameters improve the...</td>\n",
       "      <td>2048-8734,2048-8726</td>\n",
       "      <td>2048-8726</td>\n",
       "      <td>European Heart Journal. Acute Cardiovascular Care</td>\n",
       "      <td>Oxford University Press (OUP)</td>\n",
       "      <td>Oxford University Press</td>\n",
       "      <td>NaN</td>\n",
       "      <td>29629598.0</td>\n",
       "      <td>...</td>\n",
       "      <td>180036048</td>\n",
       "      <td>True</td>\n",
       "      <td>False</td>\n",
       "      <td>False</td>\n",
       "      <td>2021Q4</td>\n",
       "      <td>publisher</td>\n",
       "      <td>hybrid</td>\n",
       "      <td>no license</td>\n",
       "      <td>NaN</td>\n",
       "      <td>NaN</td>\n",
       "    </tr>\n",
       "    <tr>\n",
       "      <th>...</th>\n",
       "      <td>...</td>\n",
       "      <td>...</td>\n",
       "      <td>...</td>\n",
       "      <td>...</td>\n",
       "      <td>...</td>\n",
       "      <td>...</td>\n",
       "      <td>...</td>\n",
       "      <td>...</td>\n",
       "      <td>...</td>\n",
       "      <td>...</td>\n",
       "      <td>...</td>\n",
       "      <td>...</td>\n",
       "      <td>...</td>\n",
       "      <td>...</td>\n",
       "      <td>...</td>\n",
       "      <td>...</td>\n",
       "      <td>...</td>\n",
       "      <td>...</td>\n",
       "      <td>...</td>\n",
       "      <td>...</td>\n",
       "      <td>...</td>\n",
       "    </tr>\n",
       "    <tr>\n",
       "      <th>83971</th>\n",
       "      <td>10.3161/15081109acc2019.21.2.001</td>\n",
       "      <td>2020.0</td>\n",
       "      <td>Systematics of West African Miniopterus with t...</td>\n",
       "      <td>1508-1109</td>\n",
       "      <td>1508-1109</td>\n",
       "      <td>Acta Chiropterologica</td>\n",
       "      <td>Museum and Institute of Zoology at the Polish ...</td>\n",
       "      <td>Museum and Institute of Zoology at the Polish ...</td>\n",
       "      <td>NaN</td>\n",
       "      <td>NaN</td>\n",
       "      <td>...</td>\n",
       "      <td>180036048</td>\n",
       "      <td>False</td>\n",
       "      <td>False</td>\n",
       "      <td>False</td>\n",
       "      <td>2021Q4</td>\n",
       "      <td>closed</td>\n",
       "      <td>closed</td>\n",
       "      <td>NaN</td>\n",
       "      <td>NaN</td>\n",
       "      <td>NaN</td>\n",
       "    </tr>\n",
       "    <tr>\n",
       "      <th>83972</th>\n",
       "      <td>10.3166/bspe-2020-0122</td>\n",
       "      <td>2020.0</td>\n",
       "      <td>3e Journée dédiée aux travaux scientifiques de...</td>\n",
       "      <td>0037-9085</td>\n",
       "      <td>0037-9085</td>\n",
       "      <td>Bulletin de la société de pathologie exotique</td>\n",
       "      <td>Lavoisier</td>\n",
       "      <td>Lavoisier</td>\n",
       "      <td>NaN</td>\n",
       "      <td>NaN</td>\n",
       "      <td>...</td>\n",
       "      <td>180036048</td>\n",
       "      <td>False</td>\n",
       "      <td>False</td>\n",
       "      <td>False</td>\n",
       "      <td>2021Q4</td>\n",
       "      <td>closed</td>\n",
       "      <td>closed</td>\n",
       "      <td>NaN</td>\n",
       "      <td>NaN</td>\n",
       "      <td>NaN</td>\n",
       "    </tr>\n",
       "    <tr>\n",
       "      <th>83978</th>\n",
       "      <td>10.3357/amhp.5435.2020</td>\n",
       "      <td>2020.0</td>\n",
       "      <td>Vestibulo-Ocular Responses, Visual Field Depen...</td>\n",
       "      <td>2375-6314</td>\n",
       "      <td>2375-6314</td>\n",
       "      <td>Aerospace Medicine and Human Performance</td>\n",
       "      <td>Aerospace Medical Association</td>\n",
       "      <td>Aerospace Medical Association</td>\n",
       "      <td>NaN</td>\n",
       "      <td>NaN</td>\n",
       "      <td>...</td>\n",
       "      <td>180036048</td>\n",
       "      <td>False</td>\n",
       "      <td>False</td>\n",
       "      <td>False</td>\n",
       "      <td>2021Q4</td>\n",
       "      <td>closed</td>\n",
       "      <td>closed</td>\n",
       "      <td>NaN</td>\n",
       "      <td>NaN</td>\n",
       "      <td>NaN</td>\n",
       "    </tr>\n",
       "    <tr>\n",
       "      <th>84002</th>\n",
       "      <td>10.3791/62028</td>\n",
       "      <td>2020.0</td>\n",
       "      <td>Fluorescent Leakage Assay to Investigate Membr...</td>\n",
       "      <td>1940-087X</td>\n",
       "      <td>1940-087X</td>\n",
       "      <td>Journal of Visualized Experiments</td>\n",
       "      <td>MyJove Corporation</td>\n",
       "      <td>MyJove Corporation</td>\n",
       "      <td>hal-03367256</td>\n",
       "      <td>NaN</td>\n",
       "      <td>...</td>\n",
       "      <td>180036048</td>\n",
       "      <td>True</td>\n",
       "      <td>False</td>\n",
       "      <td>False</td>\n",
       "      <td>2021Q4</td>\n",
       "      <td>repository</td>\n",
       "      <td>green</td>\n",
       "      <td>NaN</td>\n",
       "      <td>no license</td>\n",
       "      <td>HAL</td>\n",
       "    </tr>\n",
       "    <tr>\n",
       "      <th>84013</th>\n",
       "      <td>10.4000/rechercheseducations.9803</td>\n",
       "      <td>2020.0</td>\n",
       "      <td>En quoi la pandémie interroge-telle les liens ...</td>\n",
       "      <td>1969-0622,1760-7760</td>\n",
       "      <td>1634-359X</td>\n",
       "      <td>Recherches &amp; éducations</td>\n",
       "      <td>OpenEdition</td>\n",
       "      <td>OpenEdition</td>\n",
       "      <td>NaN</td>\n",
       "      <td>NaN</td>\n",
       "      <td>...</td>\n",
       "      <td>180036048</td>\n",
       "      <td>False</td>\n",
       "      <td>False</td>\n",
       "      <td>False</td>\n",
       "      <td>2021Q4</td>\n",
       "      <td>closed</td>\n",
       "      <td>closed</td>\n",
       "      <td>NaN</td>\n",
       "      <td>NaN</td>\n",
       "      <td>NaN</td>\n",
       "    </tr>\n",
       "  </tbody>\n",
       "</table>\n",
       "<p>18224 rows × 27 columns</p>\n",
       "</div>"
      ],
      "text/plain": [
       "                                     doi    year  \\\n",
       "12331           10.1177/2048872616676604  2020.0   \n",
       "22341                  10.1002/acr.23335  2020.0   \n",
       "24337     10.23736/s0390-5616.17.04082-6  2020.0   \n",
       "29762        10.1016/j.rehab.2018.01.006  2020.0   \n",
       "31571           10.1177/2048872618768004  2020.0   \n",
       "...                                  ...     ...   \n",
       "83971   10.3161/15081109acc2019.21.2.001  2020.0   \n",
       "83972             10.3166/bspe-2020-0122  2020.0   \n",
       "83978             10.3357/amhp.5435.2020  2020.0   \n",
       "84002                      10.3791/62028  2020.0   \n",
       "84013  10.4000/rechercheseducations.9803  2020.0   \n",
       "\n",
       "                                                   title        journal_issns  \\\n",
       "12331  Permanent junctional reciprocating tachycardia...  2048-8734,2048-8726   \n",
       "22341  Age‐Related Vascularization and Ossification o...  2151-464X,2151-4658   \n",
       "24337  Rational use of systematic postoperative CT sc...  0390-5616,1827-1855   \n",
       "29762  Cognitive assessment in patients with multiple...            1877-0657   \n",
       "31571  Which echocardiographic parameters improve the...  2048-8734,2048-8726   \n",
       "...                                                  ...                  ...   \n",
       "83971  Systematics of West African Miniopterus with t...            1508-1109   \n",
       "83972  3e Journée dédiée aux travaux scientifiques de...            0037-9085   \n",
       "83978  Vestibulo-Ocular Responses, Visual Field Depen...            2375-6314   \n",
       "84002  Fluorescent Leakage Assay to Investigate Membr...            1940-087X   \n",
       "84013  En quoi la pandémie interroge-telle les liens ...  1969-0622,1760-7760   \n",
       "\n",
       "      journal_issn_l                                       journal_name  \\\n",
       "12331      2048-8726  European Heart Journal. Acute Cardiovascular Care   \n",
       "22341      2151-464X                          Arthritis Care & Research   \n",
       "24337      0390-5616                  Journal of Neurosurgical Sciences   \n",
       "29762      1877-0657     Annals of Physical and Rehabilitation Medicine   \n",
       "31571      2048-8726  European Heart Journal. Acute Cardiovascular Care   \n",
       "...              ...                                                ...   \n",
       "83971      1508-1109                              Acta Chiropterologica   \n",
       "83972      0037-9085      Bulletin de la société de pathologie exotique   \n",
       "83978      2375-6314           Aerospace Medicine and Human Performance   \n",
       "84002      1940-087X                  Journal of Visualized Experiments   \n",
       "84013      1634-359X                            Recherches & éducations   \n",
       "\n",
       "                                               publisher  \\\n",
       "12331                      Oxford University Press (OUP)   \n",
       "22341                                              Wiley   \n",
       "24337                            Edizioni Minerva Medica   \n",
       "29762                                        Elsevier BV   \n",
       "31571                      Oxford University Press (OUP)   \n",
       "...                                                  ...   \n",
       "83971  Museum and Institute of Zoology at the Polish ...   \n",
       "83972                                          Lavoisier   \n",
       "83978                      Aerospace Medical Association   \n",
       "84002                                 MyJove Corporation   \n",
       "84013                                        OpenEdition   \n",
       "\n",
       "                                 publisher_dissemination        hal_id  \\\n",
       "12331                            Oxford University Press           NaN   \n",
       "22341                                              Wiley           NaN   \n",
       "24337                            Edizioni Minerva Medica           NaN   \n",
       "29762                                           Elsevier           NaN   \n",
       "31571                            Oxford University Press           NaN   \n",
       "...                                                  ...           ...   \n",
       "83971  Museum and Institute of Zoology at the Polish ...           NaN   \n",
       "83972                                          Lavoisier           NaN   \n",
       "83978                      Aerospace Medical Association           NaN   \n",
       "84002                                 MyJove Corporation  hal-03367256   \n",
       "84013                                        OpenEdition           NaN   \n",
       "\n",
       "             pmid  ... bso_local_affiliations  is_oa journal_is_in_doaj  \\\n",
       "12331  27798173.0  ...              180036048   True              False   \n",
       "22341  28777893.0  ...              180036048   True              False   \n",
       "24337  28959872.0  ...    130015332;180036048  False              False   \n",
       "29762  29462665.0  ...              180036048   True              False   \n",
       "31571  29629598.0  ...              180036048   True              False   \n",
       "...           ...  ...                    ...    ...                ...   \n",
       "83971         NaN  ...              180036048  False              False   \n",
       "83972         NaN  ...              180036048  False              False   \n",
       "83978         NaN  ...              180036048  False              False   \n",
       "84002         NaN  ...              180036048   True              False   \n",
       "84013         NaN  ...              180036048  False              False   \n",
       "\n",
       "      journal_is_oa observation_date  oa_host_type oa_colors  \\\n",
       "12331         False           2021Q4     publisher    hybrid   \n",
       "22341         False           2021Q4    repository     green   \n",
       "24337         False           2021Q4        closed    closed   \n",
       "29762         False           2021Q4     publisher    hybrid   \n",
       "31571         False           2021Q4     publisher    hybrid   \n",
       "...             ...              ...           ...       ...   \n",
       "83971         False           2021Q4        closed    closed   \n",
       "83972         False           2021Q4        closed    closed   \n",
       "83978         False           2021Q4        closed    closed   \n",
       "84002         False           2021Q4    repository     green   \n",
       "84013         False           2021Q4        closed    closed   \n",
       "\n",
       "      licence_publisher  licence_repositories   repositories  \n",
       "12331        no license                   NaN            NaN  \n",
       "22341               NaN            no license  iris.unito.it  \n",
       "24337               NaN                   NaN            NaN  \n",
       "29762        no license                   NaN            NaN  \n",
       "31571        no license                   NaN            NaN  \n",
       "...                 ...                   ...            ...  \n",
       "83971               NaN                   NaN            NaN  \n",
       "83972               NaN                   NaN            NaN  \n",
       "83978               NaN                   NaN            NaN  \n",
       "84002               NaN            no license            HAL  \n",
       "84013               NaN                   NaN            NaN  \n",
       "\n",
       "[18224 rows x 27 columns]"
      ]
     },
     "execution_count": 3,
     "metadata": {},
     "output_type": "execute_result"
    }
   ],
   "source": [
    "pie_data = publis_inserm_df.loc[publis_inserm_df['year'] == 2020.0,:]\n",
    "pie_data"
   ]
  },
  {
   "cell_type": "markdown",
   "metadata": {},
   "source": [
    "Récuperer les différentes valeurs qui nous intéressent:\n",
    "- closed = l'article n'est pas en accès ouvert/dans un journal non ouvert\n",
    "- gold_journal = l'article est dans un journal gold\n",
    "    - gold_gold : gold + gold\n",
    "    - gold_archives_ouvertes : gold + archives ouvertes\n",
    "- free: libre éditeur\n",
    "    - free_archives_ouvertes: free + archives ouvertes\n",
    "    - free_freepubli : free + free\n",
    "- archives ouvertes simple"
   ]
  },
  {
   "cell_type": "code",
   "execution_count": 4,
   "metadata": {},
   "outputs": [
    {
     "data": {
      "text/plain": [
       "Accès fermé global      4486\n",
       "Accès ouvert global    13738\n",
       "Name: is_oa, dtype: int64"
      ]
     },
     "execution_count": 4,
     "metadata": {},
     "output_type": "execute_result"
    }
   ],
   "source": [
    "oa_yes_no = pie_data['is_oa'].value_counts().sort_index().rename({False: 'Accès fermé global', True: 'Accès ouvert global'})\n",
    "oa_yes_no"
   ]
  },
  {
   "cell_type": "code",
   "execution_count": 5,
   "metadata": {},
   "outputs": [],
   "source": [
    "oa_no = (pie_data['is_oa'] == False)\n",
    "oa_yes = (pie_data['is_oa'] == True)\n",
    "assert(len(pie_data) == sum(oa_no)+sum(oa_yes))"
   ]
  },
  {
   "cell_type": "code",
   "execution_count": 6,
   "metadata": {},
   "outputs": [],
   "source": [
    "# si dans le doaj alors gold\n",
    "gold = (pie_data['journal_is_in_doaj'] == True)"
   ]
  },
  {
   "cell_type": "code",
   "execution_count": 7,
   "metadata": {},
   "outputs": [],
   "source": [
    "# si oa et pas gold alors free\n",
    "free = oa_yes & (pie_data['journal_is_in_doaj'] == False)"
   ]
  },
  {
   "cell_type": "code",
   "execution_count": 8,
   "metadata": {},
   "outputs": [],
   "source": [
    "assert(len(pie_data) == sum(oa_no)+sum(gold)+sum(free))"
   ]
  },
  {
   "cell_type": "code",
   "execution_count": 9,
   "metadata": {},
   "outputs": [
    {
     "name": "stdout",
     "output_type": "stream",
     "text": [
      "Acces fermé: 24.62%\n",
      "Gold: 32.21%\n",
      "Free 43.17%\n"
     ]
    }
   ],
   "source": [
    "print(f\"Acces fermé: {sum(oa_no)/len(pie_data):.2%}\\nGold: {sum(gold)/len(pie_data):.2%}\\nFree {sum(free)/len(pie_data):.2%}\")"
   ]
  },
  {
   "cell_type": "markdown",
   "metadata": {},
   "source": [
    "**Free** se décompose en **\"Libre éditeur\"** + **\"Archives ouvertes\"**  \n",
    "* \"Libre éditeur\" = \"publisher\" + \"publisher;repository\"  \n",
    "* \"Archives ouvertes\" = \"repository\""
   ]
  },
  {
   "cell_type": "code",
   "execution_count": 10,
   "metadata": {},
   "outputs": [],
   "source": [
    "libre_editeur =  free & ((pie_data['oa_host_type'] == 'publisher') | (pie_data['oa_host_type'] == 'publisher;repository'))"
   ]
  },
  {
   "cell_type": "code",
   "execution_count": 11,
   "metadata": {},
   "outputs": [],
   "source": [
    "archive_ouverte = free & (pie_data['oa_host_type'] == 'repository')"
   ]
  },
  {
   "cell_type": "code",
   "execution_count": 12,
   "metadata": {},
   "outputs": [],
   "source": [
    "assert(sum(free) == sum(libre_editeur)+sum(archive_ouverte))"
   ]
  },
  {
   "cell_type": "code",
   "execution_count": 13,
   "metadata": {},
   "outputs": [
    {
     "data": {
      "text/html": [
       "<div>\n",
       "<style scoped>\n",
       "    .dataframe tbody tr th:only-of-type {\n",
       "        vertical-align: middle;\n",
       "    }\n",
       "\n",
       "    .dataframe tbody tr th {\n",
       "        vertical-align: top;\n",
       "    }\n",
       "\n",
       "    .dataframe thead th {\n",
       "        text-align: right;\n",
       "    }\n",
       "</style>\n",
       "<table border=\"1\" class=\"dataframe\">\n",
       "  <thead>\n",
       "    <tr style=\"text-align: right;\">\n",
       "      <th></th>\n",
       "      <th>oa_no</th>\n",
       "      <th>gold</th>\n",
       "      <th>libre_editeur</th>\n",
       "      <th>archive_ouverte</th>\n",
       "    </tr>\n",
       "  </thead>\n",
       "  <tbody>\n",
       "    <tr>\n",
       "      <th>12331</th>\n",
       "      <td>False</td>\n",
       "      <td>False</td>\n",
       "      <td>True</td>\n",
       "      <td>False</td>\n",
       "    </tr>\n",
       "    <tr>\n",
       "      <th>22341</th>\n",
       "      <td>False</td>\n",
       "      <td>False</td>\n",
       "      <td>False</td>\n",
       "      <td>True</td>\n",
       "    </tr>\n",
       "    <tr>\n",
       "      <th>24337</th>\n",
       "      <td>True</td>\n",
       "      <td>False</td>\n",
       "      <td>False</td>\n",
       "      <td>False</td>\n",
       "    </tr>\n",
       "    <tr>\n",
       "      <th>29762</th>\n",
       "      <td>False</td>\n",
       "      <td>False</td>\n",
       "      <td>True</td>\n",
       "      <td>False</td>\n",
       "    </tr>\n",
       "    <tr>\n",
       "      <th>31571</th>\n",
       "      <td>False</td>\n",
       "      <td>False</td>\n",
       "      <td>True</td>\n",
       "      <td>False</td>\n",
       "    </tr>\n",
       "    <tr>\n",
       "      <th>...</th>\n",
       "      <td>...</td>\n",
       "      <td>...</td>\n",
       "      <td>...</td>\n",
       "      <td>...</td>\n",
       "    </tr>\n",
       "    <tr>\n",
       "      <th>83971</th>\n",
       "      <td>True</td>\n",
       "      <td>False</td>\n",
       "      <td>False</td>\n",
       "      <td>False</td>\n",
       "    </tr>\n",
       "    <tr>\n",
       "      <th>83972</th>\n",
       "      <td>True</td>\n",
       "      <td>False</td>\n",
       "      <td>False</td>\n",
       "      <td>False</td>\n",
       "    </tr>\n",
       "    <tr>\n",
       "      <th>83978</th>\n",
       "      <td>True</td>\n",
       "      <td>False</td>\n",
       "      <td>False</td>\n",
       "      <td>False</td>\n",
       "    </tr>\n",
       "    <tr>\n",
       "      <th>84002</th>\n",
       "      <td>False</td>\n",
       "      <td>False</td>\n",
       "      <td>False</td>\n",
       "      <td>True</td>\n",
       "    </tr>\n",
       "    <tr>\n",
       "      <th>84013</th>\n",
       "      <td>True</td>\n",
       "      <td>False</td>\n",
       "      <td>False</td>\n",
       "      <td>False</td>\n",
       "    </tr>\n",
       "  </tbody>\n",
       "</table>\n",
       "<p>18224 rows × 4 columns</p>\n",
       "</div>"
      ],
      "text/plain": [
       "       oa_no   gold  libre_editeur  archive_ouverte\n",
       "12331  False  False           True            False\n",
       "22341  False  False          False             True\n",
       "24337   True  False          False            False\n",
       "29762  False  False           True            False\n",
       "31571  False  False           True            False\n",
       "...      ...    ...            ...              ...\n",
       "83971   True  False          False            False\n",
       "83972   True  False          False            False\n",
       "83978   True  False          False            False\n",
       "84002  False  False          False             True\n",
       "84013   True  False          False            False\n",
       "\n",
       "[18224 rows x 4 columns]"
      ]
     },
     "execution_count": 13,
     "metadata": {},
     "output_type": "execute_result"
    }
   ],
   "source": [
    "pie_data_ext = pd.DataFrame({'oa_no' : oa_no,\n",
    "                             'gold' : gold,\n",
    "                             'libre_editeur' : libre_editeur,\n",
    "                             'archive_ouverte' : archive_ouverte\n",
    "                            })\n",
    "pie_data_ext"
   ]
  },
  {
   "cell_type": "code",
   "execution_count": 14,
   "metadata": {},
   "outputs": [
    {
     "data": {
      "text/html": [
       "<div>\n",
       "<style scoped>\n",
       "    .dataframe tbody tr th:only-of-type {\n",
       "        vertical-align: middle;\n",
       "    }\n",
       "\n",
       "    .dataframe tbody tr th {\n",
       "        vertical-align: top;\n",
       "    }\n",
       "\n",
       "    .dataframe thead th {\n",
       "        text-align: right;\n",
       "    }\n",
       "</style>\n",
       "<table border=\"1\" class=\"dataframe\">\n",
       "  <thead>\n",
       "    <tr style=\"text-align: right;\">\n",
       "      <th></th>\n",
       "      <th>type</th>\n",
       "    </tr>\n",
       "  </thead>\n",
       "  <tbody>\n",
       "    <tr>\n",
       "      <th>12331</th>\n",
       "      <td>libre_editeur</td>\n",
       "    </tr>\n",
       "    <tr>\n",
       "      <th>22341</th>\n",
       "      <td>archive_ouverte</td>\n",
       "    </tr>\n",
       "    <tr>\n",
       "      <th>24337</th>\n",
       "      <td>oa_no</td>\n",
       "    </tr>\n",
       "    <tr>\n",
       "      <th>29762</th>\n",
       "      <td>libre_editeur</td>\n",
       "    </tr>\n",
       "    <tr>\n",
       "      <th>31571</th>\n",
       "      <td>libre_editeur</td>\n",
       "    </tr>\n",
       "    <tr>\n",
       "      <th>...</th>\n",
       "      <td>...</td>\n",
       "    </tr>\n",
       "    <tr>\n",
       "      <th>83971</th>\n",
       "      <td>oa_no</td>\n",
       "    </tr>\n",
       "    <tr>\n",
       "      <th>83972</th>\n",
       "      <td>oa_no</td>\n",
       "    </tr>\n",
       "    <tr>\n",
       "      <th>83978</th>\n",
       "      <td>oa_no</td>\n",
       "    </tr>\n",
       "    <tr>\n",
       "      <th>84002</th>\n",
       "      <td>archive_ouverte</td>\n",
       "    </tr>\n",
       "    <tr>\n",
       "      <th>84013</th>\n",
       "      <td>oa_no</td>\n",
       "    </tr>\n",
       "  </tbody>\n",
       "</table>\n",
       "<p>18224 rows × 1 columns</p>\n",
       "</div>"
      ],
      "text/plain": [
       "                  type\n",
       "12331    libre_editeur\n",
       "22341  archive_ouverte\n",
       "24337            oa_no\n",
       "29762    libre_editeur\n",
       "31571    libre_editeur\n",
       "...                ...\n",
       "83971            oa_no\n",
       "83972            oa_no\n",
       "83978            oa_no\n",
       "84002  archive_ouverte\n",
       "84013            oa_no\n",
       "\n",
       "[18224 rows x 1 columns]"
      ]
     },
     "execution_count": 14,
     "metadata": {},
     "output_type": "execute_result"
    }
   ],
   "source": [
    "pie_data_ext_type = pie_data_ext.dot(pie_data_ext.columns).to_frame('type')\n",
    "pie_data_ext_type"
   ]
  },
  {
   "cell_type": "code",
   "execution_count": 15,
   "metadata": {},
   "outputs": [
    {
     "data": {
      "text/plain": [
       "type             \n",
       "Accès fermé          24.6%\n",
       "Gold                 32.2%\n",
       "Libre éditeur        29.8%\n",
       "Archives ouvertes    13.4%\n",
       "dtype: object"
      ]
     },
     "execution_count": 15,
     "metadata": {},
     "output_type": "execute_result"
    }
   ],
   "source": [
    "pie_data_ext_chiffres = pie_data_ext_type.value_counts(normalize=True, sort=False)[['oa_no','gold','libre_editeur','archive_ouverte']].rename({'oa_no': 'Accès fermé', 'gold' : 'Gold', 'libre_editeur' : 'Libre éditeur', 'archive_ouverte' : 'Archives ouvertes'})\n",
    "pie_data_ext_chiffres.mul(100).round(1).astype(str) + '%'"
   ]
  },
  {
   "cell_type": "code",
   "execution_count": 16,
   "metadata": {},
   "outputs": [],
   "source": [
    "gold_publi = gold & (pie_data['oa_host_type'] == 'publisher')"
   ]
  },
  {
   "cell_type": "code",
   "execution_count": 17,
   "metadata": {},
   "outputs": [],
   "source": [
    "gold_rep = gold & (pie_data['oa_host_type'] == 'publisher;repository')"
   ]
  },
  {
   "cell_type": "code",
   "execution_count": 18,
   "metadata": {},
   "outputs": [],
   "source": [
    "gold_rep_only = gold & (pie_data['oa_host_type'] == 'repository')"
   ]
  },
  {
   "cell_type": "code",
   "execution_count": 19,
   "metadata": {},
   "outputs": [],
   "source": [
    "assert(sum(gold) == sum(gold_publi)+sum(gold_rep)+sum(gold_rep_only))"
   ]
  },
  {
   "cell_type": "code",
   "execution_count": 20,
   "metadata": {},
   "outputs": [
    {
     "name": "stdout",
     "output_type": "stream",
     "text": [
      "Répartition Gold: \n",
      "gold_publi: 1.23%\n",
      "gold_rep: 98.42%\n",
      "gold_rep_only: 0.36%\n"
     ]
    }
   ],
   "source": [
    "print(f\"Répartition Gold: \\ngold_publi: {sum(gold_publi)/sum(gold):.2%}\\ngold_rep: {sum(gold_rep)/sum(gold):.2%}\\ngold_rep_only: {sum(gold_rep_only)/sum(gold):.2%}\")"
   ]
  },
  {
   "cell_type": "code",
   "execution_count": 21,
   "metadata": {},
   "outputs": [],
   "source": [
    "free_publi = free & (pie_data['oa_host_type'] == 'publisher')"
   ]
  },
  {
   "cell_type": "code",
   "execution_count": 22,
   "metadata": {},
   "outputs": [],
   "source": [
    "free_rep = free & (pie_data['oa_host_type'] =='publisher;repository')"
   ]
  },
  {
   "cell_type": "code",
   "execution_count": 23,
   "metadata": {},
   "outputs": [],
   "source": [
    "free_rep_only = free & (pie_data['oa_host_type'] =='repository')"
   ]
  },
  {
   "cell_type": "code",
   "execution_count": 24,
   "metadata": {},
   "outputs": [],
   "source": [
    "assert(sum(free) == sum(free_publi)+sum(free_rep)+sum(free_rep_only))"
   ]
  },
  {
   "cell_type": "code",
   "execution_count": 25,
   "metadata": {},
   "outputs": [
    {
     "name": "stdout",
     "output_type": "stream",
     "text": [
      "Répartition Free: \n",
      "free_publi: 25.00%\n",
      "free_rep: 44.01%\n",
      "free_rep_only: 30.99%\n"
     ]
    }
   ],
   "source": [
    "print(f\"Répartition Free: \\nfree_publi: {sum(free_publi)/sum(free):.2%}\\nfree_rep: {sum(free_rep)/sum(free):.2%}\\nfree_rep_only: {sum(free_rep_only)/sum(free):.2%}\")"
   ]
  },
  {
   "cell_type": "code",
   "execution_count": 26,
   "metadata": {},
   "outputs": [
    {
     "data": {
      "text/html": [
       "<div>\n",
       "<style scoped>\n",
       "    .dataframe tbody tr th:only-of-type {\n",
       "        vertical-align: middle;\n",
       "    }\n",
       "\n",
       "    .dataframe tbody tr th {\n",
       "        vertical-align: top;\n",
       "    }\n",
       "\n",
       "    .dataframe thead th {\n",
       "        text-align: right;\n",
       "    }\n",
       "</style>\n",
       "<table border=\"1\" class=\"dataframe\">\n",
       "  <thead>\n",
       "    <tr style=\"text-align: right;\">\n",
       "      <th></th>\n",
       "      <th>oa_no</th>\n",
       "      <th>gold_publi</th>\n",
       "      <th>gold_rep</th>\n",
       "      <th>gold_rep_only</th>\n",
       "      <th>free_publi</th>\n",
       "      <th>free_rep</th>\n",
       "      <th>archive_ouverte</th>\n",
       "    </tr>\n",
       "  </thead>\n",
       "  <tbody>\n",
       "    <tr>\n",
       "      <th>12331</th>\n",
       "      <td>False</td>\n",
       "      <td>False</td>\n",
       "      <td>False</td>\n",
       "      <td>False</td>\n",
       "      <td>True</td>\n",
       "      <td>False</td>\n",
       "      <td>False</td>\n",
       "    </tr>\n",
       "    <tr>\n",
       "      <th>22341</th>\n",
       "      <td>False</td>\n",
       "      <td>False</td>\n",
       "      <td>False</td>\n",
       "      <td>False</td>\n",
       "      <td>False</td>\n",
       "      <td>False</td>\n",
       "      <td>True</td>\n",
       "    </tr>\n",
       "    <tr>\n",
       "      <th>24337</th>\n",
       "      <td>True</td>\n",
       "      <td>False</td>\n",
       "      <td>False</td>\n",
       "      <td>False</td>\n",
       "      <td>False</td>\n",
       "      <td>False</td>\n",
       "      <td>False</td>\n",
       "    </tr>\n",
       "    <tr>\n",
       "      <th>29762</th>\n",
       "      <td>False</td>\n",
       "      <td>False</td>\n",
       "      <td>False</td>\n",
       "      <td>False</td>\n",
       "      <td>True</td>\n",
       "      <td>False</td>\n",
       "      <td>False</td>\n",
       "    </tr>\n",
       "    <tr>\n",
       "      <th>31571</th>\n",
       "      <td>False</td>\n",
       "      <td>False</td>\n",
       "      <td>False</td>\n",
       "      <td>False</td>\n",
       "      <td>True</td>\n",
       "      <td>False</td>\n",
       "      <td>False</td>\n",
       "    </tr>\n",
       "    <tr>\n",
       "      <th>...</th>\n",
       "      <td>...</td>\n",
       "      <td>...</td>\n",
       "      <td>...</td>\n",
       "      <td>...</td>\n",
       "      <td>...</td>\n",
       "      <td>...</td>\n",
       "      <td>...</td>\n",
       "    </tr>\n",
       "    <tr>\n",
       "      <th>83971</th>\n",
       "      <td>True</td>\n",
       "      <td>False</td>\n",
       "      <td>False</td>\n",
       "      <td>False</td>\n",
       "      <td>False</td>\n",
       "      <td>False</td>\n",
       "      <td>False</td>\n",
       "    </tr>\n",
       "    <tr>\n",
       "      <th>83972</th>\n",
       "      <td>True</td>\n",
       "      <td>False</td>\n",
       "      <td>False</td>\n",
       "      <td>False</td>\n",
       "      <td>False</td>\n",
       "      <td>False</td>\n",
       "      <td>False</td>\n",
       "    </tr>\n",
       "    <tr>\n",
       "      <th>83978</th>\n",
       "      <td>True</td>\n",
       "      <td>False</td>\n",
       "      <td>False</td>\n",
       "      <td>False</td>\n",
       "      <td>False</td>\n",
       "      <td>False</td>\n",
       "      <td>False</td>\n",
       "    </tr>\n",
       "    <tr>\n",
       "      <th>84002</th>\n",
       "      <td>False</td>\n",
       "      <td>False</td>\n",
       "      <td>False</td>\n",
       "      <td>False</td>\n",
       "      <td>False</td>\n",
       "      <td>False</td>\n",
       "      <td>True</td>\n",
       "    </tr>\n",
       "    <tr>\n",
       "      <th>84013</th>\n",
       "      <td>True</td>\n",
       "      <td>False</td>\n",
       "      <td>False</td>\n",
       "      <td>False</td>\n",
       "      <td>False</td>\n",
       "      <td>False</td>\n",
       "      <td>False</td>\n",
       "    </tr>\n",
       "  </tbody>\n",
       "</table>\n",
       "<p>18224 rows × 7 columns</p>\n",
       "</div>"
      ],
      "text/plain": [
       "       oa_no  gold_publi  gold_rep  gold_rep_only  free_publi  free_rep  \\\n",
       "12331  False       False     False          False        True     False   \n",
       "22341  False       False     False          False       False     False   \n",
       "24337   True       False     False          False       False     False   \n",
       "29762  False       False     False          False        True     False   \n",
       "31571  False       False     False          False        True     False   \n",
       "...      ...         ...       ...            ...         ...       ...   \n",
       "83971   True       False     False          False       False     False   \n",
       "83972   True       False     False          False       False     False   \n",
       "83978   True       False     False          False       False     False   \n",
       "84002  False       False     False          False       False     False   \n",
       "84013   True       False     False          False       False     False   \n",
       "\n",
       "       archive_ouverte  \n",
       "12331            False  \n",
       "22341             True  \n",
       "24337            False  \n",
       "29762            False  \n",
       "31571            False  \n",
       "...                ...  \n",
       "83971            False  \n",
       "83972            False  \n",
       "83978            False  \n",
       "84002             True  \n",
       "84013            False  \n",
       "\n",
       "[18224 rows x 7 columns]"
      ]
     },
     "execution_count": 26,
     "metadata": {},
     "output_type": "execute_result"
    }
   ],
   "source": [
    "pie_data_int = pd.DataFrame({'oa_no' : oa_no,\n",
    "                   'gold_publi' : gold_publi ,\n",
    "                   'gold_rep' : gold_rep,\n",
    "                   'gold_rep_only' : gold_rep_only,\n",
    "                   'free_publi' : free_publi,\n",
    "                   'free_rep' : free_rep,\n",
    "                   'archive_ouverte' : archive_ouverte\n",
    "                            })\n",
    "pie_data_int"
   ]
  },
  {
   "cell_type": "code",
   "execution_count": 28,
   "metadata": {},
   "outputs": [
    {
     "data": {
      "text/html": [
       "<div>\n",
       "<style scoped>\n",
       "    .dataframe tbody tr th:only-of-type {\n",
       "        vertical-align: middle;\n",
       "    }\n",
       "\n",
       "    .dataframe tbody tr th {\n",
       "        vertical-align: top;\n",
       "    }\n",
       "\n",
       "    .dataframe thead th {\n",
       "        text-align: right;\n",
       "    }\n",
       "</style>\n",
       "<table border=\"1\" class=\"dataframe\">\n",
       "  <thead>\n",
       "    <tr style=\"text-align: right;\">\n",
       "      <th></th>\n",
       "      <th>type</th>\n",
       "    </tr>\n",
       "  </thead>\n",
       "  <tbody>\n",
       "    <tr>\n",
       "      <th>12331</th>\n",
       "      <td>free_publi</td>\n",
       "    </tr>\n",
       "    <tr>\n",
       "      <th>22341</th>\n",
       "      <td>archive_ouverte</td>\n",
       "    </tr>\n",
       "    <tr>\n",
       "      <th>24337</th>\n",
       "      <td>oa_no</td>\n",
       "    </tr>\n",
       "    <tr>\n",
       "      <th>29762</th>\n",
       "      <td>free_publi</td>\n",
       "    </tr>\n",
       "    <tr>\n",
       "      <th>31571</th>\n",
       "      <td>free_publi</td>\n",
       "    </tr>\n",
       "    <tr>\n",
       "      <th>...</th>\n",
       "      <td>...</td>\n",
       "    </tr>\n",
       "    <tr>\n",
       "      <th>83971</th>\n",
       "      <td>oa_no</td>\n",
       "    </tr>\n",
       "    <tr>\n",
       "      <th>83972</th>\n",
       "      <td>oa_no</td>\n",
       "    </tr>\n",
       "    <tr>\n",
       "      <th>83978</th>\n",
       "      <td>oa_no</td>\n",
       "    </tr>\n",
       "    <tr>\n",
       "      <th>84002</th>\n",
       "      <td>archive_ouverte</td>\n",
       "    </tr>\n",
       "    <tr>\n",
       "      <th>84013</th>\n",
       "      <td>oa_no</td>\n",
       "    </tr>\n",
       "  </tbody>\n",
       "</table>\n",
       "<p>18224 rows × 1 columns</p>\n",
       "</div>"
      ],
      "text/plain": [
       "                  type\n",
       "12331       free_publi\n",
       "22341  archive_ouverte\n",
       "24337            oa_no\n",
       "29762       free_publi\n",
       "31571       free_publi\n",
       "...                ...\n",
       "83971            oa_no\n",
       "83972            oa_no\n",
       "83978            oa_no\n",
       "84002  archive_ouverte\n",
       "84013            oa_no\n",
       "\n",
       "[18224 rows x 1 columns]"
      ]
     },
     "execution_count": 28,
     "metadata": {},
     "output_type": "execute_result"
    }
   ],
   "source": [
    "pie_data_int_type = pie_data_int.dot(pie_data_int.columns).to_frame('type')\n",
    "pie_data_int_type"
   ]
  },
  {
   "cell_type": "code",
   "execution_count": 29,
   "metadata": {},
   "outputs": [
    {
     "data": {
      "text/plain": [
       "type                              \n",
       "Accès fermé                           24.6%\n",
       "Gold éditeur                           0.4%\n",
       "Gold en Archives ouvertes             31.7%\n",
       "gold_rep_only                          0.1%\n",
       "Libre éditeur                         10.8%\n",
       "Libre éditeur en Archives ouvertes    19.0%\n",
       "Archives ouvertes                     13.4%\n",
       "dtype: object"
      ]
     },
     "execution_count": 29,
     "metadata": {},
     "output_type": "execute_result"
    }
   ],
   "source": [
    "pie_data_int_chiffres = pie_data_int_type.value_counts(normalize=True, sort=False)[['oa_no','gold_publi','gold_rep','gold_rep_only','free_publi','free_rep','archive_ouverte']].rename({'oa_no': 'Accès fermé', 'gold_publi' : 'Gold éditeur', 'gold_rep' : 'Gold en Archives ouvertes', 'free_publi' : 'Libre éditeur', 'free_rep' : 'Libre éditeur en Archives ouvertes', 'archive_ouverte' : 'Archives ouvertes'})\n",
    "pie_data_int_chiffres.mul(100).round(1).astype(str) + '%'"
   ]
  },
  {
   "cell_type": "code",
   "execution_count": 30,
   "metadata": {},
   "outputs": [
    {
     "name": "stderr",
     "output_type": "stream",
     "text": [
      "C:\\Users\\juliette.janes\\AppData\\Local\\Temp\\ipykernel_15992\\3352899117.py:31: UserWarning: The label '_nolegend_' of <matplotlib.patches.Wedge object at 0x000001B605109910> starts with '_'. It is thus excluded from the legend.\n",
      "  legende_int  = fig.legend(slices_int,\n",
      "C:\\Users\\juliette.janes\\AppData\\Local\\Temp\\ipykernel_15992\\3352899117.py:31: UserWarning: The label '_nolegend_' of <matplotlib.patches.Wedge object at 0x000001B60516B970> starts with '_'. It is thus excluded from the legend.\n",
      "  legende_int  = fig.legend(slices_int,\n"
     ]
    },
    {
     "data": {
      "image/png": "[encoded data removed]",
      "text/plain": [
       "<Figure size 640x480 with 1 Axes>"
      ]
     },
     "metadata": {},
     "output_type": "display_data"
    }
   ],
   "source": [
    "fig, ax = plt.subplots(dpi=100)\n",
    "ax.set_aspect('equal')\n",
    "# Cercle extérieur\n",
    "slices_ext, legend_labels_ext, pct_labels_ext = ax.pie(pie_data_ext_chiffres,  \n",
    "       radius=3, \n",
    "       labeldistance = None,\n",
    "       textprops = {'fontsize':14, 'color':'black'},\n",
    "       colors=['springgreen', 'gold', 'cornflowerblue', 'tomato', ],  \n",
    "       autopct=lambda x: str(round(x, 1)) + '%', \n",
    "       pctdistance = 0.9, \n",
    "       startangle=90,\n",
    "       frame = True\n",
    "      );\n",
    "# Cercle intérieur\n",
    "slices_int, legend_labels_int, pct_labels_int = ax.pie(pie_data_int_chiffres,\n",
    "       radius=2.3, \n",
    "       labeldistance = None, \n",
    "       colors=['seagreen','darkgoldenrod','goldenrod','gold','royalblue','mediumblue','firebrick'], autopct=lambda x: str(round(x, 1)) + '%', \n",
    "       pctdistance = 0.9, \n",
    "       startangle=90);\n",
    "# Cercle blanc intérieur\n",
    "ax.pie([1], radius=1.8, colors='white');\n",
    "# Legende extérieur\n",
    "legende_ext = plt.legend(slices_ext, \n",
    "                           ['Archives ouvertes', 'Gold','Libre éditeur','Acces fermé'],  \n",
    "                           bbox_to_anchor=(0,1.25), \n",
    "                           loc=\"center right\", \n",
    "                           bbox_transform=plt.gcf().transFigure\n",
    "                          )\n",
    "# Legende intérieur (la légende est ajoutée à la figure et non au plot, sinon la légende précedente est écrasée)\n",
    "legende_int  = fig.legend(slices_int, \n",
    "                           ['Archives ouvertes', '_nolegend_', 'Gold en Archives ouvertes', '_nolegend_', 'Libre éditeur en Archives ouvertes', 'Libre éditeur', 'Acces fermé'],  \n",
    "                            loc = \"center\"\n",
    "                          )\n",
    "#ax.legend(loc=\"center\", fontsize = 12)\n",
    "plt.title('Proportion des publications 2019 en accès ouvert (mesuré en 2021)', fontsize = 20, x = 0.55, y = 1.8,\n",
    "          fontweight = 'bold', alpha = 0.6)\n",
    "plt.savefig('Data/outputs/2019_proportion_publications_oa_20211214.png', dpi=150, bbox_inches='tight', pad_inches=0.9)"
   ]
  },
  {
   "cell_type": "markdown",
   "metadata": {},
   "source": [
    "Taux d'accès ouvert par disciplines 2020"
   ]
  },
  {
   "cell_type": "code",
   "execution_count": 31,
   "metadata": {},
   "outputs": [],
   "source": [
    "publications_2020 = publis_inserm_df.loc[publis_inserm_df['year'] == 2020.0,:]"
   ]
  },
  {
   "cell_type": "code",
   "execution_count": 32,
   "metadata": {},
   "outputs": [
    {
     "data": {
      "text/plain": [
       "Biology (fond.)                                  3342\n",
       "Chemistry                                         361\n",
       "Computer and \\n information sciences               72\n",
       "Earth, Ecology, \\nEnergy and applied biology      148\n",
       "Engineering                                        23\n",
       "Humanities                                         35\n",
       "Mathematics                                        19\n",
       "Medical research                                13827\n",
       "Physical sciences, Astronomy                      225\n",
       "Social sciences                                   172\n",
       "Name: bso_classification, dtype: int64"
      ]
     },
     "execution_count": 32,
     "metadata": {},
     "output_type": "execute_result"
    }
   ],
   "source": [
    "publications_par_domaine_type = publications_2020['bso_classification'].value_counts().sort_index()\n",
    "publications_par_domaine_type"
   ]
  },
  {
   "cell_type": "code",
   "execution_count": 33,
   "metadata": {},
   "outputs": [
    {
     "name": "stderr",
     "output_type": "stream",
     "text": [
      "C:\\Users\\juliette.janes\\AppData\\Local\\Temp\\ipykernel_15992\\278930648.py:8: SettingWithCopyWarning: \n",
      "A value is trying to be set on a copy of a slice from a DataFrame.\n",
      "Try using .loc[row_indexer,col_indexer] = value instead\n",
      "\n",
      "See the caveats in the documentation: https://pandas.pydata.org/pandas-docs/stable/user_guide/indexing.html#returning-a-view-versus-a-copy\n",
      "  publications_2020['depot'] = np.select(conditionlist, choicelist, default='Not Specified')\n"
     ]
    }
   ],
   "source": [
    "conditionlist = [\n",
    "    (publications_2020['is_oa'] == False) ,\n",
    "    (publications_2020['journal_is_in_doaj'] == True),\n",
    "    ((publications_2020['is_oa'] == True) & (publications_2020['journal_is_in_doaj'] == False) & ((publications_2020['oa_host_type'] == 'publisher') | (publications_2020['oa_host_type'] == 'publisher;repository'))),\n",
    "    (publications_2020['oa_host_type'] == 'repository') \n",
    "    ]\n",
    "choicelist = ['closed', 'gold', 'free', 'rep']\n",
    "publications_2020['depot'] = np.select(conditionlist, choicelist, default='Not Specified')"
   ]
  },
  {
   "cell_type": "code",
   "execution_count": 34,
   "metadata": {},
   "outputs": [
    {
     "data": {
      "text/html": [
       "<div>\n",
       "<style scoped>\n",
       "    .dataframe tbody tr th:only-of-type {\n",
       "        vertical-align: middle;\n",
       "    }\n",
       "\n",
       "    .dataframe tbody tr th {\n",
       "        vertical-align: top;\n",
       "    }\n",
       "\n",
       "    .dataframe thead th {\n",
       "        text-align: right;\n",
       "    }\n",
       "</style>\n",
       "<table border=\"1\" class=\"dataframe\">\n",
       "  <thead>\n",
       "    <tr style=\"text-align: right;\">\n",
       "      <th>depot</th>\n",
       "      <th>closed</th>\n",
       "      <th>free</th>\n",
       "      <th>gold</th>\n",
       "      <th>rep</th>\n",
       "      <th>Total</th>\n",
       "      <th>y_label</th>\n",
       "    </tr>\n",
       "    <tr>\n",
       "      <th>y_label</th>\n",
       "      <th></th>\n",
       "      <th></th>\n",
       "      <th></th>\n",
       "      <th></th>\n",
       "      <th></th>\n",
       "      <th></th>\n",
       "    </tr>\n",
       "  </thead>\n",
       "  <tbody>\n",
       "    <tr>\n",
       "      <th>Sciences de l'Ingénieur\\n23 publications</th>\n",
       "      <td>1</td>\n",
       "      <td>10</td>\n",
       "      <td>1</td>\n",
       "      <td>11</td>\n",
       "      <td>23</td>\n",
       "      <td>Sciences de l'Ingénieur\\n23 publications</td>\n",
       "    </tr>\n",
       "    <tr>\n",
       "      <th>Informatique\\n72 publications</th>\n",
       "      <td>4</td>\n",
       "      <td>9</td>\n",
       "      <td>18</td>\n",
       "      <td>41</td>\n",
       "      <td>72</td>\n",
       "      <td>Informatique\\n72 publications</td>\n",
       "    </tr>\n",
       "    <tr>\n",
       "      <th>Humanités\\n35 publications</th>\n",
       "      <td>8</td>\n",
       "      <td>12</td>\n",
       "      <td>10</td>\n",
       "      <td>5</td>\n",
       "      <td>35</td>\n",
       "      <td>Humanités\\n35 publications</td>\n",
       "    </tr>\n",
       "    <tr>\n",
       "      <th>Mathématiques\\n19 publications</th>\n",
       "      <td>8</td>\n",
       "      <td>4</td>\n",
       "      <td>1</td>\n",
       "      <td>6</td>\n",
       "      <td>19</td>\n",
       "      <td>Mathématiques\\n19 publications</td>\n",
       "    </tr>\n",
       "    <tr>\n",
       "      <th>Sciences de la Terre, Ecologie, \\nEnergie et biologie appliquée\\n148 publications</th>\n",
       "      <td>16</td>\n",
       "      <td>43</td>\n",
       "      <td>50</td>\n",
       "      <td>39</td>\n",
       "      <td>148</td>\n",
       "      <td>Sciences de la Terre, Ecologie, \\nEnergie et b...</td>\n",
       "    </tr>\n",
       "    <tr>\n",
       "      <th>Sciences physiques, astronomie\\n225 publications</th>\n",
       "      <td>20</td>\n",
       "      <td>40</td>\n",
       "      <td>50</td>\n",
       "      <td>115</td>\n",
       "      <td>225</td>\n",
       "      <td>Sciences physiques, astronomie\\n225 publications</td>\n",
       "    </tr>\n",
       "    <tr>\n",
       "      <th>Chimie\\n361 publications</th>\n",
       "      <td>52</td>\n",
       "      <td>85</td>\n",
       "      <td>72</td>\n",
       "      <td>152</td>\n",
       "      <td>361</td>\n",
       "      <td>Chimie\\n361 publications</td>\n",
       "    </tr>\n",
       "    <tr>\n",
       "      <th>Sciences sociales\\n172 publications</th>\n",
       "      <td>65</td>\n",
       "      <td>42</td>\n",
       "      <td>42</td>\n",
       "      <td>23</td>\n",
       "      <td>172</td>\n",
       "      <td>Sciences sociales\\n172 publications</td>\n",
       "    </tr>\n",
       "    <tr>\n",
       "      <th>Biologie (fond.)\\n3342 publications</th>\n",
       "      <td>377</td>\n",
       "      <td>870</td>\n",
       "      <td>1620</td>\n",
       "      <td>475</td>\n",
       "      <td>3342</td>\n",
       "      <td>Biologie (fond.)\\n3342 publications</td>\n",
       "    </tr>\n",
       "    <tr>\n",
       "      <th>Sciences médicales\\n13827 publications</th>\n",
       "      <td>3935</td>\n",
       "      <td>4315</td>\n",
       "      <td>4006</td>\n",
       "      <td>1571</td>\n",
       "      <td>13827</td>\n",
       "      <td>Sciences médicales\\n13827 publications</td>\n",
       "    </tr>\n",
       "  </tbody>\n",
       "</table>\n",
       "</div>"
      ],
      "text/plain": [
       "depot                                               closed  free  gold   rep  \\\n",
       "y_label                                                                        \n",
       "Sciences de l'Ingénieur\\n23 publications                 1    10     1    11   \n",
       "Informatique\\n72 publications                            4     9    18    41   \n",
       "Humanités\\n35 publications                               8    12    10     5   \n",
       "Mathématiques\\n19 publications                           8     4     1     6   \n",
       "Sciences de la Terre, Ecologie, \\nEnergie et bi...      16    43    50    39   \n",
       "Sciences physiques, astronomie\\n225 publications        20    40    50   115   \n",
       "Chimie\\n361 publications                                52    85    72   152   \n",
       "Sciences sociales\\n172 publications                     65    42    42    23   \n",
       "Biologie (fond.)\\n3342 publications                    377   870  1620   475   \n",
       "Sciences médicales\\n13827 publications                3935  4315  4006  1571   \n",
       "\n",
       "depot                                               Total  \\\n",
       "y_label                                                     \n",
       "Sciences de l'Ingénieur\\n23 publications               23   \n",
       "Informatique\\n72 publications                          72   \n",
       "Humanités\\n35 publications                             35   \n",
       "Mathématiques\\n19 publications                         19   \n",
       "Sciences de la Terre, Ecologie, \\nEnergie et bi...    148   \n",
       "Sciences physiques, astronomie\\n225 publications      225   \n",
       "Chimie\\n361 publications                              361   \n",
       "Sciences sociales\\n172 publications                   172   \n",
       "Biologie (fond.)\\n3342 publications                  3342   \n",
       "Sciences médicales\\n13827 publications              13827   \n",
       "\n",
       "depot                                                                                         y_label  \n",
       "y_label                                                                                                \n",
       "Sciences de l'Ingénieur\\n23 publications                     Sciences de l'Ingénieur\\n23 publications  \n",
       "Informatique\\n72 publications                                           Informatique\\n72 publications  \n",
       "Humanités\\n35 publications                                                 Humanités\\n35 publications  \n",
       "Mathématiques\\n19 publications                                         Mathématiques\\n19 publications  \n",
       "Sciences de la Terre, Ecologie, \\nEnergie et bi...  Sciences de la Terre, Ecologie, \\nEnergie et b...  \n",
       "Sciences physiques, astronomie\\n225 publications     Sciences physiques, astronomie\\n225 publications  \n",
       "Chimie\\n361 publications                                                     Chimie\\n361 publications  \n",
       "Sciences sociales\\n172 publications                               Sciences sociales\\n172 publications  \n",
       "Biologie (fond.)\\n3342 publications                               Biologie (fond.)\\n3342 publications  \n",
       "Sciences médicales\\n13827 publications                         Sciences médicales\\n13827 publications  "
      ]
     },
     "execution_count": 34,
     "metadata": {},
     "output_type": "execute_result"
    }
   ],
   "source": [
    "df_oa_discipline_global_type = pd.crosstab([publications_2020['bso_classification']],publications_2020['depot'])\n",
    "# Ajout d'une colonne avec le total par discipline\n",
    "df_oa_discipline_global_type[\"Total\"] = publications_par_domaine_type\n",
    "# Traduction des disciplines en français\n",
    "df_oa_discipline_global_type.rename(index = {'Biology (fond.)': 'Biologie (fond.)', 'Chemistry': 'Chimie', \n",
    "                                         'Computer and \\n information sciences' : 'Informatique',\n",
    "                                       'Earth, Ecology, \\nEnergy and applied biology' : 'Sciences de la Terre, Ecologie, \\nEnergie et biologie appliquée',\n",
    "                                        'Engineering' : \"Sciences de l'Ingénieur\",\n",
    "                                        'Humanities' : 'Humanités',\n",
    "                                        'Mathematics' : 'Mathématiques',\n",
    "                                        'Medical research' : 'Sciences médicales',\n",
    "                                        'Physical sciences, Astronomy' : 'Sciences physiques, astronomie',\n",
    "                                        'Social sciences' : 'Sciences sociales'}, inplace = True)\n",
    "df_oa_discipline_global_type = df_oa_discipline_global_type.sort_values(by='closed', ascending=True)\n",
    "# Ajout d'une colonne qui concatène le nom de la discipline et le total\n",
    "df_oa_discipline_global_type[\"y_label\"] = df_oa_discipline_global_type.index + \"\\n\" + df_oa_discipline_global_type[\"Total\"].apply(str) \\\n",
    "                                     + \" \" + \"publications\"\n",
    "# Réindexation de l'index pour que les bonnes informations s'affichent dans le graphique final\n",
    "df_oa_discipline_global_type.index = df_oa_discipline_global_type[\"y_label\"]\n",
    "df_oa_discipline_global_type"
   ]
  },
  {
   "cell_type": "code",
   "execution_count": 35,
   "metadata": {},
   "outputs": [
    {
     "data": {
      "text/html": [
       "<div>\n",
       "<style scoped>\n",
       "    .dataframe tbody tr th:only-of-type {\n",
       "        vertical-align: middle;\n",
       "    }\n",
       "\n",
       "    .dataframe tbody tr th {\n",
       "        vertical-align: top;\n",
       "    }\n",
       "\n",
       "    .dataframe thead th {\n",
       "        text-align: right;\n",
       "    }\n",
       "</style>\n",
       "<table border=\"1\" class=\"dataframe\">\n",
       "  <thead>\n",
       "    <tr style=\"text-align: right;\">\n",
       "      <th>depot</th>\n",
       "      <th>closed</th>\n",
       "      <th>free</th>\n",
       "      <th>gold</th>\n",
       "      <th>rep</th>\n",
       "      <th>Total</th>\n",
       "      <th>y_label</th>\n",
       "    </tr>\n",
       "    <tr>\n",
       "      <th>y_label</th>\n",
       "      <th></th>\n",
       "      <th></th>\n",
       "      <th></th>\n",
       "      <th></th>\n",
       "      <th></th>\n",
       "      <th></th>\n",
       "    </tr>\n",
       "  </thead>\n",
       "  <tbody>\n",
       "    <tr>\n",
       "      <th>Sciences de l'Ingénieur\\n23 publications</th>\n",
       "      <td>4.3</td>\n",
       "      <td>43.5</td>\n",
       "      <td>4.3</td>\n",
       "      <td>47.8</td>\n",
       "      <td>23</td>\n",
       "      <td>Sciences de l'Ingénieur\\n23 publications</td>\n",
       "    </tr>\n",
       "    <tr>\n",
       "      <th>Informatique\\n72 publications</th>\n",
       "      <td>5.6</td>\n",
       "      <td>12.5</td>\n",
       "      <td>25.0</td>\n",
       "      <td>56.9</td>\n",
       "      <td>72</td>\n",
       "      <td>Informatique\\n72 publications</td>\n",
       "    </tr>\n",
       "    <tr>\n",
       "      <th>Sciences physiques, astronomie\\n225 publications</th>\n",
       "      <td>8.9</td>\n",
       "      <td>17.8</td>\n",
       "      <td>22.2</td>\n",
       "      <td>51.1</td>\n",
       "      <td>225</td>\n",
       "      <td>Sciences physiques, astronomie\\n225 publications</td>\n",
       "    </tr>\n",
       "    <tr>\n",
       "      <th>Sciences de la Terre, Ecologie, \\nEnergie et biologie appliquée\\n148 publications</th>\n",
       "      <td>10.8</td>\n",
       "      <td>29.1</td>\n",
       "      <td>33.8</td>\n",
       "      <td>26.4</td>\n",
       "      <td>148</td>\n",
       "      <td>Sciences de la Terre, Ecologie, \\nEnergie et b...</td>\n",
       "    </tr>\n",
       "    <tr>\n",
       "      <th>Biologie (fond.)\\n3342 publications</th>\n",
       "      <td>11.3</td>\n",
       "      <td>26.0</td>\n",
       "      <td>48.5</td>\n",
       "      <td>14.2</td>\n",
       "      <td>3342</td>\n",
       "      <td>Biologie (fond.)\\n3342 publications</td>\n",
       "    </tr>\n",
       "    <tr>\n",
       "      <th>Chimie\\n361 publications</th>\n",
       "      <td>14.4</td>\n",
       "      <td>23.5</td>\n",
       "      <td>19.9</td>\n",
       "      <td>42.1</td>\n",
       "      <td>361</td>\n",
       "      <td>Chimie\\n361 publications</td>\n",
       "    </tr>\n",
       "    <tr>\n",
       "      <th>Humanités\\n35 publications</th>\n",
       "      <td>22.9</td>\n",
       "      <td>34.3</td>\n",
       "      <td>28.6</td>\n",
       "      <td>14.3</td>\n",
       "      <td>35</td>\n",
       "      <td>Humanités\\n35 publications</td>\n",
       "    </tr>\n",
       "    <tr>\n",
       "      <th>Sciences médicales\\n13827 publications</th>\n",
       "      <td>28.5</td>\n",
       "      <td>31.2</td>\n",
       "      <td>29.0</td>\n",
       "      <td>11.4</td>\n",
       "      <td>13827</td>\n",
       "      <td>Sciences médicales\\n13827 publications</td>\n",
       "    </tr>\n",
       "    <tr>\n",
       "      <th>Sciences sociales\\n172 publications</th>\n",
       "      <td>37.8</td>\n",
       "      <td>24.4</td>\n",
       "      <td>24.4</td>\n",
       "      <td>13.4</td>\n",
       "      <td>172</td>\n",
       "      <td>Sciences sociales\\n172 publications</td>\n",
       "    </tr>\n",
       "    <tr>\n",
       "      <th>Mathématiques\\n19 publications</th>\n",
       "      <td>42.1</td>\n",
       "      <td>21.1</td>\n",
       "      <td>5.3</td>\n",
       "      <td>31.6</td>\n",
       "      <td>19</td>\n",
       "      <td>Mathématiques\\n19 publications</td>\n",
       "    </tr>\n",
       "  </tbody>\n",
       "</table>\n",
       "</div>"
      ],
      "text/plain": [
       "depot                                               closed  free  gold   rep  \\\n",
       "y_label                                                                        \n",
       "Sciences de l'Ingénieur\\n23 publications               4.3  43.5   4.3  47.8   \n",
       "Informatique\\n72 publications                          5.6  12.5  25.0  56.9   \n",
       "Sciences physiques, astronomie\\n225 publications       8.9  17.8  22.2  51.1   \n",
       "Sciences de la Terre, Ecologie, \\nEnergie et bi...    10.8  29.1  33.8  26.4   \n",
       "Biologie (fond.)\\n3342 publications                   11.3  26.0  48.5  14.2   \n",
       "Chimie\\n361 publications                              14.4  23.5  19.9  42.1   \n",
       "Humanités\\n35 publications                            22.9  34.3  28.6  14.3   \n",
       "Sciences médicales\\n13827 publications                28.5  31.2  29.0  11.4   \n",
       "Sciences sociales\\n172 publications                   37.8  24.4  24.4  13.4   \n",
       "Mathématiques\\n19 publications                        42.1  21.1   5.3  31.6   \n",
       "\n",
       "depot                                               Total  \\\n",
       "y_label                                                     \n",
       "Sciences de l'Ingénieur\\n23 publications               23   \n",
       "Informatique\\n72 publications                          72   \n",
       "Sciences physiques, astronomie\\n225 publications      225   \n",
       "Sciences de la Terre, Ecologie, \\nEnergie et bi...    148   \n",
       "Biologie (fond.)\\n3342 publications                  3342   \n",
       "Chimie\\n361 publications                              361   \n",
       "Humanités\\n35 publications                             35   \n",
       "Sciences médicales\\n13827 publications              13827   \n",
       "Sciences sociales\\n172 publications                   172   \n",
       "Mathématiques\\n19 publications                         19   \n",
       "\n",
       "depot                                                                                         y_label  \n",
       "y_label                                                                                                \n",
       "Sciences de l'Ingénieur\\n23 publications                     Sciences de l'Ingénieur\\n23 publications  \n",
       "Informatique\\n72 publications                                           Informatique\\n72 publications  \n",
       "Sciences physiques, astronomie\\n225 publications     Sciences physiques, astronomie\\n225 publications  \n",
       "Sciences de la Terre, Ecologie, \\nEnergie et bi...  Sciences de la Terre, Ecologie, \\nEnergie et b...  \n",
       "Biologie (fond.)\\n3342 publications                               Biologie (fond.)\\n3342 publications  \n",
       "Chimie\\n361 publications                                                     Chimie\\n361 publications  \n",
       "Humanités\\n35 publications                                                 Humanités\\n35 publications  \n",
       "Sciences médicales\\n13827 publications                         Sciences médicales\\n13827 publications  \n",
       "Sciences sociales\\n172 publications                               Sciences sociales\\n172 publications  \n",
       "Mathématiques\\n19 publications                                         Mathématiques\\n19 publications  "
      ]
     },
     "execution_count": 35,
     "metadata": {},
     "output_type": "execute_result"
    }
   ],
   "source": [
    "df_oa_discipline_type = pd.crosstab([publications_2020['bso_classification']],publications_2020['depot'])\n",
    "df_oa_discipline_type = (df_oa_discipline_type.T / df_oa_discipline_type.T.sum()).mul(100).round(1)\n",
    "df_oa_discipline_type = df_oa_discipline_type.T\n",
    "df_oa_discipline_type[\"Total\"] = publications_par_domaine_type\n",
    "df_oa_discipline_type.rename(index = {'Biology (fond.)': 'Biologie (fond.)', 'Chemistry': 'Chimie', \n",
    "                                         'Computer and \\n information sciences' : 'Informatique',\n",
    "                                       'Earth, Ecology, \\nEnergy and applied biology' : 'Sciences de la Terre, Ecologie, \\nEnergie et biologie appliquée',\n",
    "                                        'Engineering' : \"Sciences de l'Ingénieur\",\n",
    "                                        'Humanities' : 'Humanités',\n",
    "                                        'Mathematics' : 'Mathématiques',\n",
    "                                        'Medical research' : 'Sciences médicales',\n",
    "                                        'Physical sciences, Astronomy' : 'Sciences physiques, astronomie',\n",
    "                                        'Social sciences' : 'Sciences sociales'}, inplace = True)\n",
    "df_oa_discipline_type[\"y_label\"] = df_oa_discipline_type.index + \"\\n\" + df_oa_discipline_type[\"Total\"].apply(str) \\\n",
    "                                     + \" \" + \"publications\"\n",
    "df_oa_discipline_type.index = df_oa_discipline_type[\"y_label\"]\n",
    "df_oa_discipline_type = df_oa_discipline_type.sort_values(by='closed', ascending=True)\n",
    "df_oa_discipline_type"
   ]
  },
  {
   "cell_type": "code",
   "execution_count": 36,
   "metadata": {},
   "outputs": [
    {
     "data": {
      "text/plain": [
       "Text(0.49, 1.02, \"Taux d'accès ouvert aux publications 2020 par discipline\")"
      ]
     },
     "execution_count": 36,
     "metadata": {},
     "output_type": "execute_result"
    },
    {
     "data": {
      "image/png": "[encoded data removed]",
      "text/plain": [
       "<Figure size 1500x1100 with 1 Axes>"
      ]
     },
     "metadata": {},
     "output_type": "display_data"
    }
   ],
   "source": [
    "import matplotlib.ticker as mtick\n",
    "\n",
    "ax = df_oa_discipline_type.drop([\"Total\", \"y_label\"], axis=1).plot(kind=\"barh\", stacked=True, figsize=(15, 11), color=['tomato','greenyellow','gold','seagreen'])\n",
    "ax.xaxis.set_major_formatter(mtick.PercentFormatter())\n",
    "\n",
    "labels = []\n",
    "for j in df_oa_discipline_type.columns:\n",
    "    for i in df_oa_discipline_type.index:\n",
    "        label = str(df_oa_discipline_type.loc[i][j]) + \"%\"\n",
    "        labels.append(label)\n",
    "\n",
    "patches = ax.patches\n",
    "\n",
    "for label, rect in zip(labels, patches):\n",
    "    width = rect.get_width()\n",
    "    if width > 0:\n",
    "        x = rect.get_x()\n",
    "        y = rect.get_y()\n",
    "        height = rect.get_height()\n",
    "        ax.text(x + width/2., y + height/2., label, ha='center', va='center', fontsize=15)\n",
    "\n",
    "# Trier les disciplines par ordre alphabétique\n",
    "plt.gca().invert_yaxis()\n",
    "plt.tick_params(axis = 'both', labelsize = 15)\n",
    "\n",
    "plt.xlabel(\"Nombre total de publications recensées et proportions par type d'accès ouvert\", fontsize=15)  \n",
    "plt.ylabel(None, fontsize = 13)\n",
    "\n",
    "# Les légendes sont nativement en anglais. Elles ont été renommées ici, mais attention, pour une réutilisation avec d'autres\n",
    "# données, il est conseillé d'enlever cette liste [\"Accès fermé\", \"Editeur\"...] et de générer le graphique une 1ère\n",
    "# fois pour voir quels types de documents ressortent et dans quel ordre. On peut toujours renommer la légende dans un 2ème \n",
    "# temps.\n",
    "plt.legend(['Accès fermé', 'Libre éditeur', 'Gold', 'Archives ouvertes'],\n",
    "              loc = 'best', ncol = 1,\n",
    "              frameon = True, markerscale = 2, title = None,\n",
    "              borderpad = 0.3, labelspacing = 0.3, bbox_to_anchor=(1, 0.1))\n",
    "\n",
    "plt.title(\"Taux d'accès ouvert aux publications 2020 par discipline\", fontsize = 25, x = 0.49, y = 1.02,\n",
    "          fontweight = 'bold', alpha = 0.6)\n",
    "#plt.savefig('Data/outputs/2020_taux_type_oa_discipline_type_20220217.png', dpi=100, bbox_inches='tight', pad_inches=0.9)"
   ]
  },
  {
   "cell_type": "markdown",
   "metadata": {},
   "source": [
    "Evolution des frais de publications (APC)"
   ]
  },
  {
   "cell_type": "markdown",
   "metadata": {},
   "source": [
    "Les données ont majoritairement été extraites de la plateformes OpenAPC mais une partie des sources sont internes à l'Institut. Pour autant, l'Inserm met à disposition cette portion de code, à toutes fins utiles."
   ]
  },
  {
   "cell_type": "code",
   "execution_count": 37,
   "metadata": {},
   "outputs": [],
   "source": [
    "open_APC_df = pd.read_csv(\"Data/raw/open_apc_inserm_15-19.csv\")"
   ]
  },
  {
   "cell_type": "code",
   "execution_count": 38,
   "metadata": {},
   "outputs": [],
   "source": [
    "all_graph_data_df = open_APC_df.sort_values(['period','is_hybrid','euro'],ascending=False)\n",
    "graph_data_df = all_graph_data_df[['period','is_hybrid','euro']]"
   ]
  },
  {
   "cell_type": "code",
   "execution_count": 39,
   "metadata": {},
   "outputs": [
    {
     "data": {
      "text/html": [
       "<div>\n",
       "<style scoped>\n",
       "    .dataframe tbody tr th:only-of-type {\n",
       "        vertical-align: middle;\n",
       "    }\n",
       "\n",
       "    .dataframe tbody tr th {\n",
       "        vertical-align: top;\n",
       "    }\n",
       "\n",
       "    .dataframe thead th {\n",
       "        text-align: right;\n",
       "    }\n",
       "</style>\n",
       "<table border=\"1\" class=\"dataframe\">\n",
       "  <thead>\n",
       "    <tr style=\"text-align: right;\">\n",
       "      <th></th>\n",
       "      <th>period</th>\n",
       "      <th>is_hybrid</th>\n",
       "      <th>euro</th>\n",
       "    </tr>\n",
       "  </thead>\n",
       "  <tbody>\n",
       "    <tr>\n",
       "      <th>1939</th>\n",
       "      <td>2019</td>\n",
       "      <td>True</td>\n",
       "      <td>4700.00</td>\n",
       "    </tr>\n",
       "    <tr>\n",
       "      <th>1868</th>\n",
       "      <td>2019</td>\n",
       "      <td>True</td>\n",
       "      <td>4485.87</td>\n",
       "    </tr>\n",
       "    <tr>\n",
       "      <th>1601</th>\n",
       "      <td>2019</td>\n",
       "      <td>True</td>\n",
       "      <td>4480.00</td>\n",
       "    </tr>\n",
       "    <tr>\n",
       "      <th>1875</th>\n",
       "      <td>2019</td>\n",
       "      <td>True</td>\n",
       "      <td>4480.00</td>\n",
       "    </tr>\n",
       "    <tr>\n",
       "      <th>1878</th>\n",
       "      <td>2019</td>\n",
       "      <td>True</td>\n",
       "      <td>4480.00</td>\n",
       "    </tr>\n",
       "    <tr>\n",
       "      <th>...</th>\n",
       "      <td>...</td>\n",
       "      <td>...</td>\n",
       "      <td>...</td>\n",
       "    </tr>\n",
       "    <tr>\n",
       "      <th>468</th>\n",
       "      <td>2015</td>\n",
       "      <td>False</td>\n",
       "      <td>267.30</td>\n",
       "    </tr>\n",
       "    <tr>\n",
       "      <th>469</th>\n",
       "      <td>2015</td>\n",
       "      <td>False</td>\n",
       "      <td>247.00</td>\n",
       "    </tr>\n",
       "    <tr>\n",
       "      <th>471</th>\n",
       "      <td>2015</td>\n",
       "      <td>False</td>\n",
       "      <td>232.50</td>\n",
       "    </tr>\n",
       "    <tr>\n",
       "      <th>472</th>\n",
       "      <td>2015</td>\n",
       "      <td>False</td>\n",
       "      <td>223.14</td>\n",
       "    </tr>\n",
       "    <tr>\n",
       "      <th>473</th>\n",
       "      <td>2015</td>\n",
       "      <td>False</td>\n",
       "      <td>200.00</td>\n",
       "    </tr>\n",
       "  </tbody>\n",
       "</table>\n",
       "<p>2098 rows × 3 columns</p>\n",
       "</div>"
      ],
      "text/plain": [
       "      period  is_hybrid     euro\n",
       "1939    2019       True  4700.00\n",
       "1868    2019       True  4485.87\n",
       "1601    2019       True  4480.00\n",
       "1875    2019       True  4480.00\n",
       "1878    2019       True  4480.00\n",
       "...      ...        ...      ...\n",
       "468     2015      False   267.30\n",
       "469     2015      False   247.00\n",
       "471     2015      False   232.50\n",
       "472     2015      False   223.14\n",
       "473     2015      False   200.00\n",
       "\n",
       "[2098 rows x 3 columns]"
      ]
     },
     "execution_count": 39,
     "metadata": {},
     "output_type": "execute_result"
    }
   ],
   "source": [
    "graph_data_df"
   ]
  },
  {
   "cell_type": "code",
   "execution_count": 41,
   "metadata": {},
   "outputs": [],
   "source": [
    "graph_data_gold = graph_data_df.loc[graph_data_df['is_hybrid'] == False,:]"
   ]
  },
  {
   "cell_type": "code",
   "execution_count": 42,
   "metadata": {},
   "outputs": [
    {
     "data": {
      "text/html": [
       "<div>\n",
       "<style scoped>\n",
       "    .dataframe tbody tr th:only-of-type {\n",
       "        vertical-align: middle;\n",
       "    }\n",
       "\n",
       "    .dataframe tbody tr th {\n",
       "        vertical-align: top;\n",
       "    }\n",
       "\n",
       "    .dataframe thead th {\n",
       "        text-align: right;\n",
       "    }\n",
       "</style>\n",
       "<table border=\"1\" class=\"dataframe\">\n",
       "  <thead>\n",
       "    <tr style=\"text-align: right;\">\n",
       "      <th></th>\n",
       "      <th>period</th>\n",
       "      <th>is_hybrid</th>\n",
       "      <th>euro</th>\n",
       "    </tr>\n",
       "  </thead>\n",
       "  <tbody>\n",
       "    <tr>\n",
       "      <th>1635</th>\n",
       "      <td>2019</td>\n",
       "      <td>False</td>\n",
       "      <td>5148.00</td>\n",
       "    </tr>\n",
       "    <tr>\n",
       "      <th>1622</th>\n",
       "      <td>2019</td>\n",
       "      <td>False</td>\n",
       "      <td>4500.00</td>\n",
       "    </tr>\n",
       "    <tr>\n",
       "      <th>1657</th>\n",
       "      <td>2019</td>\n",
       "      <td>False</td>\n",
       "      <td>4480.00</td>\n",
       "    </tr>\n",
       "    <tr>\n",
       "      <th>1948</th>\n",
       "      <td>2019</td>\n",
       "      <td>False</td>\n",
       "      <td>4480.00</td>\n",
       "    </tr>\n",
       "    <tr>\n",
       "      <th>2015</th>\n",
       "      <td>2019</td>\n",
       "      <td>False</td>\n",
       "      <td>4480.00</td>\n",
       "    </tr>\n",
       "    <tr>\n",
       "      <th>...</th>\n",
       "      <td>...</td>\n",
       "      <td>...</td>\n",
       "      <td>...</td>\n",
       "    </tr>\n",
       "    <tr>\n",
       "      <th>468</th>\n",
       "      <td>2015</td>\n",
       "      <td>False</td>\n",
       "      <td>267.30</td>\n",
       "    </tr>\n",
       "    <tr>\n",
       "      <th>469</th>\n",
       "      <td>2015</td>\n",
       "      <td>False</td>\n",
       "      <td>247.00</td>\n",
       "    </tr>\n",
       "    <tr>\n",
       "      <th>471</th>\n",
       "      <td>2015</td>\n",
       "      <td>False</td>\n",
       "      <td>232.50</td>\n",
       "    </tr>\n",
       "    <tr>\n",
       "      <th>472</th>\n",
       "      <td>2015</td>\n",
       "      <td>False</td>\n",
       "      <td>223.14</td>\n",
       "    </tr>\n",
       "    <tr>\n",
       "      <th>473</th>\n",
       "      <td>2015</td>\n",
       "      <td>False</td>\n",
       "      <td>200.00</td>\n",
       "    </tr>\n",
       "  </tbody>\n",
       "</table>\n",
       "<p>1843 rows × 3 columns</p>\n",
       "</div>"
      ],
      "text/plain": [
       "      period  is_hybrid     euro\n",
       "1635    2019      False  5148.00\n",
       "1622    2019      False  4500.00\n",
       "1657    2019      False  4480.00\n",
       "1948    2019      False  4480.00\n",
       "2015    2019      False  4480.00\n",
       "...      ...        ...      ...\n",
       "468     2015      False   267.30\n",
       "469     2015      False   247.00\n",
       "471     2015      False   232.50\n",
       "472     2015      False   223.14\n",
       "473     2015      False   200.00\n",
       "\n",
       "[1843 rows x 3 columns]"
      ]
     },
     "execution_count": 42,
     "metadata": {},
     "output_type": "execute_result"
    }
   ],
   "source": [
    "graph_data_gold"
   ]
  },
  {
   "cell_type": "code",
   "execution_count": 43,
   "metadata": {},
   "outputs": [],
   "source": [
    "graph_data_gold_2019 = graph_data_gold.loc[graph_data_gold['period'] == 2019.0,:]\n",
    "somme_gold_2019 = graph_data_gold_2019['euro'].sum()"
   ]
  },
  {
   "cell_type": "code",
   "execution_count": 44,
   "metadata": {},
   "outputs": [
    {
     "data": {
      "text/plain": [
       "1105484.3"
      ]
     },
     "execution_count": 44,
     "metadata": {},
     "output_type": "execute_result"
    }
   ],
   "source": [
    "somme_gold_2019"
   ]
  },
  {
   "cell_type": "code",
   "execution_count": 45,
   "metadata": {},
   "outputs": [],
   "source": [
    "graph_data_gold_2018 = graph_data_gold.loc[graph_data_gold['period'] == 2018.0,:]\n",
    "somme_gold_2018 = graph_data_gold_2018['euro'].sum()"
   ]
  },
  {
   "cell_type": "code",
   "execution_count": 46,
   "metadata": {},
   "outputs": [
    {
     "data": {
      "text/plain": [
       "781361.5700000001"
      ]
     },
     "execution_count": 46,
     "metadata": {},
     "output_type": "execute_result"
    }
   ],
   "source": [
    "somme_gold_2018"
   ]
  },
  {
   "cell_type": "code",
   "execution_count": 47,
   "metadata": {},
   "outputs": [],
   "source": [
    "graph_data_gold_2017 = graph_data_gold.loc[graph_data_gold['period'] == 2017.0,:]\n",
    "somme_gold_2017 = graph_data_gold_2017['euro'].sum()"
   ]
  },
  {
   "cell_type": "code",
   "execution_count": 48,
   "metadata": {},
   "outputs": [
    {
     "data": {
      "text/plain": [
       "1042570.37"
      ]
     },
     "execution_count": 48,
     "metadata": {},
     "output_type": "execute_result"
    }
   ],
   "source": [
    "somme_gold_2017"
   ]
  },
  {
   "cell_type": "code",
   "execution_count": 49,
   "metadata": {},
   "outputs": [],
   "source": [
    "graph_data_gold_2015 = graph_data_gold.loc[graph_data_gold['period'] == 2015.0,:]\n",
    "somme_gold_2015 = graph_data_gold_2015['euro'].sum()"
   ]
  },
  {
   "cell_type": "code",
   "execution_count": 50,
   "metadata": {},
   "outputs": [
    {
     "data": {
      "text/plain": [
       "645550.9400000001"
      ]
     },
     "execution_count": 50,
     "metadata": {},
     "output_type": "execute_result"
    }
   ],
   "source": [
    "somme_gold_2015"
   ]
  },
  {
   "cell_type": "code",
   "execution_count": 51,
   "metadata": {},
   "outputs": [],
   "source": [
    "graph_data_hybrid = graph_data_df.loc[graph_data_df['is_hybrid'] == True,:]"
   ]
  },
  {
   "cell_type": "code",
   "execution_count": 52,
   "metadata": {},
   "outputs": [
    {
     "data": {
      "text/html": [
       "<div>\n",
       "<style scoped>\n",
       "    .dataframe tbody tr th:only-of-type {\n",
       "        vertical-align: middle;\n",
       "    }\n",
       "\n",
       "    .dataframe tbody tr th {\n",
       "        vertical-align: top;\n",
       "    }\n",
       "\n",
       "    .dataframe thead th {\n",
       "        text-align: right;\n",
       "    }\n",
       "</style>\n",
       "<table border=\"1\" class=\"dataframe\">\n",
       "  <thead>\n",
       "    <tr style=\"text-align: right;\">\n",
       "      <th></th>\n",
       "      <th>period</th>\n",
       "      <th>is_hybrid</th>\n",
       "      <th>euro</th>\n",
       "    </tr>\n",
       "  </thead>\n",
       "  <tbody>\n",
       "    <tr>\n",
       "      <th>1939</th>\n",
       "      <td>2019</td>\n",
       "      <td>True</td>\n",
       "      <td>4700.00</td>\n",
       "    </tr>\n",
       "    <tr>\n",
       "      <th>1868</th>\n",
       "      <td>2019</td>\n",
       "      <td>True</td>\n",
       "      <td>4485.87</td>\n",
       "    </tr>\n",
       "    <tr>\n",
       "      <th>1601</th>\n",
       "      <td>2019</td>\n",
       "      <td>True</td>\n",
       "      <td>4480.00</td>\n",
       "    </tr>\n",
       "    <tr>\n",
       "      <th>1875</th>\n",
       "      <td>2019</td>\n",
       "      <td>True</td>\n",
       "      <td>4480.00</td>\n",
       "    </tr>\n",
       "    <tr>\n",
       "      <th>1878</th>\n",
       "      <td>2019</td>\n",
       "      <td>True</td>\n",
       "      <td>4480.00</td>\n",
       "    </tr>\n",
       "    <tr>\n",
       "      <th>...</th>\n",
       "      <td>...</td>\n",
       "      <td>...</td>\n",
       "      <td>...</td>\n",
       "    </tr>\n",
       "    <tr>\n",
       "      <th>446</th>\n",
       "      <td>2015</td>\n",
       "      <td>True</td>\n",
       "      <td>741.00</td>\n",
       "    </tr>\n",
       "    <tr>\n",
       "      <th>447</th>\n",
       "      <td>2015</td>\n",
       "      <td>True</td>\n",
       "      <td>734.00</td>\n",
       "    </tr>\n",
       "    <tr>\n",
       "      <th>458</th>\n",
       "      <td>2015</td>\n",
       "      <td>True</td>\n",
       "      <td>536.90</td>\n",
       "    </tr>\n",
       "    <tr>\n",
       "      <th>461</th>\n",
       "      <td>2015</td>\n",
       "      <td>True</td>\n",
       "      <td>450.00</td>\n",
       "    </tr>\n",
       "    <tr>\n",
       "      <th>467</th>\n",
       "      <td>2015</td>\n",
       "      <td>True</td>\n",
       "      <td>268.00</td>\n",
       "    </tr>\n",
       "  </tbody>\n",
       "</table>\n",
       "<p>255 rows × 3 columns</p>\n",
       "</div>"
      ],
      "text/plain": [
       "      period  is_hybrid     euro\n",
       "1939    2019       True  4700.00\n",
       "1868    2019       True  4485.87\n",
       "1601    2019       True  4480.00\n",
       "1875    2019       True  4480.00\n",
       "1878    2019       True  4480.00\n",
       "...      ...        ...      ...\n",
       "446     2015       True   741.00\n",
       "447     2015       True   734.00\n",
       "458     2015       True   536.90\n",
       "461     2015       True   450.00\n",
       "467     2015       True   268.00\n",
       "\n",
       "[255 rows x 3 columns]"
      ]
     },
     "execution_count": 52,
     "metadata": {},
     "output_type": "execute_result"
    }
   ],
   "source": [
    "graph_data_hybrid"
   ]
  },
  {
   "cell_type": "code",
   "execution_count": 53,
   "metadata": {},
   "outputs": [],
   "source": [
    "graph_data_hybrid_2019 = graph_data_hybrid.loc[graph_data_hybrid['period'] == 2019.0,:]\n",
    "somme_hybrid_2019 = graph_data_hybrid_2019['euro'].sum()"
   ]
  },
  {
   "cell_type": "code",
   "execution_count": 54,
   "metadata": {},
   "outputs": [
    {
     "data": {
      "text/plain": [
       "158720.41999999998"
      ]
     },
     "execution_count": 54,
     "metadata": {},
     "output_type": "execute_result"
    }
   ],
   "source": [
    "somme_hybrid_2019"
   ]
  },
  {
   "cell_type": "code",
   "execution_count": 55,
   "metadata": {},
   "outputs": [],
   "source": [
    "graph_data_hybrid_2018 = graph_data_hybrid.loc[graph_data_hybrid['period'] == 2018.0,:]\n",
    "somme_hybrid_2018 = graph_data_hybrid_2018['euro'].sum()"
   ]
  },
  {
   "cell_type": "code",
   "execution_count": 56,
   "metadata": {},
   "outputs": [
    {
     "data": {
      "text/plain": [
       "141293.34"
      ]
     },
     "execution_count": 56,
     "metadata": {},
     "output_type": "execute_result"
    }
   ],
   "source": [
    "somme_hybrid_2018"
   ]
  },
  {
   "cell_type": "code",
   "execution_count": 57,
   "metadata": {},
   "outputs": [],
   "source": [
    "graph_data_hybrid_2017 = graph_data_hybrid.loc[graph_data_hybrid['period'] == 2017.0,:]\n",
    "somme_hybrid_2017 = graph_data_hybrid_2017['euro'].sum()"
   ]
  },
  {
   "cell_type": "code",
   "execution_count": 58,
   "metadata": {},
   "outputs": [
    {
     "data": {
      "text/plain": [
       "166908.78"
      ]
     },
     "execution_count": 58,
     "metadata": {},
     "output_type": "execute_result"
    }
   ],
   "source": [
    "somme_hybrid_2017"
   ]
  },
  {
   "cell_type": "code",
   "execution_count": 59,
   "metadata": {},
   "outputs": [],
   "source": [
    "graph_data_hybrid_2015 = graph_data_hybrid.loc[graph_data_hybrid['period'] == 2015.0,:]\n",
    "somme_hybrid_2015 = graph_data_hybrid_2015['euro'].sum()"
   ]
  },
  {
   "cell_type": "code",
   "execution_count": 60,
   "metadata": {},
   "outputs": [
    {
     "data": {
      "text/plain": [
       "172639.52000000002"
      ]
     },
     "execution_count": 60,
     "metadata": {},
     "output_type": "execute_result"
    }
   ],
   "source": [
    "somme_hybrid_2015"
   ]
  },
  {
   "cell_type": "code",
   "execution_count": 61,
   "metadata": {},
   "outputs": [
    {
     "name": "stderr",
     "output_type": "stream",
     "text": [
      "C:\\Users\\juliette.janes\\AppData\\Local\\Temp\\ipykernel_15992\\4222670905.py:22: UserWarning: FixedFormatter should only be used together with FixedLocator\n",
      "  ax.yaxis.set_ticklabels(['0', '200 000', '400 000', '600 000', '800 000', '1 000 000', '1 200 000', '1 400 000', '1 600 000'])\n"
     ]
    },
    {
     "data": {
      "image/png": "[encoded data removed]",
      "text/plain": [
       "<Figure size 640x480 with 1 Axes>"
      ]
     },
     "metadata": {},
     "output_type": "display_data"
    }
   ],
   "source": [
    "import matplotlib.pyplot as plt\n",
    "import numpy as np\n",
    "\n",
    "\n",
    "labels = ['2015', '2016', '2017', '2018', '2019', '2020']\n",
    "gold = [somme_gold_2015, 902802, somme_gold_2017, somme_gold_2018, somme_gold_2019, 1529664]\n",
    "hybrid = [somme_hybrid_2015, 179945, somme_hybrid_2017, somme_hybrid_2018, somme_hybrid_2019, 303541]\n",
    "\n",
    "x = np.arange(len(labels))  # the label locations\n",
    "width = 0.35  # the width of the bars\n",
    "\n",
    "fig, ax = plt.subplots()\n",
    "rects1 = ax.bar(x - width/2, gold, width, label='Gold')\n",
    "rects2 = ax.bar(x + width/2, hybrid, width, label='Hybride')\n",
    "\n",
    "# Add some text for labels, title and custom x-axis tick labels, etc.\n",
    "ax.set_ylabel('Montant en euros')\n",
    "ax.set_title('Totaux des APC pour publications Gold et Hybrides')\n",
    "ax.set_xticks(x)\n",
    "ax.set_xticklabels(labels)\n",
    "ax.set_ylim(0, 1600000)\n",
    "ax.yaxis.set_ticklabels(['0', '200 000', '400 000', '600 000', '800 000', '1 000 000', '1 200 000', '1 400 000', '1 600 000'])\n",
    "ax.legend()\n",
    "#ax.bar_label(rects1, padding=3)\n",
    "#ax.bar_label(rects2, padding=3)\n",
    "\n",
    "fig.tight_layout()\n",
    "\n",
    "#plt.show()\n",
    "\n",
    "#plt.savefig('./Totaux_APC_Gold_Hybride_20211110.png', dpi=100, bbox_inches='tight', pad_inches=0.9)"
   ]
  },
  {
   "cell_type": "code",
   "execution_count": null,
   "metadata": {},
   "outputs": [],
   "source": []
  }
 ],
 "metadata": {
  "kernelspec": {
   "display_name": "Python 3 (ipykernel)",
   "language": "python",
   "name": "python3"
  },
  "language_info": {
   "codemirror_mode": {
    "name": "ipython",
    "version": 3
   },
   "file_extension": ".py",
   "mimetype": "text/x-python",
   "name": "python",
   "nbconvert_exporter": "python",
   "pygments_lexer": "ipython3",
   "version": "3.9.12"
  }
 },
 "nbformat": 4,
 "nbformat_minor": 4
}
