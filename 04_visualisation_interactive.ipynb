{
 "cells": [
  {
   "cell_type": "code",
   "execution_count": 1,
   "id": "6163341f",
   "metadata": {},
   "outputs": [],
   "source": [
    "import pandas as pd"
   ]
  },
  {
   "cell_type": "markdown",
   "id": "bb128fcc-244e-4421-967a-dde196f24035",
   "metadata": {},
   "source": [
    "#### Importation des données"
   ]
  },
  {
   "cell_type": "code",
   "execution_count": 2,
   "id": "7e264183",
   "metadata": {},
   "outputs": [
    {
     "data": {
      "text/html": [
       "<div>\n",
       "<style scoped>\n",
       "    .dataframe tbody tr th:only-of-type {\n",
       "        vertical-align: middle;\n",
       "    }\n",
       "\n",
       "    .dataframe tbody tr th {\n",
       "        vertical-align: top;\n",
       "    }\n",
       "\n",
       "    .dataframe thead th {\n",
       "        text-align: right;\n",
       "    }\n",
       "</style>\n",
       "<table border=\"1\" class=\"dataframe\">\n",
       "  <thead>\n",
       "    <tr style=\"text-align: right;\">\n",
       "      <th></th>\n",
       "      <th>doi</th>\n",
       "      <th>year</th>\n",
       "      <th>is_oa</th>\n",
       "      <th>oa_host_type</th>\n",
       "      <th>journal_is_in_doaj</th>\n",
       "      <th>journal_is_oa</th>\n",
       "      <th>unpaywall_oa_status</th>\n",
       "      <th>licence_publisher</th>\n",
       "    </tr>\n",
       "  </thead>\n",
       "  <tbody>\n",
       "    <tr>\n",
       "      <th>0</th>\n",
       "      <td>10.1016/s0959-8049(16)32649-1</td>\n",
       "      <td>2016</td>\n",
       "      <td>False</td>\n",
       "      <td>closed</td>\n",
       "      <td>False</td>\n",
       "      <td>False</td>\n",
       "      <td>NaN</td>\n",
       "      <td>NaN</td>\n",
       "    </tr>\n",
       "    <tr>\n",
       "      <th>1</th>\n",
       "      <td>10.1016/j.jval.2016.09.172</td>\n",
       "      <td>2016</td>\n",
       "      <td>True</td>\n",
       "      <td>publisher</td>\n",
       "      <td>False</td>\n",
       "      <td>False</td>\n",
       "      <td>hybrid</td>\n",
       "      <td>other</td>\n",
       "    </tr>\n",
       "    <tr>\n",
       "      <th>2</th>\n",
       "      <td>10.1093/annonc/mdw392.33</td>\n",
       "      <td>2016</td>\n",
       "      <td>True</td>\n",
       "      <td>publisher</td>\n",
       "      <td>False</td>\n",
       "      <td>False</td>\n",
       "      <td>hybrid</td>\n",
       "      <td>other</td>\n",
       "    </tr>\n",
       "    <tr>\n",
       "      <th>3</th>\n",
       "      <td>10.3109/09687637.2016.1153603</td>\n",
       "      <td>2016</td>\n",
       "      <td>False</td>\n",
       "      <td>closed</td>\n",
       "      <td>False</td>\n",
       "      <td>False</td>\n",
       "      <td>NaN</td>\n",
       "      <td>NaN</td>\n",
       "    </tr>\n",
       "    <tr>\n",
       "      <th>4</th>\n",
       "      <td>10.1016/s0924-977x(16)31406-7</td>\n",
       "      <td>2016</td>\n",
       "      <td>False</td>\n",
       "      <td>closed</td>\n",
       "      <td>False</td>\n",
       "      <td>False</td>\n",
       "      <td>NaN</td>\n",
       "      <td>NaN</td>\n",
       "    </tr>\n",
       "    <tr>\n",
       "      <th>...</th>\n",
       "      <td>...</td>\n",
       "      <td>...</td>\n",
       "      <td>...</td>\n",
       "      <td>...</td>\n",
       "      <td>...</td>\n",
       "      <td>...</td>\n",
       "      <td>...</td>\n",
       "      <td>...</td>\n",
       "    </tr>\n",
       "    <tr>\n",
       "      <th>135121</th>\n",
       "      <td>10.3390/cancers13143518</td>\n",
       "      <td>2021</td>\n",
       "      <td>True</td>\n",
       "      <td>publisher-repository</td>\n",
       "      <td>True</td>\n",
       "      <td>True</td>\n",
       "      <td>gold</td>\n",
       "      <td>cc-by</td>\n",
       "    </tr>\n",
       "    <tr>\n",
       "      <th>135122</th>\n",
       "      <td>10.1186/s13072-021-00410-x</td>\n",
       "      <td>2021</td>\n",
       "      <td>True</td>\n",
       "      <td>publisher-repository</td>\n",
       "      <td>True</td>\n",
       "      <td>True</td>\n",
       "      <td>gold</td>\n",
       "      <td>cc-by</td>\n",
       "    </tr>\n",
       "    <tr>\n",
       "      <th>135123</th>\n",
       "      <td>10.1371/journal.ppat.1009427</td>\n",
       "      <td>2021</td>\n",
       "      <td>True</td>\n",
       "      <td>publisher-repository</td>\n",
       "      <td>True</td>\n",
       "      <td>True</td>\n",
       "      <td>gold</td>\n",
       "      <td>cc-by</td>\n",
       "    </tr>\n",
       "    <tr>\n",
       "      <th>135124</th>\n",
       "      <td>10.1016/j.cmi.2020.03.020</td>\n",
       "      <td>2020</td>\n",
       "      <td>True</td>\n",
       "      <td>publisher-repository</td>\n",
       "      <td>False</td>\n",
       "      <td>False</td>\n",
       "      <td>hybrid</td>\n",
       "      <td>other</td>\n",
       "    </tr>\n",
       "    <tr>\n",
       "      <th>135125</th>\n",
       "      <td>10.1073/pnas.2103020118</td>\n",
       "      <td>2021</td>\n",
       "      <td>True</td>\n",
       "      <td>publisher-repository</td>\n",
       "      <td>False</td>\n",
       "      <td>False</td>\n",
       "      <td>bronze</td>\n",
       "      <td>no license</td>\n",
       "    </tr>\n",
       "  </tbody>\n",
       "</table>\n",
       "<p>135126 rows × 8 columns</p>\n",
       "</div>"
      ],
      "text/plain": [
       "                                  doi  year  is_oa          oa_host_type  \\\n",
       "0       10.1016/s0959-8049(16)32649-1  2016  False                closed   \n",
       "1          10.1016/j.jval.2016.09.172  2016   True             publisher   \n",
       "2            10.1093/annonc/mdw392.33  2016   True             publisher   \n",
       "3       10.3109/09687637.2016.1153603  2016  False                closed   \n",
       "4       10.1016/s0924-977x(16)31406-7  2016  False                closed   \n",
       "...                               ...   ...    ...                   ...   \n",
       "135121        10.3390/cancers13143518  2021   True  publisher-repository   \n",
       "135122     10.1186/s13072-021-00410-x  2021   True  publisher-repository   \n",
       "135123   10.1371/journal.ppat.1009427  2021   True  publisher-repository   \n",
       "135124      10.1016/j.cmi.2020.03.020  2020   True  publisher-repository   \n",
       "135125        10.1073/pnas.2103020118  2021   True  publisher-repository   \n",
       "\n",
       "        journal_is_in_doaj  journal_is_oa unpaywall_oa_status  \\\n",
       "0                    False          False                 NaN   \n",
       "1                    False          False              hybrid   \n",
       "2                    False          False              hybrid   \n",
       "3                    False          False                 NaN   \n",
       "4                    False          False                 NaN   \n",
       "...                    ...            ...                 ...   \n",
       "135121                True           True                gold   \n",
       "135122                True           True                gold   \n",
       "135123                True           True                gold   \n",
       "135124               False          False              hybrid   \n",
       "135125               False          False              bronze   \n",
       "\n",
       "       licence_publisher  \n",
       "0                    NaN  \n",
       "1                  other  \n",
       "2                  other  \n",
       "3                    NaN  \n",
       "4                    NaN  \n",
       "...                  ...  \n",
       "135121             cc-by  \n",
       "135122             cc-by  \n",
       "135123             cc-by  \n",
       "135124             other  \n",
       "135125        no license  \n",
       "\n",
       "[135126 rows x 8 columns]"
      ]
     },
     "execution_count": 2,
     "metadata": {},
     "output_type": "execute_result"
    }
   ],
   "source": [
    "df = pd.read_csv(\n",
    "    \"Data/raw/bso-publications-latest_180036048_enriched.csv\",\n",
    "    sep=\";\",\n",
    "    usecols=[\n",
    "        \"doi\",\n",
    "        \"year\",\n",
    "        \"is_oa\",\n",
    "        \"oa_host_type\",\n",
    "        \"journal_is_in_doaj\",\n",
    "        \"journal_is_oa\",\n",
    "        \"unpaywall_oa_status\",\n",
    "        \"licence_publisher\",\n",
    "    ],\n",
    ")\n",
    "df"
   ]
  },
  {
   "cell_type": "markdown",
   "id": "382e2892-708a-4c5b-bef4-40b30e482df7",
   "metadata": {},
   "source": [
    "#### Restriction à l'année à traiter"
   ]
  },
  {
   "cell_type": "markdown",
   "id": "abb607ff-a01b-4460-a13e-8673aabd1ef2",
   "metadata": {},
   "source": [
    "***<span style=\"color:red\">Dans la variable \"annee\" mettre la dernière année à traiter, par exemple pour le fichier enrichie recu fin 2023, on se limite aux publications de 2022</span>***"
   ]
  },
  {
   "cell_type": "code",
   "execution_count": 3,
   "id": "fbd9c6e8-9722-434c-ba5a-8c4290cf24a6",
   "metadata": {},
   "outputs": [],
   "source": [
    "annee = 2022"
   ]
  },
  {
   "cell_type": "code",
   "execution_count": 4,
   "id": "0c87ffe1",
   "metadata": {},
   "outputs": [
    {
     "data": {
      "text/html": [
       "<div>\n",
       "<style scoped>\n",
       "    .dataframe tbody tr th:only-of-type {\n",
       "        vertical-align: middle;\n",
       "    }\n",
       "\n",
       "    .dataframe tbody tr th {\n",
       "        vertical-align: top;\n",
       "    }\n",
       "\n",
       "    .dataframe thead th {\n",
       "        text-align: right;\n",
       "    }\n",
       "</style>\n",
       "<table border=\"1\" class=\"dataframe\">\n",
       "  <thead>\n",
       "    <tr style=\"text-align: right;\">\n",
       "      <th></th>\n",
       "      <th>doi</th>\n",
       "      <th>year</th>\n",
       "      <th>is_oa</th>\n",
       "      <th>oa_host_type</th>\n",
       "      <th>journal_is_in_doaj</th>\n",
       "      <th>journal_is_oa</th>\n",
       "      <th>unpaywall_oa_status</th>\n",
       "      <th>licence_publisher</th>\n",
       "    </tr>\n",
       "  </thead>\n",
       "  <tbody>\n",
       "    <tr>\n",
       "      <th>232</th>\n",
       "      <td>10.3917/spub.215.0627</td>\n",
       "      <td>2022</td>\n",
       "      <td>True</td>\n",
       "      <td>publisher</td>\n",
       "      <td>False</td>\n",
       "      <td>False</td>\n",
       "      <td>bronze</td>\n",
       "      <td>no license</td>\n",
       "    </tr>\n",
       "    <tr>\n",
       "      <th>251</th>\n",
       "      <td>10.21037/hbsn-21-512</td>\n",
       "      <td>2022</td>\n",
       "      <td>True</td>\n",
       "      <td>publisher-repository</td>\n",
       "      <td>False</td>\n",
       "      <td>True</td>\n",
       "      <td>gold</td>\n",
       "      <td>cc-by-nc-nd</td>\n",
       "    </tr>\n",
       "    <tr>\n",
       "      <th>270</th>\n",
       "      <td>10.1016/j.pneurobio.2021.102177</td>\n",
       "      <td>2022</td>\n",
       "      <td>False</td>\n",
       "      <td>closed</td>\n",
       "      <td>False</td>\n",
       "      <td>False</td>\n",
       "      <td>NaN</td>\n",
       "      <td>NaN</td>\n",
       "    </tr>\n",
       "    <tr>\n",
       "      <th>291</th>\n",
       "      <td>10.1016/j.yjmcc.2022.08.063</td>\n",
       "      <td>2022</td>\n",
       "      <td>False</td>\n",
       "      <td>closed</td>\n",
       "      <td>False</td>\n",
       "      <td>False</td>\n",
       "      <td>NaN</td>\n",
       "      <td>NaN</td>\n",
       "    </tr>\n",
       "    <tr>\n",
       "      <th>292</th>\n",
       "      <td>10.1016/j.yjmcc.2022.08.189</td>\n",
       "      <td>2022</td>\n",
       "      <td>False</td>\n",
       "      <td>closed</td>\n",
       "      <td>False</td>\n",
       "      <td>False</td>\n",
       "      <td>NaN</td>\n",
       "      <td>NaN</td>\n",
       "    </tr>\n",
       "    <tr>\n",
       "      <th>...</th>\n",
       "      <td>...</td>\n",
       "      <td>...</td>\n",
       "      <td>...</td>\n",
       "      <td>...</td>\n",
       "      <td>...</td>\n",
       "      <td>...</td>\n",
       "      <td>...</td>\n",
       "      <td>...</td>\n",
       "    </tr>\n",
       "    <tr>\n",
       "      <th>132975</th>\n",
       "      <td>10.1016/j.euf.2021.04.006</td>\n",
       "      <td>2022</td>\n",
       "      <td>True</td>\n",
       "      <td>repository</td>\n",
       "      <td>False</td>\n",
       "      <td>False</td>\n",
       "      <td>green</td>\n",
       "      <td>NaN</td>\n",
       "    </tr>\n",
       "    <tr>\n",
       "      <th>133379</th>\n",
       "      <td>10.1109/tgrs.2021.3076011</td>\n",
       "      <td>2022</td>\n",
       "      <td>True</td>\n",
       "      <td>repository</td>\n",
       "      <td>False</td>\n",
       "      <td>False</td>\n",
       "      <td>green</td>\n",
       "      <td>NaN</td>\n",
       "    </tr>\n",
       "    <tr>\n",
       "      <th>133444</th>\n",
       "      <td>10.1038/s41409-022-01686-7</td>\n",
       "      <td>2022</td>\n",
       "      <td>True</td>\n",
       "      <td>repository</td>\n",
       "      <td>False</td>\n",
       "      <td>False</td>\n",
       "      <td>green</td>\n",
       "      <td>NaN</td>\n",
       "    </tr>\n",
       "    <tr>\n",
       "      <th>133849</th>\n",
       "      <td>10.1016/j.survophthal.2021.05.012</td>\n",
       "      <td>2022</td>\n",
       "      <td>True</td>\n",
       "      <td>repository</td>\n",
       "      <td>False</td>\n",
       "      <td>False</td>\n",
       "      <td>green</td>\n",
       "      <td>NaN</td>\n",
       "    </tr>\n",
       "    <tr>\n",
       "      <th>134225</th>\n",
       "      <td>10.1007/s00439-022-02473-6</td>\n",
       "      <td>2022</td>\n",
       "      <td>True</td>\n",
       "      <td>repository</td>\n",
       "      <td>False</td>\n",
       "      <td>False</td>\n",
       "      <td>green</td>\n",
       "      <td>NaN</td>\n",
       "    </tr>\n",
       "  </tbody>\n",
       "</table>\n",
       "<p>20735 rows × 8 columns</p>\n",
       "</div>"
      ],
      "text/plain": [
       "                                      doi  year  is_oa          oa_host_type  \\\n",
       "232                 10.3917/spub.215.0627  2022   True             publisher   \n",
       "251                  10.21037/hbsn-21-512  2022   True  publisher-repository   \n",
       "270       10.1016/j.pneurobio.2021.102177  2022  False                closed   \n",
       "291           10.1016/j.yjmcc.2022.08.063  2022  False                closed   \n",
       "292           10.1016/j.yjmcc.2022.08.189  2022  False                closed   \n",
       "...                                   ...   ...    ...                   ...   \n",
       "132975          10.1016/j.euf.2021.04.006  2022   True            repository   \n",
       "133379          10.1109/tgrs.2021.3076011  2022   True            repository   \n",
       "133444         10.1038/s41409-022-01686-7  2022   True            repository   \n",
       "133849  10.1016/j.survophthal.2021.05.012  2022   True            repository   \n",
       "134225         10.1007/s00439-022-02473-6  2022   True            repository   \n",
       "\n",
       "        journal_is_in_doaj  journal_is_oa unpaywall_oa_status  \\\n",
       "232                  False          False              bronze   \n",
       "251                  False           True                gold   \n",
       "270                  False          False                 NaN   \n",
       "291                  False          False                 NaN   \n",
       "292                  False          False                 NaN   \n",
       "...                    ...            ...                 ...   \n",
       "132975               False          False               green   \n",
       "133379               False          False               green   \n",
       "133444               False          False               green   \n",
       "133849               False          False               green   \n",
       "134225               False          False               green   \n",
       "\n",
       "       licence_publisher  \n",
       "232           no license  \n",
       "251          cc-by-nc-nd  \n",
       "270                  NaN  \n",
       "291                  NaN  \n",
       "292                  NaN  \n",
       "...                  ...  \n",
       "132975               NaN  \n",
       "133379               NaN  \n",
       "133444               NaN  \n",
       "133849               NaN  \n",
       "134225               NaN  \n",
       "\n",
       "[20735 rows x 8 columns]"
      ]
     },
     "execution_count": 4,
     "metadata": {},
     "output_type": "execute_result"
    }
   ],
   "source": [
    "df_year = df.loc[df['year'] == annee, :]\n",
    "df_year"
   ]
  },
  {
   "cell_type": "markdown",
   "id": "620e4ac7-f6cb-428b-9762-b5ef54229260",
   "metadata": {},
   "source": [
    "#### Nombre total de publications"
   ]
  },
  {
   "cell_type": "code",
   "execution_count": 5,
   "id": "60a0299a-0803-421a-a251-0cb058cc1aaa",
   "metadata": {},
   "outputs": [
    {
     "data": {
      "text/plain": [
       "20735"
      ]
     },
     "execution_count": 5,
     "metadata": {},
     "output_type": "execute_result"
    }
   ],
   "source": [
    "num_publications = len(df_year)\n",
    "num_publications"
   ]
  },
  {
   "cell_type": "markdown",
   "id": "11b03939-0717-4096-b00f-5a3a1d66f74c",
   "metadata": {},
   "source": [
    "#### OA/Closed"
   ]
  },
  {
   "cell_type": "code",
   "execution_count": 6,
   "id": "18a080a1",
   "metadata": {},
   "outputs": [],
   "source": [
    "oa = df_year.loc[:, \"is_oa\"]\n",
    "num_oa = oa.sum()\n",
    "closed = ~df_year.loc[:, \"is_oa\"]\n",
    "num_closed = closed.sum()\n",
    "\n",
    "assert(len(df_year) == num_oa + num_closed)\n",
    "# Le MESR supprime la valeur \"closed\" dans le champ \"unpaywall_oa_status\", on se retrouve donc avec \"NaN\" à la place\n",
    "# Ne me demandez pas pourquoi ¯\\_(ツ)_/¯\n",
    "assert(df_year.loc[:, \"unpaywall_oa_status\"].isnull().sum() == num_closed)\n",
    "assert((df_year.loc[:, \"oa_host_type\"] == \"closed\").sum() == num_closed)"
   ]
  },
  {
   "cell_type": "markdown",
   "id": "366dd807-543d-4c70-a583-646ea47418b6",
   "metadata": {},
   "source": [
    "#### Green/Publisher "
   ]
  },
  {
   "cell_type": "code",
   "execution_count": 7,
   "id": "c27cfaf7",
   "metadata": {},
   "outputs": [],
   "source": [
    "green = (df_year.loc[:, \"oa_host_type\"] == \"repository\")\n",
    "num_green = green.sum()\n",
    "publisher = df_year.loc[:, \"oa_host_type\"].isin([\"publisher-repository\", \"publisher\"])\n",
    "num_publisher = publisher.sum()\n",
    "\n",
    "assert (num_oa == num_green + num_publisher)\n",
    "assert (df_year[green & closed].empty)\n",
    "assert (df_year[publisher & closed].empty)"
   ]
  },
  {
   "cell_type": "code",
   "execution_count": 8,
   "id": "22f94665",
   "metadata": {},
   "outputs": [
    {
     "data": {
      "text/html": [
       "<div>\n",
       "<style scoped>\n",
       "    .dataframe tbody tr th:only-of-type {\n",
       "        vertical-align: middle;\n",
       "    }\n",
       "\n",
       "    .dataframe tbody tr th {\n",
       "        vertical-align: top;\n",
       "    }\n",
       "\n",
       "    .dataframe thead th {\n",
       "        text-align: right;\n",
       "    }\n",
       "</style>\n",
       "<table border=\"1\" class=\"dataframe\">\n",
       "  <thead>\n",
       "    <tr style=\"text-align: right;\">\n",
       "      <th></th>\n",
       "      <th>doi</th>\n",
       "      <th>year</th>\n",
       "      <th>is_oa</th>\n",
       "      <th>oa_host_type</th>\n",
       "      <th>journal_is_in_doaj</th>\n",
       "      <th>journal_is_oa</th>\n",
       "      <th>unpaywall_oa_status</th>\n",
       "      <th>licence_publisher</th>\n",
       "    </tr>\n",
       "  </thead>\n",
       "  <tbody>\n",
       "    <tr>\n",
       "      <th>8035</th>\n",
       "      <td>10.1101/2022.05.02.490314</td>\n",
       "      <td>2022</td>\n",
       "      <td>True</td>\n",
       "      <td>publisher-repository</td>\n",
       "      <td>False</td>\n",
       "      <td>False</td>\n",
       "      <td>green</td>\n",
       "      <td>cc-by</td>\n",
       "    </tr>\n",
       "    <tr>\n",
       "      <th>8074</th>\n",
       "      <td>10.1101/2022.03.23.485509</td>\n",
       "      <td>2022</td>\n",
       "      <td>True</td>\n",
       "      <td>publisher-repository</td>\n",
       "      <td>False</td>\n",
       "      <td>False</td>\n",
       "      <td>green</td>\n",
       "      <td>no license</td>\n",
       "    </tr>\n",
       "    <tr>\n",
       "      <th>16984</th>\n",
       "      <td>10.1101/2022.08.10.22278636</td>\n",
       "      <td>2022</td>\n",
       "      <td>True</td>\n",
       "      <td>publisher-repository</td>\n",
       "      <td>False</td>\n",
       "      <td>False</td>\n",
       "      <td>green</td>\n",
       "      <td>cc-by</td>\n",
       "    </tr>\n",
       "    <tr>\n",
       "      <th>17051</th>\n",
       "      <td>10.1101/2022.07.21.500634</td>\n",
       "      <td>2022</td>\n",
       "      <td>True</td>\n",
       "      <td>publisher-repository</td>\n",
       "      <td>False</td>\n",
       "      <td>False</td>\n",
       "      <td>green</td>\n",
       "      <td>cc-by</td>\n",
       "    </tr>\n",
       "    <tr>\n",
       "      <th>17378</th>\n",
       "      <td>10.26434/chemrxiv-2021-l6399-v2</td>\n",
       "      <td>2022</td>\n",
       "      <td>True</td>\n",
       "      <td>publisher-repository</td>\n",
       "      <td>False</td>\n",
       "      <td>False</td>\n",
       "      <td>green</td>\n",
       "      <td>cc-by</td>\n",
       "    </tr>\n",
       "    <tr>\n",
       "      <th>18492</th>\n",
       "      <td>10.1101/2022.02.04.478659</td>\n",
       "      <td>2022</td>\n",
       "      <td>True</td>\n",
       "      <td>publisher-repository</td>\n",
       "      <td>False</td>\n",
       "      <td>False</td>\n",
       "      <td>green</td>\n",
       "      <td>cc-by-nc-nd</td>\n",
       "    </tr>\n",
       "    <tr>\n",
       "      <th>20093</th>\n",
       "      <td>10.1101/2022.01.24.477452</td>\n",
       "      <td>2022</td>\n",
       "      <td>True</td>\n",
       "      <td>publisher-repository</td>\n",
       "      <td>False</td>\n",
       "      <td>False</td>\n",
       "      <td>green</td>\n",
       "      <td>cc-by</td>\n",
       "    </tr>\n",
       "    <tr>\n",
       "      <th>20183</th>\n",
       "      <td>10.21203/rs.3.rs-1225906/v1</td>\n",
       "      <td>2022</td>\n",
       "      <td>True</td>\n",
       "      <td>publisher-repository</td>\n",
       "      <td>False</td>\n",
       "      <td>False</td>\n",
       "      <td>green</td>\n",
       "      <td>cc-by</td>\n",
       "    </tr>\n",
       "    <tr>\n",
       "      <th>21803</th>\n",
       "      <td>10.21203/rs.3.rs-1380222/v1</td>\n",
       "      <td>2022</td>\n",
       "      <td>True</td>\n",
       "      <td>publisher-repository</td>\n",
       "      <td>False</td>\n",
       "      <td>False</td>\n",
       "      <td>green</td>\n",
       "      <td>cc-by</td>\n",
       "    </tr>\n",
       "    <tr>\n",
       "      <th>22378</th>\n",
       "      <td>10.1101/2022.05.10.491295</td>\n",
       "      <td>2022</td>\n",
       "      <td>True</td>\n",
       "      <td>publisher-repository</td>\n",
       "      <td>False</td>\n",
       "      <td>False</td>\n",
       "      <td>green</td>\n",
       "      <td>cc-by</td>\n",
       "    </tr>\n",
       "    <tr>\n",
       "      <th>23975</th>\n",
       "      <td>10.1101/2022.03.31.486515</td>\n",
       "      <td>2022</td>\n",
       "      <td>True</td>\n",
       "      <td>publisher-repository</td>\n",
       "      <td>False</td>\n",
       "      <td>False</td>\n",
       "      <td>green</td>\n",
       "      <td>cc-by</td>\n",
       "    </tr>\n",
       "    <tr>\n",
       "      <th>25722</th>\n",
       "      <td>10.21203/rs.3.rs-1685544/v1</td>\n",
       "      <td>2022</td>\n",
       "      <td>True</td>\n",
       "      <td>publisher-repository</td>\n",
       "      <td>False</td>\n",
       "      <td>False</td>\n",
       "      <td>green</td>\n",
       "      <td>cc-by</td>\n",
       "    </tr>\n",
       "    <tr>\n",
       "      <th>26007</th>\n",
       "      <td>10.1101/2022.03.08.483323</td>\n",
       "      <td>2022</td>\n",
       "      <td>True</td>\n",
       "      <td>publisher-repository</td>\n",
       "      <td>False</td>\n",
       "      <td>False</td>\n",
       "      <td>green</td>\n",
       "      <td>cc-by</td>\n",
       "    </tr>\n",
       "    <tr>\n",
       "      <th>26403</th>\n",
       "      <td>10.1101/2022.09.06.506731</td>\n",
       "      <td>2022</td>\n",
       "      <td>True</td>\n",
       "      <td>publisher-repository</td>\n",
       "      <td>False</td>\n",
       "      <td>False</td>\n",
       "      <td>green</td>\n",
       "      <td>cc-by</td>\n",
       "    </tr>\n",
       "    <tr>\n",
       "      <th>27668</th>\n",
       "      <td>10.1101/2022.01.21.477232</td>\n",
       "      <td>2022</td>\n",
       "      <td>True</td>\n",
       "      <td>publisher-repository</td>\n",
       "      <td>False</td>\n",
       "      <td>False</td>\n",
       "      <td>green</td>\n",
       "      <td>cc-by</td>\n",
       "    </tr>\n",
       "    <tr>\n",
       "      <th>28042</th>\n",
       "      <td>10.1101/2022.05.04.490580</td>\n",
       "      <td>2022</td>\n",
       "      <td>True</td>\n",
       "      <td>publisher-repository</td>\n",
       "      <td>False</td>\n",
       "      <td>False</td>\n",
       "      <td>green</td>\n",
       "      <td>cc-by</td>\n",
       "    </tr>\n",
       "    <tr>\n",
       "      <th>28173</th>\n",
       "      <td>10.1101/2022.04.11.487889</td>\n",
       "      <td>2022</td>\n",
       "      <td>True</td>\n",
       "      <td>publisher-repository</td>\n",
       "      <td>False</td>\n",
       "      <td>False</td>\n",
       "      <td>green</td>\n",
       "      <td>cc-by</td>\n",
       "    </tr>\n",
       "    <tr>\n",
       "      <th>28512</th>\n",
       "      <td>10.1101/2022.02.11.480042</td>\n",
       "      <td>2022</td>\n",
       "      <td>True</td>\n",
       "      <td>publisher-repository</td>\n",
       "      <td>False</td>\n",
       "      <td>False</td>\n",
       "      <td>green</td>\n",
       "      <td>cc-by</td>\n",
       "    </tr>\n",
       "    <tr>\n",
       "      <th>28860</th>\n",
       "      <td>10.21203/rs.3.rs-1415862/v1</td>\n",
       "      <td>2022</td>\n",
       "      <td>True</td>\n",
       "      <td>publisher-repository</td>\n",
       "      <td>False</td>\n",
       "      <td>False</td>\n",
       "      <td>green</td>\n",
       "      <td>cc-by</td>\n",
       "    </tr>\n",
       "  </tbody>\n",
       "</table>\n",
       "</div>"
      ],
      "text/plain": [
       "                                   doi  year  is_oa          oa_host_type  \\\n",
       "8035         10.1101/2022.05.02.490314  2022   True  publisher-repository   \n",
       "8074         10.1101/2022.03.23.485509  2022   True  publisher-repository   \n",
       "16984      10.1101/2022.08.10.22278636  2022   True  publisher-repository   \n",
       "17051        10.1101/2022.07.21.500634  2022   True  publisher-repository   \n",
       "17378  10.26434/chemrxiv-2021-l6399-v2  2022   True  publisher-repository   \n",
       "18492        10.1101/2022.02.04.478659  2022   True  publisher-repository   \n",
       "20093        10.1101/2022.01.24.477452  2022   True  publisher-repository   \n",
       "20183      10.21203/rs.3.rs-1225906/v1  2022   True  publisher-repository   \n",
       "21803      10.21203/rs.3.rs-1380222/v1  2022   True  publisher-repository   \n",
       "22378        10.1101/2022.05.10.491295  2022   True  publisher-repository   \n",
       "23975        10.1101/2022.03.31.486515  2022   True  publisher-repository   \n",
       "25722      10.21203/rs.3.rs-1685544/v1  2022   True  publisher-repository   \n",
       "26007        10.1101/2022.03.08.483323  2022   True  publisher-repository   \n",
       "26403        10.1101/2022.09.06.506731  2022   True  publisher-repository   \n",
       "27668        10.1101/2022.01.21.477232  2022   True  publisher-repository   \n",
       "28042        10.1101/2022.05.04.490580  2022   True  publisher-repository   \n",
       "28173        10.1101/2022.04.11.487889  2022   True  publisher-repository   \n",
       "28512        10.1101/2022.02.11.480042  2022   True  publisher-repository   \n",
       "28860      10.21203/rs.3.rs-1415862/v1  2022   True  publisher-repository   \n",
       "\n",
       "       journal_is_in_doaj  journal_is_oa unpaywall_oa_status licence_publisher  \n",
       "8035                False          False               green             cc-by  \n",
       "8074                False          False               green        no license  \n",
       "16984               False          False               green             cc-by  \n",
       "17051               False          False               green             cc-by  \n",
       "17378               False          False               green             cc-by  \n",
       "18492               False          False               green       cc-by-nc-nd  \n",
       "20093               False          False               green             cc-by  \n",
       "20183               False          False               green             cc-by  \n",
       "21803               False          False               green             cc-by  \n",
       "22378               False          False               green             cc-by  \n",
       "23975               False          False               green             cc-by  \n",
       "25722               False          False               green             cc-by  \n",
       "26007               False          False               green             cc-by  \n",
       "26403               False          False               green             cc-by  \n",
       "27668               False          False               green             cc-by  \n",
       "28042               False          False               green             cc-by  \n",
       "28173               False          False               green             cc-by  \n",
       "28512               False          False               green             cc-by  \n",
       "28860               False          False               green             cc-by  "
      ]
     },
     "execution_count": 8,
     "metadata": {},
     "output_type": "execute_result"
    }
   ],
   "source": [
    "# ???\n",
    "# Green implique que l'on est uniquement en repository normalement\n",
    "# unpaywall_oa_status = green -> oa_host_type = repository\n",
    "df_year[((df_year.loc[:, \"oa_host_type\"] == \"publisher-repository\") & (df_year.loc[:, \"unpaywall_oa_status\"] == \"green\"))]"
   ]
  },
  {
   "cell_type": "markdown",
   "id": "d8407733-4d7c-40d4-9df5-1aab1174c9b0",
   "metadata": {},
   "source": [
    "#### Gold/Journal_not_doaj "
   ]
  },
  {
   "cell_type": "code",
   "execution_count": 9,
   "id": "28638409",
   "metadata": {},
   "outputs": [],
   "source": [
    "gold = publisher & df_year.loc[:, \"journal_is_in_doaj\"]\n",
    "num_gold = gold.sum()\n",
    "journal_not_doaj = publisher & ~gold\n",
    "num_journal_not_doaj = journal_not_doaj.sum()\n",
    "\n",
    "assert(num_publisher == num_gold + num_journal_not_doaj)"
   ]
  },
  {
   "cell_type": "code",
   "execution_count": 10,
   "id": "8c0fc267",
   "metadata": {},
   "outputs": [
    {
     "data": {
      "text/plain": [
       "journal_is_in_doaj\n",
       "False    12752\n",
       "True      7983\n",
       "Name: count, dtype: int64"
      ]
     },
     "execution_count": 10,
     "metadata": {},
     "output_type": "execute_result"
    }
   ],
   "source": [
    "df_year.loc[:, \"journal_is_in_doaj\"].value_counts()"
   ]
  },
  {
   "cell_type": "code",
   "execution_count": 11,
   "id": "3da6089f",
   "metadata": {},
   "outputs": [
    {
     "data": {
      "text/html": [
       "<div>\n",
       "<style scoped>\n",
       "    .dataframe tbody tr th:only-of-type {\n",
       "        vertical-align: middle;\n",
       "    }\n",
       "\n",
       "    .dataframe tbody tr th {\n",
       "        vertical-align: top;\n",
       "    }\n",
       "\n",
       "    .dataframe thead th {\n",
       "        text-align: right;\n",
       "    }\n",
       "</style>\n",
       "<table border=\"1\" class=\"dataframe\">\n",
       "  <thead>\n",
       "    <tr style=\"text-align: right;\">\n",
       "      <th></th>\n",
       "      <th>doi</th>\n",
       "      <th>year</th>\n",
       "      <th>is_oa</th>\n",
       "      <th>oa_host_type</th>\n",
       "      <th>journal_is_in_doaj</th>\n",
       "      <th>journal_is_oa</th>\n",
       "      <th>unpaywall_oa_status</th>\n",
       "      <th>licence_publisher</th>\n",
       "    </tr>\n",
       "  </thead>\n",
       "  <tbody>\n",
       "    <tr>\n",
       "      <th>398</th>\n",
       "      <td>10.1016/j.omtm.2022.07.005</td>\n",
       "      <td>2022</td>\n",
       "      <td>True</td>\n",
       "      <td>repository</td>\n",
       "      <td>True</td>\n",
       "      <td>True</td>\n",
       "      <td>green</td>\n",
       "      <td>NaN</td>\n",
       "    </tr>\n",
       "    <tr>\n",
       "      <th>1539</th>\n",
       "      <td>10.1016/j.bjao.2022.100024</td>\n",
       "      <td>2022</td>\n",
       "      <td>True</td>\n",
       "      <td>repository</td>\n",
       "      <td>True</td>\n",
       "      <td>True</td>\n",
       "      <td>green</td>\n",
       "      <td>NaN</td>\n",
       "    </tr>\n",
       "    <tr>\n",
       "      <th>1618</th>\n",
       "      <td>10.1002/ctm2.1131</td>\n",
       "      <td>2022</td>\n",
       "      <td>True</td>\n",
       "      <td>repository</td>\n",
       "      <td>True</td>\n",
       "      <td>True</td>\n",
       "      <td>green</td>\n",
       "      <td>NaN</td>\n",
       "    </tr>\n",
       "    <tr>\n",
       "      <th>1668</th>\n",
       "      <td>10.1016/j.jdcr.2022.10.025</td>\n",
       "      <td>2022</td>\n",
       "      <td>True</td>\n",
       "      <td>repository</td>\n",
       "      <td>True</td>\n",
       "      <td>True</td>\n",
       "      <td>green</td>\n",
       "      <td>NaN</td>\n",
       "    </tr>\n",
       "    <tr>\n",
       "      <th>1686</th>\n",
       "      <td>10.1016/j.ebiom.2022.104367</td>\n",
       "      <td>2022</td>\n",
       "      <td>True</td>\n",
       "      <td>repository</td>\n",
       "      <td>True</td>\n",
       "      <td>True</td>\n",
       "      <td>green</td>\n",
       "      <td>NaN</td>\n",
       "    </tr>\n",
       "    <tr>\n",
       "      <th>...</th>\n",
       "      <td>...</td>\n",
       "      <td>...</td>\n",
       "      <td>...</td>\n",
       "      <td>...</td>\n",
       "      <td>...</td>\n",
       "      <td>...</td>\n",
       "      <td>...</td>\n",
       "      <td>...</td>\n",
       "    </tr>\n",
       "    <tr>\n",
       "      <th>33833</th>\n",
       "      <td>10.1002/ece3.8605</td>\n",
       "      <td>2022</td>\n",
       "      <td>True</td>\n",
       "      <td>repository</td>\n",
       "      <td>True</td>\n",
       "      <td>True</td>\n",
       "      <td>green</td>\n",
       "      <td>NaN</td>\n",
       "    </tr>\n",
       "    <tr>\n",
       "      <th>33884</th>\n",
       "      <td>10.1093/molbev/msac022</td>\n",
       "      <td>2022</td>\n",
       "      <td>True</td>\n",
       "      <td>repository</td>\n",
       "      <td>True</td>\n",
       "      <td>True</td>\n",
       "      <td>green</td>\n",
       "      <td>NaN</td>\n",
       "    </tr>\n",
       "    <tr>\n",
       "      <th>33892</th>\n",
       "      <td>10.1002/jcsm.12945</td>\n",
       "      <td>2022</td>\n",
       "      <td>True</td>\n",
       "      <td>repository</td>\n",
       "      <td>True</td>\n",
       "      <td>True</td>\n",
       "      <td>green</td>\n",
       "      <td>NaN</td>\n",
       "    </tr>\n",
       "    <tr>\n",
       "      <th>59065</th>\n",
       "      <td>10.15252/emmm.202115622</td>\n",
       "      <td>2022</td>\n",
       "      <td>True</td>\n",
       "      <td>repository</td>\n",
       "      <td>True</td>\n",
       "      <td>True</td>\n",
       "      <td>green</td>\n",
       "      <td>NaN</td>\n",
       "    </tr>\n",
       "    <tr>\n",
       "      <th>88809</th>\n",
       "      <td>10.15252/emmm.202114759</td>\n",
       "      <td>2022</td>\n",
       "      <td>True</td>\n",
       "      <td>repository</td>\n",
       "      <td>True</td>\n",
       "      <td>True</td>\n",
       "      <td>green</td>\n",
       "      <td>NaN</td>\n",
       "    </tr>\n",
       "  </tbody>\n",
       "</table>\n",
       "<p>361 rows × 8 columns</p>\n",
       "</div>"
      ],
      "text/plain": [
       "                               doi  year  is_oa oa_host_type  \\\n",
       "398     10.1016/j.omtm.2022.07.005  2022   True   repository   \n",
       "1539    10.1016/j.bjao.2022.100024  2022   True   repository   \n",
       "1618             10.1002/ctm2.1131  2022   True   repository   \n",
       "1668    10.1016/j.jdcr.2022.10.025  2022   True   repository   \n",
       "1686   10.1016/j.ebiom.2022.104367  2022   True   repository   \n",
       "...                            ...   ...    ...          ...   \n",
       "33833            10.1002/ece3.8605  2022   True   repository   \n",
       "33884       10.1093/molbev/msac022  2022   True   repository   \n",
       "33892           10.1002/jcsm.12945  2022   True   repository   \n",
       "59065      10.15252/emmm.202115622  2022   True   repository   \n",
       "88809      10.15252/emmm.202114759  2022   True   repository   \n",
       "\n",
       "       journal_is_in_doaj  journal_is_oa unpaywall_oa_status licence_publisher  \n",
       "398                  True           True               green               NaN  \n",
       "1539                 True           True               green               NaN  \n",
       "1618                 True           True               green               NaN  \n",
       "1668                 True           True               green               NaN  \n",
       "1686                 True           True               green               NaN  \n",
       "...                   ...            ...                 ...               ...  \n",
       "33833                True           True               green               NaN  \n",
       "33884                True           True               green               NaN  \n",
       "33892                True           True               green               NaN  \n",
       "59065                True           True               green               NaN  \n",
       "88809                True           True               green               NaN  \n",
       "\n",
       "[361 rows x 8 columns]"
      ]
     },
     "execution_count": 11,
     "metadata": {},
     "output_type": "execute_result"
    }
   ],
   "source": [
    "# journal_is_in_doaj mais oa_host_type == repository ? Devrait etre publisher\n",
    "df_year[(df_year.loc[:, \"journal_is_in_doaj\"] & ~gold)]"
   ]
  },
  {
   "cell_type": "code",
   "execution_count": 12,
   "id": "9a79068a",
   "metadata": {},
   "outputs": [
    {
     "data": {
      "text/plain": [
       "6194"
      ]
     },
     "execution_count": 12,
     "metadata": {},
     "output_type": "execute_result"
    }
   ],
   "source": [
    "num_journal_not_doaj"
   ]
  },
  {
   "cell_type": "code",
   "execution_count": 13,
   "id": "74775061",
   "metadata": {},
   "outputs": [
    {
     "data": {
      "text/plain": [
       "6919"
      ]
     },
     "execution_count": 13,
     "metadata": {},
     "output_type": "execute_result"
    }
   ],
   "source": [
    "df_year.loc[:, \"licence_publisher\"].isnull().sum()"
   ]
  },
  {
   "cell_type": "markdown",
   "id": "ea595cd5-4bc1-466a-976a-69031aebc5a8",
   "metadata": {},
   "source": [
    "#### Bronze/Hybrid"
   ]
  },
  {
   "cell_type": "code",
   "execution_count": 14,
   "id": "c289f834",
   "metadata": {},
   "outputs": [],
   "source": [
    "bronze = (journal_not_doaj & (df_year.loc[:, \"licence_publisher\"] == \"no license\"))\n",
    "num_bronze = bronze.sum()\n",
    "hybrid = journal_not_doaj & ~bronze\n",
    "num_hybrid = hybrid.sum()\n",
    "\n",
    "assert(num_journal_not_doaj == num_bronze + num_hybrid)"
   ]
  },
  {
   "cell_type": "code",
   "execution_count": 15,
   "id": "75610e95-ffae-431a-b1fb-447275e8b1c4",
   "metadata": {},
   "outputs": [],
   "source": [
    "assert(num_publisher == num_gold + num_bronze + num_hybrid)"
   ]
  },
  {
   "cell_type": "code",
   "execution_count": 16,
   "id": "55528fe2",
   "metadata": {},
   "outputs": [],
   "source": [
    "# bronze = (df_year.loc[:, \"unpaywall_oa_status\"] == \"bronze\")\n",
    "# num_bronze = bronze.sum()\n",
    "# hybrid = (df_year.loc[:, \"unpaywall_oa_status\"] == \"hybrid\")\n",
    "# num_hybrid =  hybrid.sum()"
   ]
  },
  {
   "cell_type": "markdown",
   "id": "34b39d24-f4cd-4085-96f2-e9c0fd1d68a8",
   "metadata": {},
   "source": [
    "## Generation du graphique avec Plotly"
   ]
  },
  {
   "cell_type": "markdown",
   "id": "238cf9f7-86ee-45d6-a64b-3f7cb0e9df56",
   "metadata": {},
   "source": [
    "#### Installation de Plotly:"
   ]
  },
  {
   "cell_type": "markdown",
   "id": "51d39d85-56d0-4196-bde1-df7fe1ff8443",
   "metadata": {},
   "source": [
    "Plusieurs possibilités:\n",
    "* passer par l'interface grahique **Anaconda**.\n",
    "* En utilisant **Conda**:\n",
    "\n",
    "Lancer un terminal, vérifier que l'on est bien dans le même environnement que celui qui exécute le notebook Jupyter et taper:\n",
    "> conda install -c plotly\n",
    "\n",
    "* En utilisant **pip**:\n",
    "\n",
    "Lancer un terminal, vérifier que l'on est bien dans le même environnement que celui qui exécute le notebook Jupyter et taper:\n",
    ">`pip install plotly`"
   ]
  },
  {
   "cell_type": "code",
   "execution_count": 17,
   "id": "cd94ad95-a10d-43dd-9d4e-850f5cf513a1",
   "metadata": {},
   "outputs": [],
   "source": [
    "import plotly.graph_objects as go\n",
    "import plotly.express as px\n",
    "\n",
    "# For color conversions\n",
    "from matplotlib import colors as plt_colors"
   ]
  },
  {
   "cell_type": "code",
   "execution_count": 30,
   "id": "615e527c",
   "metadata": {},
   "outputs": [
    {
     "data": {
      "application/vnd.plotly.v1+json": {
       "config": {
        "plotlyServerURL": "https://plot.ly"
       },
       "data": [
        {
         "link": {
          "arrowlen": 15,
          "color": [
           "rgba(255, 99, 71, 0.5)",
           "rgba(60, 179, 113, 0.5)",
           "rgba(76, 175, 80, 0.5)",
           "rgba(255, 140, 0, 0.5)",
           "rgba(255, 215, 0, 0.5)",
           "rgba(230, 171, 25, 0.5)",
           "rgba(205, 127, 50, 0.5)"
          ],
          "customdata": [
           "19.41%",
           "80.59%",
           "13.96%",
           "66.63%",
           "36.76%",
           "22.46%",
           "7.41%"
          ],
          "hovercolor": [
           "tomato",
           "mediumseagreen",
           "#4CAF50",
           "darkorange",
           "gold",
           "#E6AB19",
           "#CD7F32"
          ],
          "hoverlabel": {
           "bgcolor": "#444"
          },
          "hovertemplate": "%{label}<br />%{value}<extra>%{customdata}</extra>",
          "label": [
           "Accès fermé",
           "Accès ouvert",
           "Archive ouverte uniquement",
           "Editeur & Archive ouverte",
           "Gold",
           "Hybride",
           "Bronze"
          ],
          "source": [
           0,
           0,
           2,
           2,
           4,
           4,
           4
          ],
          "target": [
           1,
           2,
           3,
           4,
           5,
           6,
           7
          ],
          "value": [
           4025,
           16710,
           2894,
           13816,
           7622,
           4657,
           1537
          ]
         },
         "node": {
          "align": "left",
          "color": [
           "cornflowerblue",
           "tomato",
           "mediumseagreen",
           "#4CAF50",
           "darkorange",
           "gold",
           "#E6AB19",
           "#CD7F32"
          ],
          "hovertemplate": "%{label}:",
          "label": [
           "<b>Ensemble des publications</b>",
           "<b>Accès fermé</b>",
           "<b>Accès ouvert</b>",
           "<b>Archive ouverte uniquement</b>",
           "<b>Editeur & Archive ouverte</b>",
           "<b>Gold</b>",
           "<b>Hybride</b>",
           "<b>Bronze</b>"
          ],
          "line": {
           "color": "black",
           "width": 0
          }
         },
         "type": "sankey",
         "valuesuffix": " publications"
        }
       ],
       "layout": {
        "autosize": true,
        "font": {
         "size": 12
        },
        "margin": {
         "b": 0,
         "t": 0
        },
        "template": {
         "data": {
          "bar": [
           {
            "error_x": {
             "color": "#2a3f5f"
            },
            "error_y": {
             "color": "#2a3f5f"
            },
            "marker": {
             "line": {
              "color": "#E5ECF6",
              "width": 0.5
             },
             "pattern": {
              "fillmode": "overlay",
              "size": 10,
              "solidity": 0.2
             }
            },
            "type": "bar"
           }
          ],
          "barpolar": [
           {
            "marker": {
             "line": {
              "color": "#E5ECF6",
              "width": 0.5
             },
             "pattern": {
              "fillmode": "overlay",
              "size": 10,
              "solidity": 0.2
             }
            },
            "type": "barpolar"
           }
          ],
          "carpet": [
           {
            "aaxis": {
             "endlinecolor": "#2a3f5f",
             "gridcolor": "white",
             "linecolor": "white",
             "minorgridcolor": "white",
             "startlinecolor": "#2a3f5f"
            },
            "baxis": {
             "endlinecolor": "#2a3f5f",
             "gridcolor": "white",
             "linecolor": "white",
             "minorgridcolor": "white",
             "startlinecolor": "#2a3f5f"
            },
            "type": "carpet"
           }
          ],
          "choropleth": [
           {
            "colorbar": {
             "outlinewidth": 0,
             "ticks": ""
            },
            "type": "choropleth"
           }
          ],
          "contour": [
           {
            "colorbar": {
             "outlinewidth": 0,
             "ticks": ""
            },
            "colorscale": [
             [
              0,
              "#0d0887"
             ],
             [
              0.1111111111111111,
              "#46039f"
             ],
             [
              0.2222222222222222,
              "#7201a8"
             ],
             [
              0.3333333333333333,
              "#9c179e"
             ],
             [
              0.4444444444444444,
              "#bd3786"
             ],
             [
              0.5555555555555556,
              "#d8576b"
             ],
             [
              0.6666666666666666,
              "#ed7953"
             ],
             [
              0.7777777777777778,
              "#fb9f3a"
             ],
             [
              0.8888888888888888,
              "#fdca26"
             ],
             [
              1,
              "#f0f921"
             ]
            ],
            "type": "contour"
           }
          ],
          "contourcarpet": [
           {
            "colorbar": {
             "outlinewidth": 0,
             "ticks": ""
            },
            "type": "contourcarpet"
           }
          ],
          "heatmap": [
           {
            "colorbar": {
             "outlinewidth": 0,
             "ticks": ""
            },
            "colorscale": [
             [
              0,
              "#0d0887"
             ],
             [
              0.1111111111111111,
              "#46039f"
             ],
             [
              0.2222222222222222,
              "#7201a8"
             ],
             [
              0.3333333333333333,
              "#9c179e"
             ],
             [
              0.4444444444444444,
              "#bd3786"
             ],
             [
              0.5555555555555556,
              "#d8576b"
             ],
             [
              0.6666666666666666,
              "#ed7953"
             ],
             [
              0.7777777777777778,
              "#fb9f3a"
             ],
             [
              0.8888888888888888,
              "#fdca26"
             ],
             [
              1,
              "#f0f921"
             ]
            ],
            "type": "heatmap"
           }
          ],
          "heatmapgl": [
           {
            "colorbar": {
             "outlinewidth": 0,
             "ticks": ""
            },
            "colorscale": [
             [
              0,
              "#0d0887"
             ],
             [
              0.1111111111111111,
              "#46039f"
             ],
             [
              0.2222222222222222,
              "#7201a8"
             ],
             [
              0.3333333333333333,
              "#9c179e"
             ],
             [
              0.4444444444444444,
              "#bd3786"
             ],
             [
              0.5555555555555556,
              "#d8576b"
             ],
             [
              0.6666666666666666,
              "#ed7953"
             ],
             [
              0.7777777777777778,
              "#fb9f3a"
             ],
             [
              0.8888888888888888,
              "#fdca26"
             ],
             [
              1,
              "#f0f921"
             ]
            ],
            "type": "heatmapgl"
           }
          ],
          "histogram": [
           {
            "marker": {
             "pattern": {
              "fillmode": "overlay",
              "size": 10,
              "solidity": 0.2
             }
            },
            "type": "histogram"
           }
          ],
          "histogram2d": [
           {
            "colorbar": {
             "outlinewidth": 0,
             "ticks": ""
            },
            "colorscale": [
             [
              0,
              "#0d0887"
             ],
             [
              0.1111111111111111,
              "#46039f"
             ],
             [
              0.2222222222222222,
              "#7201a8"
             ],
             [
              0.3333333333333333,
              "#9c179e"
             ],
             [
              0.4444444444444444,
              "#bd3786"
             ],
             [
              0.5555555555555556,
              "#d8576b"
             ],
             [
              0.6666666666666666,
              "#ed7953"
             ],
             [
              0.7777777777777778,
              "#fb9f3a"
             ],
             [
              0.8888888888888888,
              "#fdca26"
             ],
             [
              1,
              "#f0f921"
             ]
            ],
            "type": "histogram2d"
           }
          ],
          "histogram2dcontour": [
           {
            "colorbar": {
             "outlinewidth": 0,
             "ticks": ""
            },
            "colorscale": [
             [
              0,
              "#0d0887"
             ],
             [
              0.1111111111111111,
              "#46039f"
             ],
             [
              0.2222222222222222,
              "#7201a8"
             ],
             [
              0.3333333333333333,
              "#9c179e"
             ],
             [
              0.4444444444444444,
              "#bd3786"
             ],
             [
              0.5555555555555556,
              "#d8576b"
             ],
             [
              0.6666666666666666,
              "#ed7953"
             ],
             [
              0.7777777777777778,
              "#fb9f3a"
             ],
             [
              0.8888888888888888,
              "#fdca26"
             ],
             [
              1,
              "#f0f921"
             ]
            ],
            "type": "histogram2dcontour"
           }
          ],
          "mesh3d": [
           {
            "colorbar": {
             "outlinewidth": 0,
             "ticks": ""
            },
            "type": "mesh3d"
           }
          ],
          "parcoords": [
           {
            "line": {
             "colorbar": {
              "outlinewidth": 0,
              "ticks": ""
             }
            },
            "type": "parcoords"
           }
          ],
          "pie": [
           {
            "automargin": true,
            "type": "pie"
           }
          ],
          "scatter": [
           {
            "fillpattern": {
             "fillmode": "overlay",
             "size": 10,
             "solidity": 0.2
            },
            "type": "scatter"
           }
          ],
          "scatter3d": [
           {
            "line": {
             "colorbar": {
              "outlinewidth": 0,
              "ticks": ""
             }
            },
            "marker": {
             "colorbar": {
              "outlinewidth": 0,
              "ticks": ""
             }
            },
            "type": "scatter3d"
           }
          ],
          "scattercarpet": [
           {
            "marker": {
             "colorbar": {
              "outlinewidth": 0,
              "ticks": ""
             }
            },
            "type": "scattercarpet"
           }
          ],
          "scattergeo": [
           {
            "marker": {
             "colorbar": {
              "outlinewidth": 0,
              "ticks": ""
             }
            },
            "type": "scattergeo"
           }
          ],
          "scattergl": [
           {
            "marker": {
             "colorbar": {
              "outlinewidth": 0,
              "ticks": ""
             }
            },
            "type": "scattergl"
           }
          ],
          "scattermapbox": [
           {
            "marker": {
             "colorbar": {
              "outlinewidth": 0,
              "ticks": ""
             }
            },
            "type": "scattermapbox"
           }
          ],
          "scatterpolar": [
           {
            "marker": {
             "colorbar": {
              "outlinewidth": 0,
              "ticks": ""
             }
            },
            "type": "scatterpolar"
           }
          ],
          "scatterpolargl": [
           {
            "marker": {
             "colorbar": {
              "outlinewidth": 0,
              "ticks": ""
             }
            },
            "type": "scatterpolargl"
           }
          ],
          "scatterternary": [
           {
            "marker": {
             "colorbar": {
              "outlinewidth": 0,
              "ticks": ""
             }
            },
            "type": "scatterternary"
           }
          ],
          "surface": [
           {
            "colorbar": {
             "outlinewidth": 0,
             "ticks": ""
            },
            "colorscale": [
             [
              0,
              "#0d0887"
             ],
             [
              0.1111111111111111,
              "#46039f"
             ],
             [
              0.2222222222222222,
              "#7201a8"
             ],
             [
              0.3333333333333333,
              "#9c179e"
             ],
             [
              0.4444444444444444,
              "#bd3786"
             ],
             [
              0.5555555555555556,
              "#d8576b"
             ],
             [
              0.6666666666666666,
              "#ed7953"
             ],
             [
              0.7777777777777778,
              "#fb9f3a"
             ],
             [
              0.8888888888888888,
              "#fdca26"
             ],
             [
              1,
              "#f0f921"
             ]
            ],
            "type": "surface"
           }
          ],
          "table": [
           {
            "cells": {
             "fill": {
              "color": "#EBF0F8"
             },
             "line": {
              "color": "white"
             }
            },
            "header": {
             "fill": {
              "color": "#C8D4E3"
             },
             "line": {
              "color": "white"
             }
            },
            "type": "table"
           }
          ]
         },
         "layout": {
          "annotationdefaults": {
           "arrowcolor": "#2a3f5f",
           "arrowhead": 0,
           "arrowwidth": 1
          },
          "autotypenumbers": "strict",
          "coloraxis": {
           "colorbar": {
            "outlinewidth": 0,
            "ticks": ""
           }
          },
          "colorscale": {
           "diverging": [
            [
             0,
             "#8e0152"
            ],
            [
             0.1,
             "#c51b7d"
            ],
            [
             0.2,
             "#de77ae"
            ],
            [
             0.3,
             "#f1b6da"
            ],
            [
             0.4,
             "#fde0ef"
            ],
            [
             0.5,
             "#f7f7f7"
            ],
            [
             0.6,
             "#e6f5d0"
            ],
            [
             0.7,
             "#b8e186"
            ],
            [
             0.8,
             "#7fbc41"
            ],
            [
             0.9,
             "#4d9221"
            ],
            [
             1,
             "#276419"
            ]
           ],
           "sequential": [
            [
             0,
             "#0d0887"
            ],
            [
             0.1111111111111111,
             "#46039f"
            ],
            [
             0.2222222222222222,
             "#7201a8"
            ],
            [
             0.3333333333333333,
             "#9c179e"
            ],
            [
             0.4444444444444444,
             "#bd3786"
            ],
            [
             0.5555555555555556,
             "#d8576b"
            ],
            [
             0.6666666666666666,
             "#ed7953"
            ],
            [
             0.7777777777777778,
             "#fb9f3a"
            ],
            [
             0.8888888888888888,
             "#fdca26"
            ],
            [
             1,
             "#f0f921"
            ]
           ],
           "sequentialminus": [
            [
             0,
             "#0d0887"
            ],
            [
             0.1111111111111111,
             "#46039f"
            ],
            [
             0.2222222222222222,
             "#7201a8"
            ],
            [
             0.3333333333333333,
             "#9c179e"
            ],
            [
             0.4444444444444444,
             "#bd3786"
            ],
            [
             0.5555555555555556,
             "#d8576b"
            ],
            [
             0.6666666666666666,
             "#ed7953"
            ],
            [
             0.7777777777777778,
             "#fb9f3a"
            ],
            [
             0.8888888888888888,
             "#fdca26"
            ],
            [
             1,
             "#f0f921"
            ]
           ]
          },
          "colorway": [
           "#636efa",
           "#EF553B",
           "#00cc96",
           "#ab63fa",
           "#FFA15A",
           "#19d3f3",
           "#FF6692",
           "#B6E880",
           "#FF97FF",
           "#FECB52"
          ],
          "font": {
           "color": "#2a3f5f"
          },
          "geo": {
           "bgcolor": "white",
           "lakecolor": "white",
           "landcolor": "#E5ECF6",
           "showlakes": true,
           "showland": true,
           "subunitcolor": "white"
          },
          "hoverlabel": {
           "align": "left"
          },
          "hovermode": "closest",
          "mapbox": {
           "style": "light"
          },
          "paper_bgcolor": "white",
          "plot_bgcolor": "#E5ECF6",
          "polar": {
           "angularaxis": {
            "gridcolor": "white",
            "linecolor": "white",
            "ticks": ""
           },
           "bgcolor": "#E5ECF6",
           "radialaxis": {
            "gridcolor": "white",
            "linecolor": "white",
            "ticks": ""
           }
          },
          "scene": {
           "xaxis": {
            "backgroundcolor": "#E5ECF6",
            "gridcolor": "white",
            "gridwidth": 2,
            "linecolor": "white",
            "showbackground": true,
            "ticks": "",
            "zerolinecolor": "white"
           },
           "yaxis": {
            "backgroundcolor": "#E5ECF6",
            "gridcolor": "white",
            "gridwidth": 2,
            "linecolor": "white",
            "showbackground": true,
            "ticks": "",
            "zerolinecolor": "white"
           },
           "zaxis": {
            "backgroundcolor": "#E5ECF6",
            "gridcolor": "white",
            "gridwidth": 2,
            "linecolor": "white",
            "showbackground": true,
            "ticks": "",
            "zerolinecolor": "white"
           }
          },
          "shapedefaults": {
           "line": {
            "color": "#2a3f5f"
           }
          },
          "ternary": {
           "aaxis": {
            "gridcolor": "white",
            "linecolor": "white",
            "ticks": ""
           },
           "baxis": {
            "gridcolor": "white",
            "linecolor": "white",
            "ticks": ""
           },
           "bgcolor": "#E5ECF6",
           "caxis": {
            "gridcolor": "white",
            "linecolor": "white",
            "ticks": ""
           }
          },
          "title": {
           "x": 0.05
          },
          "xaxis": {
           "automargin": true,
           "gridcolor": "white",
           "linecolor": "white",
           "ticks": "",
           "title": {
            "standoff": 15
           },
           "zerolinecolor": "white",
           "zerolinewidth": 2
          },
          "yaxis": {
           "automargin": true,
           "gridcolor": "white",
           "linecolor": "white",
           "ticks": "",
           "title": {
            "standoff": 15
           },
           "zerolinecolor": "white",
           "zerolinewidth": 2
          }
         }
        },
        "title": {
         "x": 0.5
        }
       }
      },
      "image/png": "[encoded data removed]",
      "text/html": [
       "<div>                            <div id=\"0323a119-a4bc-425c-87ad-4a1e51d9f622\" class=\"plotly-graph-div\" style=\"height:525px; width:100%;\"></div>            <script type=\"text/javascript\">                require([\"plotly\"], function(Plotly) {                    window.PLOTLYENV=window.PLOTLYENV || {};                                    if (document.getElementById(\"0323a119-a4bc-425c-87ad-4a1e51d9f622\")) {                    Plotly.newPlot(                        \"0323a119-a4bc-425c-87ad-4a1e51d9f622\",                        [{\"link\":{\"arrowlen\":15,\"color\":[\"rgba(255, 99, 71, 0.5)\",\"rgba(60, 179, 113, 0.5)\",\"rgba(76, 175, 80, 0.5)\",\"rgba(255, 140, 0, 0.5)\",\"rgba(255, 215, 0, 0.5)\",\"rgba(230, 171, 25, 0.5)\",\"rgba(205, 127, 50, 0.5)\"],\"customdata\":[\"19.41%\",\"80.59%\",\"13.96%\",\"66.63%\",\"36.76%\",\"22.46%\",\"7.41%\"],\"hovercolor\":[\"tomato\",\"mediumseagreen\",\"#4CAF50\",\"darkorange\",\"gold\",\"#E6AB19\",\"#CD7F32\"],\"hoverlabel\":{\"bgcolor\":\"#444\"},\"hovertemplate\":\"%{label}\\u003cbr \\u002f\\u003e%{value}\\u003cextra\\u003e%{customdata}\\u003c\\u002fextra\\u003e\",\"label\":[\"Acc\\u00e8s ferm\\u00e9\",\"Acc\\u00e8s ouvert\",\"Archive ouverte uniquement\",\"Editeur & Archive ouverte\",\"Gold\",\"Hybride\",\"Bronze\"],\"source\":[0,0,2,2,4,4,4],\"target\":[1,2,3,4,5,6,7],\"value\":[4025,16710,2894,13816,7622,4657,1537]},\"node\":{\"align\":\"left\",\"color\":[\"cornflowerblue\",\"tomato\",\"mediumseagreen\",\"#4CAF50\",\"darkorange\",\"gold\",\"#E6AB19\",\"#CD7F32\"],\"hovertemplate\":\"%{label}:\",\"label\":[\"\\u003cb\\u003eEnsemble des publications\\u003c\\u002fb\\u003e\",\"\\u003cb\\u003eAcc\\u00e8s ferm\\u00e9\\u003c\\u002fb\\u003e\",\"\\u003cb\\u003eAcc\\u00e8s ouvert\\u003c\\u002fb\\u003e\",\"\\u003cb\\u003eArchive ouverte uniquement\\u003c\\u002fb\\u003e\",\"\\u003cb\\u003eEditeur & Archive ouverte\\u003c\\u002fb\\u003e\",\"\\u003cb\\u003eGold\\u003c\\u002fb\\u003e\",\"\\u003cb\\u003eHybride\\u003c\\u002fb\\u003e\",\"\\u003cb\\u003eBronze\\u003c\\u002fb\\u003e\"],\"line\":{\"color\":\"black\",\"width\":0.0}},\"valuesuffix\":\" publications\",\"type\":\"sankey\"}],                        {\"template\":{\"data\":{\"histogram2dcontour\":[{\"type\":\"histogram2dcontour\",\"colorbar\":{\"outlinewidth\":0,\"ticks\":\"\"},\"colorscale\":[[0.0,\"#0d0887\"],[0.1111111111111111,\"#46039f\"],[0.2222222222222222,\"#7201a8\"],[0.3333333333333333,\"#9c179e\"],[0.4444444444444444,\"#bd3786\"],[0.5555555555555556,\"#d8576b\"],[0.6666666666666666,\"#ed7953\"],[0.7777777777777778,\"#fb9f3a\"],[0.8888888888888888,\"#fdca26\"],[1.0,\"#f0f921\"]]}],\"choropleth\":[{\"type\":\"choropleth\",\"colorbar\":{\"outlinewidth\":0,\"ticks\":\"\"}}],\"histogram2d\":[{\"type\":\"histogram2d\",\"colorbar\":{\"outlinewidth\":0,\"ticks\":\"\"},\"colorscale\":[[0.0,\"#0d0887\"],[0.1111111111111111,\"#46039f\"],[0.2222222222222222,\"#7201a8\"],[0.3333333333333333,\"#9c179e\"],[0.4444444444444444,\"#bd3786\"],[0.5555555555555556,\"#d8576b\"],[0.6666666666666666,\"#ed7953\"],[0.7777777777777778,\"#fb9f3a\"],[0.8888888888888888,\"#fdca26\"],[1.0,\"#f0f921\"]]}],\"heatmap\":[{\"type\":\"heatmap\",\"colorbar\":{\"outlinewidth\":0,\"ticks\":\"\"},\"colorscale\":[[0.0,\"#0d0887\"],[0.1111111111111111,\"#46039f\"],[0.2222222222222222,\"#7201a8\"],[0.3333333333333333,\"#9c179e\"],[0.4444444444444444,\"#bd3786\"],[0.5555555555555556,\"#d8576b\"],[0.6666666666666666,\"#ed7953\"],[0.7777777777777778,\"#fb9f3a\"],[0.8888888888888888,\"#fdca26\"],[1.0,\"#f0f921\"]]}],\"heatmapgl\":[{\"type\":\"heatmapgl\",\"colorbar\":{\"outlinewidth\":0,\"ticks\":\"\"},\"colorscale\":[[0.0,\"#0d0887\"],[0.1111111111111111,\"#46039f\"],[0.2222222222222222,\"#7201a8\"],[0.3333333333333333,\"#9c179e\"],[0.4444444444444444,\"#bd3786\"],[0.5555555555555556,\"#d8576b\"],[0.6666666666666666,\"#ed7953\"],[0.7777777777777778,\"#fb9f3a\"],[0.8888888888888888,\"#fdca26\"],[1.0,\"#f0f921\"]]}],\"contourcarpet\":[{\"type\":\"contourcarpet\",\"colorbar\":{\"outlinewidth\":0,\"ticks\":\"\"}}],\"contour\":[{\"type\":\"contour\",\"colorbar\":{\"outlinewidth\":0,\"ticks\":\"\"},\"colorscale\":[[0.0,\"#0d0887\"],[0.1111111111111111,\"#46039f\"],[0.2222222222222222,\"#7201a8\"],[0.3333333333333333,\"#9c179e\"],[0.4444444444444444,\"#bd3786\"],[0.5555555555555556,\"#d8576b\"],[0.6666666666666666,\"#ed7953\"],[0.7777777777777778,\"#fb9f3a\"],[0.8888888888888888,\"#fdca26\"],[1.0,\"#f0f921\"]]}],\"surface\":[{\"type\":\"surface\",\"colorbar\":{\"outlinewidth\":0,\"ticks\":\"\"},\"colorscale\":[[0.0,\"#0d0887\"],[0.1111111111111111,\"#46039f\"],[0.2222222222222222,\"#7201a8\"],[0.3333333333333333,\"#9c179e\"],[0.4444444444444444,\"#bd3786\"],[0.5555555555555556,\"#d8576b\"],[0.6666666666666666,\"#ed7953\"],[0.7777777777777778,\"#fb9f3a\"],[0.8888888888888888,\"#fdca26\"],[1.0,\"#f0f921\"]]}],\"mesh3d\":[{\"type\":\"mesh3d\",\"colorbar\":{\"outlinewidth\":0,\"ticks\":\"\"}}],\"scatter\":[{\"fillpattern\":{\"fillmode\":\"overlay\",\"size\":10,\"solidity\":0.2},\"type\":\"scatter\"}],\"parcoords\":[{\"type\":\"parcoords\",\"line\":{\"colorbar\":{\"outlinewidth\":0,\"ticks\":\"\"}}}],\"scatterpolargl\":[{\"type\":\"scatterpolargl\",\"marker\":{\"colorbar\":{\"outlinewidth\":0,\"ticks\":\"\"}}}],\"bar\":[{\"error_x\":{\"color\":\"#2a3f5f\"},\"error_y\":{\"color\":\"#2a3f5f\"},\"marker\":{\"line\":{\"color\":\"#E5ECF6\",\"width\":0.5},\"pattern\":{\"fillmode\":\"overlay\",\"size\":10,\"solidity\":0.2}},\"type\":\"bar\"}],\"scattergeo\":[{\"type\":\"scattergeo\",\"marker\":{\"colorbar\":{\"outlinewidth\":0,\"ticks\":\"\"}}}],\"scatterpolar\":[{\"type\":\"scatterpolar\",\"marker\":{\"colorbar\":{\"outlinewidth\":0,\"ticks\":\"\"}}}],\"histogram\":[{\"marker\":{\"pattern\":{\"fillmode\":\"overlay\",\"size\":10,\"solidity\":0.2}},\"type\":\"histogram\"}],\"scattergl\":[{\"type\":\"scattergl\",\"marker\":{\"colorbar\":{\"outlinewidth\":0,\"ticks\":\"\"}}}],\"scatter3d\":[{\"type\":\"scatter3d\",\"line\":{\"colorbar\":{\"outlinewidth\":0,\"ticks\":\"\"}},\"marker\":{\"colorbar\":{\"outlinewidth\":0,\"ticks\":\"\"}}}],\"scattermapbox\":[{\"type\":\"scattermapbox\",\"marker\":{\"colorbar\":{\"outlinewidth\":0,\"ticks\":\"\"}}}],\"scatterternary\":[{\"type\":\"scatterternary\",\"marker\":{\"colorbar\":{\"outlinewidth\":0,\"ticks\":\"\"}}}],\"scattercarpet\":[{\"type\":\"scattercarpet\",\"marker\":{\"colorbar\":{\"outlinewidth\":0,\"ticks\":\"\"}}}],\"carpet\":[{\"aaxis\":{\"endlinecolor\":\"#2a3f5f\",\"gridcolor\":\"white\",\"linecolor\":\"white\",\"minorgridcolor\":\"white\",\"startlinecolor\":\"#2a3f5f\"},\"baxis\":{\"endlinecolor\":\"#2a3f5f\",\"gridcolor\":\"white\",\"linecolor\":\"white\",\"minorgridcolor\":\"white\",\"startlinecolor\":\"#2a3f5f\"},\"type\":\"carpet\"}],\"table\":[{\"cells\":{\"fill\":{\"color\":\"#EBF0F8\"},\"line\":{\"color\":\"white\"}},\"header\":{\"fill\":{\"color\":\"#C8D4E3\"},\"line\":{\"color\":\"white\"}},\"type\":\"table\"}],\"barpolar\":[{\"marker\":{\"line\":{\"color\":\"#E5ECF6\",\"width\":0.5},\"pattern\":{\"fillmode\":\"overlay\",\"size\":10,\"solidity\":0.2}},\"type\":\"barpolar\"}],\"pie\":[{\"automargin\":true,\"type\":\"pie\"}]},\"layout\":{\"autotypenumbers\":\"strict\",\"colorway\":[\"#636efa\",\"#EF553B\",\"#00cc96\",\"#ab63fa\",\"#FFA15A\",\"#19d3f3\",\"#FF6692\",\"#B6E880\",\"#FF97FF\",\"#FECB52\"],\"font\":{\"color\":\"#2a3f5f\"},\"hovermode\":\"closest\",\"hoverlabel\":{\"align\":\"left\"},\"paper_bgcolor\":\"white\",\"plot_bgcolor\":\"#E5ECF6\",\"polar\":{\"bgcolor\":\"#E5ECF6\",\"angularaxis\":{\"gridcolor\":\"white\",\"linecolor\":\"white\",\"ticks\":\"\"},\"radialaxis\":{\"gridcolor\":\"white\",\"linecolor\":\"white\",\"ticks\":\"\"}},\"ternary\":{\"bgcolor\":\"#E5ECF6\",\"aaxis\":{\"gridcolor\":\"white\",\"linecolor\":\"white\",\"ticks\":\"\"},\"baxis\":{\"gridcolor\":\"white\",\"linecolor\":\"white\",\"ticks\":\"\"},\"caxis\":{\"gridcolor\":\"white\",\"linecolor\":\"white\",\"ticks\":\"\"}},\"coloraxis\":{\"colorbar\":{\"outlinewidth\":0,\"ticks\":\"\"}},\"colorscale\":{\"sequential\":[[0.0,\"#0d0887\"],[0.1111111111111111,\"#46039f\"],[0.2222222222222222,\"#7201a8\"],[0.3333333333333333,\"#9c179e\"],[0.4444444444444444,\"#bd3786\"],[0.5555555555555556,\"#d8576b\"],[0.6666666666666666,\"#ed7953\"],[0.7777777777777778,\"#fb9f3a\"],[0.8888888888888888,\"#fdca26\"],[1.0,\"#f0f921\"]],\"sequentialminus\":[[0.0,\"#0d0887\"],[0.1111111111111111,\"#46039f\"],[0.2222222222222222,\"#7201a8\"],[0.3333333333333333,\"#9c179e\"],[0.4444444444444444,\"#bd3786\"],[0.5555555555555556,\"#d8576b\"],[0.6666666666666666,\"#ed7953\"],[0.7777777777777778,\"#fb9f3a\"],[0.8888888888888888,\"#fdca26\"],[1.0,\"#f0f921\"]],\"diverging\":[[0,\"#8e0152\"],[0.1,\"#c51b7d\"],[0.2,\"#de77ae\"],[0.3,\"#f1b6da\"],[0.4,\"#fde0ef\"],[0.5,\"#f7f7f7\"],[0.6,\"#e6f5d0\"],[0.7,\"#b8e186\"],[0.8,\"#7fbc41\"],[0.9,\"#4d9221\"],[1,\"#276419\"]]},\"xaxis\":{\"gridcolor\":\"white\",\"linecolor\":\"white\",\"ticks\":\"\",\"title\":{\"standoff\":15},\"zerolinecolor\":\"white\",\"automargin\":true,\"zerolinewidth\":2},\"yaxis\":{\"gridcolor\":\"white\",\"linecolor\":\"white\",\"ticks\":\"\",\"title\":{\"standoff\":15},\"zerolinecolor\":\"white\",\"automargin\":true,\"zerolinewidth\":2},\"scene\":{\"xaxis\":{\"backgroundcolor\":\"#E5ECF6\",\"gridcolor\":\"white\",\"linecolor\":\"white\",\"showbackground\":true,\"ticks\":\"\",\"zerolinecolor\":\"white\",\"gridwidth\":2},\"yaxis\":{\"backgroundcolor\":\"#E5ECF6\",\"gridcolor\":\"white\",\"linecolor\":\"white\",\"showbackground\":true,\"ticks\":\"\",\"zerolinecolor\":\"white\",\"gridwidth\":2},\"zaxis\":{\"backgroundcolor\":\"#E5ECF6\",\"gridcolor\":\"white\",\"linecolor\":\"white\",\"showbackground\":true,\"ticks\":\"\",\"zerolinecolor\":\"white\",\"gridwidth\":2}},\"shapedefaults\":{\"line\":{\"color\":\"#2a3f5f\"}},\"annotationdefaults\":{\"arrowcolor\":\"#2a3f5f\",\"arrowhead\":0,\"arrowwidth\":1},\"geo\":{\"bgcolor\":\"white\",\"landcolor\":\"#E5ECF6\",\"subunitcolor\":\"white\",\"showland\":true,\"showlakes\":true,\"lakecolor\":\"white\"},\"title\":{\"x\":0.05},\"mapbox\":{\"style\":\"light\"}}},\"font\":{\"size\":12},\"title\":{\"x\":0.5},\"margin\":{\"t\":0,\"b\":0}},                        {\"responsive\": true}                    ).then(function(){\n",
       "                            \n",
       "var gd = document.getElementById('0323a119-a4bc-425c-87ad-4a1e51d9f622');\n",
       "var x = new MutationObserver(function (mutations, observer) {{\n",
       "        var display = window.getComputedStyle(gd).display;\n",
       "        if (!display || display === 'none') {{\n",
       "            console.log([gd, 'removed!']);\n",
       "            Plotly.purge(gd);\n",
       "            observer.disconnect();\n",
       "        }}\n",
       "}});\n",
       "\n",
       "// Listen for the removal of the full notebook cells\n",
       "var notebookContainer = gd.closest('#notebook-container');\n",
       "if (notebookContainer) {{\n",
       "    x.observe(notebookContainer, {childList: true});\n",
       "}}\n",
       "\n",
       "// Listen for the clearing of the current output cell\n",
       "var outputEl = gd.closest('.output');\n",
       "if (outputEl) {{\n",
       "    x.observe(outputEl, {childList: true});\n",
       "}}\n",
       "\n",
       "                        })                };                });            </script>        </div>"
      ]
     },
     "metadata": {},
     "output_type": "display_data"
    }
   ],
   "source": [
    "labels = [\"Ensemble des publications\", \"Accès fermé\", \"Accès ouvert\", \"Archive ouverte uniquement\", \"Editeur & Archive ouverte\", \"Gold\", \"Hybride\", \"Bronze\"]\n",
    "colors = [\"cornflowerblue\", \"tomato\", \"mediumseagreen\", \"#4CAF50\", \"darkorange\", \"gold\", \"#E6AB19\", \"#CD7F32\"]\n",
    "sources = [0, 0, 2, 2, 4, 4, 4]\n",
    "targets = [1, 2, 3, 4, 5, 6, 7]\n",
    "values = [num_publications, num_closed, num_oa, num_green, num_publisher, num_gold, num_hybrid, num_bronze]\n",
    "# percentages = [f\"{(values[t]/values[s]):.2%}\" for s, t in zip(sources, targets)]\n",
    "percentages = [f\"{(values[t]/num_publications):.2%}\" for t in targets]\n",
    "\n",
    "# Add transparency to the list of colors, to display links with partial opacity\n",
    "transparency = 0.5\n",
    "colors_transparency = [\n",
    "    f'rgba({rgba_color[0] * 255:.0f}, {rgba_color[1] * 255:.0f}, {rgba_color[2] * 255:.0f}, {rgba_color[3]})'\n",
    "    for color in colors\n",
    "    if (rgba_color := plt_colors.to_rgba(color, transparency))\n",
    "]\n",
    "\n",
    "fig = go.Figure(data = [go.Sankey(\n",
    "    valuesuffix = \" publications\",\n",
    "    # valueformat = \"d\",\n",
    "\n",
    "    # Nodes\n",
    "    node=dict(\n",
    "        label = [f\"<b>{label}</b>\" for label in labels],\n",
    "        color = colors,\n",
    "        line = dict(color = \"black\", width = 0.),\n",
    "        align = \"left\",\n",
    "        hovertemplate='%{label}:',\n",
    "        # hoverlabel = dict(bgcolor = \"#FFFFFF\"), # white background\n",
    "    ),\n",
    "\n",
    "    # Links\n",
    "    link=dict(\n",
    "        arrowlen=15,\n",
    "        source = sources,\n",
    "        target = targets,\n",
    "        value = values[1:],\n",
    "        customdata = percentages,\n",
    "        label = labels[1:],\n",
    "        color = colors_transparency[1:],\n",
    "        hovercolor = colors[1:],\n",
    "        hovertemplate = \"%{label}<br />%{value}<extra>%{customdata}</extra>\",\n",
    "        hoverlabel = dict(bgcolor ='#444'),\n",
    "    )\n",
    ")])\n",
    "\n",
    "# Title\n",
    "fig.update_layout(\n",
    "    # title_text=f\"<b>Proportion des publications {annee} en accès ouvert</b><br><sup>(mesuré en décembre {annee+1})</sup>\",\n",
    "    font_size=12,\n",
    "    title_x = 0.5,\n",
    "    # title_y = 0.85,\n",
    "    # height = 350,\n",
    "    margin=dict(t=0, b=0),\n",
    ")\n",
    "\n",
    "# Display\n",
    "fig.show()"
   ]
  },
  {
   "cell_type": "markdown",
   "id": "755f1446-0280-4458-be44-ae758828ed3c",
   "metadata": {},
   "source": [
    "### Export vers WordPress:"
   ]
  },
  {
   "cell_type": "code",
   "execution_count": 19,
   "id": "90886e77-8332-4109-8e60-208e9cf9ef7b",
   "metadata": {},
   "outputs": [],
   "source": [
    "plotly_html = fig.to_html(\n",
    "    include_plotlyjs = 'cdn', \n",
    "    full_html = False,\n",
    "    # default_width = ,\n",
    "    default_height = 350,\n",
    ")"
   ]
  },
  {
   "cell_type": "markdown",
   "id": "daabd527-d7e5-4a85-a29b-1e407ee6485b",
   "metadata": {},
   "source": [
    "Lors de l'export en HTML, Plotly rajoute des espaces et sauts de lignes inutiles dans le code.  \n",
    "Pour chacun de ces espaces, WP génére une balise `<p></p>` ce qui casse la mise en page."
   ]
  },
  {
   "cell_type": "markdown",
   "id": "9e0f2d4b-c418-4f84-8cb2-0c5398dc929f",
   "metadata": {},
   "source": [
    "Supprime les espaces en trop dans le code html généré :"
   ]
  },
  {
   "cell_type": "code",
   "execution_count": 20,
   "id": "5639cbe6-57f5-413e-91b3-94563eb40a81",
   "metadata": {},
   "outputs": [],
   "source": [
    "# Why ?\n",
    "plotly_html = plotly_html.replace(\"  \", \"\")\n",
    "plotly_html = plotly_html.replace(\"\\n\", \"\")"
   ]
  },
  {
   "cell_type": "markdown",
   "id": "0ed9b058-c704-4c92-a5bf-9e901a3188bd",
   "metadata": {},
   "source": [
    "Rajout du titre en HTML :"
   ]
  },
  {
   "cell_type": "code",
   "execution_count": 21,
   "id": "878d58c9-8730-47fa-a669-cca5e9bead30",
   "metadata": {},
   "outputs": [
    {
     "data": {
      "text/plain": [
       "'<h3><strong>Proportion des publications en accès ouvert en 2022 (mesuré en décembre 2023)</strong></h3>'"
      ]
     },
     "execution_count": 21,
     "metadata": {},
     "output_type": "execute_result"
    }
   ],
   "source": [
    "title_html = f\"<h3><strong>Proportion des publications en accès ouvert en {annee} (mesuré en décembre {annee+1})</strong></h3>\"\n",
    "title_html"
   ]
  },
  {
   "cell_type": "markdown",
   "id": "77cc4298-4b21-49f7-93e9-bd6e8b518203",
   "metadata": {},
   "source": [
    "Rajout de la conclusion en HTML sous le graphique :"
   ]
  },
  {
   "cell_type": "code",
   "execution_count": 22,
   "id": "44873773-683f-4498-b28d-e861eb051b25",
   "metadata": {},
   "outputs": [
    {
     "data": {
      "text/plain": [
       "'<p style=\"text-align: center;\"><strong>80.59% des publications Inserm sont en accès ouvert</strong></p>&nbsp;'"
      ]
     },
     "execution_count": 22,
     "metadata": {},
     "output_type": "execute_result"
    }
   ],
   "source": [
    "comment_html = f'<p style=\"text-align: center;\"><strong>{percentages[1]} des publications Inserm sont en accès ouvert</strong></p>&nbsp;'\n",
    "comment_html"
   ]
  },
  {
   "cell_type": "code",
   "execution_count": 23,
   "id": "44e90d08-8045-4d0d-a114-ecd860d05eee",
   "metadata": {},
   "outputs": [],
   "source": [
    "full_html = title_html + \"\\n\" + plotly_html + \"\\n\" + comment_html"
   ]
  },
  {
   "cell_type": "markdown",
   "id": "f390bbe1-fdcb-4b82-bb6c-8d7e3da79b85",
   "metadata": {},
   "source": [
    "Sauvegarde dans une fichier :"
   ]
  },
  {
   "cell_type": "markdown",
   "id": "02e9ba18-242b-4b02-8f54-fcb93c83c25c",
   "metadata": {},
   "source": [
    "Ouvrir avec Notepad++ et faire un copier-coller dans WP :"
   ]
  },
  {
   "cell_type": "code",
   "execution_count": 24,
   "id": "cdaa3ca1-e3dc-43ac-bd0b-2441dc613a1c",
   "metadata": {},
   "outputs": [],
   "source": [
    "with open(\"Data/outputs/flow_chart_plotly.html\", 'w') as f:\n",
    "    f.write(full_html)"
   ]
  },
  {
   "cell_type": "markdown",
   "id": "08d04c68-7c62-4a4e-b22e-4cb3fb12d7c1",
   "metadata": {},
   "source": [
    "## Generation du graphique avec Highcharts"
   ]
  },
  {
   "cell_type": "markdown",
   "id": "ffc869d8-b61c-4051-a6da-eff86d07e38f",
   "metadata": {},
   "source": [
    "#### Installation de Highcharts-core:"
   ]
  },
  {
   "cell_type": "markdown",
   "id": "4b62c961-7d39-41b7-b164-4302f590e2e2",
   "metadata": {},
   "source": [
    "Plusieurs possibilités:\n",
    "* passer par l'interface grahique **Anaconda**.\n",
    "* En utilisant **Conda**:\n",
    "\n",
    "Lancer un terminal, vérifier que l'on est bien dans le même environnement que celui qui exécute le notebook Jupyter et taper:\n",
    "> conda install -c highcharts-core\n",
    "\n",
    "* En utilisant **pip**:\n",
    "\n",
    "Lancer un terminal, vérifier que l'on est bien dans le même environnement que celui qui exécute le notebook Jupyter et taper:\n",
    ">`pip install highcharts-core`"
   ]
  },
  {
   "cell_type": "code",
   "execution_count": 25,
   "id": "936aa8d9-2e2d-406d-b573-ff73e94dd765",
   "metadata": {},
   "outputs": [],
   "source": [
    "from highcharts_core.chart import Chart\n",
    "from highcharts_core.options import HighchartsOptions\n",
    "from highcharts_core.options.series.sankey import SankeySeries"
   ]
  },
  {
   "cell_type": "code",
   "execution_count": 26,
   "id": "7fc9cb54-aba7-40e2-83d5-f37982880a5b",
   "metadata": {},
   "outputs": [
    {
     "data": {
      "text/html": [
       "<div id=\"highcharts_target_div_TGY5ZS\" style=\"width:100%; height:400;\"></div>\n"
      ],
      "text/plain": [
       "<IPython.core.display.HTML object>"
      ]
     },
     "metadata": {},
     "output_type": "display_data"
    },
    {
     "data": {
      "application/javascript": [
       "var has_requirejs = typeof requirejs !== 'undefined';\n",
       "if (has_requirejs) {\n",
       "require.config({\n",
       "  packages: [{\n",
       "    name: 'highcharts', main: 'highcharts' }],\n",
       "  paths: {\n",
       "    'highcharts': 'https://code.highcharts.com/'\n",
       "  }\n",
       "\n",
       "}); require(['highcharts', 'highcharts/modules/sankey'], function (Highcharts) {\n",
       "function retryHighcharts(fn, container = 'highcharts_target_div', retries = 5, retriesLeft = 5, \n",
       "        interval = 1000) {\n",
       "            return new Promise((resolve, reject) => {\n",
       "            try {\n",
       "                fn()\n",
       "                return resolve();\n",
       "            } catch (err) {\n",
       "                if ((err instanceof ReferenceError) || (err instanceof TypeError) || (err.message.includes('#17'))) {\n",
       "                    if (retriesLeft === 0) {\n",
       "                        var target_div = document.getElementById(container);\n",
       "                        if (target_div) {\n",
       "                            var timeElapsed = (retries * interval) / 1000;\n",
       "                            var errorMessage = \"Something went wrong with the Highcharts.js script. It should have been automatically loaded, but it did not load for over \" + timeElapsed + \" seconds. Check your internet connection, and then if the problem persists please reach out for support. (You can also check your browser's console log for more details.)<br/><br/>Detailed Error Message:<br/>\" + err.message;\n",
       "                            var errorHTML = errorMessage;\n",
       "                            \n",
       "                            target_div.innerHTML = errorHTML;\n",
       "                            console.log(errorMessage);\n",
       "                            console.error(err);\n",
       "                        }\n",
       "                        return reject();\n",
       "                    }\n",
       "\n",
       "                    setTimeout(() => {\n",
       "                        retryHighcharts(fn, container, retries, retriesLeft - 1, interval).then(resolve).catch(reject);\n",
       "                    }, interval);\n",
       "                } else if ((err instanceof Error) && (err.message.includes('#13'))) {\n",
       "                    var errorMessage = \"It looks like the container specified '\" + container + \"' was not created successfully. Please check your browser's console log for more details.\";\n",
       "                    console.error(errorMessage);\n",
       "                    console.error(err);\n",
       "                    \n",
       "                    return reject();\n",
       "                } else {\n",
       "                    throw err;\n",
       "                }\n",
       "            }\n",
       "        });\n",
       "    };function insertChart_TGY5ZS() {\n",
       "\n",
       "Highcharts.chart('highcharts_target_div_TGY5ZS',\n",
       "{\n",
       "  chart: {\n",
       "  inverted: false\n",
       "},\n",
       "  series: [{\n",
       "  data: [{\n",
       "  weight: 4025,\n",
       "  from: '0',\n",
       "  to: '1',\n",
       "  color: '#ff6347'\n",
       "},\n",
       "{\n",
       "  weight: 16710,\n",
       "  from: '0',\n",
       "  to: '2',\n",
       "  color: '#3cb371'\n",
       "},\n",
       "{\n",
       "  weight: 2894,\n",
       "  from: '2',\n",
       "  to: '3',\n",
       "  color: '#4caf50'\n",
       "},\n",
       "{\n",
       "  weight: 13816,\n",
       "  from: '2',\n",
       "  to: '4',\n",
       "  color: '#ff8c00'\n",
       "},\n",
       "{\n",
       "  weight: 7622,\n",
       "  from: '4',\n",
       "  to: '5',\n",
       "  color: '#ffd700'\n",
       "},\n",
       "{\n",
       "  weight: 4657,\n",
       "  from: '4',\n",
       "  to: '6',\n",
       "  color: '#e6ab19'\n",
       "},\n",
       "{\n",
       "  weight: 1537,\n",
       "  from: '4',\n",
       "  to: '7',\n",
       "  color: '#cd7f32'\n",
       "}],\n",
       "  name: 'Sankey demo series',\n",
       "  type: 'sankey',\n",
       "  nodes: [{\n",
       "  color: '#6495ed',\n",
       "  id: '0',\n",
       "  name: 'Ensemble des publications'\n",
       "},\n",
       "{\n",
       "  color: '#ff6347',\n",
       "  id: '1',\n",
       "  name: 'Accès fermé'\n",
       "},\n",
       "{\n",
       "  color: '#3cb371',\n",
       "  id: '2',\n",
       "  name: 'Accès ouvert'\n",
       "},\n",
       "{\n",
       "  color: '#4caf50',\n",
       "  id: '3',\n",
       "  name: 'Archive ouverte uniquement'\n",
       "},\n",
       "{\n",
       "  color: '#ff8c00',\n",
       "  id: '4',\n",
       "  name: 'Editeur & Archive ouverte'\n",
       "},\n",
       "{\n",
       "  color: '#ffd700',\n",
       "  id: '5',\n",
       "  name: 'Gold'\n",
       "},\n",
       "{\n",
       "  color: '#e6ab19',\n",
       "  id: '6',\n",
       "  name: 'Hybride'\n",
       "},\n",
       "{\n",
       "  color: '#cd7f32',\n",
       "  id: '7',\n",
       "  name: 'Bronze'\n",
       "}]\n",
       "}],\n",
       "  subtitle: {\n",
       "  text: '(mesuré en décembre 2023)'\n",
       "},\n",
       "  title: {\n",
       "  text: 'Proportion des publications 2022 en accès ouvert'\n",
       "},\n",
       "  tooltip: {\n",
       "  headerFormat: null,\n",
       "  valueSuffix: ' publications'\n",
       "}\n",
       "},\n",
       ");\n",
       "\n",
       "};\n",
       "retryHighcharts(insertChart_TGY5ZS, 'highcharts_target_div_TGY5ZS', 5, 5, 1000);\n",
       "});\n",
       "} else {\n",
       "new Promise(function(resolve, reject) {\n",
       "  var existing_tags = document.querySelectorAll(\"script[src='https://code.highcharts.com/highcharts.js']\");  if (existing_tags.length == 0) {\n",
       "            var script = document.createElement(\"script\");\n",
       "            script.onload = resolve;\n",
       "            script.onerror = reject;        script.src = 'https://code.highcharts.com/highcharts.js';        document.head.appendChild(script);\n",
       "        } else { resolve() };\n",
       "    }).then(() => {new Promise(function(resolve, reject) {\n",
       "  var existing_tags = document.querySelectorAll(\"script[src='https://code.highcharts.com/modules/sankey.js']\");  if (existing_tags.length == 0) {\n",
       "            var script = document.createElement(\"script\");\n",
       "            script.onload = resolve;\n",
       "            script.onerror = reject;        script.src = 'https://code.highcharts.com/modules/sankey.js';        document.head.appendChild(script);\n",
       "        } else { resolve() };\n",
       "    }).then(() => {});});\n",
       "};"
      ],
      "text/plain": [
       "<IPython.core.display.Javascript object>"
      ]
     },
     "metadata": {},
     "output_type": "display_data"
    },
    {
     "data": {
      "application/javascript": [
       "var has_requirejs = typeof requirejs !== 'undefined';\n",
       "if (has_requirejs) {\n",
       "\n",
       "} else {\n",
       "function retryHighcharts(fn, container = 'highcharts_target_div', retries = 5, retriesLeft = 5, \n",
       "        interval = 1000) {\n",
       "            return new Promise((resolve, reject) => {\n",
       "            try {\n",
       "                fn()\n",
       "                return resolve();\n",
       "            } catch (err) {\n",
       "                if ((err instanceof ReferenceError) || (err instanceof TypeError) || (err.message.includes('#17'))) {\n",
       "                    if (retriesLeft === 0) {\n",
       "                        var target_div = document.getElementById(container);\n",
       "                        if (target_div) {\n",
       "                            var timeElapsed = (retries * interval) / 1000;\n",
       "                            var errorMessage = \"Something went wrong with the Highcharts.js script. It should have been automatically loaded, but it did not load for over \" + timeElapsed + \" seconds. Check your internet connection, and then if the problem persists please reach out for support. (You can also check your browser's console log for more details.)<br/><br/>Detailed Error Message:<br/>\" + err.message;\n",
       "                            var errorHTML = errorMessage;\n",
       "                            \n",
       "                            target_div.innerHTML = errorHTML;\n",
       "                            console.log(errorMessage);\n",
       "                            console.error(err);\n",
       "                        }\n",
       "                        return reject();\n",
       "                    }\n",
       "\n",
       "                    setTimeout(() => {\n",
       "                        retryHighcharts(fn, container, retries, retriesLeft - 1, interval).then(resolve).catch(reject);\n",
       "                    }, interval);\n",
       "                } else if ((err instanceof Error) && (err.message.includes('#13'))) {\n",
       "                    var errorMessage = \"It looks like the container specified '\" + container + \"' was not created successfully. Please check your browser's console log for more details.\";\n",
       "                    console.error(errorMessage);\n",
       "                    console.error(err);\n",
       "                    \n",
       "                    return reject();\n",
       "                } else {\n",
       "                    throw err;\n",
       "                }\n",
       "            }\n",
       "        });\n",
       "    };function insertChart_TGY5ZS() {\n",
       "\n",
       "Highcharts.chart('highcharts_target_div_TGY5ZS',\n",
       "{\n",
       "  chart: {\n",
       "  inverted: false\n",
       "},\n",
       "  series: [{\n",
       "  data: [{\n",
       "  weight: 4025,\n",
       "  from: '0',\n",
       "  to: '1',\n",
       "  color: '#ff6347'\n",
       "},\n",
       "{\n",
       "  weight: 16710,\n",
       "  from: '0',\n",
       "  to: '2',\n",
       "  color: '#3cb371'\n",
       "},\n",
       "{\n",
       "  weight: 2894,\n",
       "  from: '2',\n",
       "  to: '3',\n",
       "  color: '#4caf50'\n",
       "},\n",
       "{\n",
       "  weight: 13816,\n",
       "  from: '2',\n",
       "  to: '4',\n",
       "  color: '#ff8c00'\n",
       "},\n",
       "{\n",
       "  weight: 7622,\n",
       "  from: '4',\n",
       "  to: '5',\n",
       "  color: '#ffd700'\n",
       "},\n",
       "{\n",
       "  weight: 4657,\n",
       "  from: '4',\n",
       "  to: '6',\n",
       "  color: '#e6ab19'\n",
       "},\n",
       "{\n",
       "  weight: 1537,\n",
       "  from: '4',\n",
       "  to: '7',\n",
       "  color: '#cd7f32'\n",
       "}],\n",
       "  name: 'Sankey demo series',\n",
       "  type: 'sankey',\n",
       "  nodes: [{\n",
       "  color: '#6495ed',\n",
       "  id: '0',\n",
       "  name: 'Ensemble des publications'\n",
       "},\n",
       "{\n",
       "  color: '#ff6347',\n",
       "  id: '1',\n",
       "  name: 'Accès fermé'\n",
       "},\n",
       "{\n",
       "  color: '#3cb371',\n",
       "  id: '2',\n",
       "  name: 'Accès ouvert'\n",
       "},\n",
       "{\n",
       "  color: '#4caf50',\n",
       "  id: '3',\n",
       "  name: 'Archive ouverte uniquement'\n",
       "},\n",
       "{\n",
       "  color: '#ff8c00',\n",
       "  id: '4',\n",
       "  name: 'Editeur & Archive ouverte'\n",
       "},\n",
       "{\n",
       "  color: '#ffd700',\n",
       "  id: '5',\n",
       "  name: 'Gold'\n",
       "},\n",
       "{\n",
       "  color: '#e6ab19',\n",
       "  id: '6',\n",
       "  name: 'Hybride'\n",
       "},\n",
       "{\n",
       "  color: '#cd7f32',\n",
       "  id: '7',\n",
       "  name: 'Bronze'\n",
       "}]\n",
       "}],\n",
       "  subtitle: {\n",
       "  text: '(mesuré en décembre 2023)'\n",
       "},\n",
       "  title: {\n",
       "  text: 'Proportion des publications 2022 en accès ouvert'\n",
       "},\n",
       "  tooltip: {\n",
       "  headerFormat: null,\n",
       "  valueSuffix: ' publications'\n",
       "}\n",
       "},\n",
       ");\n",
       "\n",
       "};\n",
       "retryHighcharts(insertChart_TGY5ZS, 'highcharts_target_div_TGY5ZS', 5, 5, 1000);\n",
       "};"
      ],
      "text/plain": [
       "<IPython.core.display.Javascript object>"
      ]
     },
     "metadata": {},
     "output_type": "display_data"
    }
   ],
   "source": [
    "nodes = [\n",
    "    {\n",
    "        'id': str(id),\n",
    "        'name': label,\n",
    "        'weight': int(weight),\n",
    "        'color': plt_colors.to_hex(color),\n",
    "    } for id, label, weight, color in zip(range(8), labels, values, colors)\n",
    "]\n",
    "\n",
    "data = [\n",
    "    {\n",
    "    'from': str(source),\n",
    "    'to': str(target),\n",
    "    'weight': int(weight),\n",
    "    'color' : plt_colors.to_hex(color),\n",
    "    } for source, target, weight, color in zip(sources, targets , values[1:], colors[1:])\n",
    "]\n",
    "\n",
    "\n",
    "# Set chart options\n",
    "options = {\n",
    "    'chart': {\n",
    "        'inverted': False,\n",
    "    },\n",
    "    'title': {\n",
    "        'text': f\"Proportion des publications {annee} en accès ouvert\",\n",
    "    },\n",
    "    'subtitle': {\n",
    "        'text': f\"(mesuré en décembre {annee+1})\",\n",
    "    },\n",
    "    'tooltip': {\n",
    "        'headerFormat': 'null',\n",
    "        # Not working \n",
    "        'nodeFormat': '{point.name}: {point.sum} publications',\n",
    "        'valueSuffix': ' publications'\n",
    "    },\n",
    "    'series': [{\n",
    "        'nodes': nodes,\n",
    "        'data': data,\n",
    "        'type': 'sankey',\n",
    "        'name': 'Sankey demo series',\n",
    "    }],\n",
    "}\n",
    "\n",
    "my_chart = Chart(options = options)\n",
    "my_chart.display()"
   ]
  },
  {
   "cell_type": "markdown",
   "id": "ed5a4e4c-3192-442f-9322-d2511a89e8c9",
   "metadata": {},
   "source": [
    "**Le tooltip lors du survol d'un node n'est pas gérer correctement pour l'instant par Highcharts for Python**  \n",
    "Voir [Issue #148](https://github.com/highcharts-for-python/highcharts-core/issues/148)"
   ]
  },
  {
   "cell_type": "markdown",
   "id": "01ae8406-3749-4a41-af32-68d9db408806",
   "metadata": {},
   "source": [
    "### Export:"
   ]
  },
  {
   "cell_type": "code",
   "execution_count": 29,
   "id": "1cb10d5f-bc67-45c3-bcf7-cf3f63024281",
   "metadata": {},
   "outputs": [
    {
     "name": "stdout",
     "output_type": "stream",
     "text": [
      "document.addEventListener('DOMContentLoaded', function() {\n",
      "Highcharts.chart(null,\n",
      "{\n",
      "  chart: {\n",
      "  inverted: false\n",
      "},\n",
      "  series: [{\n",
      "  data: [{\n",
      "  weight: 4025,\n",
      "  from: '0',\n",
      "  to: '1',\n",
      "  color: '#ff6347'\n",
      "},\n",
      "{\n",
      "  weight: 16710,\n",
      "  from: '0',\n",
      "  to: '2',\n",
      "  color: '#3cb371'\n",
      "},\n",
      "{\n",
      "  weight: 2894,\n",
      "  from: '2',\n",
      "  to: '3',\n",
      "  color: '#4caf50'\n",
      "},\n",
      "{\n",
      "  weight: 13816,\n",
      "  from: '2',\n",
      "  to: '4',\n",
      "  color: '#ff8c00'\n",
      "},\n",
      "{\n",
      "  weight: 7622,\n",
      "  from: '4',\n",
      "  to: '5',\n",
      "  color: '#ffd700'\n",
      "},\n",
      "{\n",
      "  weight: 4657,\n",
      "  from: '4',\n",
      "  to: '6',\n",
      "  color: '#e6ab19'\n",
      "},\n",
      "{\n",
      "  weight: 1537,\n",
      "  from: '4',\n",
      "  to: '7',\n",
      "  color: '#cd7f32'\n",
      "}],\n",
      "  name: 'Sankey demo series',\n",
      "  type: 'sankey',\n",
      "  nodes: [{\n",
      "  color: '#6495ed',\n",
      "  id: '0',\n",
      "  name: 'Ensemble des publications'\n",
      "},\n",
      "{\n",
      "  color: '#ff6347',\n",
      "  id: '1',\n",
      "  name: 'Accès fermé'\n",
      "},\n",
      "{\n",
      "  color: '#3cb371',\n",
      "  id: '2',\n",
      "  name: 'Accès ouvert'\n",
      "},\n",
      "{\n",
      "  color: '#4caf50',\n",
      "  id: '3',\n",
      "  name: 'Archive ouverte uniquement'\n",
      "},\n",
      "{\n",
      "  color: '#ff8c00',\n",
      "  id: '4',\n",
      "  name: 'Editeur & Archive ouverte'\n",
      "},\n",
      "{\n",
      "  color: '#ffd700',\n",
      "  id: '5',\n",
      "  name: 'Gold'\n",
      "},\n",
      "{\n",
      "  color: '#e6ab19',\n",
      "  id: '6',\n",
      "  name: 'Hybride'\n",
      "},\n",
      "{\n",
      "  color: '#cd7f32',\n",
      "  id: '7',\n",
      "  name: 'Bronze'\n",
      "}]\n",
      "}],\n",
      "  subtitle: {\n",
      "  text: '(mesuré en décembre 2023)'\n",
      "},\n",
      "  title: {\n",
      "  text: 'Proportion des publications 2022 en accès ouvert'\n",
      "},\n",
      "  tooltip: {\n",
      "  headerFormat: null,\n",
      "  valueSuffix: ' publications'\n",
      "}\n",
      "},\n",
      ");\n",
      "});\n"
     ]
    }
   ],
   "source": [
    "print(my_chart.to_js_literal())"
   ]
  },
  {
   "cell_type": "code",
   "execution_count": null,
   "id": "80b011e3-51cb-447c-afe4-12598fac1cab",
   "metadata": {},
   "outputs": [],
   "source": []
  }
 ],
 "metadata": {
  "kernelspec": {
   "display_name": "Python 3 (ipykernel)",
   "language": "python",
   "name": "python3"
  },
  "language_info": {
   "codemirror_mode": {
    "name": "ipython",
    "version": 3
   },
   "file_extension": ".py",
   "mimetype": "text/x-python",
   "name": "python",
   "nbconvert_exporter": "python",
   "pygments_lexer": "ipython3",
   "version": "3.12.2"
  }
 },
 "nbformat": 4,
 "nbformat_minor": 5
}
