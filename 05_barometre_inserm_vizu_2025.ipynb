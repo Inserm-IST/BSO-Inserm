{
 "cells": [
  {
   "cell_type": "markdown",
   "metadata": {},
   "source": [
    "# <span style=\"color:orange\">Appliquer le code du Baromètre de la Science Ouverte aux données de l'Inserm</span>"
   ]
  },
  {
   "cell_type": "markdown",
   "metadata": {},
   "source": [
    "Après réception du fichier csv contenant la liste de DOI enrichie (ajout du titre, des auteurs, de l'année, du statut open access...) de la part du MESRI, les graphiques peuvent être générés directement depuis le Baromètre national (voir le mode d'emploi sur la partie \"déclinaisons locales\" du site web du BSO national).  \n",
    "Néanmoins, à partir de ce fichier, certains graphiques réalisés pour le Baromètre Inserm peuvent toujours être générés et mis à jour en suivant ce code.  \n",
    "Il suffit de remplacer \"inserm\" par le nom de son établissement à l'intérieur du code.\n",
    "\n",
    "Les résultats obtenus ici sont le reflet de la situation d'ouverture des publications en décembre 2022, date à laquelle les dernières extractions ont été réalisées.  \n",
    "Le Baromètre national et, par extension, ses déclinaisons locales depuis le portail national, étant mis à jour régulièrement, les taux affichés sur les graphiques ci-dessous sont obsolètes."
   ]
  },
  {
   "cell_type": "code",
   "execution_count": 3,
   "metadata": {},
   "outputs": [],
   "source": [
    "import matplotlib.pyplot as plt\n",
    "import pandas as pd\n",
    "import numpy as np"
   ]
  },
  {
   "cell_type": "markdown",
   "metadata": {},
   "source": [
    "## <span style=\"color:orange\">Importer dans le notebook les données préalablement traitées</span>"
   ]
  },
  {
   "cell_type": "markdown",
   "metadata": {},
   "source": [
    "On commence par lire le fichier enrichi envoyé par le MESRI. Seuls les DOI présents dans Crossref sont traités, il se peut donc que le nombre de publications présentes dans ce tableau soit inférieur au nombre de DOI rassemblés à la fin du notebook \"nettoyage_donnees\"."
   ]
  },
  {
   "cell_type": "code",
   "execution_count": null,
   "metadata": {},
   "outputs": [],
   "source": [
    "df_complete = pd.read_csv(\"bso-publications-latest_180036048_enriched.csv\", sep=\";\")"
   ]
  },
  {
   "cell_type": "code",
   "execution_count": 3,
   "metadata": {},
   "outputs": [
    {
     "data": {
      "text/plain": [
       "(171993, 46)"
      ]
     },
     "execution_count": 3,
     "metadata": {},
     "output_type": "execute_result"
    }
   ],
   "source": [
    "df_complete.shape"
   ]
  },
  {
   "cell_type": "markdown",
   "metadata": {},
   "source": [
    "## <span style=\"color:orange\">Générer les graphiques</span>"
   ]
  },
  {
   "cell_type": "markdown",
   "metadata": {},
   "source": [
    "Les graphiques présents sur le site du Baromètre national ont été écrits en JavaScript. Afin de rendre plus facile l'utilisation de ce Baromètre local, la génération des graphiques a été ici pensée en Python, grâce aux librairies Pandas et Matplotlib."
   ]
  },
  {
   "cell_type": "markdown",
   "metadata": {},
   "source": [
    "### Proportion des publications annee N en accès ouvert (mesuré en décembre N+1)"
   ]
  },
  {
   "cell_type": "markdown",
   "metadata": {},
   "source": [
    "Il faut commencer par déterminer les données qui vont être utilisées pour réaliser le graphique : compter le nombre de publications parues en 2022 et les isoler dans la variable \"pie_data\".  \n",
    "**Bien que ce calcul soit réalisé en décembre 2023, il est plus pertinent d'utiliser les données 2022 que les données 2023 pour ce graphique. En effet, les délais d'embargos pouvant monter jusqu'à 12 mois ne permettent pas de juger en décembre 2023 la réelle ouverture des publications de l'année précédente.**"
   ]
  },
  {
   "cell_type": "markdown",
   "metadata": {},
   "source": [
    "**<span style=\"color:red\">Dans la variable \"annee\" mettre la dernière année à traiter, par exemple pour le fichier enrichie recu fin 2023, on se limite aux publications de 2022</span>**"
   ]
  },
  {
   "cell_type": "code",
   "execution_count": 5,
   "metadata": {},
   "outputs": [],
   "source": [
    "annee = 2023"
   ]
  },
  {
   "cell_type": "markdown",
   "metadata": {},
   "source": [
    "Isoler l'année à traiter :"
   ]
  },
  {
   "cell_type": "code",
   "execution_count": 6,
   "metadata": {},
   "outputs": [
    {
     "data": {
      "text/plain": [
       "(17435, 46)"
      ]
     },
     "execution_count": 6,
     "metadata": {},
     "output_type": "execute_result"
    }
   ],
   "source": [
    "df_year = df_complete.loc[df_complete['year'] == annee, :]\n",
    "df_year.shape"
   ]
  },
  {
   "cell_type": "code",
   "execution_count": 14,
   "metadata": {},
   "outputs": [
    {
     "data": {
      "text/plain": [
       "year\n",
       "2021    20402\n",
       "2022    19295\n",
       "2020    18973\n",
       "2023    17435\n",
       "2019    16582\n",
       "2018    15121\n",
       "2017    14758\n",
       "2016    13826\n",
       "2015    12526\n",
       "2014    11398\n",
       "2013    10522\n",
       "2024     1155\n",
       "Name: count, dtype: int64"
      ]
     },
     "execution_count": 14,
     "metadata": {},
     "output_type": "execute_result"
    }
   ],
   "source": [
    "# pour info, yearly distibution\n",
    "df_complete['year'].value_counts()"
   ]
  },
  {
   "cell_type": "markdown",
   "metadata": {},
   "source": [
    "### Taux d'accès ouvert aux publications 2023 (normalisé)"
   ]
  },
  {
   "cell_type": "markdown",
   "metadata": {},
   "source": [
    "**Quelle est la proportion d'accès ouvert, par type d'accès, des publications par discipline dans l'année ?**"
   ]
  },
  {
   "cell_type": "markdown",
   "metadata": {},
   "source": [
    "#### Type d'accès :"
   ]
  },
  {
   "cell_type": "code",
   "execution_count": 7,
   "metadata": {},
   "outputs": [
    {
     "data": {
      "text/plain": [
       "oa_colors\n",
       "green|gold       6753\n",
       "closed           2703\n",
       "green|hybrid     2529\n",
       "green            2053\n",
       "other            1388\n",
       "hybrid            867\n",
       "green|other       794\n",
       "gold              176\n",
       "green|diamond     148\n",
       "diamond            24\n",
       "Name: count, dtype: int64"
      ]
     },
     "execution_count": 7,
     "metadata": {},
     "output_type": "execute_result"
    }
   ],
   "source": [
    "df_year['oa_colors'].value_counts()"
   ]
  },
  {
   "cell_type": "code",
   "execution_count": 8,
   "metadata": {},
   "outputs": [
    {
     "data": {
      "text/plain": [
       "unpaywall_oa_status\n",
       "gold      7099\n",
       "hybrid    3024\n",
       "closed    2701\n",
       "bronze    2518\n",
       "green     1741\n",
       "Name: count, dtype: int64"
      ]
     },
     "execution_count": 8,
     "metadata": {},
     "output_type": "execute_result"
    }
   ],
   "source": [
    "df_year['unpaywall_oa_status'].value_counts()"
   ]
  },
  {
   "cell_type": "markdown",
   "metadata": {},
   "source": [
    "Correspondances entre les 2 colonnes specifiant le type d'OA"
   ]
  },
  {
   "cell_type": "code",
   "execution_count": 8,
   "metadata": {},
   "outputs": [
    {
     "data": {
      "text/plain": [
       "oa_colors      unpaywall_oa_status\n",
       "green|gold     gold                   6752\n",
       "closed         closed                 2701\n",
       "green|hybrid   hybrid                 2382\n",
       "green          green                  1734\n",
       "other          bronze                 1355\n",
       "green|other    bronze                  794\n",
       "hybrid         hybrid                  640\n",
       "               bronze                  227\n",
       "gold           gold                    176\n",
       "green|diamond  gold                    147\n",
       "green|hybrid   bronze                  141\n",
       "diamond        gold                     24\n",
       "green|hybrid   green                     6\n",
       "other          hybrid                    2\n",
       "green|diamond  bronze                    1\n",
       "green|gold     green                     1\n",
       "Name: count, dtype: int64"
      ]
     },
     "execution_count": 8,
     "metadata": {},
     "output_type": "execute_result"
    }
   ],
   "source": [
    "df_year[['oa_colors','unpaywall_oa_status']].value_counts()"
   ]
  },
  {
   "cell_type": "markdown",
   "metadata": {},
   "source": [
    "#### Discipline :"
   ]
  },
  {
   "cell_type": "code",
   "execution_count": 9,
   "metadata": {},
   "outputs": [
    {
     "data": {
      "text/plain": [
       "bso_classification\n",
       "Biology (fond.)                               6680\n",
       "Chemistry                                      504\n",
       "Computer and  information sciences             315\n",
       "Earth, Ecology, Energy and applied biology     255\n",
       "Engineering                                    447\n",
       "Humanities                                     377\n",
       "Mathematics                                    173\n",
       "Medical research                              8293\n",
       "Physical sciences, Astronomy                   270\n",
       "Social sciences                                121\n",
       "Name: count, dtype: int64"
      ]
     },
     "execution_count": 9,
     "metadata": {},
     "output_type": "execute_result"
    }
   ],
   "source": [
    "publications_par_domaine = df_year['bso_classification'].value_counts().sort_index()\n",
    "publications_par_domaine"
   ]
  },
  {
   "cell_type": "markdown",
   "metadata": {},
   "source": [
    "***Nombre de publications par discipline et type d'accès:***"
   ]
  },
  {
   "cell_type": "code",
   "execution_count": 10,
   "metadata": {},
   "outputs": [
    {
     "data": {
      "text/html": [
       "<div>\n",
       "<style scoped>\n",
       "    .dataframe tbody tr th:only-of-type {\n",
       "        vertical-align: middle;\n",
       "    }\n",
       "\n",
       "    .dataframe tbody tr th {\n",
       "        vertical-align: top;\n",
       "    }\n",
       "\n",
       "    .dataframe thead th {\n",
       "        text-align: right;\n",
       "    }\n",
       "</style>\n",
       "<table border=\"1\" class=\"dataframe\">\n",
       "  <thead>\n",
       "    <tr style=\"text-align: right;\">\n",
       "      <th>unpaywall_oa_status</th>\n",
       "      <th>bronze</th>\n",
       "      <th>closed</th>\n",
       "      <th>gold</th>\n",
       "      <th>green</th>\n",
       "      <th>hybrid</th>\n",
       "    </tr>\n",
       "    <tr>\n",
       "      <th>bso_classification</th>\n",
       "      <th></th>\n",
       "      <th></th>\n",
       "      <th></th>\n",
       "      <th></th>\n",
       "      <th></th>\n",
       "    </tr>\n",
       "  </thead>\n",
       "  <tbody>\n",
       "    <tr>\n",
       "      <th>Biology (fond.)</th>\n",
       "      <td>858</td>\n",
       "      <td>771</td>\n",
       "      <td>3042</td>\n",
       "      <td>698</td>\n",
       "      <td>1169</td>\n",
       "    </tr>\n",
       "    <tr>\n",
       "      <th>Chemistry</th>\n",
       "      <td>64</td>\n",
       "      <td>38</td>\n",
       "      <td>165</td>\n",
       "      <td>110</td>\n",
       "      <td>112</td>\n",
       "    </tr>\n",
       "    <tr>\n",
       "      <th>Computer and  information sciences</th>\n",
       "      <td>28</td>\n",
       "      <td>17</td>\n",
       "      <td>112</td>\n",
       "      <td>76</td>\n",
       "      <td>46</td>\n",
       "    </tr>\n",
       "    <tr>\n",
       "      <th>Earth, Ecology, Energy and applied biology</th>\n",
       "      <td>29</td>\n",
       "      <td>10</td>\n",
       "      <td>134</td>\n",
       "      <td>23</td>\n",
       "      <td>51</td>\n",
       "    </tr>\n",
       "    <tr>\n",
       "      <th>Engineering</th>\n",
       "      <td>57</td>\n",
       "      <td>28</td>\n",
       "      <td>164</td>\n",
       "      <td>98</td>\n",
       "      <td>65</td>\n",
       "    </tr>\n",
       "    <tr>\n",
       "      <th>Humanities</th>\n",
       "      <td>57</td>\n",
       "      <td>43</td>\n",
       "      <td>157</td>\n",
       "      <td>50</td>\n",
       "      <td>57</td>\n",
       "    </tr>\n",
       "    <tr>\n",
       "      <th>Mathematics</th>\n",
       "      <td>16</td>\n",
       "      <td>22</td>\n",
       "      <td>60</td>\n",
       "      <td>31</td>\n",
       "      <td>22</td>\n",
       "    </tr>\n",
       "    <tr>\n",
       "      <th>Medical research</th>\n",
       "      <td>1359</td>\n",
       "      <td>1731</td>\n",
       "      <td>3129</td>\n",
       "      <td>578</td>\n",
       "      <td>1426</td>\n",
       "    </tr>\n",
       "    <tr>\n",
       "      <th>Physical sciences, Astronomy</th>\n",
       "      <td>33</td>\n",
       "      <td>21</td>\n",
       "      <td>96</td>\n",
       "      <td>65</td>\n",
       "      <td>47</td>\n",
       "    </tr>\n",
       "    <tr>\n",
       "      <th>Social sciences</th>\n",
       "      <td>17</td>\n",
       "      <td>20</td>\n",
       "      <td>40</td>\n",
       "      <td>12</td>\n",
       "      <td>29</td>\n",
       "    </tr>\n",
       "  </tbody>\n",
       "</table>\n",
       "</div>"
      ],
      "text/plain": [
       "unpaywall_oa_status                         bronze  closed  gold  green  \\\n",
       "bso_classification                                                        \n",
       "Biology (fond.)                                858     771  3042    698   \n",
       "Chemistry                                       64      38   165    110   \n",
       "Computer and  information sciences              28      17   112     76   \n",
       "Earth, Ecology, Energy and applied biology      29      10   134     23   \n",
       "Engineering                                     57      28   164     98   \n",
       "Humanities                                      57      43   157     50   \n",
       "Mathematics                                     16      22    60     31   \n",
       "Medical research                              1359    1731  3129    578   \n",
       "Physical sciences, Astronomy                    33      21    96     65   \n",
       "Social sciences                                 17      20    40     12   \n",
       "\n",
       "unpaywall_oa_status                         hybrid  \n",
       "bso_classification                                  \n",
       "Biology (fond.)                               1169  \n",
       "Chemistry                                      112  \n",
       "Computer and  information sciences              46  \n",
       "Earth, Ecology, Energy and applied biology      51  \n",
       "Engineering                                     65  \n",
       "Humanities                                      57  \n",
       "Mathematics                                     22  \n",
       "Medical research                              1426  \n",
       "Physical sciences, Astronomy                    47  \n",
       "Social sciences                                 29  "
      ]
     },
     "execution_count": 10,
     "metadata": {},
     "output_type": "execute_result"
    }
   ],
   "source": [
    "df_oa_discipline_global_type = pd.crosstab([df_year['bso_classification']], df_year['unpaywall_oa_status'])\n",
    "df_oa_discipline_global_type"
   ]
  },
  {
   "cell_type": "markdown",
   "metadata": {},
   "source": [
    "Ajout d'une colonne avec le nombre total de publications par discipline:"
   ]
  },
  {
   "cell_type": "code",
   "execution_count": 11,
   "metadata": {},
   "outputs": [
    {
     "data": {
      "text/html": [
       "<div>\n",
       "<style scoped>\n",
       "    .dataframe tbody tr th:only-of-type {\n",
       "        vertical-align: middle;\n",
       "    }\n",
       "\n",
       "    .dataframe tbody tr th {\n",
       "        vertical-align: top;\n",
       "    }\n",
       "\n",
       "    .dataframe thead th {\n",
       "        text-align: right;\n",
       "    }\n",
       "</style>\n",
       "<table border=\"1\" class=\"dataframe\">\n",
       "  <thead>\n",
       "    <tr style=\"text-align: right;\">\n",
       "      <th>unpaywall_oa_status</th>\n",
       "      <th>bronze</th>\n",
       "      <th>closed</th>\n",
       "      <th>gold</th>\n",
       "      <th>green</th>\n",
       "      <th>hybrid</th>\n",
       "      <th>Total</th>\n",
       "    </tr>\n",
       "    <tr>\n",
       "      <th>bso_classification</th>\n",
       "      <th></th>\n",
       "      <th></th>\n",
       "      <th></th>\n",
       "      <th></th>\n",
       "      <th></th>\n",
       "      <th></th>\n",
       "    </tr>\n",
       "  </thead>\n",
       "  <tbody>\n",
       "    <tr>\n",
       "      <th>Biology (fond.)</th>\n",
       "      <td>858</td>\n",
       "      <td>771</td>\n",
       "      <td>3042</td>\n",
       "      <td>698</td>\n",
       "      <td>1169</td>\n",
       "      <td>6680</td>\n",
       "    </tr>\n",
       "    <tr>\n",
       "      <th>Chemistry</th>\n",
       "      <td>64</td>\n",
       "      <td>38</td>\n",
       "      <td>165</td>\n",
       "      <td>110</td>\n",
       "      <td>112</td>\n",
       "      <td>504</td>\n",
       "    </tr>\n",
       "    <tr>\n",
       "      <th>Computer and  information sciences</th>\n",
       "      <td>28</td>\n",
       "      <td>17</td>\n",
       "      <td>112</td>\n",
       "      <td>76</td>\n",
       "      <td>46</td>\n",
       "      <td>315</td>\n",
       "    </tr>\n",
       "    <tr>\n",
       "      <th>Earth, Ecology, Energy and applied biology</th>\n",
       "      <td>29</td>\n",
       "      <td>10</td>\n",
       "      <td>134</td>\n",
       "      <td>23</td>\n",
       "      <td>51</td>\n",
       "      <td>255</td>\n",
       "    </tr>\n",
       "    <tr>\n",
       "      <th>Engineering</th>\n",
       "      <td>57</td>\n",
       "      <td>28</td>\n",
       "      <td>164</td>\n",
       "      <td>98</td>\n",
       "      <td>65</td>\n",
       "      <td>447</td>\n",
       "    </tr>\n",
       "    <tr>\n",
       "      <th>Humanities</th>\n",
       "      <td>57</td>\n",
       "      <td>43</td>\n",
       "      <td>157</td>\n",
       "      <td>50</td>\n",
       "      <td>57</td>\n",
       "      <td>377</td>\n",
       "    </tr>\n",
       "    <tr>\n",
       "      <th>Mathematics</th>\n",
       "      <td>16</td>\n",
       "      <td>22</td>\n",
       "      <td>60</td>\n",
       "      <td>31</td>\n",
       "      <td>22</td>\n",
       "      <td>173</td>\n",
       "    </tr>\n",
       "    <tr>\n",
       "      <th>Medical research</th>\n",
       "      <td>1359</td>\n",
       "      <td>1731</td>\n",
       "      <td>3129</td>\n",
       "      <td>578</td>\n",
       "      <td>1426</td>\n",
       "      <td>8293</td>\n",
       "    </tr>\n",
       "    <tr>\n",
       "      <th>Physical sciences, Astronomy</th>\n",
       "      <td>33</td>\n",
       "      <td>21</td>\n",
       "      <td>96</td>\n",
       "      <td>65</td>\n",
       "      <td>47</td>\n",
       "      <td>270</td>\n",
       "    </tr>\n",
       "    <tr>\n",
       "      <th>Social sciences</th>\n",
       "      <td>17</td>\n",
       "      <td>20</td>\n",
       "      <td>40</td>\n",
       "      <td>12</td>\n",
       "      <td>29</td>\n",
       "      <td>121</td>\n",
       "    </tr>\n",
       "  </tbody>\n",
       "</table>\n",
       "</div>"
      ],
      "text/plain": [
       "unpaywall_oa_status                         bronze  closed  gold  green  \\\n",
       "bso_classification                                                        \n",
       "Biology (fond.)                                858     771  3042    698   \n",
       "Chemistry                                       64      38   165    110   \n",
       "Computer and  information sciences              28      17   112     76   \n",
       "Earth, Ecology, Energy and applied biology      29      10   134     23   \n",
       "Engineering                                     57      28   164     98   \n",
       "Humanities                                      57      43   157     50   \n",
       "Mathematics                                     16      22    60     31   \n",
       "Medical research                              1359    1731  3129    578   \n",
       "Physical sciences, Astronomy                    33      21    96     65   \n",
       "Social sciences                                 17      20    40     12   \n",
       "\n",
       "unpaywall_oa_status                         hybrid  Total  \n",
       "bso_classification                                         \n",
       "Biology (fond.)                               1169   6680  \n",
       "Chemistry                                      112    504  \n",
       "Computer and  information sciences              46    315  \n",
       "Earth, Ecology, Energy and applied biology      51    255  \n",
       "Engineering                                     65    447  \n",
       "Humanities                                      57    377  \n",
       "Mathematics                                     22    173  \n",
       "Medical research                              1426   8293  \n",
       "Physical sciences, Astronomy                    47    270  \n",
       "Social sciences                                 29    121  "
      ]
     },
     "execution_count": 11,
     "metadata": {},
     "output_type": "execute_result"
    }
   ],
   "source": [
    "df_oa_discipline_global_type[\"Total\"] = publications_par_domaine\n",
    "df_oa_discipline_global_type"
   ]
  },
  {
   "cell_type": "code",
   "execution_count": 12,
   "metadata": {},
   "outputs": [
    {
     "data": {
      "text/plain": [
       "Index(['Biology (fond.)', 'Chemistry', 'Computer and  information sciences',\n",
       "       'Earth, Ecology, Energy and applied biology', 'Engineering',\n",
       "       'Humanities', 'Mathematics', 'Medical research',\n",
       "       'Physical sciences, Astronomy', 'Social sciences'],\n",
       "      dtype='object', name='bso_classification')"
      ]
     },
     "execution_count": 12,
     "metadata": {},
     "output_type": "execute_result"
    }
   ],
   "source": [
    "df_oa_discipline_global_type.index"
   ]
  },
  {
   "cell_type": "markdown",
   "metadata": {},
   "source": [
    "Traduction des disciplines en français :"
   ]
  },
  {
   "cell_type": "code",
   "execution_count": 13,
   "metadata": {},
   "outputs": [
    {
     "data": {
      "text/html": [
       "<div>\n",
       "<style scoped>\n",
       "    .dataframe tbody tr th:only-of-type {\n",
       "        vertical-align: middle;\n",
       "    }\n",
       "\n",
       "    .dataframe tbody tr th {\n",
       "        vertical-align: top;\n",
       "    }\n",
       "\n",
       "    .dataframe thead th {\n",
       "        text-align: right;\n",
       "    }\n",
       "</style>\n",
       "<table border=\"1\" class=\"dataframe\">\n",
       "  <thead>\n",
       "    <tr style=\"text-align: right;\">\n",
       "      <th>unpaywall_oa_status</th>\n",
       "      <th>bronze</th>\n",
       "      <th>closed</th>\n",
       "      <th>gold</th>\n",
       "      <th>green</th>\n",
       "      <th>hybrid</th>\n",
       "      <th>Total</th>\n",
       "    </tr>\n",
       "    <tr>\n",
       "      <th>bso_classification</th>\n",
       "      <th></th>\n",
       "      <th></th>\n",
       "      <th></th>\n",
       "      <th></th>\n",
       "      <th></th>\n",
       "      <th></th>\n",
       "    </tr>\n",
       "  </thead>\n",
       "  <tbody>\n",
       "    <tr>\n",
       "      <th>Biologie (fond.)</th>\n",
       "      <td>858</td>\n",
       "      <td>771</td>\n",
       "      <td>3042</td>\n",
       "      <td>698</td>\n",
       "      <td>1169</td>\n",
       "      <td>6680</td>\n",
       "    </tr>\n",
       "    <tr>\n",
       "      <th>Chimie</th>\n",
       "      <td>64</td>\n",
       "      <td>38</td>\n",
       "      <td>165</td>\n",
       "      <td>110</td>\n",
       "      <td>112</td>\n",
       "      <td>504</td>\n",
       "    </tr>\n",
       "    <tr>\n",
       "      <th>Informatique</th>\n",
       "      <td>28</td>\n",
       "      <td>17</td>\n",
       "      <td>112</td>\n",
       "      <td>76</td>\n",
       "      <td>46</td>\n",
       "      <td>315</td>\n",
       "    </tr>\n",
       "    <tr>\n",
       "      <th>Sciences de la Terre, Ecologie,\\n Energie et Biologie appliquée</th>\n",
       "      <td>29</td>\n",
       "      <td>10</td>\n",
       "      <td>134</td>\n",
       "      <td>23</td>\n",
       "      <td>51</td>\n",
       "      <td>255</td>\n",
       "    </tr>\n",
       "    <tr>\n",
       "      <th>Sciences de l'Ingénieur</th>\n",
       "      <td>57</td>\n",
       "      <td>28</td>\n",
       "      <td>164</td>\n",
       "      <td>98</td>\n",
       "      <td>65</td>\n",
       "      <td>447</td>\n",
       "    </tr>\n",
       "    <tr>\n",
       "      <th>Humanités</th>\n",
       "      <td>57</td>\n",
       "      <td>43</td>\n",
       "      <td>157</td>\n",
       "      <td>50</td>\n",
       "      <td>57</td>\n",
       "      <td>377</td>\n",
       "    </tr>\n",
       "    <tr>\n",
       "      <th>Mathématiques</th>\n",
       "      <td>16</td>\n",
       "      <td>22</td>\n",
       "      <td>60</td>\n",
       "      <td>31</td>\n",
       "      <td>22</td>\n",
       "      <td>173</td>\n",
       "    </tr>\n",
       "    <tr>\n",
       "      <th>Sciences médicales</th>\n",
       "      <td>1359</td>\n",
       "      <td>1731</td>\n",
       "      <td>3129</td>\n",
       "      <td>578</td>\n",
       "      <td>1426</td>\n",
       "      <td>8293</td>\n",
       "    </tr>\n",
       "    <tr>\n",
       "      <th>Sciences physiques, astronomie</th>\n",
       "      <td>33</td>\n",
       "      <td>21</td>\n",
       "      <td>96</td>\n",
       "      <td>65</td>\n",
       "      <td>47</td>\n",
       "      <td>270</td>\n",
       "    </tr>\n",
       "    <tr>\n",
       "      <th>Sciences sociales</th>\n",
       "      <td>17</td>\n",
       "      <td>20</td>\n",
       "      <td>40</td>\n",
       "      <td>12</td>\n",
       "      <td>29</td>\n",
       "      <td>121</td>\n",
       "    </tr>\n",
       "  </tbody>\n",
       "</table>\n",
       "</div>"
      ],
      "text/plain": [
       "unpaywall_oa_status                                 bronze  closed  gold  \\\n",
       "bso_classification                                                         \n",
       "Biologie (fond.)                                       858     771  3042   \n",
       "Chimie                                                  64      38   165   \n",
       "Informatique                                            28      17   112   \n",
       "Sciences de la Terre, Ecologie,\\n Energie et Bi...      29      10   134   \n",
       "Sciences de l'Ingénieur                                 57      28   164   \n",
       "Humanités                                               57      43   157   \n",
       "Mathématiques                                           16      22    60   \n",
       "Sciences médicales                                    1359    1731  3129   \n",
       "Sciences physiques, astronomie                          33      21    96   \n",
       "Sciences sociales                                       17      20    40   \n",
       "\n",
       "unpaywall_oa_status                                 green  hybrid  Total  \n",
       "bso_classification                                                        \n",
       "Biologie (fond.)                                      698    1169   6680  \n",
       "Chimie                                                110     112    504  \n",
       "Informatique                                           76      46    315  \n",
       "Sciences de la Terre, Ecologie,\\n Energie et Bi...     23      51    255  \n",
       "Sciences de l'Ingénieur                                98      65    447  \n",
       "Humanités                                              50      57    377  \n",
       "Mathématiques                                          31      22    173  \n",
       "Sciences médicales                                    578    1426   8293  \n",
       "Sciences physiques, astronomie                         65      47    270  \n",
       "Sciences sociales                                      12      29    121  "
      ]
     },
     "execution_count": 13,
     "metadata": {},
     "output_type": "execute_result"
    }
   ],
   "source": [
    "df_oa_discipline_global_type.rename(\n",
    "    index = {\n",
    "        \"Biology (fond.)\": \"Biologie (fond.)\",\n",
    "        \"Chemistry\": \"Chimie\",\n",
    "        \"Computer and  information sciences\": \"Informatique\",\n",
    "        \"Earth, Ecology, Energy and applied biology\": \"Sciences de la Terre, Ecologie,\\n Energie et Biologie appliquée\",\n",
    "        \"Engineering\": \"Sciences de l'Ingénieur\",\n",
    "        \"Humanities\": \"Humanités\",\n",
    "        \"Mathematics\": \"Mathématiques\",\n",
    "        \"Medical research\": \"Sciences médicales\",\n",
    "        \"Physical sciences, Astronomy\": \"Sciences physiques, astronomie\",\n",
    "        \"Social sciences\": \"Sciences sociales\",\n",
    "    },\n",
    "    inplace = True,\n",
    ")\n",
    "df_oa_discipline_global_type"
   ]
  },
  {
   "cell_type": "markdown",
   "metadata": {},
   "source": [
    "***Nombre de publications par discipline et type d'accès en pourcentage:***"
   ]
  },
  {
   "cell_type": "code",
   "execution_count": 14,
   "metadata": {},
   "outputs": [
    {
     "data": {
      "text/html": [
       "<div>\n",
       "<style scoped>\n",
       "    .dataframe tbody tr th:only-of-type {\n",
       "        vertical-align: middle;\n",
       "    }\n",
       "\n",
       "    .dataframe tbody tr th {\n",
       "        vertical-align: top;\n",
       "    }\n",
       "\n",
       "    .dataframe thead th {\n",
       "        text-align: right;\n",
       "    }\n",
       "</style>\n",
       "<table border=\"1\" class=\"dataframe\">\n",
       "  <thead>\n",
       "    <tr style=\"text-align: right;\">\n",
       "      <th>unpaywall_oa_status</th>\n",
       "      <th>bronze</th>\n",
       "      <th>closed</th>\n",
       "      <th>gold</th>\n",
       "      <th>green</th>\n",
       "      <th>hybrid</th>\n",
       "    </tr>\n",
       "    <tr>\n",
       "      <th>bso_classification</th>\n",
       "      <th></th>\n",
       "      <th></th>\n",
       "      <th></th>\n",
       "      <th></th>\n",
       "      <th></th>\n",
       "    </tr>\n",
       "  </thead>\n",
       "  <tbody>\n",
       "    <tr>\n",
       "      <th>Biology (fond.)</th>\n",
       "      <td>0.131233</td>\n",
       "      <td>0.117926</td>\n",
       "      <td>0.465280</td>\n",
       "      <td>0.106760</td>\n",
       "      <td>0.178801</td>\n",
       "    </tr>\n",
       "    <tr>\n",
       "      <th>Chemistry</th>\n",
       "      <td>0.130879</td>\n",
       "      <td>0.077710</td>\n",
       "      <td>0.337423</td>\n",
       "      <td>0.224949</td>\n",
       "      <td>0.229039</td>\n",
       "    </tr>\n",
       "    <tr>\n",
       "      <th>Computer and  information sciences</th>\n",
       "      <td>0.100358</td>\n",
       "      <td>0.060932</td>\n",
       "      <td>0.401434</td>\n",
       "      <td>0.272401</td>\n",
       "      <td>0.164875</td>\n",
       "    </tr>\n",
       "    <tr>\n",
       "      <th>Earth, Ecology, Energy and applied biology</th>\n",
       "      <td>0.117409</td>\n",
       "      <td>0.040486</td>\n",
       "      <td>0.542510</td>\n",
       "      <td>0.093117</td>\n",
       "      <td>0.206478</td>\n",
       "    </tr>\n",
       "    <tr>\n",
       "      <th>Engineering</th>\n",
       "      <td>0.138350</td>\n",
       "      <td>0.067961</td>\n",
       "      <td>0.398058</td>\n",
       "      <td>0.237864</td>\n",
       "      <td>0.157767</td>\n",
       "    </tr>\n",
       "    <tr>\n",
       "      <th>Humanities</th>\n",
       "      <td>0.156593</td>\n",
       "      <td>0.118132</td>\n",
       "      <td>0.431319</td>\n",
       "      <td>0.137363</td>\n",
       "      <td>0.156593</td>\n",
       "    </tr>\n",
       "    <tr>\n",
       "      <th>Mathematics</th>\n",
       "      <td>0.105960</td>\n",
       "      <td>0.145695</td>\n",
       "      <td>0.397351</td>\n",
       "      <td>0.205298</td>\n",
       "      <td>0.145695</td>\n",
       "    </tr>\n",
       "    <tr>\n",
       "      <th>Medical research</th>\n",
       "      <td>0.165268</td>\n",
       "      <td>0.210507</td>\n",
       "      <td>0.380518</td>\n",
       "      <td>0.070291</td>\n",
       "      <td>0.173416</td>\n",
       "    </tr>\n",
       "    <tr>\n",
       "      <th>Physical sciences, Astronomy</th>\n",
       "      <td>0.125954</td>\n",
       "      <td>0.080153</td>\n",
       "      <td>0.366412</td>\n",
       "      <td>0.248092</td>\n",
       "      <td>0.179389</td>\n",
       "    </tr>\n",
       "    <tr>\n",
       "      <th>Social sciences</th>\n",
       "      <td>0.144068</td>\n",
       "      <td>0.169492</td>\n",
       "      <td>0.338983</td>\n",
       "      <td>0.101695</td>\n",
       "      <td>0.245763</td>\n",
       "    </tr>\n",
       "  </tbody>\n",
       "</table>\n",
       "</div>"
      ],
      "text/plain": [
       "unpaywall_oa_status                           bronze    closed      gold  \\\n",
       "bso_classification                                                         \n",
       "Biology (fond.)                             0.131233  0.117926  0.465280   \n",
       "Chemistry                                   0.130879  0.077710  0.337423   \n",
       "Computer and  information sciences          0.100358  0.060932  0.401434   \n",
       "Earth, Ecology, Energy and applied biology  0.117409  0.040486  0.542510   \n",
       "Engineering                                 0.138350  0.067961  0.398058   \n",
       "Humanities                                  0.156593  0.118132  0.431319   \n",
       "Mathematics                                 0.105960  0.145695  0.397351   \n",
       "Medical research                            0.165268  0.210507  0.380518   \n",
       "Physical sciences, Astronomy                0.125954  0.080153  0.366412   \n",
       "Social sciences                             0.144068  0.169492  0.338983   \n",
       "\n",
       "unpaywall_oa_status                            green    hybrid  \n",
       "bso_classification                                              \n",
       "Biology (fond.)                             0.106760  0.178801  \n",
       "Chemistry                                   0.224949  0.229039  \n",
       "Computer and  information sciences          0.272401  0.164875  \n",
       "Earth, Ecology, Energy and applied biology  0.093117  0.206478  \n",
       "Engineering                                 0.237864  0.157767  \n",
       "Humanities                                  0.137363  0.156593  \n",
       "Mathematics                                 0.205298  0.145695  \n",
       "Medical research                            0.070291  0.173416  \n",
       "Physical sciences, Astronomy                0.248092  0.179389  \n",
       "Social sciences                             0.101695  0.245763  "
      ]
     },
     "execution_count": 14,
     "metadata": {},
     "output_type": "execute_result"
    }
   ],
   "source": [
    "df_oa_discipline_global_type_perc = pd.crosstab([df_year['bso_classification']], df_year['unpaywall_oa_status'], normalize = 'index')\n",
    "df_oa_discipline_global_type_perc"
   ]
  },
  {
   "cell_type": "markdown",
   "metadata": {},
   "source": [
    "Tri par pourcentage de publications en accès fermé croissant:"
   ]
  },
  {
   "cell_type": "code",
   "execution_count": 15,
   "metadata": {},
   "outputs": [
    {
     "data": {
      "text/html": [
       "<div>\n",
       "<style scoped>\n",
       "    .dataframe tbody tr th:only-of-type {\n",
       "        vertical-align: middle;\n",
       "    }\n",
       "\n",
       "    .dataframe tbody tr th {\n",
       "        vertical-align: top;\n",
       "    }\n",
       "\n",
       "    .dataframe thead th {\n",
       "        text-align: right;\n",
       "    }\n",
       "</style>\n",
       "<table border=\"1\" class=\"dataframe\">\n",
       "  <thead>\n",
       "    <tr style=\"text-align: right;\">\n",
       "      <th>unpaywall_oa_status</th>\n",
       "      <th>bronze</th>\n",
       "      <th>closed</th>\n",
       "      <th>gold</th>\n",
       "      <th>green</th>\n",
       "      <th>hybrid</th>\n",
       "    </tr>\n",
       "    <tr>\n",
       "      <th>bso_classification</th>\n",
       "      <th></th>\n",
       "      <th></th>\n",
       "      <th></th>\n",
       "      <th></th>\n",
       "      <th></th>\n",
       "    </tr>\n",
       "  </thead>\n",
       "  <tbody>\n",
       "    <tr>\n",
       "      <th>Earth, Ecology, Energy and applied biology</th>\n",
       "      <td>0.117409</td>\n",
       "      <td>0.040486</td>\n",
       "      <td>0.542510</td>\n",
       "      <td>0.093117</td>\n",
       "      <td>0.206478</td>\n",
       "    </tr>\n",
       "    <tr>\n",
       "      <th>Computer and  information sciences</th>\n",
       "      <td>0.100358</td>\n",
       "      <td>0.060932</td>\n",
       "      <td>0.401434</td>\n",
       "      <td>0.272401</td>\n",
       "      <td>0.164875</td>\n",
       "    </tr>\n",
       "    <tr>\n",
       "      <th>Engineering</th>\n",
       "      <td>0.138350</td>\n",
       "      <td>0.067961</td>\n",
       "      <td>0.398058</td>\n",
       "      <td>0.237864</td>\n",
       "      <td>0.157767</td>\n",
       "    </tr>\n",
       "    <tr>\n",
       "      <th>Chemistry</th>\n",
       "      <td>0.130879</td>\n",
       "      <td>0.077710</td>\n",
       "      <td>0.337423</td>\n",
       "      <td>0.224949</td>\n",
       "      <td>0.229039</td>\n",
       "    </tr>\n",
       "    <tr>\n",
       "      <th>Physical sciences, Astronomy</th>\n",
       "      <td>0.125954</td>\n",
       "      <td>0.080153</td>\n",
       "      <td>0.366412</td>\n",
       "      <td>0.248092</td>\n",
       "      <td>0.179389</td>\n",
       "    </tr>\n",
       "    <tr>\n",
       "      <th>Biology (fond.)</th>\n",
       "      <td>0.131233</td>\n",
       "      <td>0.117926</td>\n",
       "      <td>0.465280</td>\n",
       "      <td>0.106760</td>\n",
       "      <td>0.178801</td>\n",
       "    </tr>\n",
       "    <tr>\n",
       "      <th>Humanities</th>\n",
       "      <td>0.156593</td>\n",
       "      <td>0.118132</td>\n",
       "      <td>0.431319</td>\n",
       "      <td>0.137363</td>\n",
       "      <td>0.156593</td>\n",
       "    </tr>\n",
       "    <tr>\n",
       "      <th>Mathematics</th>\n",
       "      <td>0.105960</td>\n",
       "      <td>0.145695</td>\n",
       "      <td>0.397351</td>\n",
       "      <td>0.205298</td>\n",
       "      <td>0.145695</td>\n",
       "    </tr>\n",
       "    <tr>\n",
       "      <th>Social sciences</th>\n",
       "      <td>0.144068</td>\n",
       "      <td>0.169492</td>\n",
       "      <td>0.338983</td>\n",
       "      <td>0.101695</td>\n",
       "      <td>0.245763</td>\n",
       "    </tr>\n",
       "    <tr>\n",
       "      <th>Medical research</th>\n",
       "      <td>0.165268</td>\n",
       "      <td>0.210507</td>\n",
       "      <td>0.380518</td>\n",
       "      <td>0.070291</td>\n",
       "      <td>0.173416</td>\n",
       "    </tr>\n",
       "  </tbody>\n",
       "</table>\n",
       "</div>"
      ],
      "text/plain": [
       "unpaywall_oa_status                           bronze    closed      gold  \\\n",
       "bso_classification                                                         \n",
       "Earth, Ecology, Energy and applied biology  0.117409  0.040486  0.542510   \n",
       "Computer and  information sciences          0.100358  0.060932  0.401434   \n",
       "Engineering                                 0.138350  0.067961  0.398058   \n",
       "Chemistry                                   0.130879  0.077710  0.337423   \n",
       "Physical sciences, Astronomy                0.125954  0.080153  0.366412   \n",
       "Biology (fond.)                             0.131233  0.117926  0.465280   \n",
       "Humanities                                  0.156593  0.118132  0.431319   \n",
       "Mathematics                                 0.105960  0.145695  0.397351   \n",
       "Social sciences                             0.144068  0.169492  0.338983   \n",
       "Medical research                            0.165268  0.210507  0.380518   \n",
       "\n",
       "unpaywall_oa_status                            green    hybrid  \n",
       "bso_classification                                              \n",
       "Earth, Ecology, Energy and applied biology  0.093117  0.206478  \n",
       "Computer and  information sciences          0.272401  0.164875  \n",
       "Engineering                                 0.237864  0.157767  \n",
       "Chemistry                                   0.224949  0.229039  \n",
       "Physical sciences, Astronomy                0.248092  0.179389  \n",
       "Biology (fond.)                             0.106760  0.178801  \n",
       "Humanities                                  0.137363  0.156593  \n",
       "Mathematics                                 0.205298  0.145695  \n",
       "Social sciences                             0.101695  0.245763  \n",
       "Medical research                            0.070291  0.173416  "
      ]
     },
     "execution_count": 15,
     "metadata": {},
     "output_type": "execute_result"
    }
   ],
   "source": [
    "df_oa_discipline_global_type_perc = df_oa_discipline_global_type_perc.sort_values(by='closed', ascending=True)\n",
    "df_oa_discipline_global_type_perc"
   ]
  },
  {
   "cell_type": "markdown",
   "metadata": {},
   "source": [
    "Traduction des disciplines en français :"
   ]
  },
  {
   "cell_type": "code",
   "execution_count": 16,
   "metadata": {},
   "outputs": [
    {
     "data": {
      "text/html": [
       "<div>\n",
       "<style scoped>\n",
       "    .dataframe tbody tr th:only-of-type {\n",
       "        vertical-align: middle;\n",
       "    }\n",
       "\n",
       "    .dataframe tbody tr th {\n",
       "        vertical-align: top;\n",
       "    }\n",
       "\n",
       "    .dataframe thead th {\n",
       "        text-align: right;\n",
       "    }\n",
       "</style>\n",
       "<table border=\"1\" class=\"dataframe\">\n",
       "  <thead>\n",
       "    <tr style=\"text-align: right;\">\n",
       "      <th>unpaywall_oa_status</th>\n",
       "      <th>bronze</th>\n",
       "      <th>closed</th>\n",
       "      <th>gold</th>\n",
       "      <th>green</th>\n",
       "      <th>hybrid</th>\n",
       "    </tr>\n",
       "    <tr>\n",
       "      <th>bso_classification</th>\n",
       "      <th></th>\n",
       "      <th></th>\n",
       "      <th></th>\n",
       "      <th></th>\n",
       "      <th></th>\n",
       "    </tr>\n",
       "  </thead>\n",
       "  <tbody>\n",
       "    <tr>\n",
       "      <th>Sciences de la Terre, Ecologie,\\n Energie et Biologie appliquée</th>\n",
       "      <td>0.117409</td>\n",
       "      <td>0.040486</td>\n",
       "      <td>0.542510</td>\n",
       "      <td>0.093117</td>\n",
       "      <td>0.206478</td>\n",
       "    </tr>\n",
       "    <tr>\n",
       "      <th>Informatique</th>\n",
       "      <td>0.100358</td>\n",
       "      <td>0.060932</td>\n",
       "      <td>0.401434</td>\n",
       "      <td>0.272401</td>\n",
       "      <td>0.164875</td>\n",
       "    </tr>\n",
       "    <tr>\n",
       "      <th>Sciences de l'Ingénieur</th>\n",
       "      <td>0.138350</td>\n",
       "      <td>0.067961</td>\n",
       "      <td>0.398058</td>\n",
       "      <td>0.237864</td>\n",
       "      <td>0.157767</td>\n",
       "    </tr>\n",
       "    <tr>\n",
       "      <th>Chimie</th>\n",
       "      <td>0.130879</td>\n",
       "      <td>0.077710</td>\n",
       "      <td>0.337423</td>\n",
       "      <td>0.224949</td>\n",
       "      <td>0.229039</td>\n",
       "    </tr>\n",
       "    <tr>\n",
       "      <th>Sciences physiques, astronomie</th>\n",
       "      <td>0.125954</td>\n",
       "      <td>0.080153</td>\n",
       "      <td>0.366412</td>\n",
       "      <td>0.248092</td>\n",
       "      <td>0.179389</td>\n",
       "    </tr>\n",
       "    <tr>\n",
       "      <th>Biologie (fond.)</th>\n",
       "      <td>0.131233</td>\n",
       "      <td>0.117926</td>\n",
       "      <td>0.465280</td>\n",
       "      <td>0.106760</td>\n",
       "      <td>0.178801</td>\n",
       "    </tr>\n",
       "    <tr>\n",
       "      <th>Humanités</th>\n",
       "      <td>0.156593</td>\n",
       "      <td>0.118132</td>\n",
       "      <td>0.431319</td>\n",
       "      <td>0.137363</td>\n",
       "      <td>0.156593</td>\n",
       "    </tr>\n",
       "    <tr>\n",
       "      <th>Mathématiques</th>\n",
       "      <td>0.105960</td>\n",
       "      <td>0.145695</td>\n",
       "      <td>0.397351</td>\n",
       "      <td>0.205298</td>\n",
       "      <td>0.145695</td>\n",
       "    </tr>\n",
       "    <tr>\n",
       "      <th>Sciences sociales</th>\n",
       "      <td>0.144068</td>\n",
       "      <td>0.169492</td>\n",
       "      <td>0.338983</td>\n",
       "      <td>0.101695</td>\n",
       "      <td>0.245763</td>\n",
       "    </tr>\n",
       "    <tr>\n",
       "      <th>Sciences médicales</th>\n",
       "      <td>0.165268</td>\n",
       "      <td>0.210507</td>\n",
       "      <td>0.380518</td>\n",
       "      <td>0.070291</td>\n",
       "      <td>0.173416</td>\n",
       "    </tr>\n",
       "  </tbody>\n",
       "</table>\n",
       "</div>"
      ],
      "text/plain": [
       "unpaywall_oa_status                                   bronze    closed  \\\n",
       "bso_classification                                                       \n",
       "Sciences de la Terre, Ecologie,\\n Energie et Bi...  0.117409  0.040486   \n",
       "Informatique                                        0.100358  0.060932   \n",
       "Sciences de l'Ingénieur                             0.138350  0.067961   \n",
       "Chimie                                              0.130879  0.077710   \n",
       "Sciences physiques, astronomie                      0.125954  0.080153   \n",
       "Biologie (fond.)                                    0.131233  0.117926   \n",
       "Humanités                                           0.156593  0.118132   \n",
       "Mathématiques                                       0.105960  0.145695   \n",
       "Sciences sociales                                   0.144068  0.169492   \n",
       "Sciences médicales                                  0.165268  0.210507   \n",
       "\n",
       "unpaywall_oa_status                                     gold     green  \\\n",
       "bso_classification                                                       \n",
       "Sciences de la Terre, Ecologie,\\n Energie et Bi...  0.542510  0.093117   \n",
       "Informatique                                        0.401434  0.272401   \n",
       "Sciences de l'Ingénieur                             0.398058  0.237864   \n",
       "Chimie                                              0.337423  0.224949   \n",
       "Sciences physiques, astronomie                      0.366412  0.248092   \n",
       "Biologie (fond.)                                    0.465280  0.106760   \n",
       "Humanités                                           0.431319  0.137363   \n",
       "Mathématiques                                       0.397351  0.205298   \n",
       "Sciences sociales                                   0.338983  0.101695   \n",
       "Sciences médicales                                  0.380518  0.070291   \n",
       "\n",
       "unpaywall_oa_status                                   hybrid  \n",
       "bso_classification                                            \n",
       "Sciences de la Terre, Ecologie,\\n Energie et Bi...  0.206478  \n",
       "Informatique                                        0.164875  \n",
       "Sciences de l'Ingénieur                             0.157767  \n",
       "Chimie                                              0.229039  \n",
       "Sciences physiques, astronomie                      0.179389  \n",
       "Biologie (fond.)                                    0.178801  \n",
       "Humanités                                           0.156593  \n",
       "Mathématiques                                       0.145695  \n",
       "Sciences sociales                                   0.245763  \n",
       "Sciences médicales                                  0.173416  "
      ]
     },
     "execution_count": 16,
     "metadata": {},
     "output_type": "execute_result"
    }
   ],
   "source": [
    "df_oa_discipline_global_type_perc.rename(\n",
    "    index = {\n",
    "        \"Biology (fond.)\": \"Biologie (fond.)\",\n",
    "        \"Chemistry\": \"Chimie\",\n",
    "        \"Computer and  information sciences\": \"Informatique\",\n",
    "        \"Earth, Ecology, Energy and applied biology\": \"Sciences de la Terre, Ecologie,\\n Energie et Biologie appliquée\",\n",
    "        \"Engineering\": \"Sciences de l'Ingénieur\",\n",
    "        \"Humanities\": \"Humanités\",\n",
    "        \"Mathematics\": \"Mathématiques\",\n",
    "        \"Medical research\": \"Sciences médicales\",\n",
    "        \"Physical sciences, Astronomy\": \"Sciences physiques, astronomie\",\n",
    "        \"Social sciences\": \"Sciences sociales\",\n",
    "    },\n",
    "    inplace = True,\n",
    ")\n",
    "df_oa_discipline_global_type_perc"
   ]
  },
  {
   "cell_type": "markdown",
   "metadata": {},
   "source": [
    "### Générer le graphique"
   ]
  },
  {
   "cell_type": "markdown",
   "metadata": {},
   "source": [
    "#### En utilisant Matplotlib"
   ]
  },
  {
   "cell_type": "code",
   "execution_count": 17,
   "metadata": {},
   "outputs": [
    {
     "data": {
      "image/png": "[encoded data removed]",
      "text/plain": [
       "<Figure size 1500x1100 with 2 Axes>"
      ]
     },
     "metadata": {},
     "output_type": "display_data"
    }
   ],
   "source": [
    "import matplotlib.ticker as mtick\n",
    "\n",
    "ax = df_oa_discipline_global_type_perc.plot(\n",
    "    kind=\"barh\",\n",
    "    stacked=True,\n",
    "    figsize=(15, 11),\n",
    "    color=['brown', \"tomato\", \"gold\",\"greenyellow\",  \"seagreen\"],\n",
    ")\n",
    "\n",
    "ax.invert_yaxis()\n",
    "ax.set_xlim(xmax=1)\n",
    "\n",
    "# Affichage des pourcentages\n",
    "ax.xaxis.set_major_formatter(mtick.PercentFormatter(xmax=1))\n",
    "\n",
    "labels = []\n",
    "for j in df_oa_discipline_global_type_perc.columns:\n",
    "    for i in df_oa_discipline_global_type_perc.index:\n",
    "        label = f\"{df_oa_discipline_global_type_perc.loc[i][j] * 100:.1f}%\"\n",
    "        labels.append(label)\n",
    "\n",
    "patches = ax.patches\n",
    "\n",
    "for label, rect in zip(labels, patches):\n",
    "    width = rect.get_width()\n",
    "    if width > 0:\n",
    "        x = rect.get_x()\n",
    "        y = rect.get_y()\n",
    "        height = rect.get_height()\n",
    "        ax.text(x + width/2., y + height/2., label, ha='center', va='center', fontsize=15)\n",
    "\n",
    "# plt.tick_params(axis = 'both', labelsize = 16)\n",
    "plt.xticks(fontsize = 16)\n",
    "plt.yticks(fontsize = 16, fontweight = \"semibold\")\n",
    "\n",
    "# Legendes axe X\n",
    "# plt.xlabel(\"Nombre total de publications recensées et proportions par type d'accès ouvert\", fontsize=15)\n",
    "\n",
    "# Legendes axe Y\n",
    "plt.ylabel(None, fontsize = 13)\n",
    "\n",
    "# Enlève le cadre\n",
    "ax.set_frame_on(False)\n",
    "\n",
    "# Les légendes sont nativement en anglais. Elles ont été renommées ici, mais attention, pour une réutilisation avec d'autres\n",
    "# données, il est conseillé d'enlever cette liste [\"Accès fermé\", \"Editeur\"...] et de générer le graphique une 1ère\n",
    "# fois pour voir quels types de documents ressortent et dans quel ordre. On peut toujours renommer la légende dans un 2ème\n",
    "# temps.\n",
    "plt.legend(#['Accès fermé', 'Libre éditeur', 'Gold', 'Archives ouvertes'],\n",
    "            loc='lower left',\n",
    "            fontsize = 16,\n",
    "            ncols=len(df_oa_discipline_global_type_perc.index),\n",
    "            bbox_to_anchor=(0.1, -0.12),\n",
    "),\n",
    "\n",
    "# Nombres de parutions\n",
    "labels = [item.get_text() for item in ax.get_yticklabels()]\n",
    "parutions_labels = [f\"\\n {df_oa_discipline_global_type.loc[label ,'Total']} parutions\" for label in labels]\n",
    "\n",
    "ax2 = ax.twinx()\n",
    "ax2.set_ylim(ax.get_ylim())\n",
    "ax2.set_yticks(\n",
    "    np.arange(len(parutions_labels)),\n",
    "    labels = parutions_labels,\n",
    "    fontsize = 14,\n",
    "    verticalalignment = 'baseline',\n",
    "    fontstyle = \"oblique\"\n",
    ")\n",
    "\n",
    "plt.title(f\"Taux d'accès ouvert aux publications {annee} par discipline\", fontsize = 25, x = 0.49, y = 1.025,\n",
    "          fontweight = 'bold', alpha = 0.6)\n",
    "\n",
    "plt.show()\n",
    "# #plt.savefig('Data/outputs/2020_taux_type_oa_discipline_type_20220217.png', dpi=100, bbox_inches='tight', pad_inches=0.9)"
   ]
  },
  {
   "cell_type": "markdown",
   "metadata": {},
   "source": [
    "#### En utilisant Plotly :"
   ]
  },
  {
   "cell_type": "code",
   "execution_count": 18,
   "metadata": {},
   "outputs": [],
   "source": [
    "# import plotly.express as px\n",
    "import plotly.graph_objects as go\n",
    "import plotly.express as px"
   ]
  },
  {
   "cell_type": "code",
   "execution_count": 19,
   "metadata": {},
   "outputs": [
    {
     "data": {
      "application/vnd.plotly.v1+json": {
       "config": {
        "plotlyServerURL": "https://plot.ly"
       },
       "data": [
        {
         "customdata": [
          [
           29,
           255
          ],
          [
           28,
           315
          ],
          [
           57,
           447
          ],
          [
           64,
           504
          ],
          [
           33,
           270
          ],
          [
           858,
           6680
          ],
          [
           57,
           377
          ],
          [
           16,
           173
          ],
          [
           17,
           121
          ],
          [
           1359,
           8293
          ]
         ],
         "hoverlabel": {
          "bgcolor": "#FFF"
         },
         "hovertemplate": "<b>%{y}</b>: %{customdata[1]} publications<br><b>Bronze</b>: %{customdata[0]} publications (%{x})<extra></extra>",
         "marker": {
          "color": "darkorange"
         },
         "name": "Bronze",
         "orientation": "h",
         "text": [
          0.11740890688259109,
          0.1003584229390681,
          0.1383495145631068,
          0.130879345603272,
          0.12595419847328243,
          0.13123279290302844,
          0.1565934065934066,
          0.10596026490066225,
          0.1440677966101695,
          0.1652681503101058
         ],
         "textposition": "inside",
         "texttemplate": "%{text:.1%}",
         "type": "bar",
         "x": [
          0.11740890688259109,
          0.1003584229390681,
          0.1383495145631068,
          0.130879345603272,
          0.12595419847328243,
          0.13123279290302844,
          0.1565934065934066,
          0.10596026490066225,
          0.1440677966101695,
          0.1652681503101058
         ],
         "y": [
          "<b>Sciences de la Terre, Ecologie,<br> Energie et Biologie appliquée</b>",
          "<b>Informatique</b>",
          "<b>Sciences de l'Ingénieur</b>",
          "<b>Chimie</b>",
          "<b>Sciences physiques, astronomie</b>",
          "<b>Biologie (fond.)</b>",
          "<b>Humanités</b>",
          "<b>Mathématiques</b>",
          "<b>Sciences sociales</b>",
          "<b>Sciences médicales</b>"
         ]
        },
        {
         "customdata": [
          [
           10,
           255
          ],
          [
           17,
           315
          ],
          [
           28,
           447
          ],
          [
           38,
           504
          ],
          [
           21,
           270
          ],
          [
           771,
           6680
          ],
          [
           43,
           377
          ],
          [
           22,
           173
          ],
          [
           20,
           121
          ],
          [
           1731,
           8293
          ]
         ],
         "hoverlabel": {
          "bgcolor": "#FFF"
         },
         "hovertemplate": "<b>%{y}</b>: %{customdata[1]} publications<br><b>Accès fermé</b>: %{customdata[0]} publications (%{x})<extra></extra>",
         "marker": {
          "color": "tomato"
         },
         "name": "Accès fermé",
         "orientation": "h",
         "text": [
          0.04048582995951417,
          0.06093189964157706,
          0.06796116504854369,
          0.07770961145194274,
          0.08015267175572519,
          0.11792597124502906,
          0.11813186813186813,
          0.1456953642384106,
          0.1694915254237288,
          0.21050711419190077
         ],
         "textposition": "inside",
         "texttemplate": "%{text:.1%}",
         "type": "bar",
         "x": [
          0.04048582995951417,
          0.06093189964157706,
          0.06796116504854369,
          0.07770961145194274,
          0.08015267175572519,
          0.11792597124502906,
          0.11813186813186813,
          0.1456953642384106,
          0.1694915254237288,
          0.21050711419190077
         ],
         "y": [
          "<b>Sciences de la Terre, Ecologie,<br> Energie et Biologie appliquée</b>",
          "<b>Informatique</b>",
          "<b>Sciences de l'Ingénieur</b>",
          "<b>Chimie</b>",
          "<b>Sciences physiques, astronomie</b>",
          "<b>Biologie (fond.)</b>",
          "<b>Humanités</b>",
          "<b>Mathématiques</b>",
          "<b>Sciences sociales</b>",
          "<b>Sciences médicales</b>"
         ]
        },
        {
         "customdata": [
          [
           134,
           255
          ],
          [
           112,
           315
          ],
          [
           164,
           447
          ],
          [
           165,
           504
          ],
          [
           96,
           270
          ],
          [
           3042,
           6680
          ],
          [
           157,
           377
          ],
          [
           60,
           173
          ],
          [
           40,
           121
          ],
          [
           3129,
           8293
          ]
         ],
         "hoverlabel": {
          "bgcolor": "#FFF"
         },
         "hovertemplate": "<b>%{y}</b>: %{customdata[1]} publications<br><b>Gold</b>: %{customdata[0]} publications (%{x})<extra></extra>",
         "marker": {
          "color": "gold"
         },
         "name": "Gold",
         "orientation": "h",
         "text": [
          0.5425101214574899,
          0.4014336917562724,
          0.39805825242718446,
          0.3374233128834356,
          0.366412213740458,
          0.4652799021107372,
          0.43131868131868134,
          0.3973509933774834,
          0.3389830508474576,
          0.38051805910251735
         ],
         "textposition": "inside",
         "texttemplate": "%{text:.1%}",
         "type": "bar",
         "x": [
          0.5425101214574899,
          0.4014336917562724,
          0.39805825242718446,
          0.3374233128834356,
          0.366412213740458,
          0.4652799021107372,
          0.43131868131868134,
          0.3973509933774834,
          0.3389830508474576,
          0.38051805910251735
         ],
         "y": [
          "<b>Sciences de la Terre, Ecologie,<br> Energie et Biologie appliquée</b>",
          "<b>Informatique</b>",
          "<b>Sciences de l'Ingénieur</b>",
          "<b>Chimie</b>",
          "<b>Sciences physiques, astronomie</b>",
          "<b>Biologie (fond.)</b>",
          "<b>Humanités</b>",
          "<b>Mathématiques</b>",
          "<b>Sciences sociales</b>",
          "<b>Sciences médicales</b>"
         ]
        },
        {
         "customdata": [
          [
           23,
           255
          ],
          [
           76,
           315
          ],
          [
           98,
           447
          ],
          [
           110,
           504
          ],
          [
           65,
           270
          ],
          [
           698,
           6680
          ],
          [
           50,
           377
          ],
          [
           31,
           173
          ],
          [
           12,
           121
          ],
          [
           578,
           8293
          ]
         ],
         "hoverlabel": {
          "bgcolor": "#FFF"
         },
         "hovertemplate": "<b>%{y}</b>: %{customdata[1]} publications<br><b>Archives ouvertes</b>: %{customdata[0]} publications (%{x})<extra></extra>",
         "marker": {
          "color": "mediumseagreen"
         },
         "name": "Archives ouvertes",
         "orientation": "h",
         "text": [
          0.0931174089068826,
          0.2724014336917563,
          0.23786407766990292,
          0.2249488752556237,
          0.2480916030534351,
          0.10676047721015601,
          0.13736263736263737,
          0.2052980132450331,
          0.1016949152542373,
          0.07029064818192873
         ],
         "textposition": "inside",
         "texttemplate": "%{text:.1%}",
         "type": "bar",
         "x": [
          0.0931174089068826,
          0.2724014336917563,
          0.23786407766990292,
          0.2249488752556237,
          0.2480916030534351,
          0.10676047721015601,
          0.13736263736263737,
          0.2052980132450331,
          0.1016949152542373,
          0.07029064818192873
         ],
         "y": [
          "<b>Sciences de la Terre, Ecologie,<br> Energie et Biologie appliquée</b>",
          "<b>Informatique</b>",
          "<b>Sciences de l'Ingénieur</b>",
          "<b>Chimie</b>",
          "<b>Sciences physiques, astronomie</b>",
          "<b>Biologie (fond.)</b>",
          "<b>Humanités</b>",
          "<b>Mathématiques</b>",
          "<b>Sciences sociales</b>",
          "<b>Sciences médicales</b>"
         ]
        },
        {
         "customdata": [
          [
           51,
           255
          ],
          [
           46,
           315
          ],
          [
           65,
           447
          ],
          [
           112,
           504
          ],
          [
           47,
           270
          ],
          [
           1169,
           6680
          ],
          [
           57,
           377
          ],
          [
           22,
           173
          ],
          [
           29,
           121
          ],
          [
           1426,
           8293
          ]
         ],
         "hoverlabel": {
          "bgcolor": "#FFF"
         },
         "hovertemplate": "<b>%{y}</b>: %{customdata[1]} publications<br><b>Hybride</b>: %{customdata[0]} publications (%{x})<extra></extra>",
         "marker": {
          "color": "green"
         },
         "name": "Hybride",
         "orientation": "h",
         "text": [
          0.20647773279352227,
          0.16487455197132617,
          0.15776699029126215,
          0.22903885480572597,
          0.17938931297709923,
          0.17880085653104924,
          0.1565934065934066,
          0.1456953642384106,
          0.2457627118644068,
          0.17341602821354737
         ],
         "textposition": "inside",
         "texttemplate": "%{text:.1%}",
         "type": "bar",
         "x": [
          0.20647773279352227,
          0.16487455197132617,
          0.15776699029126215,
          0.22903885480572597,
          0.17938931297709923,
          0.17880085653104924,
          0.1565934065934066,
          0.1456953642384106,
          0.2457627118644068,
          0.17341602821354737
         ],
         "y": [
          "<b>Sciences de la Terre, Ecologie,<br> Energie et Biologie appliquée</b>",
          "<b>Informatique</b>",
          "<b>Sciences de l'Ingénieur</b>",
          "<b>Chimie</b>",
          "<b>Sciences physiques, astronomie</b>",
          "<b>Biologie (fond.)</b>",
          "<b>Humanités</b>",
          "<b>Mathématiques</b>",
          "<b>Sciences sociales</b>",
          "<b>Sciences médicales</b>"
         ]
        }
       ],
       "layout": {
        "barmode": "stack",
        "height": 450,
        "legend": {
         "borderwidth": 1,
         "orientation": "h",
         "title": {},
         "traceorder": "normal",
         "x": 0.375,
         "xanchor": "center",
         "y": 1.1,
         "yanchor": "middle"
        },
        "margin": {
         "b": 0,
         "t": 0
        },
        "showlegend": true,
        "template": {
         "data": {
          "bar": [
           {
            "error_x": {
             "color": "#2a3f5f"
            },
            "error_y": {
             "color": "#2a3f5f"
            },
            "marker": {
             "line": {
              "color": "white",
              "width": 0.5
             },
             "pattern": {
              "fillmode": "overlay",
              "size": 10,
              "solidity": 0.2
             }
            },
            "type": "bar"
           }
          ],
          "barpolar": [
           {
            "marker": {
             "line": {
              "color": "white",
              "width": 0.5
             },
             "pattern": {
              "fillmode": "overlay",
              "size": 10,
              "solidity": 0.2
             }
            },
            "type": "barpolar"
           }
          ],
          "carpet": [
           {
            "aaxis": {
             "endlinecolor": "#2a3f5f",
             "gridcolor": "#C8D4E3",
             "linecolor": "#C8D4E3",
             "minorgridcolor": "#C8D4E3",
             "startlinecolor": "#2a3f5f"
            },
            "baxis": {
             "endlinecolor": "#2a3f5f",
             "gridcolor": "#C8D4E3",
             "linecolor": "#C8D4E3",
             "minorgridcolor": "#C8D4E3",
             "startlinecolor": "#2a3f5f"
            },
            "type": "carpet"
           }
          ],
          "choropleth": [
           {
            "colorbar": {
             "outlinewidth": 0,
             "ticks": ""
            },
            "type": "choropleth"
           }
          ],
          "contour": [
           {
            "colorbar": {
             "outlinewidth": 0,
             "ticks": ""
            },
            "colorscale": [
             [
              0,
              "#0d0887"
             ],
             [
              0.1111111111111111,
              "#46039f"
             ],
             [
              0.2222222222222222,
              "#7201a8"
             ],
             [
              0.3333333333333333,
              "#9c179e"
             ],
             [
              0.4444444444444444,
              "#bd3786"
             ],
             [
              0.5555555555555556,
              "#d8576b"
             ],
             [
              0.6666666666666666,
              "#ed7953"
             ],
             [
              0.7777777777777778,
              "#fb9f3a"
             ],
             [
              0.8888888888888888,
              "#fdca26"
             ],
             [
              1,
              "#f0f921"
             ]
            ],
            "type": "contour"
           }
          ],
          "contourcarpet": [
           {
            "colorbar": {
             "outlinewidth": 0,
             "ticks": ""
            },
            "type": "contourcarpet"
           }
          ],
          "heatmap": [
           {
            "colorbar": {
             "outlinewidth": 0,
             "ticks": ""
            },
            "colorscale": [
             [
              0,
              "#0d0887"
             ],
             [
              0.1111111111111111,
              "#46039f"
             ],
             [
              0.2222222222222222,
              "#7201a8"
             ],
             [
              0.3333333333333333,
              "#9c179e"
             ],
             [
              0.4444444444444444,
              "#bd3786"
             ],
             [
              0.5555555555555556,
              "#d8576b"
             ],
             [
              0.6666666666666666,
              "#ed7953"
             ],
             [
              0.7777777777777778,
              "#fb9f3a"
             ],
             [
              0.8888888888888888,
              "#fdca26"
             ],
             [
              1,
              "#f0f921"
             ]
            ],
            "type": "heatmap"
           }
          ],
          "heatmapgl": [
           {
            "colorbar": {
             "outlinewidth": 0,
             "ticks": ""
            },
            "colorscale": [
             [
              0,
              "#0d0887"
             ],
             [
              0.1111111111111111,
              "#46039f"
             ],
             [
              0.2222222222222222,
              "#7201a8"
             ],
             [
              0.3333333333333333,
              "#9c179e"
             ],
             [
              0.4444444444444444,
              "#bd3786"
             ],
             [
              0.5555555555555556,
              "#d8576b"
             ],
             [
              0.6666666666666666,
              "#ed7953"
             ],
             [
              0.7777777777777778,
              "#fb9f3a"
             ],
             [
              0.8888888888888888,
              "#fdca26"
             ],
             [
              1,
              "#f0f921"
             ]
            ],
            "type": "heatmapgl"
           }
          ],
          "histogram": [
           {
            "marker": {
             "pattern": {
              "fillmode": "overlay",
              "size": 10,
              "solidity": 0.2
             }
            },
            "type": "histogram"
           }
          ],
          "histogram2d": [
           {
            "colorbar": {
             "outlinewidth": 0,
             "ticks": ""
            },
            "colorscale": [
             [
              0,
              "#0d0887"
             ],
             [
              0.1111111111111111,
              "#46039f"
             ],
             [
              0.2222222222222222,
              "#7201a8"
             ],
             [
              0.3333333333333333,
              "#9c179e"
             ],
             [
              0.4444444444444444,
              "#bd3786"
             ],
             [
              0.5555555555555556,
              "#d8576b"
             ],
             [
              0.6666666666666666,
              "#ed7953"
             ],
             [
              0.7777777777777778,
              "#fb9f3a"
             ],
             [
              0.8888888888888888,
              "#fdca26"
             ],
             [
              1,
              "#f0f921"
             ]
            ],
            "type": "histogram2d"
           }
          ],
          "histogram2dcontour": [
           {
            "colorbar": {
             "outlinewidth": 0,
             "ticks": ""
            },
            "colorscale": [
             [
              0,
              "#0d0887"
             ],
             [
              0.1111111111111111,
              "#46039f"
             ],
             [
              0.2222222222222222,
              "#7201a8"
             ],
             [
              0.3333333333333333,
              "#9c179e"
             ],
             [
              0.4444444444444444,
              "#bd3786"
             ],
             [
              0.5555555555555556,
              "#d8576b"
             ],
             [
              0.6666666666666666,
              "#ed7953"
             ],
             [
              0.7777777777777778,
              "#fb9f3a"
             ],
             [
              0.8888888888888888,
              "#fdca26"
             ],
             [
              1,
              "#f0f921"
             ]
            ],
            "type": "histogram2dcontour"
           }
          ],
          "mesh3d": [
           {
            "colorbar": {
             "outlinewidth": 0,
             "ticks": ""
            },
            "type": "mesh3d"
           }
          ],
          "parcoords": [
           {
            "line": {
             "colorbar": {
              "outlinewidth": 0,
              "ticks": ""
             }
            },
            "type": "parcoords"
           }
          ],
          "pie": [
           {
            "automargin": true,
            "type": "pie"
           }
          ],
          "scatter": [
           {
            "fillpattern": {
             "fillmode": "overlay",
             "size": 10,
             "solidity": 0.2
            },
            "type": "scatter"
           }
          ],
          "scatter3d": [
           {
            "line": {
             "colorbar": {
              "outlinewidth": 0,
              "ticks": ""
             }
            },
            "marker": {
             "colorbar": {
              "outlinewidth": 0,
              "ticks": ""
             }
            },
            "type": "scatter3d"
           }
          ],
          "scattercarpet": [
           {
            "marker": {
             "colorbar": {
              "outlinewidth": 0,
              "ticks": ""
             }
            },
            "type": "scattercarpet"
           }
          ],
          "scattergeo": [
           {
            "marker": {
             "colorbar": {
              "outlinewidth": 0,
              "ticks": ""
             }
            },
            "type": "scattergeo"
           }
          ],
          "scattergl": [
           {
            "marker": {
             "colorbar": {
              "outlinewidth": 0,
              "ticks": ""
             }
            },
            "type": "scattergl"
           }
          ],
          "scattermapbox": [
           {
            "marker": {
             "colorbar": {
              "outlinewidth": 0,
              "ticks": ""
             }
            },
            "type": "scattermapbox"
           }
          ],
          "scatterpolar": [
           {
            "marker": {
             "colorbar": {
              "outlinewidth": 0,
              "ticks": ""
             }
            },
            "type": "scatterpolar"
           }
          ],
          "scatterpolargl": [
           {
            "marker": {
             "colorbar": {
              "outlinewidth": 0,
              "ticks": ""
             }
            },
            "type": "scatterpolargl"
           }
          ],
          "scatterternary": [
           {
            "marker": {
             "colorbar": {
              "outlinewidth": 0,
              "ticks": ""
             }
            },
            "type": "scatterternary"
           }
          ],
          "surface": [
           {
            "colorbar": {
             "outlinewidth": 0,
             "ticks": ""
            },
            "colorscale": [
             [
              0,
              "#0d0887"
             ],
             [
              0.1111111111111111,
              "#46039f"
             ],
             [
              0.2222222222222222,
              "#7201a8"
             ],
             [
              0.3333333333333333,
              "#9c179e"
             ],
             [
              0.4444444444444444,
              "#bd3786"
             ],
             [
              0.5555555555555556,
              "#d8576b"
             ],
             [
              0.6666666666666666,
              "#ed7953"
             ],
             [
              0.7777777777777778,
              "#fb9f3a"
             ],
             [
              0.8888888888888888,
              "#fdca26"
             ],
             [
              1,
              "#f0f921"
             ]
            ],
            "type": "surface"
           }
          ],
          "table": [
           {
            "cells": {
             "fill": {
              "color": "#EBF0F8"
             },
             "line": {
              "color": "white"
             }
            },
            "header": {
             "fill": {
              "color": "#C8D4E3"
             },
             "line": {
              "color": "white"
             }
            },
            "type": "table"
           }
          ]
         },
         "layout": {
          "annotationdefaults": {
           "arrowcolor": "#2a3f5f",
           "arrowhead": 0,
           "arrowwidth": 1
          },
          "autotypenumbers": "strict",
          "coloraxis": {
           "colorbar": {
            "outlinewidth": 0,
            "ticks": ""
           }
          },
          "colorscale": {
           "diverging": [
            [
             0,
             "#8e0152"
            ],
            [
             0.1,
             "#c51b7d"
            ],
            [
             0.2,
             "#de77ae"
            ],
            [
             0.3,
             "#f1b6da"
            ],
            [
             0.4,
             "#fde0ef"
            ],
            [
             0.5,
             "#f7f7f7"
            ],
            [
             0.6,
             "#e6f5d0"
            ],
            [
             0.7,
             "#b8e186"
            ],
            [
             0.8,
             "#7fbc41"
            ],
            [
             0.9,
             "#4d9221"
            ],
            [
             1,
             "#276419"
            ]
           ],
           "sequential": [
            [
             0,
             "#0d0887"
            ],
            [
             0.1111111111111111,
             "#46039f"
            ],
            [
             0.2222222222222222,
             "#7201a8"
            ],
            [
             0.3333333333333333,
             "#9c179e"
            ],
            [
             0.4444444444444444,
             "#bd3786"
            ],
            [
             0.5555555555555556,
             "#d8576b"
            ],
            [
             0.6666666666666666,
             "#ed7953"
            ],
            [
             0.7777777777777778,
             "#fb9f3a"
            ],
            [
             0.8888888888888888,
             "#fdca26"
            ],
            [
             1,
             "#f0f921"
            ]
           ],
           "sequentialminus": [
            [
             0,
             "#0d0887"
            ],
            [
             0.1111111111111111,
             "#46039f"
            ],
            [
             0.2222222222222222,
             "#7201a8"
            ],
            [
             0.3333333333333333,
             "#9c179e"
            ],
            [
             0.4444444444444444,
             "#bd3786"
            ],
            [
             0.5555555555555556,
             "#d8576b"
            ],
            [
             0.6666666666666666,
             "#ed7953"
            ],
            [
             0.7777777777777778,
             "#fb9f3a"
            ],
            [
             0.8888888888888888,
             "#fdca26"
            ],
            [
             1,
             "#f0f921"
            ]
           ]
          },
          "colorway": [
           "#636efa",
           "#EF553B",
           "#00cc96",
           "#ab63fa",
           "#FFA15A",
           "#19d3f3",
           "#FF6692",
           "#B6E880",
           "#FF97FF",
           "#FECB52"
          ],
          "font": {
           "color": "#2a3f5f"
          },
          "geo": {
           "bgcolor": "white",
           "lakecolor": "white",
           "landcolor": "white",
           "showlakes": true,
           "showland": true,
           "subunitcolor": "#C8D4E3"
          },
          "hoverlabel": {
           "align": "left"
          },
          "hovermode": "closest",
          "mapbox": {
           "style": "light"
          },
          "paper_bgcolor": "white",
          "plot_bgcolor": "white",
          "polar": {
           "angularaxis": {
            "gridcolor": "#EBF0F8",
            "linecolor": "#EBF0F8",
            "ticks": ""
           },
           "bgcolor": "white",
           "radialaxis": {
            "gridcolor": "#EBF0F8",
            "linecolor": "#EBF0F8",
            "ticks": ""
           }
          },
          "scene": {
           "xaxis": {
            "backgroundcolor": "white",
            "gridcolor": "#DFE8F3",
            "gridwidth": 2,
            "linecolor": "#EBF0F8",
            "showbackground": true,
            "ticks": "",
            "zerolinecolor": "#EBF0F8"
           },
           "yaxis": {
            "backgroundcolor": "white",
            "gridcolor": "#DFE8F3",
            "gridwidth": 2,
            "linecolor": "#EBF0F8",
            "showbackground": true,
            "ticks": "",
            "zerolinecolor": "#EBF0F8"
           },
           "zaxis": {
            "backgroundcolor": "white",
            "gridcolor": "#DFE8F3",
            "gridwidth": 2,
            "linecolor": "#EBF0F8",
            "showbackground": true,
            "ticks": "",
            "zerolinecolor": "#EBF0F8"
           }
          },
          "shapedefaults": {
           "line": {
            "color": "#2a3f5f"
           }
          },
          "ternary": {
           "aaxis": {
            "gridcolor": "#DFE8F3",
            "linecolor": "#A2B1C6",
            "ticks": ""
           },
           "baxis": {
            "gridcolor": "#DFE8F3",
            "linecolor": "#A2B1C6",
            "ticks": ""
           },
           "bgcolor": "white",
           "caxis": {
            "gridcolor": "#DFE8F3",
            "linecolor": "#A2B1C6",
            "ticks": ""
           }
          },
          "title": {
           "x": 0.05
          },
          "xaxis": {
           "automargin": true,
           "gridcolor": "#EBF0F8",
           "linecolor": "#EBF0F8",
           "ticks": "",
           "title": {
            "standoff": 15
           },
           "zerolinecolor": "#EBF0F8",
           "zerolinewidth": 2
          },
          "yaxis": {
           "automargin": true,
           "gridcolor": "#EBF0F8",
           "linecolor": "#EBF0F8",
           "ticks": "",
           "title": {
            "standoff": 15
           },
           "zerolinecolor": "#EBF0F8",
           "zerolinewidth": 2
          }
         }
        },
        "xaxis": {
         "fixedrange": true,
         "minor": {
          "nticks": 2,
          "ticks": "outside"
         },
         "showgrid": false,
         "showline": false,
         "tickformat": ".0%",
         "ticks": "outside",
         "zeroline": false
        },
        "yaxis": {
         "fixedrange": true,
         "showgrid": false,
         "showline": false,
         "ticks": "outside",
         "zeroline": false
        }
       }
      }
     },
     "metadata": {},
     "output_type": "display_data"
    }
   ],
   "source": [
    "colors = [\"darkorange\", \"tomato\",  \"gold\", \"mediumseagreen\", \"green\"]\n",
    "legends = ['Bronze', 'Accès fermé', 'Gold', 'Archives ouvertes', 'Hybride']\n",
    "\n",
    "# Le type de publication: ['bronze', 'closed', 'gold', 'green', 'hybrid']\n",
    "type_publication_list = df_oa_discipline_global_type_perc.columns.values\n",
    "\n",
    "# Le domaine de publication: ['Sciences de la Terre, Ecologie,\\n Energie et Biologie appliquée', 'Mathématiques', ...]\n",
    "# On 'convertit' la string en string HTML: en remplacant les '\\n' par des '<br>' et ajoutant des balises de gras \n",
    "domain_publication_list = [domain.replace('\\n', '<br>') for domain in df_oa_discipline_global_type_perc.index.values]\n",
    "domain_publication_list = [f\"<b>{domain}</b>\" for domain in domain_publication_list]\n",
    "\n",
    "fig = go.Figure()\n",
    "\n",
    "# On traverse la DataFrame 'verticalement' par type de publications: ['bronze', 'closed', 'gold', 'green', 'hybrid']\n",
    "for i, type_publi in enumerate(type_publication_list):\n",
    "    \n",
    "    # En X on a la valeur en pourcentages [0.08518519, 0.09183673469387756, 0.12742980561555076 ... ]\n",
    "    x_list = df_oa_discipline_global_type_perc.loc[:, type_publi].values\n",
    "\n",
    "    # En Y  on a le domaine de publication['Sciences de la Terre, Ecologie,\\n Energie et Biologie appliquée', 'Mathématiques', ...]\n",
    "    y_list = domain_publication_list\n",
    "\n",
    "    # Infos supplémentaires: (nombre de publications pour ce type de publications, nombre total de publications pour ce domaine)\n",
    "    # On utilise le même index, pour être sûr que les données sont alignés\n",
    "    index = df_oa_discipline_global_type_perc.index\n",
    "    custom_data  = np.stack([df_oa_discipline_global_type.loc[index, type_publi].values, df_oa_discipline_global_type.loc[index, \"Total\"].values], axis = -1)\n",
    "    \n",
    "    fig.add_trace(go.Bar(\n",
    "        x = x_list,\n",
    "        y = y_list,\n",
    "        orientation = 'h',\n",
    "        marker = dict(\n",
    "            color = colors[i],\n",
    "        ),\n",
    "        \n",
    "        # La légende\n",
    "        name = legends[i], # ['Accès fermé', 'Libre éditeur', 'Gold', 'Archives ouvertes']\n",
    "\n",
    "        # Infos supplémentaires: (nombre de publications pour ce type de publications, nombre total de publications pour ce domaine)\n",
    "        customdata = custom_data,\n",
    "        \n",
    "        # L'affichage des infos supplémentaires au survol de la barre\n",
    "        hovertemplate = '<b>%{y}</b>: %{customdata[1]} publications<br>' + f'<b>{legends[i]}</b>' + ': %{customdata[0]} publications (%{x})<extra></extra>',\n",
    "        hoverlabel = dict(bgcolor ='#FFF'), # couleur de fond de la bulle\n",
    "\n",
    "        # L'annotation du pourcentage sur la barre\n",
    "        text = x_list,\n",
    "        texttemplate= '%{text:.1%}',\n",
    "        textposition= 'inside',\n",
    "    \n",
    "    ))\n",
    "\n",
    "fig.update_layout(\n",
    "    barmode='stack',\n",
    "    template = \"plotly_white\",\n",
    "    height = 450,\n",
    "    # X-axis\n",
    "    xaxis=dict(\n",
    "        title_text = None,\n",
    "        fixedrange = True,\n",
    "        ticks = \"outside\",\n",
    "        minor_ticks=\"outside\",\n",
    "        minor = dict(nticks=2), # Graduations tous les 10%\n",
    "        tickformat = '.0%',\n",
    "        showgrid=False,\n",
    "        zeroline=False,\n",
    "        showline=False,\n",
    "    ),\n",
    "    # Y-axis\n",
    "    yaxis=dict(\n",
    "        title_text= None,\n",
    "        fixedrange = True,\n",
    "        ticks = \"outside\",\n",
    "        showgrid=False,\n",
    "        zeroline=False,\n",
    "        showline=False,\n",
    "    ),\n",
    "    # Legend\n",
    "    showlegend= True,\n",
    "    legend_title = None,\n",
    "    legend = dict(\n",
    "        orientation=\"h\",\n",
    "        traceorder = 'normal',\n",
    "        yanchor = \"middle\",\n",
    "        y= 1.10,\n",
    "        xanchor= \"center\",\n",
    "        x= 0.375,\n",
    "        borderwidth=1\n",
    "    ),\n",
    "    # Margins\n",
    "    margin=dict(t=0, b=0),\n",
    ")\n",
    "\n",
    "fig.show()"
   ]
  },
  {
   "cell_type": "markdown",
   "metadata": {},
   "source": [
    "##### Export vers une iframe :"
   ]
  },
  {
   "cell_type": "markdown",
   "metadata": {},
   "source": [
    "On exporte le graphique généré par Plotly vers un fichier hmtl, qui peut ensuite être facilement intégré dans une page web via une iframe."
   ]
  },
  {
   "cell_type": "code",
   "execution_count": 84,
   "metadata": {},
   "outputs": [
    {
     "name": "stdout",
     "output_type": "stream",
     "text": [
      "> Fichier généré: ./Data/outputs/2024_proportion_oa_par_discipline_plotly.html\n"
     ]
    }
   ],
   "source": [
    "plotly_output_filename = f'./Data/outputs/{annee + 2}_proportion_oa_par_discipline_plotly.html'\n",
    "\n",
    "# Export Plotly figure to hmtl file\n",
    "fig.write_html(\n",
    "    plotly_output_filename, \n",
    "    include_plotlyjs='cdn',\n",
    ")\n",
    "\n",
    "print(f'> Fichier généré: {plotly_output_filename}')"
   ]
  },
  {
   "cell_type": "markdown",
   "metadata": {},
   "source": [
    "## Sankey Diagram des publications"
   ]
  },
  {
   "cell_type": "code",
   "execution_count": 1,
   "metadata": {},
   "outputs": [],
   "source": [
    "import plotly.graph_objects as go\n",
    "# import plotly.express as px\n",
    "\n",
    "# For color conversions\n",
    "from matplotlib import colors as plt_colors"
   ]
  },
  {
   "cell_type": "markdown",
   "metadata": {},
   "source": [
    "On exclut les publications avec un type 'other'. Ce qui est similaire à ce que le ministère fait au moment de générer ses visualisations."
   ]
  },
  {
   "cell_type": "code",
   "execution_count": 9,
   "metadata": {},
   "outputs": [
    {
     "data": {
      "text/plain": [
       "genre\n",
       "journal-article    16992\n",
       "book-chapter         178\n",
       "preprint             142\n",
       "proceedings           91\n",
       "other                 30\n",
       "book                   2\n",
       "Name: count, dtype: int64"
      ]
     },
     "execution_count": 9,
     "metadata": {},
     "output_type": "execute_result"
    }
   ],
   "source": [
    "df_year['genre'].value_counts(dropna=False)"
   ]
  },
  {
   "cell_type": "code",
   "execution_count": 11,
   "metadata": {},
   "outputs": [
    {
     "name": "stdout",
     "output_type": "stream",
     "text": [
      "initial shape :\n",
      " (17405, 46)\n"
     ]
    },
    {
     "data": {
      "text/plain": [
       "(17405, 46)"
      ]
     },
     "execution_count": 11,
     "metadata": {},
     "output_type": "execute_result"
    }
   ],
   "source": [
    "print('initial shape :\\n' , df_year.shape)\n",
    "df_year = df_year.loc[df_year.loc[:, 'genre'] != 'other']\n",
    "df_year.shape"
   ]
  },
  {
   "cell_type": "code",
   "execution_count": 12,
   "metadata": {},
   "outputs": [],
   "source": [
    "num_closed = df_year[df_year['is_oa'] == False].shape[0]\n",
    "num_green = df_year[df_year['unpaywall_oa_status'] == 'green'].shape[0]\n",
    "num_gold = df_year[df_year['unpaywall_oa_status'] == 'gold'].shape[0]\n",
    "num_hybrid = df_year[df_year['unpaywall_oa_status'] == 'hybrid'].shape[0]\n",
    "num_bronze = df_year[df_year['unpaywall_oa_status'] == 'bronze'].shape[0]\n",
    "num_publisher = df_year[df_year['oa_host_type'].isin(['publisher', 'publisher-repository'])].shape[0]\n",
    "num_publications = df_year['unpaywall_oa_status'].value_counts().sum()\n",
    "# num_oa = df_year[df_year['is_oa'] == True]['is_oa'].sum()\n",
    "num_oa = num_bronze + num_gold + num_hybrid + num_green"
   ]
  },
  {
   "cell_type": "code",
   "execution_count": 16,
   "metadata": {},
   "outputs": [
    {
     "data": {
      "application/vnd.plotly.v1+json": {
       "config": {
        "plotlyServerURL": "https://plot.ly"
       },
       "data": [
        {
         "link": {
          "arrowlen": 15,
          "color": [
           "rgba(255, 99, 71, 0.5)",
           "rgba(60, 179, 113, 0.5)",
           "rgba(76, 175, 80, 0.5)",
           "rgba(255, 140, 0, 0.5)",
           "rgba(255, 215, 0, 0.5)",
           "rgba(230, 171, 25, 0.5)",
           "rgba(205, 127, 50, 0.5)"
          ],
          "customdata": [
           "15.83%",
           "84.17%",
           "10.09%",
           "74.20%",
           "41.61%",
           "17.72%",
           "14.75%"
          ],
          "hovercolor": [
           "tomato",
           "mediumseagreen",
           "#4CAF50",
           "darkorange",
           "gold",
           "#E6AB19",
           "#CD7F32"
          ],
          "hoverlabel": {
           "bgcolor": "#444"
          },
          "hovertemplate": "%{label}<br />%{value}<extra>%{customdata}</extra>",
          "label": [
           "Accès fermé",
           "Accès ouvert",
           "Archive ouverte uniquement",
           "Editeur & Archive ouverte",
           "Gold",
           "Hybride",
           "Bronze"
          ],
          "source": [
           0,
           0,
           2,
           2,
           4,
           4,
           4
          ],
          "target": [
           1,
           2,
           3,
           4,
           5,
           6,
           7
          ],
          "value": [
           2700,
           14356,
           1721,
           12654,
           7097,
           3022,
           2516
          ]
         },
         "node": {
          "align": "left",
          "color": [
           "cornflowerblue",
           "tomato",
           "mediumseagreen",
           "#4CAF50",
           "darkorange",
           "gold",
           "#E6AB19",
           "#CD7F32"
          ],
          "hovertemplate": "%{label}:",
          "label": [
           "<b>Ensemble des publications</b>",
           "<b>Accès fermé</b>",
           "<b>Accès ouvert</b>",
           "<b>Archive ouverte uniquement</b>",
           "<b>Editeur & Archive ouverte</b>",
           "<b>Gold</b>",
           "<b>Hybride</b>",
           "<b>Bronze</b>"
          ],
          "line": {
           "color": "black",
           "width": 0
          }
         },
         "type": "sankey",
         "valuesuffix": " publications"
        }
       ],
       "layout": {
        "font": {
         "size": 12
        },
        "margin": {
         "b": 0,
         "t": 0
        },
        "template": {
         "data": {
          "bar": [
           {
            "error_x": {
             "color": "#2a3f5f"
            },
            "error_y": {
             "color": "#2a3f5f"
            },
            "marker": {
             "line": {
              "color": "#E5ECF6",
              "width": 0.5
             },
             "pattern": {
              "fillmode": "overlay",
              "size": 10,
              "solidity": 0.2
             }
            },
            "type": "bar"
           }
          ],
          "barpolar": [
           {
            "marker": {
             "line": {
              "color": "#E5ECF6",
              "width": 0.5
             },
             "pattern": {
              "fillmode": "overlay",
              "size": 10,
              "solidity": 0.2
             }
            },
            "type": "barpolar"
           }
          ],
          "carpet": [
           {
            "aaxis": {
             "endlinecolor": "#2a3f5f",
             "gridcolor": "white",
             "linecolor": "white",
             "minorgridcolor": "white",
             "startlinecolor": "#2a3f5f"
            },
            "baxis": {
             "endlinecolor": "#2a3f5f",
             "gridcolor": "white",
             "linecolor": "white",
             "minorgridcolor": "white",
             "startlinecolor": "#2a3f5f"
            },
            "type": "carpet"
           }
          ],
          "choropleth": [
           {
            "colorbar": {
             "outlinewidth": 0,
             "ticks": ""
            },
            "type": "choropleth"
           }
          ],
          "contour": [
           {
            "colorbar": {
             "outlinewidth": 0,
             "ticks": ""
            },
            "colorscale": [
             [
              0,
              "#0d0887"
             ],
             [
              0.1111111111111111,
              "#46039f"
             ],
             [
              0.2222222222222222,
              "#7201a8"
             ],
             [
              0.3333333333333333,
              "#9c179e"
             ],
             [
              0.4444444444444444,
              "#bd3786"
             ],
             [
              0.5555555555555556,
              "#d8576b"
             ],
             [
              0.6666666666666666,
              "#ed7953"
             ],
             [
              0.7777777777777778,
              "#fb9f3a"
             ],
             [
              0.8888888888888888,
              "#fdca26"
             ],
             [
              1,
              "#f0f921"
             ]
            ],
            "type": "contour"
           }
          ],
          "contourcarpet": [
           {
            "colorbar": {
             "outlinewidth": 0,
             "ticks": ""
            },
            "type": "contourcarpet"
           }
          ],
          "heatmap": [
           {
            "colorbar": {
             "outlinewidth": 0,
             "ticks": ""
            },
            "colorscale": [
             [
              0,
              "#0d0887"
             ],
             [
              0.1111111111111111,
              "#46039f"
             ],
             [
              0.2222222222222222,
              "#7201a8"
             ],
             [
              0.3333333333333333,
              "#9c179e"
             ],
             [
              0.4444444444444444,
              "#bd3786"
             ],
             [
              0.5555555555555556,
              "#d8576b"
             ],
             [
              0.6666666666666666,
              "#ed7953"
             ],
             [
              0.7777777777777778,
              "#fb9f3a"
             ],
             [
              0.8888888888888888,
              "#fdca26"
             ],
             [
              1,
              "#f0f921"
             ]
            ],
            "type": "heatmap"
           }
          ],
          "heatmapgl": [
           {
            "colorbar": {
             "outlinewidth": 0,
             "ticks": ""
            },
            "colorscale": [
             [
              0,
              "#0d0887"
             ],
             [
              0.1111111111111111,
              "#46039f"
             ],
             [
              0.2222222222222222,
              "#7201a8"
             ],
             [
              0.3333333333333333,
              "#9c179e"
             ],
             [
              0.4444444444444444,
              "#bd3786"
             ],
             [
              0.5555555555555556,
              "#d8576b"
             ],
             [
              0.6666666666666666,
              "#ed7953"
             ],
             [
              0.7777777777777778,
              "#fb9f3a"
             ],
             [
              0.8888888888888888,
              "#fdca26"
             ],
             [
              1,
              "#f0f921"
             ]
            ],
            "type": "heatmapgl"
           }
          ],
          "histogram": [
           {
            "marker": {
             "pattern": {
              "fillmode": "overlay",
              "size": 10,
              "solidity": 0.2
             }
            },
            "type": "histogram"
           }
          ],
          "histogram2d": [
           {
            "colorbar": {
             "outlinewidth": 0,
             "ticks": ""
            },
            "colorscale": [
             [
              0,
              "#0d0887"
             ],
             [
              0.1111111111111111,
              "#46039f"
             ],
             [
              0.2222222222222222,
              "#7201a8"
             ],
             [
              0.3333333333333333,
              "#9c179e"
             ],
             [
              0.4444444444444444,
              "#bd3786"
             ],
             [
              0.5555555555555556,
              "#d8576b"
             ],
             [
              0.6666666666666666,
              "#ed7953"
             ],
             [
              0.7777777777777778,
              "#fb9f3a"
             ],
             [
              0.8888888888888888,
              "#fdca26"
             ],
             [
              1,
              "#f0f921"
             ]
            ],
            "type": "histogram2d"
           }
          ],
          "histogram2dcontour": [
           {
            "colorbar": {
             "outlinewidth": 0,
             "ticks": ""
            },
            "colorscale": [
             [
              0,
              "#0d0887"
             ],
             [
              0.1111111111111111,
              "#46039f"
             ],
             [
              0.2222222222222222,
              "#7201a8"
             ],
             [
              0.3333333333333333,
              "#9c179e"
             ],
             [
              0.4444444444444444,
              "#bd3786"
             ],
             [
              0.5555555555555556,
              "#d8576b"
             ],
             [
              0.6666666666666666,
              "#ed7953"
             ],
             [
              0.7777777777777778,
              "#fb9f3a"
             ],
             [
              0.8888888888888888,
              "#fdca26"
             ],
             [
              1,
              "#f0f921"
             ]
            ],
            "type": "histogram2dcontour"
           }
          ],
          "mesh3d": [
           {
            "colorbar": {
             "outlinewidth": 0,
             "ticks": ""
            },
            "type": "mesh3d"
           }
          ],
          "parcoords": [
           {
            "line": {
             "colorbar": {
              "outlinewidth": 0,
              "ticks": ""
             }
            },
            "type": "parcoords"
           }
          ],
          "pie": [
           {
            "automargin": true,
            "type": "pie"
           }
          ],
          "scatter": [
           {
            "fillpattern": {
             "fillmode": "overlay",
             "size": 10,
             "solidity": 0.2
            },
            "type": "scatter"
           }
          ],
          "scatter3d": [
           {
            "line": {
             "colorbar": {
              "outlinewidth": 0,
              "ticks": ""
             }
            },
            "marker": {
             "colorbar": {
              "outlinewidth": 0,
              "ticks": ""
             }
            },
            "type": "scatter3d"
           }
          ],
          "scattercarpet": [
           {
            "marker": {
             "colorbar": {
              "outlinewidth": 0,
              "ticks": ""
             }
            },
            "type": "scattercarpet"
           }
          ],
          "scattergeo": [
           {
            "marker": {
             "colorbar": {
              "outlinewidth": 0,
              "ticks": ""
             }
            },
            "type": "scattergeo"
           }
          ],
          "scattergl": [
           {
            "marker": {
             "colorbar": {
              "outlinewidth": 0,
              "ticks": ""
             }
            },
            "type": "scattergl"
           }
          ],
          "scattermapbox": [
           {
            "marker": {
             "colorbar": {
              "outlinewidth": 0,
              "ticks": ""
             }
            },
            "type": "scattermapbox"
           }
          ],
          "scatterpolar": [
           {
            "marker": {
             "colorbar": {
              "outlinewidth": 0,
              "ticks": ""
             }
            },
            "type": "scatterpolar"
           }
          ],
          "scatterpolargl": [
           {
            "marker": {
             "colorbar": {
              "outlinewidth": 0,
              "ticks": ""
             }
            },
            "type": "scatterpolargl"
           }
          ],
          "scatterternary": [
           {
            "marker": {
             "colorbar": {
              "outlinewidth": 0,
              "ticks": ""
             }
            },
            "type": "scatterternary"
           }
          ],
          "surface": [
           {
            "colorbar": {
             "outlinewidth": 0,
             "ticks": ""
            },
            "colorscale": [
             [
              0,
              "#0d0887"
             ],
             [
              0.1111111111111111,
              "#46039f"
             ],
             [
              0.2222222222222222,
              "#7201a8"
             ],
             [
              0.3333333333333333,
              "#9c179e"
             ],
             [
              0.4444444444444444,
              "#bd3786"
             ],
             [
              0.5555555555555556,
              "#d8576b"
             ],
             [
              0.6666666666666666,
              "#ed7953"
             ],
             [
              0.7777777777777778,
              "#fb9f3a"
             ],
             [
              0.8888888888888888,
              "#fdca26"
             ],
             [
              1,
              "#f0f921"
             ]
            ],
            "type": "surface"
           }
          ],
          "table": [
           {
            "cells": {
             "fill": {
              "color": "#EBF0F8"
             },
             "line": {
              "color": "white"
             }
            },
            "header": {
             "fill": {
              "color": "#C8D4E3"
             },
             "line": {
              "color": "white"
             }
            },
            "type": "table"
           }
          ]
         },
         "layout": {
          "annotationdefaults": {
           "arrowcolor": "#2a3f5f",
           "arrowhead": 0,
           "arrowwidth": 1
          },
          "autotypenumbers": "strict",
          "coloraxis": {
           "colorbar": {
            "outlinewidth": 0,
            "ticks": ""
           }
          },
          "colorscale": {
           "diverging": [
            [
             0,
             "#8e0152"
            ],
            [
             0.1,
             "#c51b7d"
            ],
            [
             0.2,
             "#de77ae"
            ],
            [
             0.3,
             "#f1b6da"
            ],
            [
             0.4,
             "#fde0ef"
            ],
            [
             0.5,
             "#f7f7f7"
            ],
            [
             0.6,
             "#e6f5d0"
            ],
            [
             0.7,
             "#b8e186"
            ],
            [
             0.8,
             "#7fbc41"
            ],
            [
             0.9,
             "#4d9221"
            ],
            [
             1,
             "#276419"
            ]
           ],
           "sequential": [
            [
             0,
             "#0d0887"
            ],
            [
             0.1111111111111111,
             "#46039f"
            ],
            [
             0.2222222222222222,
             "#7201a8"
            ],
            [
             0.3333333333333333,
             "#9c179e"
            ],
            [
             0.4444444444444444,
             "#bd3786"
            ],
            [
             0.5555555555555556,
             "#d8576b"
            ],
            [
             0.6666666666666666,
             "#ed7953"
            ],
            [
             0.7777777777777778,
             "#fb9f3a"
            ],
            [
             0.8888888888888888,
             "#fdca26"
            ],
            [
             1,
             "#f0f921"
            ]
           ],
           "sequentialminus": [
            [
             0,
             "#0d0887"
            ],
            [
             0.1111111111111111,
             "#46039f"
            ],
            [
             0.2222222222222222,
             "#7201a8"
            ],
            [
             0.3333333333333333,
             "#9c179e"
            ],
            [
             0.4444444444444444,
             "#bd3786"
            ],
            [
             0.5555555555555556,
             "#d8576b"
            ],
            [
             0.6666666666666666,
             "#ed7953"
            ],
            [
             0.7777777777777778,
             "#fb9f3a"
            ],
            [
             0.8888888888888888,
             "#fdca26"
            ],
            [
             1,
             "#f0f921"
            ]
           ]
          },
          "colorway": [
           "#636efa",
           "#EF553B",
           "#00cc96",
           "#ab63fa",
           "#FFA15A",
           "#19d3f3",
           "#FF6692",
           "#B6E880",
           "#FF97FF",
           "#FECB52"
          ],
          "font": {
           "color": "#2a3f5f"
          },
          "geo": {
           "bgcolor": "white",
           "lakecolor": "white",
           "landcolor": "#E5ECF6",
           "showlakes": true,
           "showland": true,
           "subunitcolor": "white"
          },
          "hoverlabel": {
           "align": "left"
          },
          "hovermode": "closest",
          "mapbox": {
           "style": "light"
          },
          "paper_bgcolor": "white",
          "plot_bgcolor": "#E5ECF6",
          "polar": {
           "angularaxis": {
            "gridcolor": "white",
            "linecolor": "white",
            "ticks": ""
           },
           "bgcolor": "#E5ECF6",
           "radialaxis": {
            "gridcolor": "white",
            "linecolor": "white",
            "ticks": ""
           }
          },
          "scene": {
           "xaxis": {
            "backgroundcolor": "#E5ECF6",
            "gridcolor": "white",
            "gridwidth": 2,
            "linecolor": "white",
            "showbackground": true,
            "ticks": "",
            "zerolinecolor": "white"
           },
           "yaxis": {
            "backgroundcolor": "#E5ECF6",
            "gridcolor": "white",
            "gridwidth": 2,
            "linecolor": "white",
            "showbackground": true,
            "ticks": "",
            "zerolinecolor": "white"
           },
           "zaxis": {
            "backgroundcolor": "#E5ECF6",
            "gridcolor": "white",
            "gridwidth": 2,
            "linecolor": "white",
            "showbackground": true,
            "ticks": "",
            "zerolinecolor": "white"
           }
          },
          "shapedefaults": {
           "line": {
            "color": "#2a3f5f"
           }
          },
          "ternary": {
           "aaxis": {
            "gridcolor": "white",
            "linecolor": "white",
            "ticks": ""
           },
           "baxis": {
            "gridcolor": "white",
            "linecolor": "white",
            "ticks": ""
           },
           "bgcolor": "#E5ECF6",
           "caxis": {
            "gridcolor": "white",
            "linecolor": "white",
            "ticks": ""
           }
          },
          "title": {
           "x": 0.05
          },
          "xaxis": {
           "automargin": true,
           "gridcolor": "white",
           "linecolor": "white",
           "ticks": "",
           "title": {
            "standoff": 15
           },
           "zerolinecolor": "white",
           "zerolinewidth": 2
          },
          "yaxis": {
           "automargin": true,
           "gridcolor": "white",
           "linecolor": "white",
           "ticks": "",
           "title": {
            "standoff": 15
           },
           "zerolinecolor": "white",
           "zerolinewidth": 2
          }
         }
        },
        "title": {
         "x": 0.5
        }
       }
      }
     },
     "metadata": {},
     "output_type": "display_data"
    }
   ],
   "source": [
    "labels = [\n",
    "    'Ensemble des publications',\n",
    "    'Accès fermé',\n",
    "    'Accès ouvert',\n",
    "    'Archive ouverte uniquement',\n",
    "    'Editeur & Archive ouverte',\n",
    "    'Gold',\n",
    "    'Hybride',\n",
    "    'Bronze',\n",
    "]\n",
    "colors = [\n",
    "    'cornflowerblue',\n",
    "    'tomato',\n",
    "    'mediumseagreen',\n",
    "    '#4CAF50',\n",
    "    'darkorange',\n",
    "    'gold',\n",
    "    '#E6AB19',\n",
    "    '#CD7F32',\n",
    "]\n",
    "sources = [0, 0, 2, 2, 4, 4, 4]\n",
    "targets = [1, 2, 3, 4, 5, 6, 7]\n",
    "values = [\n",
    "    num_publications,\n",
    "    num_closed,\n",
    "    num_oa,\n",
    "    num_green,\n",
    "    num_publisher,\n",
    "    num_gold,\n",
    "    num_hybrid,\n",
    "    num_bronze,\n",
    "]\n",
    "\n",
    "\n",
    "# As percentage of the number of publications in this 'branch'\n",
    "# percentages = [f\"{(values[t]/values[s]):.2%}\" for s, t in zip(sources, targets)]\n",
    "\n",
    "# As percentage of the total number of publications\n",
    "percentages = [f'{(values[t]/num_publications):.2%}' for t in targets]\n",
    "\n",
    "# Add transparency to the list of colors, to display links with partial opacity\n",
    "transparency = 0.5\n",
    "colors_transparency = [\n",
    "    f'rgba({rgba_color[0] * 255:.0f}, {rgba_color[1] * 255:.0f}, {rgba_color[2] * 255:.0f}, {rgba_color[3]})'\n",
    "    for color in colors\n",
    "    if (rgba_color := plt_colors.to_rgba(color, transparency))\n",
    "]\n",
    "\n",
    "fig = go.Figure(\n",
    "    data=[\n",
    "        go.Sankey(\n",
    "            valuesuffix=' publications',\n",
    "            # valueformat = \"d\",\n",
    "            \n",
    "            # Nodes\n",
    "            node=dict(\n",
    "                label=[f'<b>{label}</b>' for label in labels],\n",
    "                color=colors,\n",
    "                line=dict(color='black', width=0.0),\n",
    "                align='left',\n",
    "                hovertemplate='%{label}:',\n",
    "                # hoverlabel = dict(bgcolor = \"#FFFFFF\"), # white background\n",
    "            ),\n",
    "            \n",
    "            # Links\n",
    "            link=dict(\n",
    "                arrowlen=15,\n",
    "                source=sources,\n",
    "                target=targets,\n",
    "                value=values[1:],\n",
    "                customdata=percentages,\n",
    "                label=labels[1:],\n",
    "                color=colors_transparency[1:],\n",
    "                hovercolor=colors[1:],\n",
    "                hovertemplate='%{label}<br />%{value}<extra>%{customdata}</extra>',\n",
    "                hoverlabel=dict(bgcolor='#444'),\n",
    "            ),\n",
    "        )\n",
    "    ]\n",
    ")  # fmt: skip\n",
    "\n",
    "# Title\n",
    "fig.update_layout(\n",
    "    # title_text=f\"<b>Proportion des publications {annee} en accès ouvert</b><br><sup>(mesuré en décembre {annee+1})</sup>\",\n",
    "    font_size=12,\n",
    "    title_x=0.5,\n",
    "    # title_y=0.85,\n",
    "    # height=375,\n",
    "    margin=dict(t=0, b=0),\n",
    ")\n",
    "\n",
    "# Display\n",
    "fig.show()"
   ]
  },
  {
   "cell_type": "markdown",
   "metadata": {},
   "source": [
    "#### Export vers une iframe :\n",
    "On exporte le graphique généré par Plotly vers un fichier hmtl, qui peut ensuite être facilement intégré dans une page web via une iframe."
   ]
  },
  {
   "cell_type": "code",
   "execution_count": null,
   "metadata": {},
   "outputs": [],
   "source": [
    "plotly_output_filename = f'./Data/outputs/iframes/{annee + 2}_flow_chart_plotly.html'\n",
    "\n",
    "# Export Plotly figure to hmtl file\n",
    "fig.write_html(\n",
    "    plotly_output_filename,\n",
    "    include_plotlyjs='cdn',\n",
    ")\n",
    "\n",
    "print(f'> Fichier généré: {plotly_output_filename}')"
   ]
  }
 ],
 "metadata": {
  "kernelspec": {
   "display_name": "base",
   "language": "python",
   "name": "python3"
  },
  "language_info": {
   "codemirror_mode": {
    "name": "ipython",
    "version": 3
   },
   "file_extension": ".py",
   "mimetype": "text/x-python",
   "name": "python",
   "nbconvert_exporter": "python",
   "pygments_lexer": "ipython3",
   "version": "3.11.7"
  }
 },
 "nbformat": 4,
 "nbformat_minor": 4
}
